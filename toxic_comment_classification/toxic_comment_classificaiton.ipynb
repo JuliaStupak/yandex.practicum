{
 "cells": [
  {
   "cell_type": "markdown",
   "metadata": {},
   "source": [
    "# 1. Подготовка"
   ]
  },
  {
   "cell_type": "code",
   "execution_count": 1,
   "metadata": {},
   "outputs": [],
   "source": [
    "import pandas as pd\n",
    "import numpy as np"
   ]
  },
  {
   "cell_type": "code",
   "execution_count": 2,
   "metadata": {},
   "outputs": [],
   "source": [
    "from sklearn.utils import shuffle"
   ]
  },
  {
   "cell_type": "code",
   "execution_count": 3,
   "metadata": {},
   "outputs": [],
   "source": [
    "import nltk\n",
    "from nltk.corpus import stopwords as nltk_stopwords"
   ]
  },
  {
   "cell_type": "code",
   "execution_count": 4,
   "metadata": {},
   "outputs": [],
   "source": [
    "import re\n",
    "from pymystem3 import Mystem"
   ]
  },
  {
   "cell_type": "code",
   "execution_count": 5,
   "metadata": {},
   "outputs": [],
   "source": [
    "from sklearn.feature_extraction.text import TfidfVectorizer"
   ]
  },
  {
   "cell_type": "code",
   "execution_count": 6,
   "metadata": {},
   "outputs": [],
   "source": [
    "from sklearn.metrics import f1_score\n",
    "from sklearn.model_selection import cross_val_score\n",
    "from sklearn.model_selection import train_test_split\n",
    "from sklearn.model_selection import GridSearchCV"
   ]
  },
  {
   "cell_type": "markdown",
   "metadata": {},
   "source": [
    "#### Загружаем датасет"
   ]
  },
  {
   "cell_type": "code",
   "execution_count": 7,
   "metadata": {},
   "outputs": [],
   "source": [
    "df_comments = pd.read_csv('toxic_comments.csv')"
   ]
  },
  {
   "cell_type": "markdown",
   "metadata": {},
   "source": [
    "Очищаем данные от лишних символов"
   ]
  },
  {
   "cell_type": "code",
   "execution_count": 8,
   "metadata": {},
   "outputs": [],
   "source": [
    "def clear_text(row):\n",
    "    text = row['text']\n",
    "    clear_text = re.sub(r'[^a-zA-Z ]', ' ', text)\n",
    "    text_list = clear_text.split()\n",
    "    return \" \".join(text_list)"
   ]
  },
  {
   "cell_type": "code",
   "execution_count": 9,
   "metadata": {},
   "outputs": [],
   "source": [
    "df_comments['clear_text'] = df_comments.apply(clear_text, axis=1)"
   ]
  },
  {
   "cell_type": "markdown",
   "metadata": {},
   "source": [
    "Загружаем стоп-слова"
   ]
  },
  {
   "cell_type": "code",
   "execution_count": 10,
   "metadata": {
    "scrolled": true
   },
   "outputs": [
    {
     "name": "stderr",
     "output_type": "stream",
     "text": [
      "[nltk_data] Downloading package stopwords to C:\\Users\\Димачка-\n",
      "[nltk_data]     хороший\\AppData\\Roaming\\nltk_data...\n",
      "[nltk_data]   Package stopwords is already up-to-date!\n"
     ]
    }
   ],
   "source": [
    "nltk.download('stopwords')\n",
    "stopwords = set(nltk_stopwords.words('english'))"
   ]
  },
  {
   "cell_type": "markdown",
   "metadata": {},
   "source": [
    "Сформируем фичи и целевой признак, а также разобьем датасет на обучающую и тестовые выборки."
   ]
  },
  {
   "cell_type": "code",
   "execution_count": 11,
   "metadata": {},
   "outputs": [],
   "source": [
    "features = df_comments['clear_text']\n",
    "target = df_comments['toxic']"
   ]
  },
  {
   "cell_type": "code",
   "execution_count": 12,
   "metadata": {},
   "outputs": [],
   "source": [
    "X_train, X_test, y_train, y_test = train_test_split(features, target, test_size=0.1, random_state=42)"
   ]
  },
  {
   "cell_type": "markdown",
   "metadata": {},
   "source": [
    "Создаем счётчик, указав в нём стоп-слова"
   ]
  },
  {
   "cell_type": "code",
   "execution_count": 13,
   "metadata": {},
   "outputs": [],
   "source": [
    "count_tf_idf = TfidfVectorizer(stop_words=stopwords, max_features=10000)"
   ]
  },
  {
   "cell_type": "markdown",
   "metadata": {},
   "source": [
    "Рассчитаем TF-IDF для корпуса текстов"
   ]
  },
  {
   "cell_type": "code",
   "execution_count": 14,
   "metadata": {},
   "outputs": [],
   "source": [
    "X_train_tf_idf = count_tf_idf.fit_transform(X_train)"
   ]
  },
  {
   "cell_type": "code",
   "execution_count": 15,
   "metadata": {},
   "outputs": [],
   "source": [
    "X_test_tf_idf = count_tf_idf.transform(X_test)"
   ]
  },
  {
   "cell_type": "markdown",
   "metadata": {},
   "source": [
    "# 2. Обучение"
   ]
  },
  {
   "cell_type": "markdown",
   "metadata": {},
   "source": [
    "### Логистическая регрессия"
   ]
  },
  {
   "cell_type": "code",
   "execution_count": 16,
   "metadata": {},
   "outputs": [],
   "source": [
    "from sklearn.linear_model import LogisticRegression"
   ]
  },
  {
   "cell_type": "code",
   "execution_count": 17,
   "metadata": {},
   "outputs": [],
   "source": [
    "model_lr = LogisticRegression(solver='lbfgs')"
   ]
  },
  {
   "cell_type": "markdown",
   "metadata": {},
   "source": [
    "Обучаем логистическую регрессию на рассчитанных TF-IDF для обучающей выборки"
   ]
  },
  {
   "cell_type": "code",
   "execution_count": 18,
   "metadata": {},
   "outputs": [
    {
     "name": "stdout",
     "output_type": "stream",
     "text": [
      "Wall time: 2.24 s\n"
     ]
    },
    {
     "data": {
      "text/plain": [
       "LogisticRegression()"
      ]
     },
     "execution_count": 18,
     "metadata": {},
     "output_type": "execute_result"
    }
   ],
   "source": [
    "%%time\n",
    "model_lr.fit(X_train_tf_idf, y_train)"
   ]
  },
  {
   "cell_type": "code",
   "execution_count": 19,
   "metadata": {},
   "outputs": [],
   "source": [
    "pred_lr_train = model_lr.predict(X_train_tf_idf)"
   ]
  },
  {
   "cell_type": "code",
   "execution_count": 20,
   "metadata": {},
   "outputs": [
    {
     "data": {
      "text/plain": [
       "0.7686166995927911"
      ]
     },
     "execution_count": 20,
     "metadata": {},
     "output_type": "execute_result"
    }
   ],
   "source": [
    "f1_score(y_train, pred_lr_train)"
   ]
  },
  {
   "cell_type": "markdown",
   "metadata": {},
   "source": [
    "#### Метрика качества F1 для логистической регрессии на обучающей выборке равна 0.768."
   ]
  },
  {
   "cell_type": "markdown",
   "metadata": {},
   "source": [
    "### Модель LightGBM"
   ]
  },
  {
   "cell_type": "code",
   "execution_count": 21,
   "metadata": {},
   "outputs": [],
   "source": [
    "import lightgbm"
   ]
  },
  {
   "cell_type": "code",
   "execution_count": 22,
   "metadata": {},
   "outputs": [],
   "source": [
    "model_lgbm = lightgbm.LGBMClassifier()"
   ]
  },
  {
   "cell_type": "markdown",
   "metadata": {},
   "source": [
    "Обучаем LightGBM на рассчитанных TF-IDF для обучающей выборки"
   ]
  },
  {
   "cell_type": "code",
   "execution_count": 23,
   "metadata": {},
   "outputs": [
    {
     "name": "stdout",
     "output_type": "stream",
     "text": [
      "Wall time: 37.3 s\n"
     ]
    },
    {
     "data": {
      "text/plain": [
       "LGBMClassifier()"
      ]
     },
     "execution_count": 23,
     "metadata": {},
     "output_type": "execute_result"
    }
   ],
   "source": [
    "%%time\n",
    "model_lgbm.fit(X_train_tf_idf, y_train)"
   ]
  },
  {
   "cell_type": "code",
   "execution_count": 24,
   "metadata": {},
   "outputs": [],
   "source": [
    "pred_lgbm_train = model_lgbm.predict(X_train_tf_idf)"
   ]
  },
  {
   "cell_type": "code",
   "execution_count": 25,
   "metadata": {},
   "outputs": [
    {
     "data": {
      "text/plain": [
       "0.7751486373249271"
      ]
     },
     "execution_count": 25,
     "metadata": {},
     "output_type": "execute_result"
    }
   ],
   "source": [
    "f1_score(y_train, pred_lgbm_train)"
   ]
  },
  {
   "cell_type": "markdown",
   "metadata": {},
   "source": [
    "#### Метрика качества F1 для LightGBM на обучающей выборке равна 0.775."
   ]
  },
  {
   "cell_type": "markdown",
   "metadata": {},
   "source": [
    "### Модель CatBoostClassifier"
   ]
  },
  {
   "cell_type": "code",
   "execution_count": 26,
   "metadata": {},
   "outputs": [],
   "source": [
    "from catboost import CatBoostClassifier"
   ]
  },
  {
   "cell_type": "code",
   "execution_count": 27,
   "metadata": {},
   "outputs": [],
   "source": [
    "cbc = CatBoostClassifier()"
   ]
  },
  {
   "cell_type": "markdown",
   "metadata": {},
   "source": [
    "Обучаем CatBoostClassifier на рассчитанных TF-IDF для обучающей выборки"
   ]
  },
  {
   "cell_type": "code",
   "execution_count": 28,
   "metadata": {},
   "outputs": [
    {
     "name": "stdout",
     "output_type": "stream",
     "text": [
      "Learning rate set to 0.085912\n",
      "0:\tlearn: 0.6053392\ttotal: 1.33s\tremaining: 22m 13s\n",
      "1:\tlearn: 0.5347226\ttotal: 2.79s\tremaining: 23m 10s\n",
      "2:\tlearn: 0.4779582\ttotal: 3.94s\tremaining: 21m 47s\n",
      "3:\tlearn: 0.4318068\ttotal: 5.19s\tremaining: 21m 32s\n",
      "4:\tlearn: 0.3962390\ttotal: 6.4s\tremaining: 21m 13s\n",
      "5:\tlearn: 0.3667762\ttotal: 7.64s\tremaining: 21m 5s\n",
      "6:\tlearn: 0.3429962\ttotal: 8.77s\tremaining: 20m 44s\n",
      "7:\tlearn: 0.3249089\ttotal: 9.99s\tremaining: 20m 38s\n",
      "8:\tlearn: 0.3087351\ttotal: 11.1s\tremaining: 20m 23s\n",
      "9:\tlearn: 0.2954161\ttotal: 12.4s\tremaining: 20m 25s\n",
      "10:\tlearn: 0.2835259\ttotal: 13.6s\tremaining: 20m 22s\n",
      "11:\tlearn: 0.2741709\ttotal: 14.9s\tremaining: 20m 26s\n",
      "12:\tlearn: 0.2668610\ttotal: 16s\tremaining: 20m 17s\n",
      "13:\tlearn: 0.2603705\ttotal: 17.3s\tremaining: 20m 20s\n",
      "14:\tlearn: 0.2548994\ttotal: 18.5s\tremaining: 20m 11s\n",
      "15:\tlearn: 0.2500178\ttotal: 19.7s\tremaining: 20m 11s\n",
      "16:\tlearn: 0.2462112\ttotal: 20.8s\tremaining: 20m 3s\n",
      "17:\tlearn: 0.2424774\ttotal: 22.1s\tremaining: 20m 3s\n",
      "18:\tlearn: 0.2394477\ttotal: 23.2s\tremaining: 19m 57s\n",
      "19:\tlearn: 0.2361386\ttotal: 24.5s\tremaining: 19m 58s\n",
      "20:\tlearn: 0.2337022\ttotal: 25.6s\tremaining: 19m 52s\n",
      "21:\tlearn: 0.2314527\ttotal: 26.9s\tremaining: 19m 55s\n",
      "22:\tlearn: 0.2294403\ttotal: 28.2s\tremaining: 19m 56s\n",
      "23:\tlearn: 0.2271588\ttotal: 29.6s\tremaining: 20m 1s\n",
      "24:\tlearn: 0.2252101\ttotal: 30.7s\tremaining: 19m 56s\n",
      "25:\tlearn: 0.2236470\ttotal: 31.9s\tremaining: 19m 56s\n",
      "26:\tlearn: 0.2217660\ttotal: 33.2s\tremaining: 19m 58s\n",
      "27:\tlearn: 0.2205265\ttotal: 34.5s\tremaining: 19m 58s\n",
      "28:\tlearn: 0.2192881\ttotal: 35.7s\tremaining: 19m 55s\n",
      "29:\tlearn: 0.2180535\ttotal: 36.9s\tremaining: 19m 54s\n",
      "30:\tlearn: 0.2168977\ttotal: 38s\tremaining: 19m 49s\n",
      "31:\tlearn: 0.2160095\ttotal: 39.4s\tremaining: 19m 52s\n",
      "32:\tlearn: 0.2148027\ttotal: 40.6s\tremaining: 19m 50s\n",
      "33:\tlearn: 0.2139256\ttotal: 41.8s\tremaining: 19m 48s\n",
      "34:\tlearn: 0.2129363\ttotal: 43s\tremaining: 19m 46s\n",
      "35:\tlearn: 0.2118286\ttotal: 44.3s\tremaining: 19m 46s\n",
      "36:\tlearn: 0.2107616\ttotal: 45.6s\tremaining: 19m 46s\n",
      "37:\tlearn: 0.2097340\ttotal: 46.7s\tremaining: 19m 43s\n",
      "38:\tlearn: 0.2088005\ttotal: 48s\tremaining: 19m 42s\n",
      "39:\tlearn: 0.2076632\ttotal: 49.2s\tremaining: 19m 41s\n",
      "40:\tlearn: 0.2068108\ttotal: 50.5s\tremaining: 19m 41s\n",
      "41:\tlearn: 0.2059689\ttotal: 51.9s\tremaining: 19m 43s\n",
      "42:\tlearn: 0.2053134\ttotal: 53.3s\tremaining: 19m 45s\n",
      "43:\tlearn: 0.2043912\ttotal: 54.5s\tremaining: 19m 45s\n",
      "44:\tlearn: 0.2035650\ttotal: 55.9s\tremaining: 19m 45s\n",
      "45:\tlearn: 0.2027647\ttotal: 57.2s\tremaining: 19m 45s\n",
      "46:\tlearn: 0.2019089\ttotal: 58.3s\tremaining: 19m 43s\n",
      "47:\tlearn: 0.2012485\ttotal: 59.5s\tremaining: 19m 40s\n",
      "48:\tlearn: 0.2003838\ttotal: 1m\tremaining: 19m 41s\n",
      "49:\tlearn: 0.1998130\ttotal: 1m 2s\tremaining: 19m 39s\n",
      "50:\tlearn: 0.1993021\ttotal: 1m 3s\tremaining: 19m 37s\n",
      "51:\tlearn: 0.1987305\ttotal: 1m 4s\tremaining: 19m 35s\n",
      "52:\tlearn: 0.1980465\ttotal: 1m 5s\tremaining: 19m 33s\n",
      "53:\tlearn: 0.1974474\ttotal: 1m 6s\tremaining: 19m 32s\n",
      "54:\tlearn: 0.1966812\ttotal: 1m 8s\tremaining: 19m 32s\n",
      "55:\tlearn: 0.1960568\ttotal: 1m 9s\tremaining: 19m 32s\n",
      "56:\tlearn: 0.1956057\ttotal: 1m 10s\tremaining: 19m 31s\n",
      "57:\tlearn: 0.1950135\ttotal: 1m 12s\tremaining: 19m 30s\n",
      "58:\tlearn: 0.1943623\ttotal: 1m 13s\tremaining: 19m 29s\n",
      "59:\tlearn: 0.1936138\ttotal: 1m 14s\tremaining: 19m 30s\n",
      "60:\tlearn: 0.1931336\ttotal: 1m 16s\tremaining: 19m 38s\n",
      "61:\tlearn: 0.1926726\ttotal: 1m 17s\tremaining: 19m 36s\n",
      "62:\tlearn: 0.1921879\ttotal: 1m 19s\tremaining: 19m 41s\n",
      "63:\tlearn: 0.1917247\ttotal: 1m 21s\tremaining: 19m 49s\n",
      "64:\tlearn: 0.1913138\ttotal: 1m 23s\tremaining: 19m 58s\n",
      "65:\tlearn: 0.1908816\ttotal: 1m 25s\tremaining: 20m 9s\n",
      "66:\tlearn: 0.1904577\ttotal: 1m 26s\tremaining: 20m 10s\n",
      "67:\tlearn: 0.1899746\ttotal: 1m 28s\tremaining: 20m 8s\n",
      "68:\tlearn: 0.1892089\ttotal: 1m 29s\tremaining: 20m 9s\n",
      "69:\tlearn: 0.1886574\ttotal: 1m 30s\tremaining: 20m 8s\n",
      "70:\tlearn: 0.1881747\ttotal: 1m 32s\tremaining: 20m 7s\n",
      "71:\tlearn: 0.1876031\ttotal: 1m 34s\tremaining: 20m 15s\n",
      "72:\tlearn: 0.1871357\ttotal: 1m 36s\tremaining: 20m 21s\n",
      "73:\tlearn: 0.1867076\ttotal: 1m 38s\tremaining: 20m 26s\n",
      "74:\tlearn: 0.1862135\ttotal: 1m 40s\tremaining: 20m 39s\n",
      "75:\tlearn: 0.1856921\ttotal: 1m 42s\tremaining: 20m 49s\n",
      "76:\tlearn: 0.1852586\ttotal: 1m 44s\tremaining: 20m 54s\n",
      "77:\tlearn: 0.1848490\ttotal: 1m 45s\tremaining: 20m 52s\n",
      "78:\tlearn: 0.1844698\ttotal: 1m 47s\tremaining: 20m 52s\n",
      "79:\tlearn: 0.1841458\ttotal: 1m 48s\tremaining: 20m 49s\n",
      "80:\tlearn: 0.1837817\ttotal: 1m 50s\tremaining: 20m 50s\n",
      "81:\tlearn: 0.1834733\ttotal: 1m 51s\tremaining: 20m 49s\n",
      "82:\tlearn: 0.1830666\ttotal: 1m 53s\tremaining: 20m 49s\n",
      "83:\tlearn: 0.1825293\ttotal: 1m 54s\tremaining: 20m 50s\n",
      "84:\tlearn: 0.1821077\ttotal: 1m 56s\tremaining: 20m 50s\n",
      "85:\tlearn: 0.1816059\ttotal: 1m 57s\tremaining: 20m 49s\n",
      "86:\tlearn: 0.1810804\ttotal: 1m 58s\tremaining: 20m 48s\n",
      "87:\tlearn: 0.1807390\ttotal: 2m\tremaining: 20m 47s\n",
      "88:\tlearn: 0.1803839\ttotal: 2m 1s\tremaining: 20m 44s\n",
      "89:\tlearn: 0.1800481\ttotal: 2m 2s\tremaining: 20m 42s\n",
      "90:\tlearn: 0.1797719\ttotal: 2m 4s\tremaining: 20m 40s\n",
      "91:\tlearn: 0.1794598\ttotal: 2m 5s\tremaining: 20m 38s\n",
      "92:\tlearn: 0.1791619\ttotal: 2m 6s\tremaining: 20m 36s\n",
      "93:\tlearn: 0.1788119\ttotal: 2m 8s\tremaining: 20m 34s\n",
      "94:\tlearn: 0.1785648\ttotal: 2m 9s\tremaining: 20m 32s\n",
      "95:\tlearn: 0.1782365\ttotal: 2m 10s\tremaining: 20m 30s\n",
      "96:\tlearn: 0.1778823\ttotal: 2m 12s\tremaining: 20m 29s\n",
      "97:\tlearn: 0.1774946\ttotal: 2m 13s\tremaining: 20m 27s\n",
      "98:\tlearn: 0.1772162\ttotal: 2m 14s\tremaining: 20m 25s\n",
      "99:\tlearn: 0.1769523\ttotal: 2m 15s\tremaining: 20m 23s\n",
      "100:\tlearn: 0.1766017\ttotal: 2m 17s\tremaining: 20m 21s\n",
      "101:\tlearn: 0.1761883\ttotal: 2m 18s\tremaining: 20m 19s\n",
      "102:\tlearn: 0.1759522\ttotal: 2m 19s\tremaining: 20m 18s\n",
      "103:\tlearn: 0.1756782\ttotal: 2m 21s\tremaining: 20m 15s\n",
      "104:\tlearn: 0.1753792\ttotal: 2m 22s\tremaining: 20m 14s\n",
      "105:\tlearn: 0.1751707\ttotal: 2m 23s\tremaining: 20m 13s\n",
      "106:\tlearn: 0.1749240\ttotal: 2m 25s\tremaining: 20m 11s\n",
      "107:\tlearn: 0.1746223\ttotal: 2m 26s\tremaining: 20m 9s\n",
      "108:\tlearn: 0.1742381\ttotal: 2m 27s\tremaining: 20m 8s\n",
      "109:\tlearn: 0.1739794\ttotal: 2m 29s\tremaining: 20m 6s\n",
      "110:\tlearn: 0.1736546\ttotal: 2m 30s\tremaining: 20m 4s\n",
      "111:\tlearn: 0.1733719\ttotal: 2m 31s\tremaining: 20m 2s\n",
      "112:\tlearn: 0.1731169\ttotal: 2m 32s\tremaining: 20m\n",
      "113:\tlearn: 0.1728863\ttotal: 2m 34s\tremaining: 19m 58s\n",
      "114:\tlearn: 0.1726584\ttotal: 2m 35s\tremaining: 19m 57s\n",
      "115:\tlearn: 0.1722948\ttotal: 2m 36s\tremaining: 19m 56s\n",
      "116:\tlearn: 0.1718801\ttotal: 2m 38s\tremaining: 19m 54s\n",
      "117:\tlearn: 0.1716289\ttotal: 2m 39s\tremaining: 19m 54s\n",
      "118:\tlearn: 0.1713860\ttotal: 2m 41s\tremaining: 19m 52s\n",
      "119:\tlearn: 0.1711604\ttotal: 2m 42s\tremaining: 19m 50s\n",
      "120:\tlearn: 0.1707892\ttotal: 2m 43s\tremaining: 19m 48s\n",
      "121:\tlearn: 0.1705109\ttotal: 2m 44s\tremaining: 19m 46s\n",
      "122:\tlearn: 0.1702621\ttotal: 2m 46s\tremaining: 19m 44s\n",
      "123:\tlearn: 0.1700577\ttotal: 2m 47s\tremaining: 19m 43s\n",
      "124:\tlearn: 0.1696132\ttotal: 2m 49s\tremaining: 19m 43s\n",
      "125:\tlearn: 0.1693167\ttotal: 2m 50s\tremaining: 19m 42s\n",
      "126:\tlearn: 0.1690585\ttotal: 2m 51s\tremaining: 19m 41s\n",
      "127:\tlearn: 0.1687351\ttotal: 2m 53s\tremaining: 19m 39s\n",
      "128:\tlearn: 0.1685117\ttotal: 2m 54s\tremaining: 19m 37s\n",
      "129:\tlearn: 0.1682867\ttotal: 2m 55s\tremaining: 19m 35s\n",
      "130:\tlearn: 0.1680678\ttotal: 2m 56s\tremaining: 19m 33s\n",
      "131:\tlearn: 0.1678711\ttotal: 2m 58s\tremaining: 19m 31s\n",
      "132:\tlearn: 0.1676397\ttotal: 2m 59s\tremaining: 19m 30s\n",
      "133:\tlearn: 0.1673622\ttotal: 3m\tremaining: 19m 28s\n",
      "134:\tlearn: 0.1670896\ttotal: 3m 2s\tremaining: 19m 26s\n",
      "135:\tlearn: 0.1668861\ttotal: 3m 3s\tremaining: 19m 25s\n",
      "136:\tlearn: 0.1666760\ttotal: 3m 4s\tremaining: 19m 23s\n",
      "137:\tlearn: 0.1664591\ttotal: 3m 5s\tremaining: 19m 21s\n",
      "138:\tlearn: 0.1662579\ttotal: 3m 7s\tremaining: 19m 19s\n",
      "139:\tlearn: 0.1660575\ttotal: 3m 8s\tremaining: 19m 18s\n",
      "140:\tlearn: 0.1658706\ttotal: 3m 9s\tremaining: 19m 16s\n",
      "141:\tlearn: 0.1656999\ttotal: 3m 11s\tremaining: 19m 14s\n",
      "142:\tlearn: 0.1654108\ttotal: 3m 12s\tremaining: 19m 13s\n",
      "143:\tlearn: 0.1651025\ttotal: 3m 13s\tremaining: 19m 11s\n",
      "144:\tlearn: 0.1649096\ttotal: 3m 14s\tremaining: 19m 9s\n",
      "145:\tlearn: 0.1646443\ttotal: 3m 16s\tremaining: 19m 8s\n",
      "146:\tlearn: 0.1643429\ttotal: 3m 17s\tremaining: 19m 6s\n",
      "147:\tlearn: 0.1641337\ttotal: 3m 18s\tremaining: 19m 4s\n",
      "148:\tlearn: 0.1639588\ttotal: 3m 20s\tremaining: 19m 3s\n",
      "149:\tlearn: 0.1637261\ttotal: 3m 21s\tremaining: 19m 1s\n",
      "150:\tlearn: 0.1634250\ttotal: 3m 22s\tremaining: 18m 59s\n",
      "151:\tlearn: 0.1632144\ttotal: 3m 24s\tremaining: 18m 58s\n",
      "152:\tlearn: 0.1629985\ttotal: 3m 25s\tremaining: 18m 57s\n",
      "153:\tlearn: 0.1628296\ttotal: 3m 27s\tremaining: 18m 57s\n",
      "154:\tlearn: 0.1626006\ttotal: 3m 28s\tremaining: 18m 56s\n",
      "155:\tlearn: 0.1624326\ttotal: 3m 30s\tremaining: 18m 58s\n",
      "156:\tlearn: 0.1621754\ttotal: 3m 31s\tremaining: 18m 56s\n",
      "157:\tlearn: 0.1619728\ttotal: 3m 33s\tremaining: 18m 55s\n",
      "158:\tlearn: 0.1617433\ttotal: 3m 34s\tremaining: 18m 53s\n",
      "159:\tlearn: 0.1615824\ttotal: 3m 35s\tremaining: 18m 52s\n",
      "160:\tlearn: 0.1613971\ttotal: 3m 36s\tremaining: 18m 50s\n",
      "161:\tlearn: 0.1611507\ttotal: 3m 38s\tremaining: 18m 48s\n",
      "162:\tlearn: 0.1610065\ttotal: 3m 39s\tremaining: 18m 47s\n",
      "163:\tlearn: 0.1606843\ttotal: 3m 40s\tremaining: 18m 46s\n",
      "164:\tlearn: 0.1604401\ttotal: 3m 42s\tremaining: 18m 44s\n",
      "165:\tlearn: 0.1602875\ttotal: 3m 43s\tremaining: 18m 42s\n",
      "166:\tlearn: 0.1600875\ttotal: 3m 44s\tremaining: 18m 40s\n",
      "167:\tlearn: 0.1599051\ttotal: 3m 45s\tremaining: 18m 38s\n",
      "168:\tlearn: 0.1597256\ttotal: 3m 47s\tremaining: 18m 36s\n",
      "169:\tlearn: 0.1595027\ttotal: 3m 48s\tremaining: 18m 34s\n",
      "170:\tlearn: 0.1592683\ttotal: 3m 49s\tremaining: 18m 33s\n",
      "171:\tlearn: 0.1590929\ttotal: 3m 50s\tremaining: 18m 31s\n",
      "172:\tlearn: 0.1589011\ttotal: 3m 52s\tremaining: 18m 29s\n",
      "173:\tlearn: 0.1587217\ttotal: 3m 53s\tremaining: 18m 27s\n",
      "174:\tlearn: 0.1585548\ttotal: 3m 54s\tremaining: 18m 26s\n",
      "175:\tlearn: 0.1583921\ttotal: 3m 55s\tremaining: 18m 24s\n",
      "176:\tlearn: 0.1582413\ttotal: 3m 57s\tremaining: 18m 22s\n",
      "177:\tlearn: 0.1580967\ttotal: 3m 58s\tremaining: 18m 20s\n",
      "178:\tlearn: 0.1579262\ttotal: 3m 59s\tremaining: 18m 18s\n",
      "179:\tlearn: 0.1577442\ttotal: 4m\tremaining: 18m 17s\n",
      "180:\tlearn: 0.1574533\ttotal: 4m 2s\tremaining: 18m 15s\n",
      "181:\tlearn: 0.1573046\ttotal: 4m 3s\tremaining: 18m 13s\n",
      "182:\tlearn: 0.1571344\ttotal: 4m 4s\tremaining: 18m 12s\n",
      "183:\tlearn: 0.1569918\ttotal: 4m 5s\tremaining: 18m 10s\n",
      "184:\tlearn: 0.1568477\ttotal: 4m 7s\tremaining: 18m 8s\n",
      "185:\tlearn: 0.1566895\ttotal: 4m 8s\tremaining: 18m 7s\n",
      "186:\tlearn: 0.1565407\ttotal: 4m 9s\tremaining: 18m 5s\n",
      "187:\tlearn: 0.1562633\ttotal: 4m 10s\tremaining: 18m 3s\n",
      "188:\tlearn: 0.1560904\ttotal: 4m 12s\tremaining: 18m 1s\n",
      "189:\tlearn: 0.1558841\ttotal: 4m 13s\tremaining: 18m\n",
      "190:\tlearn: 0.1557281\ttotal: 4m 14s\tremaining: 17m 58s\n",
      "191:\tlearn: 0.1555139\ttotal: 4m 15s\tremaining: 17m 56s\n",
      "192:\tlearn: 0.1552962\ttotal: 4m 17s\tremaining: 17m 54s\n",
      "193:\tlearn: 0.1549814\ttotal: 4m 18s\tremaining: 17m 54s\n",
      "194:\tlearn: 0.1548054\ttotal: 4m 19s\tremaining: 17m 51s\n",
      "195:\tlearn: 0.1546552\ttotal: 4m 21s\tremaining: 17m 51s\n",
      "196:\tlearn: 0.1544950\ttotal: 4m 22s\tremaining: 17m 51s\n",
      "197:\tlearn: 0.1543371\ttotal: 4m 24s\tremaining: 17m 49s\n",
      "198:\tlearn: 0.1541792\ttotal: 4m 25s\tremaining: 17m 48s\n",
      "199:\tlearn: 0.1539284\ttotal: 4m 27s\tremaining: 17m 49s\n",
      "200:\tlearn: 0.1537921\ttotal: 4m 29s\tremaining: 17m 53s\n",
      "201:\tlearn: 0.1536626\ttotal: 4m 32s\tremaining: 17m 56s\n",
      "202:\tlearn: 0.1534758\ttotal: 4m 35s\tremaining: 18m\n",
      "203:\tlearn: 0.1533360\ttotal: 4m 37s\tremaining: 18m 1s\n",
      "204:\tlearn: 0.1531516\ttotal: 4m 39s\tremaining: 18m 3s\n",
      "205:\tlearn: 0.1529632\ttotal: 4m 41s\tremaining: 18m 3s\n",
      "206:\tlearn: 0.1527850\ttotal: 4m 42s\tremaining: 18m 3s\n",
      "207:\tlearn: 0.1525948\ttotal: 4m 44s\tremaining: 18m 2s\n",
      "208:\tlearn: 0.1524037\ttotal: 4m 45s\tremaining: 18m\n",
      "209:\tlearn: 0.1522543\ttotal: 4m 46s\tremaining: 17m 59s\n",
      "210:\tlearn: 0.1521314\ttotal: 4m 48s\tremaining: 17m 57s\n",
      "211:\tlearn: 0.1519581\ttotal: 4m 49s\tremaining: 17m 55s\n",
      "212:\tlearn: 0.1518269\ttotal: 4m 51s\tremaining: 17m 55s\n",
      "213:\tlearn: 0.1517191\ttotal: 4m 52s\tremaining: 17m 54s\n",
      "214:\tlearn: 0.1515326\ttotal: 4m 53s\tremaining: 17m 52s\n",
      "215:\tlearn: 0.1513699\ttotal: 4m 54s\tremaining: 17m 50s\n",
      "216:\tlearn: 0.1512426\ttotal: 4m 56s\tremaining: 17m 49s\n",
      "217:\tlearn: 0.1510924\ttotal: 4m 57s\tremaining: 17m 47s\n",
      "218:\tlearn: 0.1509675\ttotal: 4m 58s\tremaining: 17m 46s\n",
      "219:\tlearn: 0.1508330\ttotal: 5m\tremaining: 17m 45s\n",
      "220:\tlearn: 0.1507209\ttotal: 5m 1s\tremaining: 17m 43s\n",
      "221:\tlearn: 0.1506197\ttotal: 5m 3s\tremaining: 17m 42s\n",
      "222:\tlearn: 0.1504506\ttotal: 5m 4s\tremaining: 17m 40s\n",
      "223:\tlearn: 0.1503145\ttotal: 5m 5s\tremaining: 17m 39s\n",
      "224:\tlearn: 0.1501261\ttotal: 5m 7s\tremaining: 17m 37s\n",
      "225:\tlearn: 0.1500149\ttotal: 5m 8s\tremaining: 17m 37s\n",
      "226:\tlearn: 0.1499161\ttotal: 5m 9s\tremaining: 17m 35s\n",
      "227:\tlearn: 0.1497892\ttotal: 5m 11s\tremaining: 17m 34s\n",
      "228:\tlearn: 0.1496792\ttotal: 5m 12s\tremaining: 17m 32s\n",
      "229:\tlearn: 0.1495424\ttotal: 5m 13s\tremaining: 17m 30s\n",
      "230:\tlearn: 0.1494185\ttotal: 5m 15s\tremaining: 17m 28s\n",
      "231:\tlearn: 0.1492091\ttotal: 5m 16s\tremaining: 17m 27s\n",
      "232:\tlearn: 0.1490791\ttotal: 5m 17s\tremaining: 17m 25s\n",
      "233:\tlearn: 0.1489607\ttotal: 5m 18s\tremaining: 17m 24s\n",
      "234:\tlearn: 0.1488526\ttotal: 5m 20s\tremaining: 17m 23s\n",
      "235:\tlearn: 0.1487315\ttotal: 5m 21s\tremaining: 17m 21s\n",
      "236:\tlearn: 0.1486395\ttotal: 5m 23s\tremaining: 17m 20s\n",
      "237:\tlearn: 0.1485056\ttotal: 5m 24s\tremaining: 17m 18s\n",
      "238:\tlearn: 0.1483823\ttotal: 5m 25s\tremaining: 17m 17s\n",
      "239:\tlearn: 0.1482482\ttotal: 5m 27s\tremaining: 17m 15s\n",
      "240:\tlearn: 0.1481284\ttotal: 5m 28s\tremaining: 17m 14s\n",
      "241:\tlearn: 0.1479711\ttotal: 5m 29s\tremaining: 17m 12s\n",
      "242:\tlearn: 0.1478103\ttotal: 5m 30s\tremaining: 17m 10s\n",
      "243:\tlearn: 0.1477050\ttotal: 5m 32s\tremaining: 17m 9s\n",
      "244:\tlearn: 0.1475454\ttotal: 5m 33s\tremaining: 17m 7s\n",
      "245:\tlearn: 0.1474262\ttotal: 5m 34s\tremaining: 17m 6s\n",
      "246:\tlearn: 0.1473105\ttotal: 5m 36s\tremaining: 17m 6s\n",
      "247:\tlearn: 0.1471721\ttotal: 5m 38s\tremaining: 17m 7s\n",
      "248:\tlearn: 0.1470935\ttotal: 5m 41s\tremaining: 17m 10s\n",
      "249:\tlearn: 0.1469104\ttotal: 5m 44s\tremaining: 17m 12s\n",
      "250:\tlearn: 0.1467930\ttotal: 5m 46s\tremaining: 17m 13s\n",
      "251:\tlearn: 0.1466859\ttotal: 5m 48s\tremaining: 17m 14s\n",
      "252:\tlearn: 0.1465833\ttotal: 5m 49s\tremaining: 17m 12s\n",
      "253:\tlearn: 0.1464631\ttotal: 5m 50s\tremaining: 17m 10s\n",
      "254:\tlearn: 0.1463571\ttotal: 5m 52s\tremaining: 17m 8s\n",
      "255:\tlearn: 0.1461461\ttotal: 5m 53s\tremaining: 17m 7s\n",
      "256:\tlearn: 0.1459846\ttotal: 5m 54s\tremaining: 17m 6s\n",
      "257:\tlearn: 0.1458618\ttotal: 5m 56s\tremaining: 17m 5s\n",
      "258:\tlearn: 0.1457509\ttotal: 5m 58s\tremaining: 17m 5s\n",
      "259:\tlearn: 0.1456567\ttotal: 6m\tremaining: 17m 5s\n",
      "260:\tlearn: 0.1455646\ttotal: 6m 1s\tremaining: 17m 4s\n",
      "261:\tlearn: 0.1454792\ttotal: 6m 3s\tremaining: 17m 2s\n",
      "262:\tlearn: 0.1453055\ttotal: 6m 4s\tremaining: 17m 1s\n",
      "263:\tlearn: 0.1451902\ttotal: 6m 5s\tremaining: 16m 59s\n",
      "264:\tlearn: 0.1450871\ttotal: 6m 7s\tremaining: 16m 59s\n",
      "265:\tlearn: 0.1449765\ttotal: 6m 9s\tremaining: 16m 59s\n",
      "266:\tlearn: 0.1448755\ttotal: 6m 10s\tremaining: 16m 58s\n",
      "267:\tlearn: 0.1447044\ttotal: 6m 12s\tremaining: 16m 56s\n",
      "268:\tlearn: 0.1445573\ttotal: 6m 14s\tremaining: 16m 56s\n",
      "269:\tlearn: 0.1444533\ttotal: 6m 15s\tremaining: 16m 56s\n",
      "270:\tlearn: 0.1443766\ttotal: 6m 17s\tremaining: 16m 55s\n",
      "271:\tlearn: 0.1442770\ttotal: 6m 19s\tremaining: 16m 54s\n",
      "272:\tlearn: 0.1441510\ttotal: 6m 20s\tremaining: 16m 53s\n",
      "273:\tlearn: 0.1440565\ttotal: 6m 22s\tremaining: 16m 52s\n",
      "274:\tlearn: 0.1438993\ttotal: 6m 24s\tremaining: 16m 52s\n",
      "275:\tlearn: 0.1438086\ttotal: 6m 25s\tremaining: 16m 52s\n",
      "276:\tlearn: 0.1437154\ttotal: 6m 27s\tremaining: 16m 51s\n",
      "277:\tlearn: 0.1436071\ttotal: 6m 28s\tremaining: 16m 49s\n",
      "278:\tlearn: 0.1434678\ttotal: 6m 30s\tremaining: 16m 48s\n",
      "279:\tlearn: 0.1433947\ttotal: 6m 31s\tremaining: 16m 46s\n",
      "280:\tlearn: 0.1432530\ttotal: 6m 32s\tremaining: 16m 45s\n",
      "281:\tlearn: 0.1431431\ttotal: 6m 34s\tremaining: 16m 43s\n",
      "282:\tlearn: 0.1430569\ttotal: 6m 35s\tremaining: 16m 41s\n",
      "283:\tlearn: 0.1429393\ttotal: 6m 36s\tremaining: 16m 39s\n",
      "284:\tlearn: 0.1428737\ttotal: 6m 37s\tremaining: 16m 38s\n",
      "285:\tlearn: 0.1427818\ttotal: 6m 39s\tremaining: 16m 36s\n",
      "286:\tlearn: 0.1426465\ttotal: 6m 40s\tremaining: 16m 35s\n",
      "287:\tlearn: 0.1424867\ttotal: 6m 42s\tremaining: 16m 34s\n",
      "288:\tlearn: 0.1424280\ttotal: 6m 43s\tremaining: 16m 32s\n",
      "289:\tlearn: 0.1423309\ttotal: 6m 45s\tremaining: 16m 31s\n",
      "290:\tlearn: 0.1422443\ttotal: 6m 46s\tremaining: 16m 29s\n",
      "291:\tlearn: 0.1421757\ttotal: 6m 47s\tremaining: 16m 28s\n",
      "292:\tlearn: 0.1420390\ttotal: 6m 48s\tremaining: 16m 26s\n",
      "293:\tlearn: 0.1419315\ttotal: 6m 50s\tremaining: 16m 24s\n",
      "294:\tlearn: 0.1418266\ttotal: 6m 51s\tremaining: 16m 23s\n",
      "295:\tlearn: 0.1417310\ttotal: 6m 52s\tremaining: 16m 21s\n",
      "296:\tlearn: 0.1416436\ttotal: 6m 53s\tremaining: 16m 19s\n",
      "297:\tlearn: 0.1415304\ttotal: 6m 55s\tremaining: 16m 18s\n",
      "298:\tlearn: 0.1414473\ttotal: 6m 56s\tremaining: 16m 16s\n",
      "299:\tlearn: 0.1412849\ttotal: 6m 57s\tremaining: 16m 14s\n",
      "300:\tlearn: 0.1412094\ttotal: 6m 58s\tremaining: 16m 12s\n",
      "301:\tlearn: 0.1411415\ttotal: 7m\tremaining: 16m 11s\n",
      "302:\tlearn: 0.1410226\ttotal: 7m 1s\tremaining: 16m 9s\n",
      "303:\tlearn: 0.1409243\ttotal: 7m 2s\tremaining: 16m 8s\n",
      "304:\tlearn: 0.1408540\ttotal: 7m 4s\tremaining: 16m 6s\n",
      "305:\tlearn: 0.1407031\ttotal: 7m 5s\tremaining: 16m 4s\n",
      "306:\tlearn: 0.1406194\ttotal: 7m 6s\tremaining: 16m 3s\n",
      "307:\tlearn: 0.1405126\ttotal: 7m 7s\tremaining: 16m 1s\n",
      "308:\tlearn: 0.1404365\ttotal: 7m 9s\tremaining: 15m 59s\n",
      "309:\tlearn: 0.1402623\ttotal: 7m 10s\tremaining: 15m 58s\n",
      "310:\tlearn: 0.1401743\ttotal: 7m 11s\tremaining: 15m 56s\n",
      "311:\tlearn: 0.1400699\ttotal: 7m 12s\tremaining: 15m 54s\n",
      "312:\tlearn: 0.1399506\ttotal: 7m 14s\tremaining: 15m 53s\n",
      "313:\tlearn: 0.1397700\ttotal: 7m 15s\tremaining: 15m 51s\n",
      "314:\tlearn: 0.1396288\ttotal: 7m 16s\tremaining: 15m 49s\n",
      "315:\tlearn: 0.1395613\ttotal: 7m 18s\tremaining: 15m 49s\n",
      "316:\tlearn: 0.1394475\ttotal: 7m 20s\tremaining: 15m 48s\n",
      "317:\tlearn: 0.1393339\ttotal: 7m 22s\tremaining: 15m 48s\n",
      "318:\tlearn: 0.1392666\ttotal: 7m 24s\tremaining: 15m 48s\n",
      "319:\tlearn: 0.1391819\ttotal: 7m 26s\tremaining: 15m 49s\n",
      "320:\tlearn: 0.1391303\ttotal: 7m 28s\tremaining: 15m 49s\n",
      "321:\tlearn: 0.1390001\ttotal: 7m 30s\tremaining: 15m 48s\n",
      "322:\tlearn: 0.1389241\ttotal: 7m 32s\tremaining: 15m 48s\n",
      "323:\tlearn: 0.1388428\ttotal: 7m 33s\tremaining: 15m 46s\n",
      "324:\tlearn: 0.1387600\ttotal: 7m 35s\tremaining: 15m 45s\n",
      "325:\tlearn: 0.1386502\ttotal: 7m 36s\tremaining: 15m 44s\n",
      "326:\tlearn: 0.1385602\ttotal: 7m 38s\tremaining: 15m 43s\n",
      "327:\tlearn: 0.1384545\ttotal: 7m 39s\tremaining: 15m 42s\n",
      "328:\tlearn: 0.1383696\ttotal: 7m 41s\tremaining: 15m 41s\n",
      "329:\tlearn: 0.1382664\ttotal: 7m 43s\tremaining: 15m 40s\n",
      "330:\tlearn: 0.1381582\ttotal: 7m 44s\tremaining: 15m 39s\n",
      "331:\tlearn: 0.1380554\ttotal: 7m 45s\tremaining: 15m 37s\n",
      "332:\tlearn: 0.1379230\ttotal: 7m 47s\tremaining: 15m 35s\n",
      "333:\tlearn: 0.1378640\ttotal: 7m 48s\tremaining: 15m 34s\n",
      "334:\tlearn: 0.1377677\ttotal: 7m 49s\tremaining: 15m 32s\n",
      "335:\tlearn: 0.1376363\ttotal: 7m 51s\tremaining: 15m 31s\n",
      "336:\tlearn: 0.1375257\ttotal: 7m 53s\tremaining: 15m 30s\n",
      "337:\tlearn: 0.1374356\ttotal: 7m 54s\tremaining: 15m 29s\n",
      "338:\tlearn: 0.1373540\ttotal: 7m 56s\tremaining: 15m 28s\n",
      "339:\tlearn: 0.1372204\ttotal: 7m 57s\tremaining: 15m 26s\n",
      "340:\tlearn: 0.1371203\ttotal: 7m 59s\tremaining: 15m 25s\n",
      "341:\tlearn: 0.1370268\ttotal: 8m\tremaining: 15m 24s\n",
      "342:\tlearn: 0.1369561\ttotal: 8m 1s\tremaining: 15m 22s\n",
      "343:\tlearn: 0.1369053\ttotal: 8m 3s\tremaining: 15m 21s\n",
      "344:\tlearn: 0.1367901\ttotal: 8m 4s\tremaining: 15m 19s\n",
      "345:\tlearn: 0.1367432\ttotal: 8m 5s\tremaining: 15m 17s\n",
      "346:\tlearn: 0.1366643\ttotal: 8m 6s\tremaining: 15m 15s\n",
      "347:\tlearn: 0.1365658\ttotal: 8m 8s\tremaining: 15m 14s\n",
      "348:\tlearn: 0.1364829\ttotal: 8m 9s\tremaining: 15m 13s\n",
      "349:\tlearn: 0.1363958\ttotal: 8m 11s\tremaining: 15m 12s\n",
      "350:\tlearn: 0.1363415\ttotal: 8m 12s\tremaining: 15m 10s\n",
      "351:\tlearn: 0.1362814\ttotal: 8m 13s\tremaining: 15m 8s\n",
      "352:\tlearn: 0.1361894\ttotal: 8m 15s\tremaining: 15m 7s\n",
      "353:\tlearn: 0.1360936\ttotal: 8m 16s\tremaining: 15m 5s\n",
      "354:\tlearn: 0.1360155\ttotal: 8m 17s\tremaining: 15m 4s\n",
      "355:\tlearn: 0.1359352\ttotal: 8m 19s\tremaining: 15m 2s\n",
      "356:\tlearn: 0.1358900\ttotal: 8m 20s\tremaining: 15m 1s\n",
      "357:\tlearn: 0.1358221\ttotal: 8m 21s\tremaining: 14m 59s\n",
      "358:\tlearn: 0.1357294\ttotal: 8m 23s\tremaining: 14m 59s\n",
      "359:\tlearn: 0.1356141\ttotal: 8m 25s\tremaining: 14m 59s\n",
      "360:\tlearn: 0.1354788\ttotal: 8m 28s\tremaining: 15m\n",
      "361:\tlearn: 0.1354042\ttotal: 8m 31s\tremaining: 15m\n",
      "362:\tlearn: 0.1353420\ttotal: 8m 33s\tremaining: 15m\n",
      "363:\tlearn: 0.1351778\ttotal: 8m 34s\tremaining: 14m 59s\n",
      "364:\tlearn: 0.1351016\ttotal: 8m 36s\tremaining: 14m 57s\n",
      "365:\tlearn: 0.1350487\ttotal: 8m 37s\tremaining: 14m 55s\n",
      "366:\tlearn: 0.1350078\ttotal: 8m 38s\tremaining: 14m 54s\n",
      "367:\tlearn: 0.1349167\ttotal: 8m 40s\tremaining: 14m 53s\n",
      "368:\tlearn: 0.1348475\ttotal: 8m 41s\tremaining: 14m 51s\n",
      "369:\tlearn: 0.1347553\ttotal: 8m 42s\tremaining: 14m 49s\n",
      "370:\tlearn: 0.1346171\ttotal: 8m 43s\tremaining: 14m 48s\n",
      "371:\tlearn: 0.1344918\ttotal: 8m 45s\tremaining: 14m 46s\n",
      "372:\tlearn: 0.1344255\ttotal: 8m 46s\tremaining: 14m 44s\n",
      "373:\tlearn: 0.1343294\ttotal: 8m 47s\tremaining: 14m 43s\n",
      "374:\tlearn: 0.1342890\ttotal: 8m 49s\tremaining: 14m 42s\n",
      "375:\tlearn: 0.1342100\ttotal: 8m 50s\tremaining: 14m 41s\n",
      "376:\tlearn: 0.1341578\ttotal: 8m 53s\tremaining: 14m 40s\n",
      "377:\tlearn: 0.1340784\ttotal: 8m 54s\tremaining: 14m 40s\n",
      "378:\tlearn: 0.1340027\ttotal: 8m 56s\tremaining: 14m 38s\n",
      "379:\tlearn: 0.1339320\ttotal: 8m 57s\tremaining: 14m 36s\n",
      "380:\tlearn: 0.1338685\ttotal: 8m 58s\tremaining: 14m 35s\n",
      "381:\tlearn: 0.1337878\ttotal: 9m\tremaining: 14m 34s\n",
      "382:\tlearn: 0.1337446\ttotal: 9m 2s\tremaining: 14m 33s\n",
      "383:\tlearn: 0.1336595\ttotal: 9m 3s\tremaining: 14m 32s\n",
      "384:\tlearn: 0.1336244\ttotal: 9m 5s\tremaining: 14m 31s\n",
      "385:\tlearn: 0.1335573\ttotal: 9m 6s\tremaining: 14m 29s\n",
      "386:\tlearn: 0.1335016\ttotal: 9m 8s\tremaining: 14m 28s\n",
      "387:\tlearn: 0.1334073\ttotal: 9m 9s\tremaining: 14m 26s\n",
      "388:\tlearn: 0.1333277\ttotal: 9m 10s\tremaining: 14m 24s\n",
      "389:\tlearn: 0.1332403\ttotal: 9m 11s\tremaining: 14m 23s\n",
      "390:\tlearn: 0.1331707\ttotal: 9m 13s\tremaining: 14m 21s\n",
      "391:\tlearn: 0.1331057\ttotal: 9m 14s\tremaining: 14m 20s\n",
      "392:\tlearn: 0.1330349\ttotal: 9m 15s\tremaining: 14m 18s\n",
      "393:\tlearn: 0.1329449\ttotal: 9m 17s\tremaining: 14m 16s\n",
      "394:\tlearn: 0.1329070\ttotal: 9m 18s\tremaining: 14m 15s\n",
      "395:\tlearn: 0.1328420\ttotal: 9m 19s\tremaining: 14m 13s\n",
      "396:\tlearn: 0.1327689\ttotal: 9m 20s\tremaining: 14m 11s\n",
      "397:\tlearn: 0.1327060\ttotal: 9m 22s\tremaining: 14m 10s\n",
      "398:\tlearn: 0.1326296\ttotal: 9m 23s\tremaining: 14m 8s\n",
      "399:\tlearn: 0.1325319\ttotal: 9m 24s\tremaining: 14m 6s\n",
      "400:\tlearn: 0.1324868\ttotal: 9m 25s\tremaining: 14m 5s\n",
      "401:\tlearn: 0.1324183\ttotal: 9m 27s\tremaining: 14m 3s\n",
      "402:\tlearn: 0.1323025\ttotal: 9m 28s\tremaining: 14m 1s\n",
      "403:\tlearn: 0.1322666\ttotal: 9m 29s\tremaining: 14m\n",
      "404:\tlearn: 0.1321647\ttotal: 9m 30s\tremaining: 13m 58s\n",
      "405:\tlearn: 0.1320812\ttotal: 9m 32s\tremaining: 13m 57s\n",
      "406:\tlearn: 0.1319945\ttotal: 9m 33s\tremaining: 13m 55s\n",
      "407:\tlearn: 0.1319345\ttotal: 9m 34s\tremaining: 13m 53s\n",
      "408:\tlearn: 0.1318495\ttotal: 9m 35s\tremaining: 13m 52s\n",
      "409:\tlearn: 0.1317886\ttotal: 9m 37s\tremaining: 13m 50s\n",
      "410:\tlearn: 0.1317333\ttotal: 9m 38s\tremaining: 13m 49s\n",
      "411:\tlearn: 0.1316737\ttotal: 9m 40s\tremaining: 13m 48s\n",
      "412:\tlearn: 0.1315519\ttotal: 9m 42s\tremaining: 13m 47s\n",
      "413:\tlearn: 0.1314771\ttotal: 9m 43s\tremaining: 13m 45s\n",
      "414:\tlearn: 0.1313553\ttotal: 9m 44s\tremaining: 13m 44s\n",
      "415:\tlearn: 0.1312987\ttotal: 9m 46s\tremaining: 13m 42s\n",
      "416:\tlearn: 0.1311909\ttotal: 9m 47s\tremaining: 13m 41s\n",
      "417:\tlearn: 0.1311080\ttotal: 9m 48s\tremaining: 13m 39s\n",
      "418:\tlearn: 0.1310762\ttotal: 9m 50s\tremaining: 13m 38s\n",
      "419:\tlearn: 0.1310135\ttotal: 9m 51s\tremaining: 13m 36s\n",
      "420:\tlearn: 0.1309240\ttotal: 9m 52s\tremaining: 13m 35s\n",
      "421:\tlearn: 0.1308504\ttotal: 9m 54s\tremaining: 13m 33s\n",
      "422:\tlearn: 0.1307840\ttotal: 9m 55s\tremaining: 13m 32s\n",
      "423:\tlearn: 0.1307057\ttotal: 9m 56s\tremaining: 13m 30s\n",
      "424:\tlearn: 0.1305723\ttotal: 9m 57s\tremaining: 13m 28s\n",
      "425:\tlearn: 0.1305345\ttotal: 9m 59s\tremaining: 13m 27s\n",
      "426:\tlearn: 0.1304243\ttotal: 10m\tremaining: 13m 26s\n",
      "427:\tlearn: 0.1303626\ttotal: 10m 2s\tremaining: 13m 25s\n",
      "428:\tlearn: 0.1302825\ttotal: 10m 3s\tremaining: 13m 23s\n",
      "429:\tlearn: 0.1302042\ttotal: 10m 5s\tremaining: 13m 22s\n",
      "430:\tlearn: 0.1301444\ttotal: 10m 7s\tremaining: 13m 21s\n",
      "431:\tlearn: 0.1300772\ttotal: 10m 8s\tremaining: 13m 20s\n",
      "432:\tlearn: 0.1300126\ttotal: 10m 10s\tremaining: 13m 18s\n",
      "433:\tlearn: 0.1299090\ttotal: 10m 11s\tremaining: 13m 17s\n",
      "434:\tlearn: 0.1298033\ttotal: 10m 12s\tremaining: 13m 15s\n",
      "435:\tlearn: 0.1297106\ttotal: 10m 13s\tremaining: 13m 14s\n",
      "436:\tlearn: 0.1296223\ttotal: 10m 15s\tremaining: 13m 12s\n",
      "437:\tlearn: 0.1295672\ttotal: 10m 16s\tremaining: 13m 11s\n",
      "438:\tlearn: 0.1295009\ttotal: 10m 17s\tremaining: 13m 9s\n",
      "439:\tlearn: 0.1294554\ttotal: 10m 19s\tremaining: 13m 7s\n",
      "440:\tlearn: 0.1293982\ttotal: 10m 20s\tremaining: 13m 6s\n",
      "441:\tlearn: 0.1293478\ttotal: 10m 21s\tremaining: 13m 4s\n",
      "442:\tlearn: 0.1292869\ttotal: 10m 22s\tremaining: 13m 3s\n",
      "443:\tlearn: 0.1292255\ttotal: 10m 24s\tremaining: 13m 1s\n",
      "444:\tlearn: 0.1291395\ttotal: 10m 25s\tremaining: 12m 59s\n",
      "445:\tlearn: 0.1290737\ttotal: 10m 26s\tremaining: 12m 58s\n",
      "446:\tlearn: 0.1290074\ttotal: 10m 27s\tremaining: 12m 56s\n",
      "447:\tlearn: 0.1289597\ttotal: 10m 29s\tremaining: 12m 55s\n",
      "448:\tlearn: 0.1288959\ttotal: 10m 30s\tremaining: 12m 53s\n",
      "449:\tlearn: 0.1288332\ttotal: 10m 31s\tremaining: 12m 51s\n",
      "450:\tlearn: 0.1288021\ttotal: 10m 32s\tremaining: 12m 50s\n",
      "451:\tlearn: 0.1287408\ttotal: 10m 34s\tremaining: 12m 48s\n",
      "452:\tlearn: 0.1286627\ttotal: 10m 35s\tremaining: 12m 47s\n",
      "453:\tlearn: 0.1285889\ttotal: 10m 36s\tremaining: 12m 45s\n",
      "454:\tlearn: 0.1285310\ttotal: 10m 37s\tremaining: 12m 44s\n",
      "455:\tlearn: 0.1284614\ttotal: 10m 39s\tremaining: 12m 42s\n",
      "456:\tlearn: 0.1284092\ttotal: 10m 40s\tremaining: 12m 41s\n",
      "457:\tlearn: 0.1283704\ttotal: 10m 41s\tremaining: 12m 39s\n",
      "458:\tlearn: 0.1282880\ttotal: 10m 43s\tremaining: 12m 38s\n",
      "459:\tlearn: 0.1282191\ttotal: 10m 44s\tremaining: 12m 36s\n",
      "460:\tlearn: 0.1281726\ttotal: 10m 45s\tremaining: 12m 34s\n",
      "461:\tlearn: 0.1281110\ttotal: 10m 46s\tremaining: 12m 33s\n",
      "462:\tlearn: 0.1280469\ttotal: 10m 48s\tremaining: 12m 31s\n",
      "463:\tlearn: 0.1279908\ttotal: 10m 49s\tremaining: 12m 30s\n",
      "464:\tlearn: 0.1279556\ttotal: 10m 50s\tremaining: 12m 28s\n",
      "465:\tlearn: 0.1279011\ttotal: 10m 52s\tremaining: 12m 27s\n",
      "466:\tlearn: 0.1278410\ttotal: 10m 53s\tremaining: 12m 25s\n",
      "467:\tlearn: 0.1277916\ttotal: 10m 54s\tremaining: 12m 24s\n",
      "468:\tlearn: 0.1277283\ttotal: 10m 56s\tremaining: 12m 22s\n",
      "469:\tlearn: 0.1276383\ttotal: 10m 57s\tremaining: 12m 21s\n",
      "470:\tlearn: 0.1276063\ttotal: 10m 59s\tremaining: 12m 20s\n",
      "471:\tlearn: 0.1275153\ttotal: 11m\tremaining: 12m 19s\n",
      "472:\tlearn: 0.1274615\ttotal: 11m 2s\tremaining: 12m 17s\n",
      "473:\tlearn: 0.1273914\ttotal: 11m 3s\tremaining: 12m 16s\n",
      "474:\tlearn: 0.1273029\ttotal: 11m 4s\tremaining: 12m 14s\n",
      "475:\tlearn: 0.1272382\ttotal: 11m 6s\tremaining: 12m 13s\n",
      "476:\tlearn: 0.1271789\ttotal: 11m 7s\tremaining: 12m 11s\n",
      "477:\tlearn: 0.1271018\ttotal: 11m 8s\tremaining: 12m 10s\n",
      "478:\tlearn: 0.1270412\ttotal: 11m 9s\tremaining: 12m 8s\n",
      "479:\tlearn: 0.1269313\ttotal: 11m 11s\tremaining: 12m 7s\n",
      "480:\tlearn: 0.1268184\ttotal: 11m 12s\tremaining: 12m 5s\n",
      "481:\tlearn: 0.1267348\ttotal: 11m 13s\tremaining: 12m 4s\n",
      "482:\tlearn: 0.1266316\ttotal: 11m 15s\tremaining: 12m 2s\n",
      "483:\tlearn: 0.1266023\ttotal: 11m 16s\tremaining: 12m 1s\n",
      "484:\tlearn: 0.1265382\ttotal: 11m 17s\tremaining: 11m 59s\n",
      "485:\tlearn: 0.1264936\ttotal: 11m 18s\tremaining: 11m 58s\n",
      "486:\tlearn: 0.1263935\ttotal: 11m 20s\tremaining: 11m 56s\n",
      "487:\tlearn: 0.1263072\ttotal: 11m 21s\tremaining: 11m 54s\n",
      "488:\tlearn: 0.1262188\ttotal: 11m 22s\tremaining: 11m 53s\n",
      "489:\tlearn: 0.1261858\ttotal: 11m 23s\tremaining: 11m 51s\n",
      "490:\tlearn: 0.1261331\ttotal: 11m 25s\tremaining: 11m 50s\n",
      "491:\tlearn: 0.1260301\ttotal: 11m 26s\tremaining: 11m 48s\n",
      "492:\tlearn: 0.1259554\ttotal: 11m 27s\tremaining: 11m 47s\n",
      "493:\tlearn: 0.1258975\ttotal: 11m 28s\tremaining: 11m 45s\n",
      "494:\tlearn: 0.1258577\ttotal: 11m 30s\tremaining: 11m 44s\n",
      "495:\tlearn: 0.1257915\ttotal: 11m 31s\tremaining: 11m 42s\n",
      "496:\tlearn: 0.1257295\ttotal: 11m 32s\tremaining: 11m 41s\n",
      "497:\tlearn: 0.1256890\ttotal: 11m 34s\tremaining: 11m 39s\n",
      "498:\tlearn: 0.1256440\ttotal: 11m 35s\tremaining: 11m 38s\n",
      "499:\tlearn: 0.1255711\ttotal: 11m 36s\tremaining: 11m 36s\n",
      "500:\tlearn: 0.1254931\ttotal: 11m 37s\tremaining: 11m 35s\n",
      "501:\tlearn: 0.1254504\ttotal: 11m 39s\tremaining: 11m 33s\n",
      "502:\tlearn: 0.1253843\ttotal: 11m 41s\tremaining: 11m 32s\n",
      "503:\tlearn: 0.1253313\ttotal: 11m 42s\tremaining: 11m 31s\n",
      "504:\tlearn: 0.1252701\ttotal: 11m 44s\tremaining: 11m 30s\n",
      "505:\tlearn: 0.1252312\ttotal: 11m 45s\tremaining: 11m 28s\n",
      "506:\tlearn: 0.1252041\ttotal: 11m 47s\tremaining: 11m 27s\n",
      "507:\tlearn: 0.1251646\ttotal: 11m 48s\tremaining: 11m 26s\n",
      "508:\tlearn: 0.1251114\ttotal: 11m 50s\tremaining: 11m 25s\n",
      "509:\tlearn: 0.1250534\ttotal: 11m 51s\tremaining: 11m 24s\n",
      "510:\tlearn: 0.1249831\ttotal: 11m 53s\tremaining: 11m 22s\n",
      "511:\tlearn: 0.1249287\ttotal: 11m 54s\tremaining: 11m 21s\n",
      "512:\tlearn: 0.1248794\ttotal: 11m 56s\tremaining: 11m 20s\n",
      "513:\tlearn: 0.1247822\ttotal: 11m 58s\tremaining: 11m 18s\n",
      "514:\tlearn: 0.1247574\ttotal: 11m 59s\tremaining: 11m 17s\n",
      "515:\tlearn: 0.1247292\ttotal: 12m 1s\tremaining: 11m 16s\n",
      "516:\tlearn: 0.1246471\ttotal: 12m 3s\tremaining: 11m 15s\n",
      "517:\tlearn: 0.1245874\ttotal: 12m 4s\tremaining: 11m 14s\n",
      "518:\tlearn: 0.1245461\ttotal: 12m 6s\tremaining: 11m 13s\n",
      "519:\tlearn: 0.1245052\ttotal: 12m 7s\tremaining: 11m 11s\n",
      "520:\tlearn: 0.1244763\ttotal: 12m 9s\tremaining: 11m 10s\n",
      "521:\tlearn: 0.1243932\ttotal: 12m 10s\tremaining: 11m 9s\n",
      "522:\tlearn: 0.1243679\ttotal: 12m 12s\tremaining: 11m 7s\n",
      "523:\tlearn: 0.1243146\ttotal: 12m 13s\tremaining: 11m 6s\n",
      "524:\tlearn: 0.1242175\ttotal: 12m 15s\tremaining: 11m 5s\n",
      "525:\tlearn: 0.1241638\ttotal: 12m 16s\tremaining: 11m 4s\n",
      "526:\tlearn: 0.1241387\ttotal: 12m 18s\tremaining: 11m 2s\n",
      "527:\tlearn: 0.1241001\ttotal: 12m 19s\tremaining: 11m 1s\n",
      "528:\tlearn: 0.1240218\ttotal: 12m 21s\tremaining: 11m\n",
      "529:\tlearn: 0.1239963\ttotal: 12m 22s\tremaining: 10m 58s\n",
      "530:\tlearn: 0.1239387\ttotal: 12m 24s\tremaining: 10m 57s\n",
      "531:\tlearn: 0.1238986\ttotal: 12m 25s\tremaining: 10m 55s\n",
      "532:\tlearn: 0.1238098\ttotal: 12m 26s\tremaining: 10m 54s\n",
      "533:\tlearn: 0.1237646\ttotal: 12m 28s\tremaining: 10m 53s\n",
      "534:\tlearn: 0.1237097\ttotal: 12m 29s\tremaining: 10m 51s\n",
      "535:\tlearn: 0.1236751\ttotal: 12m 31s\tremaining: 10m 50s\n",
      "536:\tlearn: 0.1236176\ttotal: 12m 32s\tremaining: 10m 48s\n",
      "537:\tlearn: 0.1235536\ttotal: 12m 33s\tremaining: 10m 47s\n",
      "538:\tlearn: 0.1235300\ttotal: 12m 35s\tremaining: 10m 45s\n",
      "539:\tlearn: 0.1234742\ttotal: 12m 36s\tremaining: 10m 44s\n",
      "540:\tlearn: 0.1234509\ttotal: 12m 37s\tremaining: 10m 42s\n",
      "541:\tlearn: 0.1233871\ttotal: 12m 39s\tremaining: 10m 41s\n",
      "542:\tlearn: 0.1233618\ttotal: 12m 41s\tremaining: 10m 40s\n",
      "543:\tlearn: 0.1233034\ttotal: 12m 42s\tremaining: 10m 39s\n",
      "544:\tlearn: 0.1232423\ttotal: 12m 44s\tremaining: 10m 37s\n",
      "545:\tlearn: 0.1231780\ttotal: 12m 45s\tremaining: 10m 36s\n",
      "546:\tlearn: 0.1231556\ttotal: 12m 46s\tremaining: 10m 35s\n",
      "547:\tlearn: 0.1231260\ttotal: 12m 48s\tremaining: 10m 33s\n",
      "548:\tlearn: 0.1230801\ttotal: 12m 49s\tremaining: 10m 32s\n",
      "549:\tlearn: 0.1230342\ttotal: 12m 50s\tremaining: 10m 30s\n",
      "550:\tlearn: 0.1229810\ttotal: 12m 52s\tremaining: 10m 29s\n",
      "551:\tlearn: 0.1229346\ttotal: 12m 53s\tremaining: 10m 27s\n",
      "552:\tlearn: 0.1229130\ttotal: 12m 54s\tremaining: 10m 26s\n",
      "553:\tlearn: 0.1228908\ttotal: 12m 56s\tremaining: 10m 24s\n",
      "554:\tlearn: 0.1228326\ttotal: 12m 57s\tremaining: 10m 23s\n",
      "555:\tlearn: 0.1227688\ttotal: 12m 59s\tremaining: 10m 22s\n",
      "556:\tlearn: 0.1227034\ttotal: 13m\tremaining: 10m 20s\n",
      "557:\tlearn: 0.1226048\ttotal: 13m 1s\tremaining: 10m 19s\n",
      "558:\tlearn: 0.1225833\ttotal: 13m 2s\tremaining: 10m 17s\n",
      "559:\tlearn: 0.1225448\ttotal: 13m 4s\tremaining: 10m 16s\n",
      "560:\tlearn: 0.1224319\ttotal: 13m 5s\tremaining: 10m 14s\n",
      "561:\tlearn: 0.1223896\ttotal: 13m 6s\tremaining: 10m 13s\n",
      "562:\tlearn: 0.1223685\ttotal: 13m 7s\tremaining: 10m 11s\n",
      "563:\tlearn: 0.1223012\ttotal: 13m 9s\tremaining: 10m 9s\n",
      "564:\tlearn: 0.1222568\ttotal: 13m 10s\tremaining: 10m 8s\n",
      "565:\tlearn: 0.1222086\ttotal: 13m 11s\tremaining: 10m 6s\n",
      "566:\tlearn: 0.1221567\ttotal: 13m 12s\tremaining: 10m 5s\n",
      "567:\tlearn: 0.1220853\ttotal: 13m 14s\tremaining: 10m 3s\n",
      "568:\tlearn: 0.1220538\ttotal: 13m 15s\tremaining: 10m 2s\n",
      "569:\tlearn: 0.1219889\ttotal: 13m 16s\tremaining: 10m\n",
      "570:\tlearn: 0.1219654\ttotal: 13m 18s\tremaining: 9m 59s\n",
      "571:\tlearn: 0.1219039\ttotal: 13m 19s\tremaining: 9m 58s\n",
      "572:\tlearn: 0.1218382\ttotal: 13m 20s\tremaining: 9m 56s\n",
      "573:\tlearn: 0.1217926\ttotal: 13m 21s\tremaining: 9m 55s\n",
      "574:\tlearn: 0.1217499\ttotal: 13m 23s\tremaining: 9m 53s\n",
      "575:\tlearn: 0.1217006\ttotal: 13m 24s\tremaining: 9m 52s\n",
      "576:\tlearn: 0.1216196\ttotal: 13m 25s\tremaining: 9m 50s\n",
      "577:\tlearn: 0.1215984\ttotal: 13m 26s\tremaining: 9m 49s\n",
      "578:\tlearn: 0.1215455\ttotal: 13m 28s\tremaining: 9m 47s\n",
      "579:\tlearn: 0.1214963\ttotal: 13m 29s\tremaining: 9m 46s\n",
      "580:\tlearn: 0.1214763\ttotal: 13m 30s\tremaining: 9m 44s\n",
      "581:\tlearn: 0.1214495\ttotal: 13m 32s\tremaining: 9m 43s\n",
      "582:\tlearn: 0.1213985\ttotal: 13m 33s\tremaining: 9m 41s\n",
      "583:\tlearn: 0.1213682\ttotal: 13m 34s\tremaining: 9m 40s\n",
      "584:\tlearn: 0.1213175\ttotal: 13m 35s\tremaining: 9m 38s\n",
      "585:\tlearn: 0.1212960\ttotal: 13m 37s\tremaining: 9m 37s\n",
      "586:\tlearn: 0.1212765\ttotal: 13m 38s\tremaining: 9m 35s\n",
      "587:\tlearn: 0.1212346\ttotal: 13m 39s\tremaining: 9m 34s\n",
      "588:\tlearn: 0.1211913\ttotal: 13m 41s\tremaining: 9m 32s\n",
      "589:\tlearn: 0.1211118\ttotal: 13m 42s\tremaining: 9m 31s\n",
      "590:\tlearn: 0.1210508\ttotal: 13m 43s\tremaining: 9m 29s\n",
      "591:\tlearn: 0.1210186\ttotal: 13m 44s\tremaining: 9m 28s\n",
      "592:\tlearn: 0.1209939\ttotal: 13m 46s\tremaining: 9m 27s\n",
      "593:\tlearn: 0.1209743\ttotal: 13m 47s\tremaining: 9m 25s\n",
      "594:\tlearn: 0.1209284\ttotal: 13m 48s\tremaining: 9m 24s\n",
      "595:\tlearn: 0.1208794\ttotal: 13m 49s\tremaining: 9m 22s\n",
      "596:\tlearn: 0.1208470\ttotal: 13m 51s\tremaining: 9m 21s\n",
      "597:\tlearn: 0.1208000\ttotal: 13m 52s\tremaining: 9m 19s\n",
      "598:\tlearn: 0.1207406\ttotal: 13m 53s\tremaining: 9m 18s\n",
      "599:\tlearn: 0.1206875\ttotal: 13m 55s\tremaining: 9m 16s\n",
      "600:\tlearn: 0.1206357\ttotal: 13m 56s\tremaining: 9m 15s\n",
      "601:\tlearn: 0.1205576\ttotal: 13m 57s\tremaining: 9m 13s\n",
      "602:\tlearn: 0.1204736\ttotal: 13m 59s\tremaining: 9m 12s\n",
      "603:\tlearn: 0.1204543\ttotal: 14m\tremaining: 9m 11s\n",
      "604:\tlearn: 0.1204355\ttotal: 14m 2s\tremaining: 9m 9s\n",
      "605:\tlearn: 0.1203670\ttotal: 14m 3s\tremaining: 9m 8s\n",
      "606:\tlearn: 0.1203189\ttotal: 14m 4s\tremaining: 9m 6s\n",
      "607:\tlearn: 0.1202749\ttotal: 14m 6s\tremaining: 9m 5s\n",
      "608:\tlearn: 0.1202562\ttotal: 14m 7s\tremaining: 9m 4s\n",
      "609:\tlearn: 0.1201936\ttotal: 14m 8s\tremaining: 9m 2s\n",
      "610:\tlearn: 0.1201130\ttotal: 14m 10s\tremaining: 9m 1s\n",
      "611:\tlearn: 0.1200882\ttotal: 14m 11s\tremaining: 8m 59s\n",
      "612:\tlearn: 0.1200682\ttotal: 14m 12s\tremaining: 8m 58s\n",
      "613:\tlearn: 0.1200496\ttotal: 14m 14s\tremaining: 8m 56s\n",
      "614:\tlearn: 0.1200115\ttotal: 14m 15s\tremaining: 8m 55s\n",
      "615:\tlearn: 0.1199599\ttotal: 14m 16s\tremaining: 8m 54s\n",
      "616:\tlearn: 0.1199055\ttotal: 14m 18s\tremaining: 8m 52s\n",
      "617:\tlearn: 0.1198592\ttotal: 14m 19s\tremaining: 8m 51s\n",
      "618:\tlearn: 0.1198416\ttotal: 14m 20s\tremaining: 8m 49s\n",
      "619:\tlearn: 0.1197836\ttotal: 14m 22s\tremaining: 8m 48s\n",
      "620:\tlearn: 0.1197651\ttotal: 14m 23s\tremaining: 8m 47s\n",
      "621:\tlearn: 0.1197049\ttotal: 14m 24s\tremaining: 8m 45s\n",
      "622:\tlearn: 0.1196455\ttotal: 14m 26s\tremaining: 8m 44s\n",
      "623:\tlearn: 0.1196122\ttotal: 14m 27s\tremaining: 8m 42s\n",
      "624:\tlearn: 0.1195719\ttotal: 14m 28s\tremaining: 8m 41s\n",
      "625:\tlearn: 0.1195129\ttotal: 14m 30s\tremaining: 8m 39s\n",
      "626:\tlearn: 0.1194637\ttotal: 14m 31s\tremaining: 8m 38s\n",
      "627:\tlearn: 0.1194458\ttotal: 14m 32s\tremaining: 8m 37s\n",
      "628:\tlearn: 0.1193953\ttotal: 14m 34s\tremaining: 8m 35s\n",
      "629:\tlearn: 0.1193533\ttotal: 14m 35s\tremaining: 8m 34s\n",
      "630:\tlearn: 0.1192783\ttotal: 14m 37s\tremaining: 8m 33s\n",
      "631:\tlearn: 0.1192193\ttotal: 14m 38s\tremaining: 8m 31s\n",
      "632:\tlearn: 0.1191662\ttotal: 14m 40s\tremaining: 8m 30s\n",
      "633:\tlearn: 0.1191218\ttotal: 14m 41s\tremaining: 8m 28s\n",
      "634:\tlearn: 0.1190980\ttotal: 14m 43s\tremaining: 8m 27s\n",
      "635:\tlearn: 0.1190573\ttotal: 14m 44s\tremaining: 8m 26s\n",
      "636:\tlearn: 0.1189954\ttotal: 14m 45s\tremaining: 8m 24s\n",
      "637:\tlearn: 0.1189620\ttotal: 14m 47s\tremaining: 8m 23s\n",
      "638:\tlearn: 0.1189166\ttotal: 14m 48s\tremaining: 8m 22s\n",
      "639:\tlearn: 0.1188774\ttotal: 14m 50s\tremaining: 8m 20s\n",
      "640:\tlearn: 0.1188135\ttotal: 14m 51s\tremaining: 8m 19s\n",
      "641:\tlearn: 0.1187690\ttotal: 14m 52s\tremaining: 8m 17s\n",
      "642:\tlearn: 0.1187516\ttotal: 14m 54s\tremaining: 8m 16s\n",
      "643:\tlearn: 0.1187182\ttotal: 14m 55s\tremaining: 8m 15s\n",
      "644:\tlearn: 0.1186708\ttotal: 14m 56s\tremaining: 8m 13s\n",
      "645:\tlearn: 0.1186146\ttotal: 14m 58s\tremaining: 8m 12s\n",
      "646:\tlearn: 0.1185972\ttotal: 14m 59s\tremaining: 8m 10s\n",
      "647:\tlearn: 0.1185740\ttotal: 15m\tremaining: 8m 9s\n",
      "648:\tlearn: 0.1185340\ttotal: 15m 2s\tremaining: 8m 7s\n",
      "649:\tlearn: 0.1184869\ttotal: 15m 3s\tremaining: 8m 6s\n",
      "650:\tlearn: 0.1184681\ttotal: 15m 4s\tremaining: 8m 5s\n",
      "651:\tlearn: 0.1184248\ttotal: 15m 5s\tremaining: 8m 3s\n",
      "652:\tlearn: 0.1183804\ttotal: 15m 7s\tremaining: 8m 2s\n",
      "653:\tlearn: 0.1183226\ttotal: 15m 8s\tremaining: 8m\n",
      "654:\tlearn: 0.1182620\ttotal: 15m 9s\tremaining: 7m 59s\n",
      "655:\tlearn: 0.1182143\ttotal: 15m 10s\tremaining: 7m 57s\n",
      "656:\tlearn: 0.1181314\ttotal: 15m 12s\tremaining: 7m 56s\n",
      "657:\tlearn: 0.1181142\ttotal: 15m 13s\tremaining: 7m 54s\n",
      "658:\tlearn: 0.1180445\ttotal: 15m 14s\tremaining: 7m 53s\n",
      "659:\tlearn: 0.1180269\ttotal: 15m 15s\tremaining: 7m 51s\n",
      "660:\tlearn: 0.1179896\ttotal: 15m 17s\tremaining: 7m 50s\n",
      "661:\tlearn: 0.1179728\ttotal: 15m 18s\tremaining: 7m 48s\n",
      "662:\tlearn: 0.1179489\ttotal: 15m 19s\tremaining: 7m 47s\n",
      "663:\tlearn: 0.1178916\ttotal: 15m 20s\tremaining: 7m 45s\n",
      "664:\tlearn: 0.1178757\ttotal: 15m 22s\tremaining: 7m 44s\n",
      "665:\tlearn: 0.1178250\ttotal: 15m 23s\tremaining: 7m 42s\n",
      "666:\tlearn: 0.1178035\ttotal: 15m 24s\tremaining: 7m 41s\n",
      "667:\tlearn: 0.1177380\ttotal: 15m 26s\tremaining: 7m 40s\n",
      "668:\tlearn: 0.1177150\ttotal: 15m 27s\tremaining: 7m 38s\n",
      "669:\tlearn: 0.1176594\ttotal: 15m 29s\tremaining: 7m 37s\n",
      "670:\tlearn: 0.1176007\ttotal: 15m 30s\tremaining: 7m 36s\n",
      "671:\tlearn: 0.1175662\ttotal: 15m 31s\tremaining: 7m 34s\n",
      "672:\tlearn: 0.1175250\ttotal: 15m 33s\tremaining: 7m 33s\n",
      "673:\tlearn: 0.1175002\ttotal: 15m 35s\tremaining: 7m 32s\n",
      "674:\tlearn: 0.1174476\ttotal: 15m 37s\tremaining: 7m 31s\n",
      "675:\tlearn: 0.1174052\ttotal: 15m 39s\tremaining: 7m 30s\n",
      "676:\tlearn: 0.1173615\ttotal: 15m 40s\tremaining: 7m 28s\n",
      "677:\tlearn: 0.1173396\ttotal: 15m 42s\tremaining: 7m 27s\n",
      "678:\tlearn: 0.1172257\ttotal: 15m 44s\tremaining: 7m 26s\n",
      "679:\tlearn: 0.1171764\ttotal: 15m 46s\tremaining: 7m 25s\n",
      "680:\tlearn: 0.1171288\ttotal: 15m 48s\tremaining: 7m 24s\n",
      "681:\tlearn: 0.1170969\ttotal: 15m 49s\tremaining: 7m 22s\n",
      "682:\tlearn: 0.1170489\ttotal: 15m 51s\tremaining: 7m 21s\n",
      "683:\tlearn: 0.1170083\ttotal: 15m 52s\tremaining: 7m 20s\n",
      "684:\tlearn: 0.1169919\ttotal: 15m 54s\tremaining: 7m 18s\n",
      "685:\tlearn: 0.1169192\ttotal: 15m 55s\tremaining: 7m 17s\n",
      "686:\tlearn: 0.1169044\ttotal: 15m 56s\tremaining: 7m 15s\n",
      "687:\tlearn: 0.1168599\ttotal: 15m 58s\tremaining: 7m 14s\n",
      "688:\tlearn: 0.1167810\ttotal: 15m 59s\tremaining: 7m 13s\n",
      "689:\tlearn: 0.1167388\ttotal: 16m 1s\tremaining: 7m 11s\n",
      "690:\tlearn: 0.1167238\ttotal: 16m 2s\tremaining: 7m 10s\n",
      "691:\tlearn: 0.1166779\ttotal: 16m 4s\tremaining: 7m 9s\n",
      "692:\tlearn: 0.1166408\ttotal: 16m 6s\tremaining: 7m 8s\n",
      "693:\tlearn: 0.1165949\ttotal: 16m 8s\tremaining: 7m 6s\n",
      "694:\tlearn: 0.1165590\ttotal: 16m 9s\tremaining: 7m 5s\n",
      "695:\tlearn: 0.1165206\ttotal: 16m 11s\tremaining: 7m 4s\n",
      "696:\tlearn: 0.1164674\ttotal: 16m 12s\tremaining: 7m 2s\n",
      "697:\tlearn: 0.1164280\ttotal: 16m 14s\tremaining: 7m 1s\n",
      "698:\tlearn: 0.1163941\ttotal: 16m 16s\tremaining: 7m\n",
      "699:\tlearn: 0.1163789\ttotal: 16m 18s\tremaining: 6m 59s\n",
      "700:\tlearn: 0.1163543\ttotal: 16m 19s\tremaining: 6m 57s\n",
      "701:\tlearn: 0.1162988\ttotal: 16m 21s\tremaining: 6m 56s\n",
      "702:\tlearn: 0.1162665\ttotal: 16m 22s\tremaining: 6m 55s\n",
      "703:\tlearn: 0.1162107\ttotal: 16m 23s\tremaining: 6m 53s\n",
      "704:\tlearn: 0.1161735\ttotal: 16m 25s\tremaining: 6m 52s\n",
      "705:\tlearn: 0.1161229\ttotal: 16m 26s\tremaining: 6m 51s\n",
      "706:\tlearn: 0.1161082\ttotal: 16m 28s\tremaining: 6m 49s\n",
      "707:\tlearn: 0.1160740\ttotal: 16m 29s\tremaining: 6m 48s\n",
      "708:\tlearn: 0.1160308\ttotal: 16m 31s\tremaining: 6m 46s\n",
      "709:\tlearn: 0.1160100\ttotal: 16m 32s\tremaining: 6m 45s\n",
      "710:\tlearn: 0.1159697\ttotal: 16m 33s\tremaining: 6m 43s\n",
      "711:\tlearn: 0.1159539\ttotal: 16m 35s\tremaining: 6m 42s\n",
      "712:\tlearn: 0.1159222\ttotal: 16m 36s\tremaining: 6m 41s\n",
      "713:\tlearn: 0.1158757\ttotal: 16m 37s\tremaining: 6m 39s\n",
      "714:\tlearn: 0.1158604\ttotal: 16m 39s\tremaining: 6m 38s\n",
      "715:\tlearn: 0.1158070\ttotal: 16m 40s\tremaining: 6m 36s\n",
      "716:\tlearn: 0.1157858\ttotal: 16m 42s\tremaining: 6m 35s\n",
      "717:\tlearn: 0.1157521\ttotal: 16m 43s\tremaining: 6m 34s\n",
      "718:\tlearn: 0.1156954\ttotal: 16m 44s\tremaining: 6m 32s\n",
      "719:\tlearn: 0.1156809\ttotal: 16m 46s\tremaining: 6m 31s\n",
      "720:\tlearn: 0.1156253\ttotal: 16m 47s\tremaining: 6m 29s\n",
      "721:\tlearn: 0.1155680\ttotal: 16m 49s\tremaining: 6m 28s\n",
      "722:\tlearn: 0.1155482\ttotal: 16m 50s\tremaining: 6m 27s\n",
      "723:\tlearn: 0.1154893\ttotal: 16m 51s\tremaining: 6m 25s\n",
      "724:\tlearn: 0.1154513\ttotal: 16m 53s\tremaining: 6m 24s\n",
      "725:\tlearn: 0.1153942\ttotal: 16m 54s\tremaining: 6m 22s\n",
      "726:\tlearn: 0.1153777\ttotal: 16m 55s\tremaining: 6m 21s\n",
      "727:\tlearn: 0.1153435\ttotal: 16m 57s\tremaining: 6m 20s\n",
      "728:\tlearn: 0.1153140\ttotal: 16m 58s\tremaining: 6m 18s\n",
      "729:\tlearn: 0.1152731\ttotal: 16m 59s\tremaining: 6m 17s\n",
      "730:\tlearn: 0.1151995\ttotal: 17m 1s\tremaining: 6m 15s\n",
      "731:\tlearn: 0.1151581\ttotal: 17m 2s\tremaining: 6m 14s\n",
      "732:\tlearn: 0.1151082\ttotal: 17m 4s\tremaining: 6m 13s\n",
      "733:\tlearn: 0.1150577\ttotal: 17m 5s\tremaining: 6m 11s\n",
      "734:\tlearn: 0.1150424\ttotal: 17m 6s\tremaining: 6m 10s\n",
      "735:\tlearn: 0.1150124\ttotal: 17m 8s\tremaining: 6m 8s\n",
      "736:\tlearn: 0.1149707\ttotal: 17m 9s\tremaining: 6m 7s\n",
      "737:\tlearn: 0.1149112\ttotal: 17m 10s\tremaining: 6m 5s\n",
      "738:\tlearn: 0.1148675\ttotal: 17m 12s\tremaining: 6m 4s\n",
      "739:\tlearn: 0.1148295\ttotal: 17m 13s\tremaining: 6m 3s\n",
      "740:\tlearn: 0.1147798\ttotal: 17m 14s\tremaining: 6m 1s\n",
      "741:\tlearn: 0.1147381\ttotal: 17m 16s\tremaining: 6m\n",
      "742:\tlearn: 0.1147240\ttotal: 17m 18s\tremaining: 5m 59s\n",
      "743:\tlearn: 0.1146716\ttotal: 17m 19s\tremaining: 5m 57s\n",
      "744:\tlearn: 0.1146231\ttotal: 17m 21s\tremaining: 5m 56s\n",
      "745:\tlearn: 0.1145813\ttotal: 17m 22s\tremaining: 5m 54s\n",
      "746:\tlearn: 0.1145419\ttotal: 17m 24s\tremaining: 5m 53s\n",
      "747:\tlearn: 0.1145192\ttotal: 17m 25s\tremaining: 5m 52s\n",
      "748:\tlearn: 0.1144730\ttotal: 17m 26s\tremaining: 5m 50s\n",
      "749:\tlearn: 0.1144584\ttotal: 17m 28s\tremaining: 5m 49s\n",
      "750:\tlearn: 0.1144174\ttotal: 17m 29s\tremaining: 5m 48s\n",
      "751:\tlearn: 0.1143874\ttotal: 17m 30s\tremaining: 5m 46s\n",
      "752:\tlearn: 0.1143489\ttotal: 17m 32s\tremaining: 5m 45s\n",
      "753:\tlearn: 0.1143351\ttotal: 17m 33s\tremaining: 5m 43s\n",
      "754:\tlearn: 0.1142964\ttotal: 17m 35s\tremaining: 5m 42s\n",
      "755:\tlearn: 0.1142553\ttotal: 17m 36s\tremaining: 5m 40s\n",
      "756:\tlearn: 0.1141403\ttotal: 17m 37s\tremaining: 5m 39s\n",
      "757:\tlearn: 0.1140952\ttotal: 17m 39s\tremaining: 5m 38s\n",
      "758:\tlearn: 0.1140640\ttotal: 17m 40s\tremaining: 5m 36s\n",
      "759:\tlearn: 0.1140240\ttotal: 17m 42s\tremaining: 5m 35s\n",
      "760:\tlearn: 0.1139782\ttotal: 17m 43s\tremaining: 5m 34s\n",
      "761:\tlearn: 0.1139413\ttotal: 17m 44s\tremaining: 5m 32s\n",
      "762:\tlearn: 0.1139067\ttotal: 17m 46s\tremaining: 5m 31s\n",
      "763:\tlearn: 0.1138577\ttotal: 17m 47s\tremaining: 5m 29s\n",
      "764:\tlearn: 0.1138179\ttotal: 17m 49s\tremaining: 5m 28s\n",
      "765:\tlearn: 0.1137807\ttotal: 17m 50s\tremaining: 5m 27s\n",
      "766:\tlearn: 0.1137427\ttotal: 17m 52s\tremaining: 5m 25s\n",
      "767:\tlearn: 0.1137152\ttotal: 17m 53s\tremaining: 5m 24s\n",
      "768:\tlearn: 0.1136767\ttotal: 17m 55s\tremaining: 5m 23s\n",
      "769:\tlearn: 0.1136563\ttotal: 17m 57s\tremaining: 5m 21s\n",
      "770:\tlearn: 0.1136119\ttotal: 17m 58s\tremaining: 5m 20s\n",
      "771:\tlearn: 0.1135399\ttotal: 17m 59s\tremaining: 5m 18s\n",
      "772:\tlearn: 0.1134778\ttotal: 18m 1s\tremaining: 5m 17s\n",
      "773:\tlearn: 0.1133965\ttotal: 18m 3s\tremaining: 5m 16s\n",
      "774:\tlearn: 0.1133633\ttotal: 18m 5s\tremaining: 5m 15s\n",
      "775:\tlearn: 0.1133388\ttotal: 18m 6s\tremaining: 5m 13s\n",
      "776:\tlearn: 0.1133074\ttotal: 18m 7s\tremaining: 5m 12s\n",
      "777:\tlearn: 0.1132652\ttotal: 18m 9s\tremaining: 5m 10s\n",
      "778:\tlearn: 0.1132286\ttotal: 18m 10s\tremaining: 5m 9s\n",
      "779:\tlearn: 0.1131840\ttotal: 18m 11s\tremaining: 5m 7s\n",
      "780:\tlearn: 0.1131701\ttotal: 18m 12s\tremaining: 5m 6s\n",
      "781:\tlearn: 0.1131145\ttotal: 18m 14s\tremaining: 5m 5s\n",
      "782:\tlearn: 0.1130774\ttotal: 18m 15s\tremaining: 5m 3s\n",
      "783:\tlearn: 0.1130488\ttotal: 18m 16s\tremaining: 5m 2s\n",
      "784:\tlearn: 0.1130039\ttotal: 18m 18s\tremaining: 5m\n",
      "785:\tlearn: 0.1129541\ttotal: 18m 19s\tremaining: 4m 59s\n",
      "786:\tlearn: 0.1129044\ttotal: 18m 20s\tremaining: 4m 57s\n",
      "787:\tlearn: 0.1128837\ttotal: 18m 21s\tremaining: 4m 56s\n",
      "788:\tlearn: 0.1128451\ttotal: 18m 22s\tremaining: 4m 54s\n",
      "789:\tlearn: 0.1128303\ttotal: 18m 24s\tremaining: 4m 53s\n",
      "790:\tlearn: 0.1127885\ttotal: 18m 25s\tremaining: 4m 52s\n",
      "791:\tlearn: 0.1127473\ttotal: 18m 27s\tremaining: 4m 50s\n",
      "792:\tlearn: 0.1127104\ttotal: 18m 28s\tremaining: 4m 49s\n",
      "793:\tlearn: 0.1126793\ttotal: 18m 29s\tremaining: 4m 47s\n",
      "794:\tlearn: 0.1126525\ttotal: 18m 30s\tremaining: 4m 46s\n",
      "795:\tlearn: 0.1126200\ttotal: 18m 32s\tremaining: 4m 45s\n",
      "796:\tlearn: 0.1125692\ttotal: 18m 33s\tremaining: 4m 43s\n",
      "797:\tlearn: 0.1125214\ttotal: 18m 34s\tremaining: 4m 42s\n",
      "798:\tlearn: 0.1124852\ttotal: 18m 35s\tremaining: 4m 40s\n",
      "799:\tlearn: 0.1124719\ttotal: 18m 37s\tremaining: 4m 39s\n",
      "800:\tlearn: 0.1124258\ttotal: 18m 38s\tremaining: 4m 37s\n",
      "801:\tlearn: 0.1124062\ttotal: 18m 39s\tremaining: 4m 36s\n",
      "802:\tlearn: 0.1123540\ttotal: 18m 41s\tremaining: 4m 35s\n",
      "803:\tlearn: 0.1123154\ttotal: 18m 42s\tremaining: 4m 33s\n",
      "804:\tlearn: 0.1122556\ttotal: 18m 43s\tremaining: 4m 32s\n",
      "805:\tlearn: 0.1122015\ttotal: 18m 44s\tremaining: 4m 30s\n",
      "806:\tlearn: 0.1121644\ttotal: 18m 46s\tremaining: 4m 29s\n",
      "807:\tlearn: 0.1121463\ttotal: 18m 47s\tremaining: 4m 27s\n",
      "808:\tlearn: 0.1121018\ttotal: 18m 48s\tremaining: 4m 26s\n",
      "809:\tlearn: 0.1120616\ttotal: 18m 50s\tremaining: 4m 25s\n",
      "810:\tlearn: 0.1120418\ttotal: 18m 51s\tremaining: 4m 23s\n",
      "811:\tlearn: 0.1120015\ttotal: 18m 52s\tremaining: 4m 22s\n",
      "812:\tlearn: 0.1119848\ttotal: 18m 53s\tremaining: 4m 20s\n",
      "813:\tlearn: 0.1119705\ttotal: 18m 55s\tremaining: 4m 19s\n",
      "814:\tlearn: 0.1119262\ttotal: 18m 56s\tremaining: 4m 17s\n",
      "815:\tlearn: 0.1118956\ttotal: 18m 57s\tremaining: 4m 16s\n",
      "816:\tlearn: 0.1118443\ttotal: 18m 58s\tremaining: 4m 15s\n",
      "817:\tlearn: 0.1118319\ttotal: 19m\tremaining: 4m 13s\n",
      "818:\tlearn: 0.1117918\ttotal: 19m 1s\tremaining: 4m 12s\n",
      "819:\tlearn: 0.1117616\ttotal: 19m 2s\tremaining: 4m 10s\n",
      "820:\tlearn: 0.1117096\ttotal: 19m 3s\tremaining: 4m 9s\n",
      "821:\tlearn: 0.1116718\ttotal: 19m 5s\tremaining: 4m 7s\n",
      "822:\tlearn: 0.1116343\ttotal: 19m 6s\tremaining: 4m 6s\n",
      "823:\tlearn: 0.1116012\ttotal: 19m 7s\tremaining: 4m 5s\n",
      "824:\tlearn: 0.1115518\ttotal: 19m 8s\tremaining: 4m 3s\n",
      "825:\tlearn: 0.1115049\ttotal: 19m 10s\tremaining: 4m 2s\n",
      "826:\tlearn: 0.1114690\ttotal: 19m 11s\tremaining: 4m\n",
      "827:\tlearn: 0.1114430\ttotal: 19m 12s\tremaining: 3m 59s\n",
      "828:\tlearn: 0.1114117\ttotal: 19m 13s\tremaining: 3m 58s\n",
      "829:\tlearn: 0.1113914\ttotal: 19m 15s\tremaining: 3m 56s\n",
      "830:\tlearn: 0.1113548\ttotal: 19m 17s\tremaining: 3m 55s\n",
      "831:\tlearn: 0.1113241\ttotal: 19m 19s\tremaining: 3m 54s\n",
      "832:\tlearn: 0.1113110\ttotal: 19m 20s\tremaining: 3m 52s\n",
      "833:\tlearn: 0.1112864\ttotal: 19m 21s\tremaining: 3m 51s\n",
      "834:\tlearn: 0.1112684\ttotal: 19m 23s\tremaining: 3m 49s\n",
      "835:\tlearn: 0.1112364\ttotal: 19m 25s\tremaining: 3m 48s\n",
      "836:\tlearn: 0.1111945\ttotal: 19m 27s\tremaining: 3m 47s\n",
      "837:\tlearn: 0.1111569\ttotal: 19m 28s\tremaining: 3m 45s\n",
      "838:\tlearn: 0.1111095\ttotal: 19m 30s\tremaining: 3m 44s\n",
      "839:\tlearn: 0.1110799\ttotal: 19m 31s\tremaining: 3m 43s\n",
      "840:\tlearn: 0.1110385\ttotal: 19m 32s\tremaining: 3m 41s\n",
      "841:\tlearn: 0.1110140\ttotal: 19m 34s\tremaining: 3m 40s\n",
      "842:\tlearn: 0.1109765\ttotal: 19m 35s\tremaining: 3m 38s\n",
      "843:\tlearn: 0.1109266\ttotal: 19m 37s\tremaining: 3m 37s\n",
      "844:\tlearn: 0.1108688\ttotal: 19m 38s\tremaining: 3m 36s\n",
      "845:\tlearn: 0.1108555\ttotal: 19m 40s\tremaining: 3m 34s\n",
      "846:\tlearn: 0.1108237\ttotal: 19m 42s\tremaining: 3m 33s\n",
      "847:\tlearn: 0.1107835\ttotal: 19m 43s\tremaining: 3m 32s\n",
      "848:\tlearn: 0.1107664\ttotal: 19m 44s\tremaining: 3m 30s\n",
      "849:\tlearn: 0.1107477\ttotal: 19m 45s\tremaining: 3m 29s\n",
      "850:\tlearn: 0.1107045\ttotal: 19m 47s\tremaining: 3m 27s\n",
      "851:\tlearn: 0.1106580\ttotal: 19m 48s\tremaining: 3m 26s\n",
      "852:\tlearn: 0.1106201\ttotal: 19m 49s\tremaining: 3m 25s\n",
      "853:\tlearn: 0.1105660\ttotal: 19m 50s\tremaining: 3m 23s\n",
      "854:\tlearn: 0.1105242\ttotal: 19m 52s\tremaining: 3m 22s\n",
      "855:\tlearn: 0.1104964\ttotal: 19m 53s\tremaining: 3m 20s\n",
      "856:\tlearn: 0.1104497\ttotal: 19m 54s\tremaining: 3m 19s\n",
      "857:\tlearn: 0.1104339\ttotal: 19m 56s\tremaining: 3m 17s\n",
      "858:\tlearn: 0.1104155\ttotal: 19m 57s\tremaining: 3m 16s\n",
      "859:\tlearn: 0.1103899\ttotal: 19m 58s\tremaining: 3m 15s\n",
      "860:\tlearn: 0.1103535\ttotal: 19m 59s\tremaining: 3m 13s\n",
      "861:\tlearn: 0.1103395\ttotal: 20m 1s\tremaining: 3m 12s\n",
      "862:\tlearn: 0.1103029\ttotal: 20m 2s\tremaining: 3m 10s\n",
      "863:\tlearn: 0.1102558\ttotal: 20m 3s\tremaining: 3m 9s\n",
      "864:\tlearn: 0.1102368\ttotal: 20m 4s\tremaining: 3m 8s\n",
      "865:\tlearn: 0.1101813\ttotal: 20m 6s\tremaining: 3m 6s\n",
      "866:\tlearn: 0.1101405\ttotal: 20m 7s\tremaining: 3m 5s\n",
      "867:\tlearn: 0.1101087\ttotal: 20m 8s\tremaining: 3m 3s\n",
      "868:\tlearn: 0.1100793\ttotal: 20m 9s\tremaining: 3m 2s\n",
      "869:\tlearn: 0.1100409\ttotal: 20m 11s\tremaining: 3m\n",
      "870:\tlearn: 0.1099875\ttotal: 20m 12s\tremaining: 2m 59s\n",
      "871:\tlearn: 0.1099635\ttotal: 20m 13s\tremaining: 2m 58s\n",
      "872:\tlearn: 0.1099316\ttotal: 20m 14s\tremaining: 2m 56s\n",
      "873:\tlearn: 0.1098910\ttotal: 20m 15s\tremaining: 2m 55s\n",
      "874:\tlearn: 0.1098791\ttotal: 20m 16s\tremaining: 2m 53s\n",
      "875:\tlearn: 0.1098495\ttotal: 20m 18s\tremaining: 2m 52s\n",
      "876:\tlearn: 0.1098370\ttotal: 20m 19s\tremaining: 2m 51s\n",
      "877:\tlearn: 0.1097957\ttotal: 20m 20s\tremaining: 2m 49s\n",
      "878:\tlearn: 0.1097790\ttotal: 20m 21s\tremaining: 2m 48s\n",
      "879:\tlearn: 0.1097423\ttotal: 20m 23s\tremaining: 2m 46s\n",
      "880:\tlearn: 0.1097281\ttotal: 20m 24s\tremaining: 2m 45s\n",
      "881:\tlearn: 0.1096792\ttotal: 20m 25s\tremaining: 2m 44s\n",
      "882:\tlearn: 0.1096621\ttotal: 20m 27s\tremaining: 2m 42s\n",
      "883:\tlearn: 0.1096292\ttotal: 20m 28s\tremaining: 2m 41s\n",
      "884:\tlearn: 0.1095927\ttotal: 20m 29s\tremaining: 2m 39s\n",
      "885:\tlearn: 0.1095633\ttotal: 20m 30s\tremaining: 2m 38s\n",
      "886:\tlearn: 0.1095300\ttotal: 20m 32s\tremaining: 2m 36s\n",
      "887:\tlearn: 0.1094932\ttotal: 20m 33s\tremaining: 2m 35s\n",
      "888:\tlearn: 0.1094664\ttotal: 20m 34s\tremaining: 2m 34s\n",
      "889:\tlearn: 0.1094347\ttotal: 20m 36s\tremaining: 2m 32s\n",
      "890:\tlearn: 0.1094080\ttotal: 20m 37s\tremaining: 2m 31s\n",
      "891:\tlearn: 0.1093613\ttotal: 20m 38s\tremaining: 2m 30s\n",
      "892:\tlearn: 0.1093483\ttotal: 20m 40s\tremaining: 2m 28s\n",
      "893:\tlearn: 0.1093320\ttotal: 20m 41s\tremaining: 2m 27s\n",
      "894:\tlearn: 0.1092941\ttotal: 20m 42s\tremaining: 2m 25s\n",
      "895:\tlearn: 0.1092561\ttotal: 20m 44s\tremaining: 2m 24s\n",
      "896:\tlearn: 0.1092280\ttotal: 20m 45s\tremaining: 2m 23s\n",
      "897:\tlearn: 0.1091884\ttotal: 20m 46s\tremaining: 2m 21s\n",
      "898:\tlearn: 0.1091668\ttotal: 20m 47s\tremaining: 2m 20s\n",
      "899:\tlearn: 0.1091324\ttotal: 20m 49s\tremaining: 2m 18s\n",
      "900:\tlearn: 0.1090979\ttotal: 20m 50s\tremaining: 2m 17s\n",
      "901:\tlearn: 0.1090685\ttotal: 20m 51s\tremaining: 2m 16s\n",
      "902:\tlearn: 0.1090289\ttotal: 20m 53s\tremaining: 2m 14s\n",
      "903:\tlearn: 0.1090149\ttotal: 20m 54s\tremaining: 2m 13s\n",
      "904:\tlearn: 0.1089791\ttotal: 20m 56s\tremaining: 2m 11s\n",
      "905:\tlearn: 0.1089532\ttotal: 20m 57s\tremaining: 2m 10s\n",
      "906:\tlearn: 0.1089204\ttotal: 20m 58s\tremaining: 2m 9s\n",
      "907:\tlearn: 0.1088844\ttotal: 21m\tremaining: 2m 7s\n",
      "908:\tlearn: 0.1088204\ttotal: 21m 1s\tremaining: 2m 6s\n",
      "909:\tlearn: 0.1087979\ttotal: 21m 2s\tremaining: 2m 4s\n",
      "910:\tlearn: 0.1087665\ttotal: 21m 3s\tremaining: 2m 3s\n",
      "911:\tlearn: 0.1087227\ttotal: 21m 5s\tremaining: 2m 2s\n",
      "912:\tlearn: 0.1086858\ttotal: 21m 6s\tremaining: 2m\n",
      "913:\tlearn: 0.1086744\ttotal: 21m 7s\tremaining: 1m 59s\n",
      "914:\tlearn: 0.1086517\ttotal: 21m 8s\tremaining: 1m 57s\n",
      "915:\tlearn: 0.1086079\ttotal: 21m 10s\tremaining: 1m 56s\n",
      "916:\tlearn: 0.1085710\ttotal: 21m 11s\tremaining: 1m 55s\n",
      "917:\tlearn: 0.1085386\ttotal: 21m 12s\tremaining: 1m 53s\n",
      "918:\tlearn: 0.1085219\ttotal: 21m 13s\tremaining: 1m 52s\n",
      "919:\tlearn: 0.1084854\ttotal: 21m 15s\tremaining: 1m 50s\n",
      "920:\tlearn: 0.1084531\ttotal: 21m 16s\tremaining: 1m 49s\n",
      "921:\tlearn: 0.1084355\ttotal: 21m 17s\tremaining: 1m 48s\n",
      "922:\tlearn: 0.1083814\ttotal: 21m 18s\tremaining: 1m 46s\n",
      "923:\tlearn: 0.1083415\ttotal: 21m 20s\tremaining: 1m 45s\n",
      "924:\tlearn: 0.1083171\ttotal: 21m 21s\tremaining: 1m 43s\n",
      "925:\tlearn: 0.1083044\ttotal: 21m 22s\tremaining: 1m 42s\n",
      "926:\tlearn: 0.1082767\ttotal: 21m 23s\tremaining: 1m 41s\n",
      "927:\tlearn: 0.1082419\ttotal: 21m 25s\tremaining: 1m 39s\n",
      "928:\tlearn: 0.1081886\ttotal: 21m 26s\tremaining: 1m 38s\n",
      "929:\tlearn: 0.1081688\ttotal: 21m 28s\tremaining: 1m 36s\n",
      "930:\tlearn: 0.1081407\ttotal: 21m 30s\tremaining: 1m 35s\n",
      "931:\tlearn: 0.1081233\ttotal: 21m 32s\tremaining: 1m 34s\n",
      "932:\tlearn: 0.1080996\ttotal: 21m 33s\tremaining: 1m 32s\n",
      "933:\tlearn: 0.1080887\ttotal: 21m 34s\tremaining: 1m 31s\n",
      "934:\tlearn: 0.1080541\ttotal: 21m 36s\tremaining: 1m 30s\n",
      "935:\tlearn: 0.1080184\ttotal: 21m 37s\tremaining: 1m 28s\n",
      "936:\tlearn: 0.1079968\ttotal: 21m 39s\tremaining: 1m 27s\n",
      "937:\tlearn: 0.1079640\ttotal: 21m 40s\tremaining: 1m 25s\n",
      "938:\tlearn: 0.1079050\ttotal: 21m 41s\tremaining: 1m 24s\n",
      "939:\tlearn: 0.1078875\ttotal: 21m 43s\tremaining: 1m 23s\n",
      "940:\tlearn: 0.1078580\ttotal: 21m 44s\tremaining: 1m 21s\n",
      "941:\tlearn: 0.1078105\ttotal: 21m 46s\tremaining: 1m 20s\n",
      "942:\tlearn: 0.1078007\ttotal: 21m 47s\tremaining: 1m 19s\n",
      "943:\tlearn: 0.1077910\ttotal: 21m 48s\tremaining: 1m 17s\n",
      "944:\tlearn: 0.1077438\ttotal: 21m 50s\tremaining: 1m 16s\n",
      "945:\tlearn: 0.1077200\ttotal: 21m 51s\tremaining: 1m 14s\n",
      "946:\tlearn: 0.1076684\ttotal: 21m 53s\tremaining: 1m 13s\n",
      "947:\tlearn: 0.1076568\ttotal: 21m 54s\tremaining: 1m 12s\n",
      "948:\tlearn: 0.1076379\ttotal: 21m 55s\tremaining: 1m 10s\n",
      "949:\tlearn: 0.1075967\ttotal: 21m 57s\tremaining: 1m 9s\n",
      "950:\tlearn: 0.1075689\ttotal: 21m 58s\tremaining: 1m 7s\n",
      "951:\tlearn: 0.1075538\ttotal: 21m 59s\tremaining: 1m 6s\n",
      "952:\tlearn: 0.1075301\ttotal: 22m 1s\tremaining: 1m 5s\n",
      "953:\tlearn: 0.1075205\ttotal: 22m 2s\tremaining: 1m 3s\n",
      "954:\tlearn: 0.1075039\ttotal: 22m 3s\tremaining: 1m 2s\n",
      "955:\tlearn: 0.1074751\ttotal: 22m 5s\tremaining: 1m\n",
      "956:\tlearn: 0.1074586\ttotal: 22m 6s\tremaining: 59.6s\n",
      "957:\tlearn: 0.1074293\ttotal: 22m 7s\tremaining: 58.2s\n",
      "958:\tlearn: 0.1073921\ttotal: 22m 9s\tremaining: 56.8s\n",
      "959:\tlearn: 0.1073689\ttotal: 22m 10s\tremaining: 55.4s\n",
      "960:\tlearn: 0.1073234\ttotal: 22m 11s\tremaining: 54.1s\n",
      "961:\tlearn: 0.1073147\ttotal: 22m 13s\tremaining: 52.7s\n",
      "962:\tlearn: 0.1072615\ttotal: 22m 14s\tremaining: 51.3s\n",
      "963:\tlearn: 0.1072169\ttotal: 22m 16s\tremaining: 49.9s\n",
      "964:\tlearn: 0.1071883\ttotal: 22m 17s\tremaining: 48.5s\n",
      "965:\tlearn: 0.1071793\ttotal: 22m 18s\tremaining: 47.1s\n",
      "966:\tlearn: 0.1071514\ttotal: 22m 20s\tremaining: 45.7s\n",
      "967:\tlearn: 0.1071251\ttotal: 22m 21s\tremaining: 44.3s\n",
      "968:\tlearn: 0.1070857\ttotal: 22m 22s\tremaining: 43s\n",
      "969:\tlearn: 0.1070621\ttotal: 22m 24s\tremaining: 41.6s\n",
      "970:\tlearn: 0.1070299\ttotal: 22m 25s\tremaining: 40.2s\n",
      "971:\tlearn: 0.1069962\ttotal: 22m 27s\tremaining: 38.8s\n",
      "972:\tlearn: 0.1069565\ttotal: 22m 28s\tremaining: 37.4s\n",
      "973:\tlearn: 0.1069413\ttotal: 22m 29s\tremaining: 36s\n",
      "974:\tlearn: 0.1069170\ttotal: 22m 31s\tremaining: 34.6s\n",
      "975:\tlearn: 0.1068850\ttotal: 22m 32s\tremaining: 33.3s\n",
      "976:\tlearn: 0.1068450\ttotal: 22m 33s\tremaining: 31.9s\n",
      "977:\tlearn: 0.1068356\ttotal: 22m 35s\tremaining: 30.5s\n",
      "978:\tlearn: 0.1067806\ttotal: 22m 36s\tremaining: 29.1s\n",
      "979:\tlearn: 0.1067049\ttotal: 22m 37s\tremaining: 27.7s\n",
      "980:\tlearn: 0.1066772\ttotal: 22m 39s\tremaining: 26.3s\n",
      "981:\tlearn: 0.1066473\ttotal: 22m 40s\tremaining: 24.9s\n",
      "982:\tlearn: 0.1066095\ttotal: 22m 42s\tremaining: 23.6s\n",
      "983:\tlearn: 0.1065981\ttotal: 22m 43s\tremaining: 22.2s\n",
      "984:\tlearn: 0.1065507\ttotal: 22m 45s\tremaining: 20.8s\n",
      "985:\tlearn: 0.1065310\ttotal: 22m 46s\tremaining: 19.4s\n",
      "986:\tlearn: 0.1065159\ttotal: 22m 48s\tremaining: 18s\n",
      "987:\tlearn: 0.1064781\ttotal: 22m 49s\tremaining: 16.6s\n",
      "988:\tlearn: 0.1064475\ttotal: 22m 50s\tremaining: 15.2s\n",
      "989:\tlearn: 0.1064179\ttotal: 22m 52s\tremaining: 13.9s\n",
      "990:\tlearn: 0.1064045\ttotal: 22m 53s\tremaining: 12.5s\n",
      "991:\tlearn: 0.1063706\ttotal: 22m 54s\tremaining: 11.1s\n",
      "992:\tlearn: 0.1063104\ttotal: 22m 55s\tremaining: 9.7s\n",
      "993:\tlearn: 0.1062879\ttotal: 22m 57s\tremaining: 8.31s\n",
      "994:\tlearn: 0.1062591\ttotal: 22m 58s\tremaining: 6.93s\n",
      "995:\tlearn: 0.1062374\ttotal: 22m 59s\tremaining: 5.54s\n",
      "996:\tlearn: 0.1061975\ttotal: 23m\tremaining: 4.15s\n",
      "997:\tlearn: 0.1061502\ttotal: 23m 2s\tremaining: 2.77s\n",
      "998:\tlearn: 0.1061412\ttotal: 23m 3s\tremaining: 1.38s\n",
      "999:\tlearn: 0.1061137\ttotal: 23m 4s\tremaining: 0us\n",
      "Wall time: 23min 8s\n"
     ]
    },
    {
     "data": {
      "text/plain": [
       "<catboost.core.CatBoostClassifier at 0x21ee94986d0>"
      ]
     },
     "execution_count": 28,
     "metadata": {},
     "output_type": "execute_result"
    }
   ],
   "source": [
    "%%time\n",
    "cbc.fit(X_train_tf_idf, y_train)"
   ]
  },
  {
   "cell_type": "code",
   "execution_count": 29,
   "metadata": {},
   "outputs": [],
   "source": [
    "pred_cbc_train = cbc.predict(X_train_tf_idf)"
   ]
  },
  {
   "cell_type": "code",
   "execution_count": 30,
   "metadata": {},
   "outputs": [
    {
     "data": {
      "text/plain": [
       "0.8014934171742975"
      ]
     },
     "execution_count": 30,
     "metadata": {},
     "output_type": "execute_result"
    }
   ],
   "source": [
    "f1_score(y_train, pred_cbc_train)"
   ]
  },
  {
   "cell_type": "markdown",
   "metadata": {},
   "source": [
    "#### Метрика качества F1 для CatBoostClassifier на обучающей выборке равна 0.801."
   ]
  },
  {
   "cell_type": "markdown",
   "metadata": {},
   "source": [
    "Так как полученная разница метрики F1 для разных моделей не велика, проведем тестирование для всех трех моделей."
   ]
  },
  {
   "cell_type": "markdown",
   "metadata": {},
   "source": [
    "### Тестирование"
   ]
  },
  {
   "cell_type": "markdown",
   "metadata": {},
   "source": [
    "#### Логистическая регрессия"
   ]
  },
  {
   "cell_type": "code",
   "execution_count": 31,
   "metadata": {},
   "outputs": [],
   "source": [
    "pred_lr = model_lr.predict(X_test_tf_idf)"
   ]
  },
  {
   "cell_type": "code",
   "execution_count": 32,
   "metadata": {},
   "outputs": [
    {
     "data": {
      "text/plain": [
       "0.7606581899775617"
      ]
     },
     "execution_count": 32,
     "metadata": {},
     "output_type": "execute_result"
    }
   ],
   "source": [
    "f1_score(y_test, pred_lr)"
   ]
  },
  {
   "cell_type": "markdown",
   "metadata": {},
   "source": [
    "#### Модель LightGBM"
   ]
  },
  {
   "cell_type": "code",
   "execution_count": 33,
   "metadata": {},
   "outputs": [],
   "source": [
    "pred_lgbm = model_lgbm.predict(X_test_tf_idf)"
   ]
  },
  {
   "cell_type": "code",
   "execution_count": 34,
   "metadata": {},
   "outputs": [
    {
     "data": {
      "text/plain": [
       "0.7510265024262784"
      ]
     },
     "execution_count": 34,
     "metadata": {},
     "output_type": "execute_result"
    }
   ],
   "source": [
    "f1_score(y_test, pred_lgbm)"
   ]
  },
  {
   "cell_type": "markdown",
   "metadata": {},
   "source": [
    "#### Модель CatBoostClassifier"
   ]
  },
  {
   "cell_type": "code",
   "execution_count": 35,
   "metadata": {},
   "outputs": [],
   "source": [
    "pred_cbc = cbc.predict(X_test_tf_idf)"
   ]
  },
  {
   "cell_type": "code",
   "execution_count": 36,
   "metadata": {
    "scrolled": true
   },
   "outputs": [
    {
     "data": {
      "text/plain": [
       "0.7677585572322414"
      ]
     },
     "execution_count": 36,
     "metadata": {},
     "output_type": "execute_result"
    }
   ],
   "source": [
    "f1_score(y_test, pred_cbc)"
   ]
  },
  {
   "cell_type": "markdown",
   "metadata": {},
   "source": [
    "# 3. Выводы"
   ]
  },
  {
   "cell_type": "markdown",
   "metadata": {},
   "source": [
    "Для возможности решения задачи классификации комментариев как токсичных, тексты были очищены от лишних символов. Для каждого текста рассчитано TF-IDF.  \n",
    "Проведено обучение и тестирование трех моделей: логистической регрессии, LightGBM, CatBoostClassifier.  \n",
    "#### Лучший результат на тестировании показала модель CatBoostClassifier, метрика F1 равна 0.767. Второй по качеству стала модель логистической регресии, F1 равно 0.76.  \n",
    "#### При этом время обучения модели логистической регресии меньше.  \n",
    "#### Модели логистической регрессии и CatBoostClassifier, могут быть использованы для определения токсичности текстов. При этом, если важно время обучения, то предпочтительней использовать логистическую регрессию."
   ]
  }
 ],
 "metadata": {
  "kernelspec": {
   "display_name": "Python 3",
   "language": "python",
   "name": "python3"
  },
  "language_info": {
   "codemirror_mode": {
    "name": "ipython",
    "version": 3
   },
   "file_extension": ".py",
   "mimetype": "text/x-python",
   "name": "python",
   "nbconvert_exporter": "python",
   "pygments_lexer": "ipython3",
   "version": "3.7.7"
  }
 },
 "nbformat": 4,
 "nbformat_minor": 4
}
