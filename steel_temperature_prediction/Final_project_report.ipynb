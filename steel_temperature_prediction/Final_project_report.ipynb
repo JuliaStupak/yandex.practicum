{
 "cells": [
  {
   "cell_type": "markdown",
   "metadata": {},
   "source": [
    "# Описание проекта "
   ]
  },
  {
   "cell_type": "markdown",
   "metadata": {},
   "source": [
    "Чтобы оптимизировать производственные расходы, металлургический комбинат ООО «Так закаляем сталь» решил уменьшить \n",
    "потребление электроэнергии на этапе обработки стали. Вам предстоит построить модель, которая предскажет температуру стали.\n",
    "\n",
    "### Описание этапа обработки\n",
    "\n",
    "Сталь обрабатывают в металлическом ковше вместимостью около 100 тонн. Чтобы ковш выдерживал высокие температуры, \n",
    "изнутри его облицовывают огнеупорным кирпичом. Расплавленную сталь заливают в ковш и подогревают до нужной температуры \n",
    "графитовыми электродами. Они установлены в крышке ковша. \n",
    "\n",
    "Из сплава выводится сера (десульфурация), добавлением примесей корректируется химический состав и отбираются пробы. \n",
    "Сталь легируют — изменяют её состав — подавая куски сплава из бункера для сыпучих материалов или проволоку через \n",
    "специальный трайб-аппарат (англ. tribe, «масса»).\n",
    "\n",
    "Перед тем как первый раз ввести легирующие добавки, измеряют температуру стали и производят её химический анализ. \n",
    "Потом температуру на несколько минут повышают, добавляют легирующие материалы и продувают сплав инертным газом. \n",
    "Затем его перемешивают и снова проводят измерения. Такой цикл повторяется до достижения целевого химического состава и \n",
    "оптимальной температуры плавки.\n",
    "\n",
    "Тогда расплавленная сталь отправляется на доводку металла или поступает в машину непрерывной разливки. \n",
    "Оттуда готовый продукт выходит в виде заготовок-слябов (англ. *slab*, «плита»).\n",
    "\n",
    "### Описание данных\n",
    "\n",
    "Данные состоят из файлов, полученных из разных источников:\n",
    "\n",
    "- `data_arc.csv` — данные об электродах;\n",
    "- `data_bulk.csv` — данные о подаче сыпучих материалов (объём);\n",
    "- `data_bulk_time.csv` *—* данные о подаче сыпучих материалов (время);\n",
    "- `data_gas.csv` — данные о продувке сплава газом;\n",
    "- `data_temp.csv` — результаты измерения температуры;\n",
    "- `data_wire.csv` — данные о проволочных материалах (объём);\n",
    "- `data_wire_time.csv` — данные о проволочных материалах (время).\n",
    "\n",
    "Во всех файлах столбец `key` содержит номер партии. В файлах может быть несколько строк с одинаковым значением `key`: они соответствуют разным итерациям обработки."
   ]
  },
  {
   "cell_type": "markdown",
   "metadata": {},
   "source": [
    "<h1>План работы:</h1>\n",
    "<ol>\n",
    " <li>Исследовательский и статистичский анализ данных, обработка null-значений. <b>Дедлайн</b> - 03.10.20.</li>\n",
    " <li>Подготовка данных к обучению модели (масштабирование признаков, разбиение датасета на обучающую и тестовую выборки). <b>Дедлайн</b> - 04.10.20</li>\n",
    " <li>Обучение нескольких моделей, выбор наилучшей.  <b>Дедлайн</b> - 07.10.20</li>\n",
    " <li>Тестирование модели и проверка на адекватность. <b>Дедлайн</b> - 07.10.20</li>\n",
    " <li>Подготовка отчета. <b>Дедлайн</b> - 08.10.20</li>\n",
    "</ol>"
   ]
  },
  {
   "cell_type": "markdown",
   "metadata": {},
   "source": [
    "<h2>Вопросы:</h2>\n",
    "<ol>\n",
    "    <li>Правильно ли я понимаю, что задача оптимизации производственного процесса состоит в том, чтобы за наименьшее количество итераций достигнуть необходимой температуры и целевого химического состава?</li>\n",
    "    <li>Почему задача стоит как сокращение электроэнергии, а целевой показатель температура? А не объем сыпучих материалов или мощность нагрева?</li>\n",
    "    <li>Какую температуру должна предстказывать модель: финальную или на каждой итерации?</li>\n",
    "    <li>В таблице с данными об измерениях температуры есть пустые значения: замеры не были получены или это означает, что температура не изменилась?</li>\n",
    "    <li>Есть ли шаблон отчета?</li>\n",
    "</ol>"
   ]
  },
  {
   "cell_type": "markdown",
   "metadata": {},
   "source": [
    "## Загрузка данных"
   ]
  },
  {
   "cell_type": "code",
   "execution_count": 1,
   "metadata": {},
   "outputs": [],
   "source": [
    "import pandas as pd\n",
    "import numpy as np"
   ]
  },
  {
   "cell_type": "code",
   "execution_count": 2,
   "metadata": {},
   "outputs": [],
   "source": [
    "import matplotlib as mpl\n",
    "import matplotlib.pyplot as plt\n",
    "import seaborn as sns"
   ]
  },
  {
   "cell_type": "code",
   "execution_count": 3,
   "metadata": {},
   "outputs": [],
   "source": [
    "data_arc = pd.read_csv('C:/Users/Димачка-хороший/Documents/Юля/Яндекс.Практикум/final_steel/data_arc.csv', parse_dates=[1, 2])\n",
    "data_bulk = pd.read_csv('C:/Users/Димачка-хороший/Documents/Юля/Яндекс.Практикум/final_steel/data_bulk.csv')\n",
    "data_bulk_time = pd.read_csv('C:/Users/Димачка-хороший/Documents/Юля/Яндекс.Практикум/final_steel/data_bulk_time.csv', \n",
    "                             parse_dates=[1, 2, 3, 4, 5, 6, 7, 8, 9, 10, 11, 12, 13, 14, 15])\n",
    "data_gas = pd.read_csv('C:/Users/Димачка-хороший/Documents/Юля/Яндекс.Практикум/final_steel/data_gas.csv')\n",
    "data_temp = pd.read_csv('C:/Users/Димачка-хороший/Documents/Юля/Яндекс.Практикум/final_steel/data_temp.csv', parse_dates=[1])\n",
    "data_wire = pd.read_csv('C:/Users/Димачка-хороший/Documents/Юля/Яндекс.Практикум/final_steel/data_wire.csv')\n",
    "data_wire_time = pd.read_csv('C:/Users/Димачка-хороший/Documents/Юля/Яндекс.Практикум/final_steel/data_wire_time.csv', \n",
    "                             parse_dates=[1, 2, 3, 4, 5, 6, 7, 8, 9])"
   ]
  },
  {
   "cell_type": "markdown",
   "metadata": {},
   "source": [
    "### Первичный анализ данных"
   ]
  },
  {
   "cell_type": "markdown",
   "metadata": {},
   "source": [
    "*Данные об электродах*"
   ]
  },
  {
   "cell_type": "code",
   "execution_count": 4,
   "metadata": {},
   "outputs": [
    {
     "name": "stdout",
     "output_type": "stream",
     "text": [
      "<class 'pandas.core.frame.DataFrame'>\n",
      "RangeIndex: 14876 entries, 0 to 14875\n",
      "Data columns (total 5 columns):\n",
      " #   Column                Non-Null Count  Dtype         \n",
      "---  ------                --------------  -----         \n",
      " 0   key                   14876 non-null  int64         \n",
      " 1   Начало нагрева дугой  14876 non-null  datetime64[ns]\n",
      " 2   Конец нагрева дугой   14876 non-null  datetime64[ns]\n",
      " 3   Активная мощность     14876 non-null  float64       \n",
      " 4   Реактивная мощность   14876 non-null  float64       \n",
      "dtypes: datetime64[ns](2), float64(2), int64(1)\n",
      "memory usage: 581.2 KB\n"
     ]
    }
   ],
   "source": [
    "data_arc.info()"
   ]
  },
  {
   "cell_type": "code",
   "execution_count": 5,
   "metadata": {},
   "outputs": [
    {
     "data": {
      "text/html": [
       "<div>\n",
       "<style scoped>\n",
       "    .dataframe tbody tr th:only-of-type {\n",
       "        vertical-align: middle;\n",
       "    }\n",
       "\n",
       "    .dataframe tbody tr th {\n",
       "        vertical-align: top;\n",
       "    }\n",
       "\n",
       "    .dataframe thead th {\n",
       "        text-align: right;\n",
       "    }\n",
       "</style>\n",
       "<table border=\"1\" class=\"dataframe\">\n",
       "  <thead>\n",
       "    <tr style=\"text-align: right;\">\n",
       "      <th></th>\n",
       "      <th>key</th>\n",
       "      <th>Начало нагрева дугой</th>\n",
       "      <th>Конец нагрева дугой</th>\n",
       "      <th>Активная мощность</th>\n",
       "      <th>Реактивная мощность</th>\n",
       "    </tr>\n",
       "  </thead>\n",
       "  <tbody>\n",
       "    <tr>\n",
       "      <th>0</th>\n",
       "      <td>1</td>\n",
       "      <td>2019-05-03 11:02:14</td>\n",
       "      <td>2019-05-03 11:06:02</td>\n",
       "      <td>0.976059</td>\n",
       "      <td>0.687084</td>\n",
       "    </tr>\n",
       "    <tr>\n",
       "      <th>1</th>\n",
       "      <td>1</td>\n",
       "      <td>2019-05-03 11:07:28</td>\n",
       "      <td>2019-05-03 11:10:33</td>\n",
       "      <td>0.805607</td>\n",
       "      <td>0.520285</td>\n",
       "    </tr>\n",
       "    <tr>\n",
       "      <th>2</th>\n",
       "      <td>1</td>\n",
       "      <td>2019-05-03 11:11:44</td>\n",
       "      <td>2019-05-03 11:14:36</td>\n",
       "      <td>0.744363</td>\n",
       "      <td>0.498805</td>\n",
       "    </tr>\n",
       "    <tr>\n",
       "      <th>3</th>\n",
       "      <td>1</td>\n",
       "      <td>2019-05-03 11:18:14</td>\n",
       "      <td>2019-05-03 11:24:19</td>\n",
       "      <td>1.659363</td>\n",
       "      <td>1.062669</td>\n",
       "    </tr>\n",
       "    <tr>\n",
       "      <th>4</th>\n",
       "      <td>1</td>\n",
       "      <td>2019-05-03 11:26:09</td>\n",
       "      <td>2019-05-03 11:28:37</td>\n",
       "      <td>0.692755</td>\n",
       "      <td>0.414397</td>\n",
       "    </tr>\n",
       "    <tr>\n",
       "      <th>5</th>\n",
       "      <td>2</td>\n",
       "      <td>2019-05-03 11:34:14</td>\n",
       "      <td>2019-05-03 11:36:31</td>\n",
       "      <td>0.438063</td>\n",
       "      <td>0.283043</td>\n",
       "    </tr>\n",
       "    <tr>\n",
       "      <th>6</th>\n",
       "      <td>2</td>\n",
       "      <td>2019-05-03 11:38:50</td>\n",
       "      <td>2019-05-03 11:44:28</td>\n",
       "      <td>1.296415</td>\n",
       "      <td>0.892914</td>\n",
       "    </tr>\n",
       "    <tr>\n",
       "      <th>7</th>\n",
       "      <td>2</td>\n",
       "      <td>2019-05-03 11:46:19</td>\n",
       "      <td>2019-05-03 11:48:25</td>\n",
       "      <td>0.490377</td>\n",
       "      <td>0.305281</td>\n",
       "    </tr>\n",
       "    <tr>\n",
       "      <th>8</th>\n",
       "      <td>2</td>\n",
       "      <td>2019-05-03 11:49:48</td>\n",
       "      <td>2019-05-03 11:53:18</td>\n",
       "      <td>0.827743</td>\n",
       "      <td>0.516874</td>\n",
       "    </tr>\n",
       "    <tr>\n",
       "      <th>9</th>\n",
       "      <td>3</td>\n",
       "      <td>2019-05-03 12:06:54</td>\n",
       "      <td>2019-05-03 12:11:34</td>\n",
       "      <td>1.062053</td>\n",
       "      <td>0.671494</td>\n",
       "    </tr>\n",
       "  </tbody>\n",
       "</table>\n",
       "</div>"
      ],
      "text/plain": [
       "   key Начало нагрева дугой Конец нагрева дугой  Активная мощность  \\\n",
       "0    1  2019-05-03 11:02:14 2019-05-03 11:06:02           0.976059   \n",
       "1    1  2019-05-03 11:07:28 2019-05-03 11:10:33           0.805607   \n",
       "2    1  2019-05-03 11:11:44 2019-05-03 11:14:36           0.744363   \n",
       "3    1  2019-05-03 11:18:14 2019-05-03 11:24:19           1.659363   \n",
       "4    1  2019-05-03 11:26:09 2019-05-03 11:28:37           0.692755   \n",
       "5    2  2019-05-03 11:34:14 2019-05-03 11:36:31           0.438063   \n",
       "6    2  2019-05-03 11:38:50 2019-05-03 11:44:28           1.296415   \n",
       "7    2  2019-05-03 11:46:19 2019-05-03 11:48:25           0.490377   \n",
       "8    2  2019-05-03 11:49:48 2019-05-03 11:53:18           0.827743   \n",
       "9    3  2019-05-03 12:06:54 2019-05-03 12:11:34           1.062053   \n",
       "\n",
       "   Реактивная мощность  \n",
       "0             0.687084  \n",
       "1             0.520285  \n",
       "2             0.498805  \n",
       "3             1.062669  \n",
       "4             0.414397  \n",
       "5             0.283043  \n",
       "6             0.892914  \n",
       "7             0.305281  \n",
       "8             0.516874  \n",
       "9             0.671494  "
      ]
     },
     "execution_count": 5,
     "metadata": {},
     "output_type": "execute_result"
    }
   ],
   "source": [
    "data_arc.head(10)"
   ]
  },
  {
   "cell_type": "markdown",
   "metadata": {},
   "source": [
    "Переименуем столбцы в названия с латинскими буквами."
   ]
  },
  {
   "cell_type": "code",
   "execution_count": 6,
   "metadata": {},
   "outputs": [],
   "source": [
    "data_arc.columns = ['key', 'arc_heating_start', 'arc_heating_stop',\n",
    "       'active_power', 'reactive_power']"
   ]
  },
  {
   "cell_type": "code",
   "execution_count": 7,
   "metadata": {},
   "outputs": [
    {
     "name": "stdout",
     "output_type": "stream",
     "text": [
      "<class 'pandas.core.frame.DataFrame'>\n",
      "RangeIndex: 14876 entries, 0 to 14875\n",
      "Data columns (total 5 columns):\n",
      " #   Column             Non-Null Count  Dtype         \n",
      "---  ------             --------------  -----         \n",
      " 0   key                14876 non-null  int64         \n",
      " 1   arc_heating_start  14876 non-null  datetime64[ns]\n",
      " 2   arc_heating_stop   14876 non-null  datetime64[ns]\n",
      " 3   active_power       14876 non-null  float64       \n",
      " 4   reactive_power     14876 non-null  float64       \n",
      "dtypes: datetime64[ns](2), float64(2), int64(1)\n",
      "memory usage: 581.2 KB\n"
     ]
    }
   ],
   "source": [
    "data_arc.info()"
   ]
  },
  {
   "cell_type": "code",
   "execution_count": 8,
   "metadata": {},
   "outputs": [
    {
     "data": {
      "text/plain": [
       "3214"
      ]
     },
     "execution_count": 8,
     "metadata": {},
     "output_type": "execute_result"
    }
   ],
   "source": [
    "len(data_arc['key'].unique())"
   ]
  },
  {
   "cell_type": "markdown",
   "metadata": {},
   "source": [
    "*Данные о подаче сыпучих материалов (объём)*"
   ]
  },
  {
   "cell_type": "code",
   "execution_count": 9,
   "metadata": {},
   "outputs": [
    {
     "name": "stdout",
     "output_type": "stream",
     "text": [
      "<class 'pandas.core.frame.DataFrame'>\n",
      "RangeIndex: 3129 entries, 0 to 3128\n",
      "Data columns (total 16 columns):\n",
      " #   Column   Non-Null Count  Dtype  \n",
      "---  ------   --------------  -----  \n",
      " 0   key      3129 non-null   int64  \n",
      " 1   Bulk 1   252 non-null    float64\n",
      " 2   Bulk 2   22 non-null     float64\n",
      " 3   Bulk 3   1298 non-null   float64\n",
      " 4   Bulk 4   1014 non-null   float64\n",
      " 5   Bulk 5   77 non-null     float64\n",
      " 6   Bulk 6   576 non-null    float64\n",
      " 7   Bulk 7   25 non-null     float64\n",
      " 8   Bulk 8   1 non-null      float64\n",
      " 9   Bulk 9   19 non-null     float64\n",
      " 10  Bulk 10  176 non-null    float64\n",
      " 11  Bulk 11  177 non-null    float64\n",
      " 12  Bulk 12  2450 non-null   float64\n",
      " 13  Bulk 13  18 non-null     float64\n",
      " 14  Bulk 14  2806 non-null   float64\n",
      " 15  Bulk 15  2248 non-null   float64\n",
      "dtypes: float64(15), int64(1)\n",
      "memory usage: 391.2 KB\n"
     ]
    }
   ],
   "source": [
    "data_bulk.info()"
   ]
  },
  {
   "cell_type": "code",
   "execution_count": 10,
   "metadata": {
    "scrolled": true
   },
   "outputs": [
    {
     "data": {
      "text/html": [
       "<div>\n",
       "<style scoped>\n",
       "    .dataframe tbody tr th:only-of-type {\n",
       "        vertical-align: middle;\n",
       "    }\n",
       "\n",
       "    .dataframe tbody tr th {\n",
       "        vertical-align: top;\n",
       "    }\n",
       "\n",
       "    .dataframe thead th {\n",
       "        text-align: right;\n",
       "    }\n",
       "</style>\n",
       "<table border=\"1\" class=\"dataframe\">\n",
       "  <thead>\n",
       "    <tr style=\"text-align: right;\">\n",
       "      <th></th>\n",
       "      <th>key</th>\n",
       "      <th>Bulk 1</th>\n",
       "      <th>Bulk 2</th>\n",
       "      <th>Bulk 3</th>\n",
       "      <th>Bulk 4</th>\n",
       "      <th>Bulk 5</th>\n",
       "      <th>Bulk 6</th>\n",
       "      <th>Bulk 7</th>\n",
       "      <th>Bulk 8</th>\n",
       "      <th>Bulk 9</th>\n",
       "      <th>Bulk 10</th>\n",
       "      <th>Bulk 11</th>\n",
       "      <th>Bulk 12</th>\n",
       "      <th>Bulk 13</th>\n",
       "      <th>Bulk 14</th>\n",
       "      <th>Bulk 15</th>\n",
       "    </tr>\n",
       "  </thead>\n",
       "  <tbody>\n",
       "    <tr>\n",
       "      <th>0</th>\n",
       "      <td>1</td>\n",
       "      <td>NaN</td>\n",
       "      <td>NaN</td>\n",
       "      <td>NaN</td>\n",
       "      <td>43.0</td>\n",
       "      <td>NaN</td>\n",
       "      <td>NaN</td>\n",
       "      <td>NaN</td>\n",
       "      <td>NaN</td>\n",
       "      <td>NaN</td>\n",
       "      <td>NaN</td>\n",
       "      <td>NaN</td>\n",
       "      <td>206.0</td>\n",
       "      <td>NaN</td>\n",
       "      <td>150.0</td>\n",
       "      <td>154.0</td>\n",
       "    </tr>\n",
       "    <tr>\n",
       "      <th>1</th>\n",
       "      <td>2</td>\n",
       "      <td>NaN</td>\n",
       "      <td>NaN</td>\n",
       "      <td>NaN</td>\n",
       "      <td>73.0</td>\n",
       "      <td>NaN</td>\n",
       "      <td>NaN</td>\n",
       "      <td>NaN</td>\n",
       "      <td>NaN</td>\n",
       "      <td>NaN</td>\n",
       "      <td>NaN</td>\n",
       "      <td>NaN</td>\n",
       "      <td>206.0</td>\n",
       "      <td>NaN</td>\n",
       "      <td>149.0</td>\n",
       "      <td>154.0</td>\n",
       "    </tr>\n",
       "    <tr>\n",
       "      <th>2</th>\n",
       "      <td>3</td>\n",
       "      <td>NaN</td>\n",
       "      <td>NaN</td>\n",
       "      <td>NaN</td>\n",
       "      <td>34.0</td>\n",
       "      <td>NaN</td>\n",
       "      <td>NaN</td>\n",
       "      <td>NaN</td>\n",
       "      <td>NaN</td>\n",
       "      <td>NaN</td>\n",
       "      <td>NaN</td>\n",
       "      <td>NaN</td>\n",
       "      <td>205.0</td>\n",
       "      <td>NaN</td>\n",
       "      <td>152.0</td>\n",
       "      <td>153.0</td>\n",
       "    </tr>\n",
       "    <tr>\n",
       "      <th>3</th>\n",
       "      <td>4</td>\n",
       "      <td>NaN</td>\n",
       "      <td>NaN</td>\n",
       "      <td>NaN</td>\n",
       "      <td>81.0</td>\n",
       "      <td>NaN</td>\n",
       "      <td>NaN</td>\n",
       "      <td>NaN</td>\n",
       "      <td>NaN</td>\n",
       "      <td>NaN</td>\n",
       "      <td>NaN</td>\n",
       "      <td>NaN</td>\n",
       "      <td>207.0</td>\n",
       "      <td>NaN</td>\n",
       "      <td>153.0</td>\n",
       "      <td>154.0</td>\n",
       "    </tr>\n",
       "    <tr>\n",
       "      <th>4</th>\n",
       "      <td>5</td>\n",
       "      <td>NaN</td>\n",
       "      <td>NaN</td>\n",
       "      <td>NaN</td>\n",
       "      <td>78.0</td>\n",
       "      <td>NaN</td>\n",
       "      <td>NaN</td>\n",
       "      <td>NaN</td>\n",
       "      <td>NaN</td>\n",
       "      <td>NaN</td>\n",
       "      <td>NaN</td>\n",
       "      <td>NaN</td>\n",
       "      <td>203.0</td>\n",
       "      <td>NaN</td>\n",
       "      <td>151.0</td>\n",
       "      <td>152.0</td>\n",
       "    </tr>\n",
       "    <tr>\n",
       "      <th>5</th>\n",
       "      <td>6</td>\n",
       "      <td>NaN</td>\n",
       "      <td>NaN</td>\n",
       "      <td>NaN</td>\n",
       "      <td>117.0</td>\n",
       "      <td>NaN</td>\n",
       "      <td>NaN</td>\n",
       "      <td>NaN</td>\n",
       "      <td>NaN</td>\n",
       "      <td>NaN</td>\n",
       "      <td>NaN</td>\n",
       "      <td>NaN</td>\n",
       "      <td>204.0</td>\n",
       "      <td>NaN</td>\n",
       "      <td>201.0</td>\n",
       "      <td>154.0</td>\n",
       "    </tr>\n",
       "    <tr>\n",
       "      <th>6</th>\n",
       "      <td>7</td>\n",
       "      <td>NaN</td>\n",
       "      <td>NaN</td>\n",
       "      <td>NaN</td>\n",
       "      <td>117.0</td>\n",
       "      <td>NaN</td>\n",
       "      <td>NaN</td>\n",
       "      <td>NaN</td>\n",
       "      <td>NaN</td>\n",
       "      <td>NaN</td>\n",
       "      <td>NaN</td>\n",
       "      <td>NaN</td>\n",
       "      <td>204.0</td>\n",
       "      <td>NaN</td>\n",
       "      <td>152.0</td>\n",
       "      <td>154.0</td>\n",
       "    </tr>\n",
       "    <tr>\n",
       "      <th>7</th>\n",
       "      <td>8</td>\n",
       "      <td>NaN</td>\n",
       "      <td>NaN</td>\n",
       "      <td>NaN</td>\n",
       "      <td>99.0</td>\n",
       "      <td>NaN</td>\n",
       "      <td>NaN</td>\n",
       "      <td>NaN</td>\n",
       "      <td>NaN</td>\n",
       "      <td>NaN</td>\n",
       "      <td>NaN</td>\n",
       "      <td>NaN</td>\n",
       "      <td>410.0</td>\n",
       "      <td>NaN</td>\n",
       "      <td>252.0</td>\n",
       "      <td>153.0</td>\n",
       "    </tr>\n",
       "    <tr>\n",
       "      <th>8</th>\n",
       "      <td>9</td>\n",
       "      <td>NaN</td>\n",
       "      <td>NaN</td>\n",
       "      <td>NaN</td>\n",
       "      <td>117.0</td>\n",
       "      <td>NaN</td>\n",
       "      <td>NaN</td>\n",
       "      <td>NaN</td>\n",
       "      <td>NaN</td>\n",
       "      <td>NaN</td>\n",
       "      <td>NaN</td>\n",
       "      <td>NaN</td>\n",
       "      <td>107.0</td>\n",
       "      <td>NaN</td>\n",
       "      <td>99.0</td>\n",
       "      <td>203.0</td>\n",
       "    </tr>\n",
       "    <tr>\n",
       "      <th>9</th>\n",
       "      <td>10</td>\n",
       "      <td>NaN</td>\n",
       "      <td>NaN</td>\n",
       "      <td>NaN</td>\n",
       "      <td>NaN</td>\n",
       "      <td>NaN</td>\n",
       "      <td>NaN</td>\n",
       "      <td>NaN</td>\n",
       "      <td>NaN</td>\n",
       "      <td>NaN</td>\n",
       "      <td>NaN</td>\n",
       "      <td>NaN</td>\n",
       "      <td>203.0</td>\n",
       "      <td>NaN</td>\n",
       "      <td>102.0</td>\n",
       "      <td>204.0</td>\n",
       "    </tr>\n",
       "  </tbody>\n",
       "</table>\n",
       "</div>"
      ],
      "text/plain": [
       "   key  Bulk 1  Bulk 2  Bulk 3  Bulk 4  Bulk 5  Bulk 6  Bulk 7  Bulk 8  \\\n",
       "0    1     NaN     NaN     NaN    43.0     NaN     NaN     NaN     NaN   \n",
       "1    2     NaN     NaN     NaN    73.0     NaN     NaN     NaN     NaN   \n",
       "2    3     NaN     NaN     NaN    34.0     NaN     NaN     NaN     NaN   \n",
       "3    4     NaN     NaN     NaN    81.0     NaN     NaN     NaN     NaN   \n",
       "4    5     NaN     NaN     NaN    78.0     NaN     NaN     NaN     NaN   \n",
       "5    6     NaN     NaN     NaN   117.0     NaN     NaN     NaN     NaN   \n",
       "6    7     NaN     NaN     NaN   117.0     NaN     NaN     NaN     NaN   \n",
       "7    8     NaN     NaN     NaN    99.0     NaN     NaN     NaN     NaN   \n",
       "8    9     NaN     NaN     NaN   117.0     NaN     NaN     NaN     NaN   \n",
       "9   10     NaN     NaN     NaN     NaN     NaN     NaN     NaN     NaN   \n",
       "\n",
       "   Bulk 9  Bulk 10  Bulk 11  Bulk 12  Bulk 13  Bulk 14  Bulk 15  \n",
       "0     NaN      NaN      NaN    206.0      NaN    150.0    154.0  \n",
       "1     NaN      NaN      NaN    206.0      NaN    149.0    154.0  \n",
       "2     NaN      NaN      NaN    205.0      NaN    152.0    153.0  \n",
       "3     NaN      NaN      NaN    207.0      NaN    153.0    154.0  \n",
       "4     NaN      NaN      NaN    203.0      NaN    151.0    152.0  \n",
       "5     NaN      NaN      NaN    204.0      NaN    201.0    154.0  \n",
       "6     NaN      NaN      NaN    204.0      NaN    152.0    154.0  \n",
       "7     NaN      NaN      NaN    410.0      NaN    252.0    153.0  \n",
       "8     NaN      NaN      NaN    107.0      NaN     99.0    203.0  \n",
       "9     NaN      NaN      NaN    203.0      NaN    102.0    204.0  "
      ]
     },
     "execution_count": 10,
     "metadata": {},
     "output_type": "execute_result"
    }
   ],
   "source": [
    "data_bulk.head(10)"
   ]
  },
  {
   "cell_type": "markdown",
   "metadata": {},
   "source": [
    "*Данные о подаче сыпучих материалов (время)*"
   ]
  },
  {
   "cell_type": "code",
   "execution_count": 11,
   "metadata": {},
   "outputs": [
    {
     "name": "stdout",
     "output_type": "stream",
     "text": [
      "<class 'pandas.core.frame.DataFrame'>\n",
      "RangeIndex: 3129 entries, 0 to 3128\n",
      "Data columns (total 16 columns):\n",
      " #   Column   Non-Null Count  Dtype         \n",
      "---  ------   --------------  -----         \n",
      " 0   key      3129 non-null   int64         \n",
      " 1   Bulk 1   252 non-null    datetime64[ns]\n",
      " 2   Bulk 2   22 non-null     datetime64[ns]\n",
      " 3   Bulk 3   1298 non-null   datetime64[ns]\n",
      " 4   Bulk 4   1014 non-null   datetime64[ns]\n",
      " 5   Bulk 5   77 non-null     datetime64[ns]\n",
      " 6   Bulk 6   576 non-null    datetime64[ns]\n",
      " 7   Bulk 7   25 non-null     datetime64[ns]\n",
      " 8   Bulk 8   1 non-null      datetime64[ns]\n",
      " 9   Bulk 9   19 non-null     datetime64[ns]\n",
      " 10  Bulk 10  176 non-null    datetime64[ns]\n",
      " 11  Bulk 11  177 non-null    datetime64[ns]\n",
      " 12  Bulk 12  2450 non-null   datetime64[ns]\n",
      " 13  Bulk 13  18 non-null     datetime64[ns]\n",
      " 14  Bulk 14  2806 non-null   datetime64[ns]\n",
      " 15  Bulk 15  2248 non-null   datetime64[ns]\n",
      "dtypes: datetime64[ns](15), int64(1)\n",
      "memory usage: 391.2 KB\n"
     ]
    }
   ],
   "source": [
    "data_bulk_time.info()"
   ]
  },
  {
   "cell_type": "code",
   "execution_count": 12,
   "metadata": {},
   "outputs": [
    {
     "data": {
      "text/html": [
       "<div>\n",
       "<style scoped>\n",
       "    .dataframe tbody tr th:only-of-type {\n",
       "        vertical-align: middle;\n",
       "    }\n",
       "\n",
       "    .dataframe tbody tr th {\n",
       "        vertical-align: top;\n",
       "    }\n",
       "\n",
       "    .dataframe thead th {\n",
       "        text-align: right;\n",
       "    }\n",
       "</style>\n",
       "<table border=\"1\" class=\"dataframe\">\n",
       "  <thead>\n",
       "    <tr style=\"text-align: right;\">\n",
       "      <th></th>\n",
       "      <th>key</th>\n",
       "      <th>Bulk 1</th>\n",
       "      <th>Bulk 2</th>\n",
       "      <th>Bulk 3</th>\n",
       "      <th>Bulk 4</th>\n",
       "      <th>Bulk 5</th>\n",
       "      <th>Bulk 6</th>\n",
       "      <th>Bulk 7</th>\n",
       "      <th>Bulk 8</th>\n",
       "      <th>Bulk 9</th>\n",
       "      <th>Bulk 10</th>\n",
       "      <th>Bulk 11</th>\n",
       "      <th>Bulk 12</th>\n",
       "      <th>Bulk 13</th>\n",
       "      <th>Bulk 14</th>\n",
       "      <th>Bulk 15</th>\n",
       "    </tr>\n",
       "  </thead>\n",
       "  <tbody>\n",
       "    <tr>\n",
       "      <th>0</th>\n",
       "      <td>1</td>\n",
       "      <td>NaT</td>\n",
       "      <td>NaT</td>\n",
       "      <td>NaT</td>\n",
       "      <td>2019-05-03 11:21:30</td>\n",
       "      <td>NaT</td>\n",
       "      <td>NaT</td>\n",
       "      <td>NaT</td>\n",
       "      <td>NaT</td>\n",
       "      <td>NaT</td>\n",
       "      <td>NaT</td>\n",
       "      <td>NaT</td>\n",
       "      <td>2019-05-03 11:03:52</td>\n",
       "      <td>NaT</td>\n",
       "      <td>2019-05-03 11:03:52</td>\n",
       "      <td>2019-05-03 11:03:52</td>\n",
       "    </tr>\n",
       "    <tr>\n",
       "      <th>1</th>\n",
       "      <td>2</td>\n",
       "      <td>NaT</td>\n",
       "      <td>NaT</td>\n",
       "      <td>NaT</td>\n",
       "      <td>2019-05-03 11:46:38</td>\n",
       "      <td>NaT</td>\n",
       "      <td>NaT</td>\n",
       "      <td>NaT</td>\n",
       "      <td>NaT</td>\n",
       "      <td>NaT</td>\n",
       "      <td>NaT</td>\n",
       "      <td>NaT</td>\n",
       "      <td>2019-05-03 11:40:20</td>\n",
       "      <td>NaT</td>\n",
       "      <td>2019-05-03 11:40:20</td>\n",
       "      <td>2019-05-03 11:40:20</td>\n",
       "    </tr>\n",
       "    <tr>\n",
       "      <th>2</th>\n",
       "      <td>3</td>\n",
       "      <td>NaT</td>\n",
       "      <td>NaT</td>\n",
       "      <td>NaT</td>\n",
       "      <td>2019-05-03 12:31:06</td>\n",
       "      <td>NaT</td>\n",
       "      <td>NaT</td>\n",
       "      <td>NaT</td>\n",
       "      <td>NaT</td>\n",
       "      <td>NaT</td>\n",
       "      <td>NaT</td>\n",
       "      <td>NaT</td>\n",
       "      <td>2019-05-03 12:09:40</td>\n",
       "      <td>NaT</td>\n",
       "      <td>2019-05-03 12:09:40</td>\n",
       "      <td>2019-05-03 12:09:40</td>\n",
       "    </tr>\n",
       "    <tr>\n",
       "      <th>3</th>\n",
       "      <td>4</td>\n",
       "      <td>NaT</td>\n",
       "      <td>NaT</td>\n",
       "      <td>NaT</td>\n",
       "      <td>2019-05-03 12:48:43</td>\n",
       "      <td>NaT</td>\n",
       "      <td>NaT</td>\n",
       "      <td>NaT</td>\n",
       "      <td>NaT</td>\n",
       "      <td>NaT</td>\n",
       "      <td>NaT</td>\n",
       "      <td>NaT</td>\n",
       "      <td>2019-05-03 12:41:24</td>\n",
       "      <td>NaT</td>\n",
       "      <td>2019-05-03 12:41:24</td>\n",
       "      <td>2019-05-03 12:41:24</td>\n",
       "    </tr>\n",
       "    <tr>\n",
       "      <th>4</th>\n",
       "      <td>5</td>\n",
       "      <td>NaT</td>\n",
       "      <td>NaT</td>\n",
       "      <td>NaT</td>\n",
       "      <td>2019-05-03 13:18:50</td>\n",
       "      <td>NaT</td>\n",
       "      <td>NaT</td>\n",
       "      <td>NaT</td>\n",
       "      <td>NaT</td>\n",
       "      <td>NaT</td>\n",
       "      <td>NaT</td>\n",
       "      <td>NaT</td>\n",
       "      <td>2019-05-03 13:12:56</td>\n",
       "      <td>NaT</td>\n",
       "      <td>2019-05-03 13:12:56</td>\n",
       "      <td>2019-05-03 13:12:56</td>\n",
       "    </tr>\n",
       "    <tr>\n",
       "      <th>5</th>\n",
       "      <td>6</td>\n",
       "      <td>NaT</td>\n",
       "      <td>NaT</td>\n",
       "      <td>NaT</td>\n",
       "      <td>2019-05-03 13:59:24</td>\n",
       "      <td>NaT</td>\n",
       "      <td>NaT</td>\n",
       "      <td>NaT</td>\n",
       "      <td>NaT</td>\n",
       "      <td>NaT</td>\n",
       "      <td>NaT</td>\n",
       "      <td>NaT</td>\n",
       "      <td>2019-05-03 13:53:27</td>\n",
       "      <td>NaT</td>\n",
       "      <td>2019-05-03 13:53:27</td>\n",
       "      <td>2019-05-03 13:53:27</td>\n",
       "    </tr>\n",
       "    <tr>\n",
       "      <th>6</th>\n",
       "      <td>7</td>\n",
       "      <td>NaT</td>\n",
       "      <td>NaT</td>\n",
       "      <td>NaT</td>\n",
       "      <td>2019-05-03 14:29:14</td>\n",
       "      <td>NaT</td>\n",
       "      <td>NaT</td>\n",
       "      <td>NaT</td>\n",
       "      <td>NaT</td>\n",
       "      <td>NaT</td>\n",
       "      <td>NaT</td>\n",
       "      <td>NaT</td>\n",
       "      <td>2019-05-03 14:22:19</td>\n",
       "      <td>NaT</td>\n",
       "      <td>2019-05-03 14:22:19</td>\n",
       "      <td>2019-05-03 14:22:19</td>\n",
       "    </tr>\n",
       "    <tr>\n",
       "      <th>7</th>\n",
       "      <td>8</td>\n",
       "      <td>NaT</td>\n",
       "      <td>NaT</td>\n",
       "      <td>NaT</td>\n",
       "      <td>2019-05-03 15:04:05</td>\n",
       "      <td>NaT</td>\n",
       "      <td>NaT</td>\n",
       "      <td>NaT</td>\n",
       "      <td>NaT</td>\n",
       "      <td>NaT</td>\n",
       "      <td>NaT</td>\n",
       "      <td>NaT</td>\n",
       "      <td>2019-05-03 14:55:46</td>\n",
       "      <td>NaT</td>\n",
       "      <td>2019-05-03 14:55:46</td>\n",
       "      <td>2019-05-03 14:55:46</td>\n",
       "    </tr>\n",
       "    <tr>\n",
       "      <th>8</th>\n",
       "      <td>9</td>\n",
       "      <td>NaT</td>\n",
       "      <td>NaT</td>\n",
       "      <td>NaT</td>\n",
       "      <td>2019-05-03 15:47:34</td>\n",
       "      <td>NaT</td>\n",
       "      <td>NaT</td>\n",
       "      <td>NaT</td>\n",
       "      <td>NaT</td>\n",
       "      <td>NaT</td>\n",
       "      <td>NaT</td>\n",
       "      <td>NaT</td>\n",
       "      <td>2019-05-03 15:41:00</td>\n",
       "      <td>NaT</td>\n",
       "      <td>2019-05-03 15:41:00</td>\n",
       "      <td>2019-05-03 15:41:00</td>\n",
       "    </tr>\n",
       "    <tr>\n",
       "      <th>9</th>\n",
       "      <td>10</td>\n",
       "      <td>NaT</td>\n",
       "      <td>NaT</td>\n",
       "      <td>NaT</td>\n",
       "      <td>NaT</td>\n",
       "      <td>NaT</td>\n",
       "      <td>NaT</td>\n",
       "      <td>NaT</td>\n",
       "      <td>NaT</td>\n",
       "      <td>NaT</td>\n",
       "      <td>NaT</td>\n",
       "      <td>NaT</td>\n",
       "      <td>2019-05-03 16:18:52</td>\n",
       "      <td>NaT</td>\n",
       "      <td>2019-05-03 16:18:52</td>\n",
       "      <td>2019-05-03 16:18:52</td>\n",
       "    </tr>\n",
       "  </tbody>\n",
       "</table>\n",
       "</div>"
      ],
      "text/plain": [
       "   key Bulk 1 Bulk 2 Bulk 3              Bulk 4 Bulk 5 Bulk 6 Bulk 7 Bulk 8  \\\n",
       "0    1    NaT    NaT    NaT 2019-05-03 11:21:30    NaT    NaT    NaT    NaT   \n",
       "1    2    NaT    NaT    NaT 2019-05-03 11:46:38    NaT    NaT    NaT    NaT   \n",
       "2    3    NaT    NaT    NaT 2019-05-03 12:31:06    NaT    NaT    NaT    NaT   \n",
       "3    4    NaT    NaT    NaT 2019-05-03 12:48:43    NaT    NaT    NaT    NaT   \n",
       "4    5    NaT    NaT    NaT 2019-05-03 13:18:50    NaT    NaT    NaT    NaT   \n",
       "5    6    NaT    NaT    NaT 2019-05-03 13:59:24    NaT    NaT    NaT    NaT   \n",
       "6    7    NaT    NaT    NaT 2019-05-03 14:29:14    NaT    NaT    NaT    NaT   \n",
       "7    8    NaT    NaT    NaT 2019-05-03 15:04:05    NaT    NaT    NaT    NaT   \n",
       "8    9    NaT    NaT    NaT 2019-05-03 15:47:34    NaT    NaT    NaT    NaT   \n",
       "9   10    NaT    NaT    NaT                 NaT    NaT    NaT    NaT    NaT   \n",
       "\n",
       "  Bulk 9 Bulk 10 Bulk 11             Bulk 12 Bulk 13             Bulk 14  \\\n",
       "0    NaT     NaT     NaT 2019-05-03 11:03:52     NaT 2019-05-03 11:03:52   \n",
       "1    NaT     NaT     NaT 2019-05-03 11:40:20     NaT 2019-05-03 11:40:20   \n",
       "2    NaT     NaT     NaT 2019-05-03 12:09:40     NaT 2019-05-03 12:09:40   \n",
       "3    NaT     NaT     NaT 2019-05-03 12:41:24     NaT 2019-05-03 12:41:24   \n",
       "4    NaT     NaT     NaT 2019-05-03 13:12:56     NaT 2019-05-03 13:12:56   \n",
       "5    NaT     NaT     NaT 2019-05-03 13:53:27     NaT 2019-05-03 13:53:27   \n",
       "6    NaT     NaT     NaT 2019-05-03 14:22:19     NaT 2019-05-03 14:22:19   \n",
       "7    NaT     NaT     NaT 2019-05-03 14:55:46     NaT 2019-05-03 14:55:46   \n",
       "8    NaT     NaT     NaT 2019-05-03 15:41:00     NaT 2019-05-03 15:41:00   \n",
       "9    NaT     NaT     NaT 2019-05-03 16:18:52     NaT 2019-05-03 16:18:52   \n",
       "\n",
       "              Bulk 15  \n",
       "0 2019-05-03 11:03:52  \n",
       "1 2019-05-03 11:40:20  \n",
       "2 2019-05-03 12:09:40  \n",
       "3 2019-05-03 12:41:24  \n",
       "4 2019-05-03 13:12:56  \n",
       "5 2019-05-03 13:53:27  \n",
       "6 2019-05-03 14:22:19  \n",
       "7 2019-05-03 14:55:46  \n",
       "8 2019-05-03 15:41:00  \n",
       "9 2019-05-03 16:18:52  "
      ]
     },
     "execution_count": 12,
     "metadata": {},
     "output_type": "execute_result"
    }
   ],
   "source": [
    "data_bulk_time.head(10)"
   ]
  },
  {
   "cell_type": "markdown",
   "metadata": {},
   "source": [
    "*Данные о продувке сплава газом*"
   ]
  },
  {
   "cell_type": "code",
   "execution_count": 13,
   "metadata": {},
   "outputs": [
    {
     "name": "stdout",
     "output_type": "stream",
     "text": [
      "<class 'pandas.core.frame.DataFrame'>\n",
      "RangeIndex: 3239 entries, 0 to 3238\n",
      "Data columns (total 2 columns):\n",
      " #   Column  Non-Null Count  Dtype  \n",
      "---  ------  --------------  -----  \n",
      " 0   key     3239 non-null   int64  \n",
      " 1   Газ 1   3239 non-null   float64\n",
      "dtypes: float64(1), int64(1)\n",
      "memory usage: 50.7 KB\n"
     ]
    }
   ],
   "source": [
    "data_gas.info()"
   ]
  },
  {
   "cell_type": "code",
   "execution_count": 14,
   "metadata": {},
   "outputs": [
    {
     "data": {
      "text/html": [
       "<div>\n",
       "<style scoped>\n",
       "    .dataframe tbody tr th:only-of-type {\n",
       "        vertical-align: middle;\n",
       "    }\n",
       "\n",
       "    .dataframe tbody tr th {\n",
       "        vertical-align: top;\n",
       "    }\n",
       "\n",
       "    .dataframe thead th {\n",
       "        text-align: right;\n",
       "    }\n",
       "</style>\n",
       "<table border=\"1\" class=\"dataframe\">\n",
       "  <thead>\n",
       "    <tr style=\"text-align: right;\">\n",
       "      <th></th>\n",
       "      <th>key</th>\n",
       "      <th>Газ 1</th>\n",
       "    </tr>\n",
       "  </thead>\n",
       "  <tbody>\n",
       "    <tr>\n",
       "      <th>0</th>\n",
       "      <td>1</td>\n",
       "      <td>29.749986</td>\n",
       "    </tr>\n",
       "    <tr>\n",
       "      <th>1</th>\n",
       "      <td>2</td>\n",
       "      <td>12.555561</td>\n",
       "    </tr>\n",
       "    <tr>\n",
       "      <th>2</th>\n",
       "      <td>3</td>\n",
       "      <td>28.554793</td>\n",
       "    </tr>\n",
       "    <tr>\n",
       "      <th>3</th>\n",
       "      <td>4</td>\n",
       "      <td>18.841219</td>\n",
       "    </tr>\n",
       "    <tr>\n",
       "      <th>4</th>\n",
       "      <td>5</td>\n",
       "      <td>5.413692</td>\n",
       "    </tr>\n",
       "  </tbody>\n",
       "</table>\n",
       "</div>"
      ],
      "text/plain": [
       "   key      Газ 1\n",
       "0    1  29.749986\n",
       "1    2  12.555561\n",
       "2    3  28.554793\n",
       "3    4  18.841219\n",
       "4    5   5.413692"
      ]
     },
     "execution_count": 14,
     "metadata": {},
     "output_type": "execute_result"
    }
   ],
   "source": [
    "data_gas.head()"
   ]
  },
  {
   "cell_type": "markdown",
   "metadata": {},
   "source": [
    "Переименуем столбцы в названия с латинскими буквами"
   ]
  },
  {
   "cell_type": "code",
   "execution_count": 15,
   "metadata": {},
   "outputs": [],
   "source": [
    "data_gas.columns = ['key', 'gas 1']"
   ]
  },
  {
   "cell_type": "code",
   "execution_count": 16,
   "metadata": {},
   "outputs": [
    {
     "name": "stdout",
     "output_type": "stream",
     "text": [
      "<class 'pandas.core.frame.DataFrame'>\n",
      "RangeIndex: 3239 entries, 0 to 3238\n",
      "Data columns (total 2 columns):\n",
      " #   Column  Non-Null Count  Dtype  \n",
      "---  ------  --------------  -----  \n",
      " 0   key     3239 non-null   int64  \n",
      " 1   gas 1   3239 non-null   float64\n",
      "dtypes: float64(1), int64(1)\n",
      "memory usage: 50.7 KB\n"
     ]
    }
   ],
   "source": [
    "data_gas.info()"
   ]
  },
  {
   "cell_type": "markdown",
   "metadata": {},
   "source": [
    "*Результаты измерения температуры*"
   ]
  },
  {
   "cell_type": "code",
   "execution_count": 17,
   "metadata": {},
   "outputs": [
    {
     "name": "stdout",
     "output_type": "stream",
     "text": [
      "<class 'pandas.core.frame.DataFrame'>\n",
      "RangeIndex: 15907 entries, 0 to 15906\n",
      "Data columns (total 3 columns):\n",
      " #   Column        Non-Null Count  Dtype         \n",
      "---  ------        --------------  -----         \n",
      " 0   key           15907 non-null  int64         \n",
      " 1   Время замера  15907 non-null  datetime64[ns]\n",
      " 2   Температура   13006 non-null  float64       \n",
      "dtypes: datetime64[ns](1), float64(1), int64(1)\n",
      "memory usage: 372.9 KB\n"
     ]
    }
   ],
   "source": [
    "data_temp.info()"
   ]
  },
  {
   "cell_type": "code",
   "execution_count": 18,
   "metadata": {},
   "outputs": [
    {
     "data": {
      "text/html": [
       "<div>\n",
       "<style scoped>\n",
       "    .dataframe tbody tr th:only-of-type {\n",
       "        vertical-align: middle;\n",
       "    }\n",
       "\n",
       "    .dataframe tbody tr th {\n",
       "        vertical-align: top;\n",
       "    }\n",
       "\n",
       "    .dataframe thead th {\n",
       "        text-align: right;\n",
       "    }\n",
       "</style>\n",
       "<table border=\"1\" class=\"dataframe\">\n",
       "  <thead>\n",
       "    <tr style=\"text-align: right;\">\n",
       "      <th></th>\n",
       "      <th>key</th>\n",
       "      <th>Время замера</th>\n",
       "      <th>Температура</th>\n",
       "    </tr>\n",
       "  </thead>\n",
       "  <tbody>\n",
       "    <tr>\n",
       "      <th>0</th>\n",
       "      <td>1</td>\n",
       "      <td>2019-05-03 11:16:18</td>\n",
       "      <td>1571.0</td>\n",
       "    </tr>\n",
       "    <tr>\n",
       "      <th>1</th>\n",
       "      <td>1</td>\n",
       "      <td>2019-05-03 11:25:53</td>\n",
       "      <td>1604.0</td>\n",
       "    </tr>\n",
       "    <tr>\n",
       "      <th>2</th>\n",
       "      <td>1</td>\n",
       "      <td>2019-05-03 11:29:11</td>\n",
       "      <td>1618.0</td>\n",
       "    </tr>\n",
       "    <tr>\n",
       "      <th>3</th>\n",
       "      <td>1</td>\n",
       "      <td>2019-05-03 11:30:01</td>\n",
       "      <td>1601.0</td>\n",
       "    </tr>\n",
       "    <tr>\n",
       "      <th>4</th>\n",
       "      <td>1</td>\n",
       "      <td>2019-05-03 11:30:39</td>\n",
       "      <td>1613.0</td>\n",
       "    </tr>\n",
       "    <tr>\n",
       "      <th>5</th>\n",
       "      <td>2</td>\n",
       "      <td>2019-05-03 11:37:27</td>\n",
       "      <td>1581.0</td>\n",
       "    </tr>\n",
       "    <tr>\n",
       "      <th>6</th>\n",
       "      <td>2</td>\n",
       "      <td>2019-05-03 11:38:00</td>\n",
       "      <td>1577.0</td>\n",
       "    </tr>\n",
       "    <tr>\n",
       "      <th>7</th>\n",
       "      <td>2</td>\n",
       "      <td>2019-05-03 11:49:38</td>\n",
       "      <td>1589.0</td>\n",
       "    </tr>\n",
       "    <tr>\n",
       "      <th>8</th>\n",
       "      <td>2</td>\n",
       "      <td>2019-05-03 11:55:50</td>\n",
       "      <td>1604.0</td>\n",
       "    </tr>\n",
       "    <tr>\n",
       "      <th>9</th>\n",
       "      <td>2</td>\n",
       "      <td>2019-05-03 11:58:24</td>\n",
       "      <td>1608.0</td>\n",
       "    </tr>\n",
       "  </tbody>\n",
       "</table>\n",
       "</div>"
      ],
      "text/plain": [
       "   key        Время замера  Температура\n",
       "0    1 2019-05-03 11:16:18       1571.0\n",
       "1    1 2019-05-03 11:25:53       1604.0\n",
       "2    1 2019-05-03 11:29:11       1618.0\n",
       "3    1 2019-05-03 11:30:01       1601.0\n",
       "4    1 2019-05-03 11:30:39       1613.0\n",
       "5    2 2019-05-03 11:37:27       1581.0\n",
       "6    2 2019-05-03 11:38:00       1577.0\n",
       "7    2 2019-05-03 11:49:38       1589.0\n",
       "8    2 2019-05-03 11:55:50       1604.0\n",
       "9    2 2019-05-03 11:58:24       1608.0"
      ]
     },
     "execution_count": 18,
     "metadata": {},
     "output_type": "execute_result"
    }
   ],
   "source": [
    "data_temp.head(10)"
   ]
  },
  {
   "cell_type": "markdown",
   "metadata": {},
   "source": [
    "Переименуем столбцы в названия с латинскими буквами"
   ]
  },
  {
   "cell_type": "code",
   "execution_count": 19,
   "metadata": {},
   "outputs": [],
   "source": [
    "data_temp.columns = ['key', 'measurement_time', 'temperature']"
   ]
  },
  {
   "cell_type": "code",
   "execution_count": 20,
   "metadata": {
    "scrolled": true
   },
   "outputs": [
    {
     "name": "stdout",
     "output_type": "stream",
     "text": [
      "<class 'pandas.core.frame.DataFrame'>\n",
      "RangeIndex: 15907 entries, 0 to 15906\n",
      "Data columns (total 3 columns):\n",
      " #   Column            Non-Null Count  Dtype         \n",
      "---  ------            --------------  -----         \n",
      " 0   key               15907 non-null  int64         \n",
      " 1   measurement_time  15907 non-null  datetime64[ns]\n",
      " 2   temperature       13006 non-null  float64       \n",
      "dtypes: datetime64[ns](1), float64(1), int64(1)\n",
      "memory usage: 372.9 KB\n"
     ]
    }
   ],
   "source": [
    "data_temp.info()"
   ]
  },
  {
   "cell_type": "markdown",
   "metadata": {},
   "source": [
    "Подсчитаем количество партий, количество уникальных значений параметра **key**"
   ]
  },
  {
   "cell_type": "code",
   "execution_count": 21,
   "metadata": {},
   "outputs": [
    {
     "data": {
      "text/plain": [
       "3216"
      ]
     },
     "execution_count": 21,
     "metadata": {},
     "output_type": "execute_result"
    }
   ],
   "source": [
    "len(data_temp['key'].unique())"
   ]
  },
  {
   "cell_type": "markdown",
   "metadata": {},
   "source": [
    "*Данные о проволочных материалах (объём)*"
   ]
  },
  {
   "cell_type": "code",
   "execution_count": 22,
   "metadata": {},
   "outputs": [
    {
     "name": "stdout",
     "output_type": "stream",
     "text": [
      "<class 'pandas.core.frame.DataFrame'>\n",
      "RangeIndex: 3081 entries, 0 to 3080\n",
      "Data columns (total 10 columns):\n",
      " #   Column  Non-Null Count  Dtype  \n",
      "---  ------  --------------  -----  \n",
      " 0   key     3081 non-null   int64  \n",
      " 1   Wire 1  3055 non-null   float64\n",
      " 2   Wire 2  1079 non-null   float64\n",
      " 3   Wire 3  63 non-null     float64\n",
      " 4   Wire 4  14 non-null     float64\n",
      " 5   Wire 5  1 non-null      float64\n",
      " 6   Wire 6  73 non-null     float64\n",
      " 7   Wire 7  11 non-null     float64\n",
      " 8   Wire 8  19 non-null     float64\n",
      " 9   Wire 9  29 non-null     float64\n",
      "dtypes: float64(9), int64(1)\n",
      "memory usage: 240.8 KB\n"
     ]
    }
   ],
   "source": [
    "data_wire.info()"
   ]
  },
  {
   "cell_type": "code",
   "execution_count": 23,
   "metadata": {},
   "outputs": [
    {
     "data": {
      "text/html": [
       "<div>\n",
       "<style scoped>\n",
       "    .dataframe tbody tr th:only-of-type {\n",
       "        vertical-align: middle;\n",
       "    }\n",
       "\n",
       "    .dataframe tbody tr th {\n",
       "        vertical-align: top;\n",
       "    }\n",
       "\n",
       "    .dataframe thead th {\n",
       "        text-align: right;\n",
       "    }\n",
       "</style>\n",
       "<table border=\"1\" class=\"dataframe\">\n",
       "  <thead>\n",
       "    <tr style=\"text-align: right;\">\n",
       "      <th></th>\n",
       "      <th>key</th>\n",
       "      <th>Wire 1</th>\n",
       "      <th>Wire 2</th>\n",
       "      <th>Wire 3</th>\n",
       "      <th>Wire 4</th>\n",
       "      <th>Wire 5</th>\n",
       "      <th>Wire 6</th>\n",
       "      <th>Wire 7</th>\n",
       "      <th>Wire 8</th>\n",
       "      <th>Wire 9</th>\n",
       "    </tr>\n",
       "  </thead>\n",
       "  <tbody>\n",
       "    <tr>\n",
       "      <th>0</th>\n",
       "      <td>1</td>\n",
       "      <td>60.059998</td>\n",
       "      <td>NaN</td>\n",
       "      <td>NaN</td>\n",
       "      <td>NaN</td>\n",
       "      <td>NaN</td>\n",
       "      <td>NaN</td>\n",
       "      <td>NaN</td>\n",
       "      <td>NaN</td>\n",
       "      <td>NaN</td>\n",
       "    </tr>\n",
       "    <tr>\n",
       "      <th>1</th>\n",
       "      <td>2</td>\n",
       "      <td>96.052315</td>\n",
       "      <td>NaN</td>\n",
       "      <td>NaN</td>\n",
       "      <td>NaN</td>\n",
       "      <td>NaN</td>\n",
       "      <td>NaN</td>\n",
       "      <td>NaN</td>\n",
       "      <td>NaN</td>\n",
       "      <td>NaN</td>\n",
       "    </tr>\n",
       "    <tr>\n",
       "      <th>2</th>\n",
       "      <td>3</td>\n",
       "      <td>91.160157</td>\n",
       "      <td>NaN</td>\n",
       "      <td>NaN</td>\n",
       "      <td>NaN</td>\n",
       "      <td>NaN</td>\n",
       "      <td>NaN</td>\n",
       "      <td>NaN</td>\n",
       "      <td>NaN</td>\n",
       "      <td>NaN</td>\n",
       "    </tr>\n",
       "    <tr>\n",
       "      <th>3</th>\n",
       "      <td>4</td>\n",
       "      <td>89.063515</td>\n",
       "      <td>NaN</td>\n",
       "      <td>NaN</td>\n",
       "      <td>NaN</td>\n",
       "      <td>NaN</td>\n",
       "      <td>NaN</td>\n",
       "      <td>NaN</td>\n",
       "      <td>NaN</td>\n",
       "      <td>NaN</td>\n",
       "    </tr>\n",
       "    <tr>\n",
       "      <th>4</th>\n",
       "      <td>5</td>\n",
       "      <td>89.238236</td>\n",
       "      <td>9.114560</td>\n",
       "      <td>NaN</td>\n",
       "      <td>NaN</td>\n",
       "      <td>NaN</td>\n",
       "      <td>NaN</td>\n",
       "      <td>NaN</td>\n",
       "      <td>NaN</td>\n",
       "      <td>NaN</td>\n",
       "    </tr>\n",
       "    <tr>\n",
       "      <th>5</th>\n",
       "      <td>6</td>\n",
       "      <td>99.109917</td>\n",
       "      <td>9.114560</td>\n",
       "      <td>NaN</td>\n",
       "      <td>NaN</td>\n",
       "      <td>NaN</td>\n",
       "      <td>NaN</td>\n",
       "      <td>NaN</td>\n",
       "      <td>NaN</td>\n",
       "      <td>NaN</td>\n",
       "    </tr>\n",
       "    <tr>\n",
       "      <th>6</th>\n",
       "      <td>7</td>\n",
       "      <td>98.061600</td>\n",
       "      <td>NaN</td>\n",
       "      <td>NaN</td>\n",
       "      <td>NaN</td>\n",
       "      <td>NaN</td>\n",
       "      <td>NaN</td>\n",
       "      <td>NaN</td>\n",
       "      <td>NaN</td>\n",
       "      <td>NaN</td>\n",
       "    </tr>\n",
       "    <tr>\n",
       "      <th>7</th>\n",
       "      <td>8</td>\n",
       "      <td>155.282394</td>\n",
       "      <td>NaN</td>\n",
       "      <td>NaN</td>\n",
       "      <td>NaN</td>\n",
       "      <td>NaN</td>\n",
       "      <td>NaN</td>\n",
       "      <td>NaN</td>\n",
       "      <td>NaN</td>\n",
       "      <td>NaN</td>\n",
       "    </tr>\n",
       "    <tr>\n",
       "      <th>8</th>\n",
       "      <td>9</td>\n",
       "      <td>113.393279</td>\n",
       "      <td>9.143681</td>\n",
       "      <td>NaN</td>\n",
       "      <td>NaN</td>\n",
       "      <td>NaN</td>\n",
       "      <td>NaN</td>\n",
       "      <td>NaN</td>\n",
       "      <td>NaN</td>\n",
       "      <td>NaN</td>\n",
       "    </tr>\n",
       "    <tr>\n",
       "      <th>9</th>\n",
       "      <td>10</td>\n",
       "      <td>81.244796</td>\n",
       "      <td>12.376000</td>\n",
       "      <td>NaN</td>\n",
       "      <td>NaN</td>\n",
       "      <td>NaN</td>\n",
       "      <td>NaN</td>\n",
       "      <td>NaN</td>\n",
       "      <td>NaN</td>\n",
       "      <td>NaN</td>\n",
       "    </tr>\n",
       "  </tbody>\n",
       "</table>\n",
       "</div>"
      ],
      "text/plain": [
       "   key      Wire 1     Wire 2  Wire 3  Wire 4  Wire 5  Wire 6  Wire 7  Wire 8  \\\n",
       "0    1   60.059998        NaN     NaN     NaN     NaN     NaN     NaN     NaN   \n",
       "1    2   96.052315        NaN     NaN     NaN     NaN     NaN     NaN     NaN   \n",
       "2    3   91.160157        NaN     NaN     NaN     NaN     NaN     NaN     NaN   \n",
       "3    4   89.063515        NaN     NaN     NaN     NaN     NaN     NaN     NaN   \n",
       "4    5   89.238236   9.114560     NaN     NaN     NaN     NaN     NaN     NaN   \n",
       "5    6   99.109917   9.114560     NaN     NaN     NaN     NaN     NaN     NaN   \n",
       "6    7   98.061600        NaN     NaN     NaN     NaN     NaN     NaN     NaN   \n",
       "7    8  155.282394        NaN     NaN     NaN     NaN     NaN     NaN     NaN   \n",
       "8    9  113.393279   9.143681     NaN     NaN     NaN     NaN     NaN     NaN   \n",
       "9   10   81.244796  12.376000     NaN     NaN     NaN     NaN     NaN     NaN   \n",
       "\n",
       "   Wire 9  \n",
       "0     NaN  \n",
       "1     NaN  \n",
       "2     NaN  \n",
       "3     NaN  \n",
       "4     NaN  \n",
       "5     NaN  \n",
       "6     NaN  \n",
       "7     NaN  \n",
       "8     NaN  \n",
       "9     NaN  "
      ]
     },
     "execution_count": 23,
     "metadata": {},
     "output_type": "execute_result"
    }
   ],
   "source": [
    "data_wire.head(10)"
   ]
  },
  {
   "cell_type": "markdown",
   "metadata": {},
   "source": [
    "*Данные о проволочных материалах (время)*"
   ]
  },
  {
   "cell_type": "code",
   "execution_count": 24,
   "metadata": {},
   "outputs": [
    {
     "name": "stdout",
     "output_type": "stream",
     "text": [
      "<class 'pandas.core.frame.DataFrame'>\n",
      "RangeIndex: 3081 entries, 0 to 3080\n",
      "Data columns (total 10 columns):\n",
      " #   Column  Non-Null Count  Dtype         \n",
      "---  ------  --------------  -----         \n",
      " 0   key     3081 non-null   int64         \n",
      " 1   Wire 1  3055 non-null   datetime64[ns]\n",
      " 2   Wire 2  1079 non-null   datetime64[ns]\n",
      " 3   Wire 3  63 non-null     datetime64[ns]\n",
      " 4   Wire 4  14 non-null     datetime64[ns]\n",
      " 5   Wire 5  1 non-null      datetime64[ns]\n",
      " 6   Wire 6  73 non-null     datetime64[ns]\n",
      " 7   Wire 7  11 non-null     datetime64[ns]\n",
      " 8   Wire 8  19 non-null     datetime64[ns]\n",
      " 9   Wire 9  29 non-null     datetime64[ns]\n",
      "dtypes: datetime64[ns](9), int64(1)\n",
      "memory usage: 240.8 KB\n"
     ]
    }
   ],
   "source": [
    "data_wire_time.info()"
   ]
  },
  {
   "cell_type": "code",
   "execution_count": 25,
   "metadata": {},
   "outputs": [
    {
     "data": {
      "text/html": [
       "<div>\n",
       "<style scoped>\n",
       "    .dataframe tbody tr th:only-of-type {\n",
       "        vertical-align: middle;\n",
       "    }\n",
       "\n",
       "    .dataframe tbody tr th {\n",
       "        vertical-align: top;\n",
       "    }\n",
       "\n",
       "    .dataframe thead th {\n",
       "        text-align: right;\n",
       "    }\n",
       "</style>\n",
       "<table border=\"1\" class=\"dataframe\">\n",
       "  <thead>\n",
       "    <tr style=\"text-align: right;\">\n",
       "      <th></th>\n",
       "      <th>key</th>\n",
       "      <th>Wire 1</th>\n",
       "      <th>Wire 2</th>\n",
       "      <th>Wire 3</th>\n",
       "      <th>Wire 4</th>\n",
       "      <th>Wire 5</th>\n",
       "      <th>Wire 6</th>\n",
       "      <th>Wire 7</th>\n",
       "      <th>Wire 8</th>\n",
       "      <th>Wire 9</th>\n",
       "    </tr>\n",
       "  </thead>\n",
       "  <tbody>\n",
       "    <tr>\n",
       "      <th>0</th>\n",
       "      <td>1</td>\n",
       "      <td>2019-05-03 11:11:41</td>\n",
       "      <td>NaT</td>\n",
       "      <td>NaT</td>\n",
       "      <td>NaT</td>\n",
       "      <td>NaT</td>\n",
       "      <td>NaT</td>\n",
       "      <td>NaT</td>\n",
       "      <td>NaT</td>\n",
       "      <td>NaT</td>\n",
       "    </tr>\n",
       "    <tr>\n",
       "      <th>1</th>\n",
       "      <td>2</td>\n",
       "      <td>2019-05-03 11:46:10</td>\n",
       "      <td>NaT</td>\n",
       "      <td>NaT</td>\n",
       "      <td>NaT</td>\n",
       "      <td>NaT</td>\n",
       "      <td>NaT</td>\n",
       "      <td>NaT</td>\n",
       "      <td>NaT</td>\n",
       "      <td>NaT</td>\n",
       "    </tr>\n",
       "    <tr>\n",
       "      <th>2</th>\n",
       "      <td>3</td>\n",
       "      <td>2019-05-03 12:13:47</td>\n",
       "      <td>NaT</td>\n",
       "      <td>NaT</td>\n",
       "      <td>NaT</td>\n",
       "      <td>NaT</td>\n",
       "      <td>NaT</td>\n",
       "      <td>NaT</td>\n",
       "      <td>NaT</td>\n",
       "      <td>NaT</td>\n",
       "    </tr>\n",
       "    <tr>\n",
       "      <th>3</th>\n",
       "      <td>4</td>\n",
       "      <td>2019-05-03 12:48:05</td>\n",
       "      <td>NaT</td>\n",
       "      <td>NaT</td>\n",
       "      <td>NaT</td>\n",
       "      <td>NaT</td>\n",
       "      <td>NaT</td>\n",
       "      <td>NaT</td>\n",
       "      <td>NaT</td>\n",
       "      <td>NaT</td>\n",
       "    </tr>\n",
       "    <tr>\n",
       "      <th>4</th>\n",
       "      <td>5</td>\n",
       "      <td>2019-05-03 13:18:15</td>\n",
       "      <td>2019-05-03 13:32:06</td>\n",
       "      <td>NaT</td>\n",
       "      <td>NaT</td>\n",
       "      <td>NaT</td>\n",
       "      <td>NaT</td>\n",
       "      <td>NaT</td>\n",
       "      <td>NaT</td>\n",
       "      <td>NaT</td>\n",
       "    </tr>\n",
       "    <tr>\n",
       "      <th>5</th>\n",
       "      <td>6</td>\n",
       "      <td>2019-05-03 13:59:02</td>\n",
       "      <td>2019-05-03 13:59:54</td>\n",
       "      <td>NaT</td>\n",
       "      <td>NaT</td>\n",
       "      <td>NaT</td>\n",
       "      <td>NaT</td>\n",
       "      <td>NaT</td>\n",
       "      <td>NaT</td>\n",
       "      <td>NaT</td>\n",
       "    </tr>\n",
       "    <tr>\n",
       "      <th>6</th>\n",
       "      <td>7</td>\n",
       "      <td>2019-05-03 14:28:46</td>\n",
       "      <td>NaT</td>\n",
       "      <td>NaT</td>\n",
       "      <td>NaT</td>\n",
       "      <td>NaT</td>\n",
       "      <td>NaT</td>\n",
       "      <td>NaT</td>\n",
       "      <td>NaT</td>\n",
       "      <td>NaT</td>\n",
       "    </tr>\n",
       "    <tr>\n",
       "      <th>7</th>\n",
       "      <td>8</td>\n",
       "      <td>2019-05-03 15:03:42</td>\n",
       "      <td>NaT</td>\n",
       "      <td>NaT</td>\n",
       "      <td>NaT</td>\n",
       "      <td>NaT</td>\n",
       "      <td>NaT</td>\n",
       "      <td>NaT</td>\n",
       "      <td>NaT</td>\n",
       "      <td>NaT</td>\n",
       "    </tr>\n",
       "    <tr>\n",
       "      <th>8</th>\n",
       "      <td>9</td>\n",
       "      <td>2019-05-03 15:42:43</td>\n",
       "      <td>2019-05-03 15:58:12</td>\n",
       "      <td>NaT</td>\n",
       "      <td>NaT</td>\n",
       "      <td>NaT</td>\n",
       "      <td>NaT</td>\n",
       "      <td>NaT</td>\n",
       "      <td>NaT</td>\n",
       "      <td>NaT</td>\n",
       "    </tr>\n",
       "    <tr>\n",
       "      <th>9</th>\n",
       "      <td>10</td>\n",
       "      <td>2019-05-03 16:20:25</td>\n",
       "      <td>2019-05-03 16:21:02</td>\n",
       "      <td>NaT</td>\n",
       "      <td>NaT</td>\n",
       "      <td>NaT</td>\n",
       "      <td>NaT</td>\n",
       "      <td>NaT</td>\n",
       "      <td>NaT</td>\n",
       "      <td>NaT</td>\n",
       "    </tr>\n",
       "  </tbody>\n",
       "</table>\n",
       "</div>"
      ],
      "text/plain": [
       "   key              Wire 1              Wire 2 Wire 3 Wire 4 Wire 5 Wire 6  \\\n",
       "0    1 2019-05-03 11:11:41                 NaT    NaT    NaT    NaT    NaT   \n",
       "1    2 2019-05-03 11:46:10                 NaT    NaT    NaT    NaT    NaT   \n",
       "2    3 2019-05-03 12:13:47                 NaT    NaT    NaT    NaT    NaT   \n",
       "3    4 2019-05-03 12:48:05                 NaT    NaT    NaT    NaT    NaT   \n",
       "4    5 2019-05-03 13:18:15 2019-05-03 13:32:06    NaT    NaT    NaT    NaT   \n",
       "5    6 2019-05-03 13:59:02 2019-05-03 13:59:54    NaT    NaT    NaT    NaT   \n",
       "6    7 2019-05-03 14:28:46                 NaT    NaT    NaT    NaT    NaT   \n",
       "7    8 2019-05-03 15:03:42                 NaT    NaT    NaT    NaT    NaT   \n",
       "8    9 2019-05-03 15:42:43 2019-05-03 15:58:12    NaT    NaT    NaT    NaT   \n",
       "9   10 2019-05-03 16:20:25 2019-05-03 16:21:02    NaT    NaT    NaT    NaT   \n",
       "\n",
       "  Wire 7 Wire 8 Wire 9  \n",
       "0    NaT    NaT    NaT  \n",
       "1    NaT    NaT    NaT  \n",
       "2    NaT    NaT    NaT  \n",
       "3    NaT    NaT    NaT  \n",
       "4    NaT    NaT    NaT  \n",
       "5    NaT    NaT    NaT  \n",
       "6    NaT    NaT    NaT  \n",
       "7    NaT    NaT    NaT  \n",
       "8    NaT    NaT    NaT  \n",
       "9    NaT    NaT    NaT  "
      ]
     },
     "execution_count": 25,
     "metadata": {},
     "output_type": "execute_result"
    }
   ],
   "source": [
    "data_wire_time.head(10)"
   ]
  },
  {
   "cell_type": "markdown",
   "metadata": {},
   "source": [
    "#### Данные об обработке стали содержатся в 7 датасетах. Данные об измерениях температуры имеются для 3214 партий. В данных об сыпучих материалах, проволке и измерениях температуры содержатся null-значения, их необходимо будет обработать. Также проанализируем данные на наличие выбросов."
   ]
  },
  {
   "cell_type": "markdown",
   "metadata": {},
   "source": [
    "## Исследовательский и статистический анализ данных"
   ]
  },
  {
   "cell_type": "markdown",
   "metadata": {},
   "source": [
    "### Обработка null-значений"
   ]
  },
  {
   "cell_type": "markdown",
   "metadata": {},
   "source": [
    "Рассмотрим таблицу **data_temp**, в ней содержится 2901 пустая запись. Заполним null-значения предшествующим валидным значением температуры, первичное измерение есть для всех значений **key**."
   ]
  },
  {
   "cell_type": "code",
   "execution_count": 26,
   "metadata": {},
   "outputs": [
    {
     "name": "stdout",
     "output_type": "stream",
     "text": [
      "<class 'pandas.core.frame.DataFrame'>\n",
      "RangeIndex: 15907 entries, 0 to 15906\n",
      "Data columns (total 3 columns):\n",
      " #   Column            Non-Null Count  Dtype         \n",
      "---  ------            --------------  -----         \n",
      " 0   key               15907 non-null  int64         \n",
      " 1   measurement_time  15907 non-null  datetime64[ns]\n",
      " 2   temperature       13006 non-null  float64       \n",
      "dtypes: datetime64[ns](1), float64(1), int64(1)\n",
      "memory usage: 372.9 KB\n"
     ]
    }
   ],
   "source": [
    "data_temp.info()"
   ]
  },
  {
   "cell_type": "code",
   "execution_count": 27,
   "metadata": {},
   "outputs": [],
   "source": [
    "data_temp = data_temp.dropna(subset=['temperature'])"
   ]
  },
  {
   "cell_type": "code",
   "execution_count": 28,
   "metadata": {},
   "outputs": [
    {
     "name": "stdout",
     "output_type": "stream",
     "text": [
      "<class 'pandas.core.frame.DataFrame'>\n",
      "Int64Index: 13006 entries, 0 to 15902\n",
      "Data columns (total 3 columns):\n",
      " #   Column            Non-Null Count  Dtype         \n",
      "---  ------            --------------  -----         \n",
      " 0   key               13006 non-null  int64         \n",
      " 1   measurement_time  13006 non-null  datetime64[ns]\n",
      " 2   temperature       13006 non-null  float64       \n",
      "dtypes: datetime64[ns](1), float64(1), int64(1)\n",
      "memory usage: 406.4 KB\n"
     ]
    }
   ],
   "source": [
    "data_temp.info()"
   ]
  },
  {
   "cell_type": "code",
   "execution_count": 29,
   "metadata": {},
   "outputs": [
    {
     "data": {
      "text/html": [
       "<div>\n",
       "<style scoped>\n",
       "    .dataframe tbody tr th:only-of-type {\n",
       "        vertical-align: middle;\n",
       "    }\n",
       "\n",
       "    .dataframe tbody tr th {\n",
       "        vertical-align: top;\n",
       "    }\n",
       "\n",
       "    .dataframe thead th {\n",
       "        text-align: right;\n",
       "    }\n",
       "</style>\n",
       "<table border=\"1\" class=\"dataframe\">\n",
       "  <thead>\n",
       "    <tr style=\"text-align: right;\">\n",
       "      <th></th>\n",
       "      <th>key</th>\n",
       "      <th>measurement_time</th>\n",
       "      <th>temperature</th>\n",
       "    </tr>\n",
       "  </thead>\n",
       "  <tbody>\n",
       "    <tr>\n",
       "      <th>15894</th>\n",
       "      <td>3240</td>\n",
       "      <td>2019-09-01 02:39:01</td>\n",
       "      <td>1617.0</td>\n",
       "    </tr>\n",
       "  </tbody>\n",
       "</table>\n",
       "</div>"
      ],
      "text/plain": [
       "        key    measurement_time  temperature\n",
       "15894  3240 2019-09-01 02:39:01       1617.0"
      ]
     },
     "execution_count": 29,
     "metadata": {},
     "output_type": "execute_result"
    }
   ],
   "source": [
    "data_temp.loc[data_temp['key'] == 3240]"
   ]
  },
  {
   "cell_type": "markdown",
   "metadata": {},
   "source": [
    "Рассмотрим таблицы **data_bulk** и **data_wire**. Заполним null-значения 0, так как отсутствие данных означает, что добавление примесей не проводилось."
   ]
  },
  {
   "cell_type": "code",
   "execution_count": 30,
   "metadata": {},
   "outputs": [],
   "source": [
    "data_bulk.fillna(0, inplace=True)"
   ]
  },
  {
   "cell_type": "code",
   "execution_count": 31,
   "metadata": {},
   "outputs": [
    {
     "name": "stdout",
     "output_type": "stream",
     "text": [
      "<class 'pandas.core.frame.DataFrame'>\n",
      "RangeIndex: 3129 entries, 0 to 3128\n",
      "Data columns (total 16 columns):\n",
      " #   Column   Non-Null Count  Dtype  \n",
      "---  ------   --------------  -----  \n",
      " 0   key      3129 non-null   int64  \n",
      " 1   Bulk 1   3129 non-null   float64\n",
      " 2   Bulk 2   3129 non-null   float64\n",
      " 3   Bulk 3   3129 non-null   float64\n",
      " 4   Bulk 4   3129 non-null   float64\n",
      " 5   Bulk 5   3129 non-null   float64\n",
      " 6   Bulk 6   3129 non-null   float64\n",
      " 7   Bulk 7   3129 non-null   float64\n",
      " 8   Bulk 8   3129 non-null   float64\n",
      " 9   Bulk 9   3129 non-null   float64\n",
      " 10  Bulk 10  3129 non-null   float64\n",
      " 11  Bulk 11  3129 non-null   float64\n",
      " 12  Bulk 12  3129 non-null   float64\n",
      " 13  Bulk 13  3129 non-null   float64\n",
      " 14  Bulk 14  3129 non-null   float64\n",
      " 15  Bulk 15  3129 non-null   float64\n",
      "dtypes: float64(15), int64(1)\n",
      "memory usage: 391.2 KB\n"
     ]
    }
   ],
   "source": [
    "data_bulk.info()"
   ]
  },
  {
   "cell_type": "code",
   "execution_count": 32,
   "metadata": {},
   "outputs": [
    {
     "data": {
      "text/html": [
       "<div>\n",
       "<style scoped>\n",
       "    .dataframe tbody tr th:only-of-type {\n",
       "        vertical-align: middle;\n",
       "    }\n",
       "\n",
       "    .dataframe tbody tr th {\n",
       "        vertical-align: top;\n",
       "    }\n",
       "\n",
       "    .dataframe thead th {\n",
       "        text-align: right;\n",
       "    }\n",
       "</style>\n",
       "<table border=\"1\" class=\"dataframe\">\n",
       "  <thead>\n",
       "    <tr style=\"text-align: right;\">\n",
       "      <th></th>\n",
       "      <th>key</th>\n",
       "      <th>Bulk 1</th>\n",
       "      <th>Bulk 2</th>\n",
       "      <th>Bulk 3</th>\n",
       "      <th>Bulk 4</th>\n",
       "      <th>Bulk 5</th>\n",
       "      <th>Bulk 6</th>\n",
       "      <th>Bulk 7</th>\n",
       "      <th>Bulk 8</th>\n",
       "      <th>Bulk 9</th>\n",
       "      <th>Bulk 10</th>\n",
       "      <th>Bulk 11</th>\n",
       "      <th>Bulk 12</th>\n",
       "      <th>Bulk 13</th>\n",
       "      <th>Bulk 14</th>\n",
       "      <th>Bulk 15</th>\n",
       "    </tr>\n",
       "  </thead>\n",
       "  <tbody>\n",
       "    <tr>\n",
       "      <th>0</th>\n",
       "      <td>1</td>\n",
       "      <td>0.0</td>\n",
       "      <td>0.0</td>\n",
       "      <td>0.0</td>\n",
       "      <td>43.0</td>\n",
       "      <td>0.0</td>\n",
       "      <td>0.0</td>\n",
       "      <td>0.0</td>\n",
       "      <td>0.0</td>\n",
       "      <td>0.0</td>\n",
       "      <td>0.0</td>\n",
       "      <td>0.0</td>\n",
       "      <td>206.0</td>\n",
       "      <td>0.0</td>\n",
       "      <td>150.0</td>\n",
       "      <td>154.0</td>\n",
       "    </tr>\n",
       "    <tr>\n",
       "      <th>1</th>\n",
       "      <td>2</td>\n",
       "      <td>0.0</td>\n",
       "      <td>0.0</td>\n",
       "      <td>0.0</td>\n",
       "      <td>73.0</td>\n",
       "      <td>0.0</td>\n",
       "      <td>0.0</td>\n",
       "      <td>0.0</td>\n",
       "      <td>0.0</td>\n",
       "      <td>0.0</td>\n",
       "      <td>0.0</td>\n",
       "      <td>0.0</td>\n",
       "      <td>206.0</td>\n",
       "      <td>0.0</td>\n",
       "      <td>149.0</td>\n",
       "      <td>154.0</td>\n",
       "    </tr>\n",
       "    <tr>\n",
       "      <th>2</th>\n",
       "      <td>3</td>\n",
       "      <td>0.0</td>\n",
       "      <td>0.0</td>\n",
       "      <td>0.0</td>\n",
       "      <td>34.0</td>\n",
       "      <td>0.0</td>\n",
       "      <td>0.0</td>\n",
       "      <td>0.0</td>\n",
       "      <td>0.0</td>\n",
       "      <td>0.0</td>\n",
       "      <td>0.0</td>\n",
       "      <td>0.0</td>\n",
       "      <td>205.0</td>\n",
       "      <td>0.0</td>\n",
       "      <td>152.0</td>\n",
       "      <td>153.0</td>\n",
       "    </tr>\n",
       "    <tr>\n",
       "      <th>3</th>\n",
       "      <td>4</td>\n",
       "      <td>0.0</td>\n",
       "      <td>0.0</td>\n",
       "      <td>0.0</td>\n",
       "      <td>81.0</td>\n",
       "      <td>0.0</td>\n",
       "      <td>0.0</td>\n",
       "      <td>0.0</td>\n",
       "      <td>0.0</td>\n",
       "      <td>0.0</td>\n",
       "      <td>0.0</td>\n",
       "      <td>0.0</td>\n",
       "      <td>207.0</td>\n",
       "      <td>0.0</td>\n",
       "      <td>153.0</td>\n",
       "      <td>154.0</td>\n",
       "    </tr>\n",
       "    <tr>\n",
       "      <th>4</th>\n",
       "      <td>5</td>\n",
       "      <td>0.0</td>\n",
       "      <td>0.0</td>\n",
       "      <td>0.0</td>\n",
       "      <td>78.0</td>\n",
       "      <td>0.0</td>\n",
       "      <td>0.0</td>\n",
       "      <td>0.0</td>\n",
       "      <td>0.0</td>\n",
       "      <td>0.0</td>\n",
       "      <td>0.0</td>\n",
       "      <td>0.0</td>\n",
       "      <td>203.0</td>\n",
       "      <td>0.0</td>\n",
       "      <td>151.0</td>\n",
       "      <td>152.0</td>\n",
       "    </tr>\n",
       "  </tbody>\n",
       "</table>\n",
       "</div>"
      ],
      "text/plain": [
       "   key  Bulk 1  Bulk 2  Bulk 3  Bulk 4  Bulk 5  Bulk 6  Bulk 7  Bulk 8  \\\n",
       "0    1     0.0     0.0     0.0    43.0     0.0     0.0     0.0     0.0   \n",
       "1    2     0.0     0.0     0.0    73.0     0.0     0.0     0.0     0.0   \n",
       "2    3     0.0     0.0     0.0    34.0     0.0     0.0     0.0     0.0   \n",
       "3    4     0.0     0.0     0.0    81.0     0.0     0.0     0.0     0.0   \n",
       "4    5     0.0     0.0     0.0    78.0     0.0     0.0     0.0     0.0   \n",
       "\n",
       "   Bulk 9  Bulk 10  Bulk 11  Bulk 12  Bulk 13  Bulk 14  Bulk 15  \n",
       "0     0.0      0.0      0.0    206.0      0.0    150.0    154.0  \n",
       "1     0.0      0.0      0.0    206.0      0.0    149.0    154.0  \n",
       "2     0.0      0.0      0.0    205.0      0.0    152.0    153.0  \n",
       "3     0.0      0.0      0.0    207.0      0.0    153.0    154.0  \n",
       "4     0.0      0.0      0.0    203.0      0.0    151.0    152.0  "
      ]
     },
     "execution_count": 32,
     "metadata": {},
     "output_type": "execute_result"
    }
   ],
   "source": [
    "data_bulk.head()"
   ]
  },
  {
   "cell_type": "code",
   "execution_count": 33,
   "metadata": {},
   "outputs": [],
   "source": [
    "data_wire.fillna(0, inplace=True)"
   ]
  },
  {
   "cell_type": "code",
   "execution_count": 34,
   "metadata": {},
   "outputs": [
    {
     "name": "stdout",
     "output_type": "stream",
     "text": [
      "<class 'pandas.core.frame.DataFrame'>\n",
      "RangeIndex: 3081 entries, 0 to 3080\n",
      "Data columns (total 10 columns):\n",
      " #   Column  Non-Null Count  Dtype  \n",
      "---  ------  --------------  -----  \n",
      " 0   key     3081 non-null   int64  \n",
      " 1   Wire 1  3081 non-null   float64\n",
      " 2   Wire 2  3081 non-null   float64\n",
      " 3   Wire 3  3081 non-null   float64\n",
      " 4   Wire 4  3081 non-null   float64\n",
      " 5   Wire 5  3081 non-null   float64\n",
      " 6   Wire 6  3081 non-null   float64\n",
      " 7   Wire 7  3081 non-null   float64\n",
      " 8   Wire 8  3081 non-null   float64\n",
      " 9   Wire 9  3081 non-null   float64\n",
      "dtypes: float64(9), int64(1)\n",
      "memory usage: 240.8 KB\n"
     ]
    }
   ],
   "source": [
    "data_wire.info()"
   ]
  },
  {
   "cell_type": "code",
   "execution_count": 35,
   "metadata": {},
   "outputs": [
    {
     "data": {
      "text/html": [
       "<div>\n",
       "<style scoped>\n",
       "    .dataframe tbody tr th:only-of-type {\n",
       "        vertical-align: middle;\n",
       "    }\n",
       "\n",
       "    .dataframe tbody tr th {\n",
       "        vertical-align: top;\n",
       "    }\n",
       "\n",
       "    .dataframe thead th {\n",
       "        text-align: right;\n",
       "    }\n",
       "</style>\n",
       "<table border=\"1\" class=\"dataframe\">\n",
       "  <thead>\n",
       "    <tr style=\"text-align: right;\">\n",
       "      <th></th>\n",
       "      <th>key</th>\n",
       "      <th>Wire 1</th>\n",
       "      <th>Wire 2</th>\n",
       "      <th>Wire 3</th>\n",
       "      <th>Wire 4</th>\n",
       "      <th>Wire 5</th>\n",
       "      <th>Wire 6</th>\n",
       "      <th>Wire 7</th>\n",
       "      <th>Wire 8</th>\n",
       "      <th>Wire 9</th>\n",
       "    </tr>\n",
       "  </thead>\n",
       "  <tbody>\n",
       "    <tr>\n",
       "      <th>0</th>\n",
       "      <td>1</td>\n",
       "      <td>60.059998</td>\n",
       "      <td>0.00000</td>\n",
       "      <td>0.0</td>\n",
       "      <td>0.0</td>\n",
       "      <td>0.0</td>\n",
       "      <td>0.0</td>\n",
       "      <td>0.0</td>\n",
       "      <td>0.0</td>\n",
       "      <td>0.0</td>\n",
       "    </tr>\n",
       "    <tr>\n",
       "      <th>1</th>\n",
       "      <td>2</td>\n",
       "      <td>96.052315</td>\n",
       "      <td>0.00000</td>\n",
       "      <td>0.0</td>\n",
       "      <td>0.0</td>\n",
       "      <td>0.0</td>\n",
       "      <td>0.0</td>\n",
       "      <td>0.0</td>\n",
       "      <td>0.0</td>\n",
       "      <td>0.0</td>\n",
       "    </tr>\n",
       "    <tr>\n",
       "      <th>2</th>\n",
       "      <td>3</td>\n",
       "      <td>91.160157</td>\n",
       "      <td>0.00000</td>\n",
       "      <td>0.0</td>\n",
       "      <td>0.0</td>\n",
       "      <td>0.0</td>\n",
       "      <td>0.0</td>\n",
       "      <td>0.0</td>\n",
       "      <td>0.0</td>\n",
       "      <td>0.0</td>\n",
       "    </tr>\n",
       "    <tr>\n",
       "      <th>3</th>\n",
       "      <td>4</td>\n",
       "      <td>89.063515</td>\n",
       "      <td>0.00000</td>\n",
       "      <td>0.0</td>\n",
       "      <td>0.0</td>\n",
       "      <td>0.0</td>\n",
       "      <td>0.0</td>\n",
       "      <td>0.0</td>\n",
       "      <td>0.0</td>\n",
       "      <td>0.0</td>\n",
       "    </tr>\n",
       "    <tr>\n",
       "      <th>4</th>\n",
       "      <td>5</td>\n",
       "      <td>89.238236</td>\n",
       "      <td>9.11456</td>\n",
       "      <td>0.0</td>\n",
       "      <td>0.0</td>\n",
       "      <td>0.0</td>\n",
       "      <td>0.0</td>\n",
       "      <td>0.0</td>\n",
       "      <td>0.0</td>\n",
       "      <td>0.0</td>\n",
       "    </tr>\n",
       "  </tbody>\n",
       "</table>\n",
       "</div>"
      ],
      "text/plain": [
       "   key     Wire 1   Wire 2  Wire 3  Wire 4  Wire 5  Wire 6  Wire 7  Wire 8  \\\n",
       "0    1  60.059998  0.00000     0.0     0.0     0.0     0.0     0.0     0.0   \n",
       "1    2  96.052315  0.00000     0.0     0.0     0.0     0.0     0.0     0.0   \n",
       "2    3  91.160157  0.00000     0.0     0.0     0.0     0.0     0.0     0.0   \n",
       "3    4  89.063515  0.00000     0.0     0.0     0.0     0.0     0.0     0.0   \n",
       "4    5  89.238236  9.11456     0.0     0.0     0.0     0.0     0.0     0.0   \n",
       "\n",
       "   Wire 9  \n",
       "0     0.0  \n",
       "1     0.0  \n",
       "2     0.0  \n",
       "3     0.0  \n",
       "4     0.0  "
      ]
     },
     "execution_count": 35,
     "metadata": {},
     "output_type": "execute_result"
    }
   ],
   "source": [
    "data_wire.head()"
   ]
  },
  {
   "cell_type": "markdown",
   "metadata": {},
   "source": [
    "## Исследовательский анализ данных"
   ]
  },
  {
   "cell_type": "code",
   "execution_count": 36,
   "metadata": {},
   "outputs": [],
   "source": [
    "# Функция построения гистограммы и боксплот\n",
    "def stat_plot(data, param, bins=10):\n",
    "    # Create Fig\n",
    "    fig = plt.figure(figsize=(15, 6), dpi= 80)\n",
    "    grid = plt.GridSpec(4, 4, hspace=0.5, wspace=0.2)\n",
    "\n",
    "    # Define the axes\n",
    "    ax_main = fig.add_subplot(grid[:-1, :-1])\n",
    "    ax_right = fig.add_subplot(grid[:-1, -1])\n",
    "    \n",
    "    # histogram on main ax\n",
    "    ax_main.hist(data[param], bins, histtype='stepfilled', orientation='vertical')\n",
    "\n",
    "    # boxplot in the right\n",
    "    ax_right.boxplot(data[param])\n",
    "    ax_right.grid(axis='y')\n",
    "\n",
    "    # Decorations\n",
    "    ax_main.set(title='Гистограмма и боксплот по параметру '+param)\n",
    "\n",
    "    plt.show()"
   ]
  },
  {
   "cell_type": "code",
   "execution_count": 37,
   "metadata": {},
   "outputs": [],
   "source": [
    "# Функция удаления выбросов\n",
    "def delete_blowout(data, param, q=1.5):\n",
    "    q25 = data[param].describe()['25%']\n",
    "    q75 = data[param].describe()['75%']\n",
    "    bottom_line = q25 - q * (q75 - q25)\n",
    "    upper_line = q75 + q * (q75 - q25)\n",
    "    data.drop(data.loc[data[param] < bottom_line].index, axis=0, inplace=True)\n",
    "    data.drop(data.loc[data[param] > upper_line].index, axis=0, inplace=True)"
   ]
  },
  {
   "cell_type": "markdown",
   "metadata": {},
   "source": [
    "### Рассчет количества и длительности нагрева электродами, суммарной активной и реактивной мощности по каждому из значений **key**"
   ]
  },
  {
   "cell_type": "code",
   "execution_count": 38,
   "metadata": {},
   "outputs": [
    {
     "name": "stdout",
     "output_type": "stream",
     "text": [
      "<class 'pandas.core.frame.DataFrame'>\n",
      "RangeIndex: 14876 entries, 0 to 14875\n",
      "Data columns (total 5 columns):\n",
      " #   Column             Non-Null Count  Dtype         \n",
      "---  ------             --------------  -----         \n",
      " 0   key                14876 non-null  int64         \n",
      " 1   arc_heating_start  14876 non-null  datetime64[ns]\n",
      " 2   arc_heating_stop   14876 non-null  datetime64[ns]\n",
      " 3   active_power       14876 non-null  float64       \n",
      " 4   reactive_power     14876 non-null  float64       \n",
      "dtypes: datetime64[ns](2), float64(2), int64(1)\n",
      "memory usage: 581.2 KB\n"
     ]
    }
   ],
   "source": [
    "data_arc.info()"
   ]
  },
  {
   "cell_type": "code",
   "execution_count": 39,
   "metadata": {},
   "outputs": [],
   "source": [
    "data_arc['heating_time'] = data_arc['arc_heating_stop'] - data_arc['arc_heating_start']"
   ]
  },
  {
   "cell_type": "code",
   "execution_count": 40,
   "metadata": {},
   "outputs": [
    {
     "data": {
      "text/html": [
       "<div>\n",
       "<style scoped>\n",
       "    .dataframe tbody tr th:only-of-type {\n",
       "        vertical-align: middle;\n",
       "    }\n",
       "\n",
       "    .dataframe tbody tr th {\n",
       "        vertical-align: top;\n",
       "    }\n",
       "\n",
       "    .dataframe thead th {\n",
       "        text-align: right;\n",
       "    }\n",
       "</style>\n",
       "<table border=\"1\" class=\"dataframe\">\n",
       "  <thead>\n",
       "    <tr style=\"text-align: right;\">\n",
       "      <th></th>\n",
       "      <th>key</th>\n",
       "      <th>arc_heating_start</th>\n",
       "      <th>arc_heating_stop</th>\n",
       "      <th>active_power</th>\n",
       "      <th>reactive_power</th>\n",
       "      <th>heating_time</th>\n",
       "    </tr>\n",
       "  </thead>\n",
       "  <tbody>\n",
       "    <tr>\n",
       "      <th>0</th>\n",
       "      <td>1</td>\n",
       "      <td>2019-05-03 11:02:14</td>\n",
       "      <td>2019-05-03 11:06:02</td>\n",
       "      <td>0.976059</td>\n",
       "      <td>0.687084</td>\n",
       "      <td>00:03:48</td>\n",
       "    </tr>\n",
       "    <tr>\n",
       "      <th>1</th>\n",
       "      <td>1</td>\n",
       "      <td>2019-05-03 11:07:28</td>\n",
       "      <td>2019-05-03 11:10:33</td>\n",
       "      <td>0.805607</td>\n",
       "      <td>0.520285</td>\n",
       "      <td>00:03:05</td>\n",
       "    </tr>\n",
       "    <tr>\n",
       "      <th>2</th>\n",
       "      <td>1</td>\n",
       "      <td>2019-05-03 11:11:44</td>\n",
       "      <td>2019-05-03 11:14:36</td>\n",
       "      <td>0.744363</td>\n",
       "      <td>0.498805</td>\n",
       "      <td>00:02:52</td>\n",
       "    </tr>\n",
       "    <tr>\n",
       "      <th>3</th>\n",
       "      <td>1</td>\n",
       "      <td>2019-05-03 11:18:14</td>\n",
       "      <td>2019-05-03 11:24:19</td>\n",
       "      <td>1.659363</td>\n",
       "      <td>1.062669</td>\n",
       "      <td>00:06:05</td>\n",
       "    </tr>\n",
       "    <tr>\n",
       "      <th>4</th>\n",
       "      <td>1</td>\n",
       "      <td>2019-05-03 11:26:09</td>\n",
       "      <td>2019-05-03 11:28:37</td>\n",
       "      <td>0.692755</td>\n",
       "      <td>0.414397</td>\n",
       "      <td>00:02:28</td>\n",
       "    </tr>\n",
       "  </tbody>\n",
       "</table>\n",
       "</div>"
      ],
      "text/plain": [
       "   key   arc_heating_start    arc_heating_stop  active_power  reactive_power  \\\n",
       "0    1 2019-05-03 11:02:14 2019-05-03 11:06:02      0.976059        0.687084   \n",
       "1    1 2019-05-03 11:07:28 2019-05-03 11:10:33      0.805607        0.520285   \n",
       "2    1 2019-05-03 11:11:44 2019-05-03 11:14:36      0.744363        0.498805   \n",
       "3    1 2019-05-03 11:18:14 2019-05-03 11:24:19      1.659363        1.062669   \n",
       "4    1 2019-05-03 11:26:09 2019-05-03 11:28:37      0.692755        0.414397   \n",
       "\n",
       "  heating_time  \n",
       "0     00:03:48  \n",
       "1     00:03:05  \n",
       "2     00:02:52  \n",
       "3     00:06:05  \n",
       "4     00:02:28  "
      ]
     },
     "execution_count": 40,
     "metadata": {},
     "output_type": "execute_result"
    }
   ],
   "source": [
    "data_arc.head()"
   ]
  },
  {
   "cell_type": "code",
   "execution_count": 41,
   "metadata": {},
   "outputs": [],
   "source": [
    "arc_pivot = data_arc.pivot_table(index='key', values=['active_power', 'reactive_power', 'heating_time'], aggfunc={'count', 'sum'})"
   ]
  },
  {
   "cell_type": "code",
   "execution_count": 42,
   "metadata": {},
   "outputs": [
    {
     "data": {
      "text/html": [
       "<div>\n",
       "<style scoped>\n",
       "    .dataframe tbody tr th:only-of-type {\n",
       "        vertical-align: middle;\n",
       "    }\n",
       "\n",
       "    .dataframe tbody tr th {\n",
       "        vertical-align: top;\n",
       "    }\n",
       "\n",
       "    .dataframe thead tr th {\n",
       "        text-align: left;\n",
       "    }\n",
       "\n",
       "    .dataframe thead tr:last-of-type th {\n",
       "        text-align: right;\n",
       "    }\n",
       "</style>\n",
       "<table border=\"1\" class=\"dataframe\">\n",
       "  <thead>\n",
       "    <tr>\n",
       "      <th></th>\n",
       "      <th colspan=\"2\" halign=\"left\">active_power</th>\n",
       "      <th colspan=\"2\" halign=\"left\">heating_time</th>\n",
       "      <th colspan=\"2\" halign=\"left\">reactive_power</th>\n",
       "    </tr>\n",
       "    <tr>\n",
       "      <th></th>\n",
       "      <th>count</th>\n",
       "      <th>sum</th>\n",
       "      <th>count</th>\n",
       "      <th>sum</th>\n",
       "      <th>count</th>\n",
       "      <th>sum</th>\n",
       "    </tr>\n",
       "    <tr>\n",
       "      <th>key</th>\n",
       "      <th></th>\n",
       "      <th></th>\n",
       "      <th></th>\n",
       "      <th></th>\n",
       "      <th></th>\n",
       "      <th></th>\n",
       "    </tr>\n",
       "  </thead>\n",
       "  <tbody>\n",
       "    <tr>\n",
       "      <th>1</th>\n",
       "      <td>5</td>\n",
       "      <td>4.878147</td>\n",
       "      <td>5</td>\n",
       "      <td>00:18:18</td>\n",
       "      <td>5</td>\n",
       "      <td>3.183241</td>\n",
       "    </tr>\n",
       "    <tr>\n",
       "      <th>2</th>\n",
       "      <td>4</td>\n",
       "      <td>3.052598</td>\n",
       "      <td>4</td>\n",
       "      <td>00:13:31</td>\n",
       "      <td>4</td>\n",
       "      <td>1.998112</td>\n",
       "    </tr>\n",
       "    <tr>\n",
       "      <th>3</th>\n",
       "      <td>5</td>\n",
       "      <td>2.525882</td>\n",
       "      <td>5</td>\n",
       "      <td>00:10:55</td>\n",
       "      <td>5</td>\n",
       "      <td>1.599076</td>\n",
       "    </tr>\n",
       "    <tr>\n",
       "      <th>4</th>\n",
       "      <td>4</td>\n",
       "      <td>3.209250</td>\n",
       "      <td>4</td>\n",
       "      <td>00:12:21</td>\n",
       "      <td>4</td>\n",
       "      <td>2.060298</td>\n",
       "    </tr>\n",
       "    <tr>\n",
       "      <th>5</th>\n",
       "      <td>4</td>\n",
       "      <td>3.347173</td>\n",
       "      <td>4</td>\n",
       "      <td>00:14:29</td>\n",
       "      <td>4</td>\n",
       "      <td>2.252643</td>\n",
       "    </tr>\n",
       "  </tbody>\n",
       "</table>\n",
       "</div>"
      ],
      "text/plain": [
       "    active_power           heating_time          reactive_power          \n",
       "           count       sum        count      sum          count       sum\n",
       "key                                                                      \n",
       "1              5  4.878147            5 00:18:18              5  3.183241\n",
       "2              4  3.052598            4 00:13:31              4  1.998112\n",
       "3              5  2.525882            5 00:10:55              5  1.599076\n",
       "4              4  3.209250            4 00:12:21              4  2.060298\n",
       "5              4  3.347173            4 00:14:29              4  2.252643"
      ]
     },
     "execution_count": 42,
     "metadata": {},
     "output_type": "execute_result"
    }
   ],
   "source": [
    "arc_pivot.head()"
   ]
  },
  {
   "cell_type": "code",
   "execution_count": 43,
   "metadata": {},
   "outputs": [],
   "source": [
    "arc_pivot.columns = ['count_heating', 'active_power_sum', 'heating_time_count', 'heating_time_sum', 'reactive_power_count', 'reactive_power_sum']"
   ]
  },
  {
   "cell_type": "code",
   "execution_count": 44,
   "metadata": {},
   "outputs": [],
   "source": [
    "arc_pivot.drop(['heating_time_count', 'reactive_power_count'], axis=1, inplace=True)"
   ]
  },
  {
   "cell_type": "code",
   "execution_count": 45,
   "metadata": {},
   "outputs": [
    {
     "data": {
      "text/html": [
       "<div>\n",
       "<style scoped>\n",
       "    .dataframe tbody tr th:only-of-type {\n",
       "        vertical-align: middle;\n",
       "    }\n",
       "\n",
       "    .dataframe tbody tr th {\n",
       "        vertical-align: top;\n",
       "    }\n",
       "\n",
       "    .dataframe thead th {\n",
       "        text-align: right;\n",
       "    }\n",
       "</style>\n",
       "<table border=\"1\" class=\"dataframe\">\n",
       "  <thead>\n",
       "    <tr style=\"text-align: right;\">\n",
       "      <th></th>\n",
       "      <th>count_heating</th>\n",
       "      <th>active_power_sum</th>\n",
       "      <th>heating_time_sum</th>\n",
       "      <th>reactive_power_sum</th>\n",
       "    </tr>\n",
       "    <tr>\n",
       "      <th>key</th>\n",
       "      <th></th>\n",
       "      <th></th>\n",
       "      <th></th>\n",
       "      <th></th>\n",
       "    </tr>\n",
       "  </thead>\n",
       "  <tbody>\n",
       "    <tr>\n",
       "      <th>1</th>\n",
       "      <td>5</td>\n",
       "      <td>4.878147</td>\n",
       "      <td>00:18:18</td>\n",
       "      <td>3.183241</td>\n",
       "    </tr>\n",
       "    <tr>\n",
       "      <th>2</th>\n",
       "      <td>4</td>\n",
       "      <td>3.052598</td>\n",
       "      <td>00:13:31</td>\n",
       "      <td>1.998112</td>\n",
       "    </tr>\n",
       "    <tr>\n",
       "      <th>3</th>\n",
       "      <td>5</td>\n",
       "      <td>2.525882</td>\n",
       "      <td>00:10:55</td>\n",
       "      <td>1.599076</td>\n",
       "    </tr>\n",
       "    <tr>\n",
       "      <th>4</th>\n",
       "      <td>4</td>\n",
       "      <td>3.209250</td>\n",
       "      <td>00:12:21</td>\n",
       "      <td>2.060298</td>\n",
       "    </tr>\n",
       "    <tr>\n",
       "      <th>5</th>\n",
       "      <td>4</td>\n",
       "      <td>3.347173</td>\n",
       "      <td>00:14:29</td>\n",
       "      <td>2.252643</td>\n",
       "    </tr>\n",
       "  </tbody>\n",
       "</table>\n",
       "</div>"
      ],
      "text/plain": [
       "     count_heating  active_power_sum heating_time_sum  reactive_power_sum\n",
       "key                                                                      \n",
       "1                5          4.878147         00:18:18            3.183241\n",
       "2                4          3.052598         00:13:31            1.998112\n",
       "3                5          2.525882         00:10:55            1.599076\n",
       "4                4          3.209250         00:12:21            2.060298\n",
       "5                4          3.347173         00:14:29            2.252643"
      ]
     },
     "execution_count": 45,
     "metadata": {},
     "output_type": "execute_result"
    }
   ],
   "source": [
    "arc_pivot.head()"
   ]
  },
  {
   "cell_type": "markdown",
   "metadata": {},
   "source": [
    "### Анализ распределения, выбросов и статистик"
   ]
  },
  {
   "cell_type": "markdown",
   "metadata": {},
   "source": [
    "Параметр Количество запусков нагрева электродами **count_heating**"
   ]
  },
  {
   "cell_type": "markdown",
   "metadata": {},
   "source": [
    "*Гистограмма и боксплот*"
   ]
  },
  {
   "cell_type": "code",
   "execution_count": 46,
   "metadata": {},
   "outputs": [
    {
     "data": {
      "image/png": "[encoded data removed]",
      "text/plain": [
       "<Figure size 1200x480 with 2 Axes>"
      ]
     },
     "metadata": {
      "needs_background": "light"
     },
     "output_type": "display_data"
    }
   ],
   "source": [
    "stat_plot(arc_pivot, 'count_heating')"
   ]
  },
  {
   "cell_type": "markdown",
   "metadata": {},
   "source": [
    "*Статистики: среднее, минимальные и максимальные значения, медиана и величины 25%- и 75%-квартилей*"
   ]
  },
  {
   "cell_type": "code",
   "execution_count": 47,
   "metadata": {},
   "outputs": [
    {
     "data": {
      "text/plain": [
       "count    3214.000000\n",
       "mean        4.628500\n",
       "std         1.608647\n",
       "min         1.000000\n",
       "25%         4.000000\n",
       "50%         4.000000\n",
       "75%         6.000000\n",
       "max        16.000000\n",
       "Name: count_heating, dtype: float64"
      ]
     },
     "execution_count": 47,
     "metadata": {},
     "output_type": "execute_result"
    }
   ],
   "source": [
    "arc_pivot['count_heating'].describe()"
   ]
  },
  {
   "cell_type": "markdown",
   "metadata": {},
   "source": [
    "Удалим выбросы, выходящие за границу тройного межквартильного интервала."
   ]
  },
  {
   "cell_type": "code",
   "execution_count": 48,
   "metadata": {},
   "outputs": [],
   "source": [
    "delete_blowout(arc_pivot, 'count_heating', 3)"
   ]
  },
  {
   "cell_type": "markdown",
   "metadata": {},
   "source": [
    "Параметр количество запусков нагрева электродами **count_heating** имеет нормальное распределение. В среднем для партии проводится 4.6 запуска нагрева электродами. Минимальное количество нагревов 1, максимальное 16."
   ]
  },
  {
   "cell_type": "markdown",
   "metadata": {},
   "source": [
    "Параметр Сумма потребленной активной мощности **active_power_sum**"
   ]
  },
  {
   "cell_type": "markdown",
   "metadata": {},
   "source": [
    "*Гистограмма и боксплот*"
   ]
  },
  {
   "cell_type": "code",
   "execution_count": 49,
   "metadata": {},
   "outputs": [
    {
     "data": {
      "image/png": "[encoded data removed]",
      "text/plain": [
       "<Figure size 1200x480 with 2 Axes>"
      ]
     },
     "metadata": {
      "needs_background": "light"
     },
     "output_type": "display_data"
    }
   ],
   "source": [
    "stat_plot(arc_pivot, 'active_power_sum', 50)"
   ]
  },
  {
   "cell_type": "markdown",
   "metadata": {},
   "source": [
    "*Статистики: среднее, минимальные и максимальные значения, медиана и величины 25%- и 75%-квартилей*"
   ]
  },
  {
   "cell_type": "code",
   "execution_count": 50,
   "metadata": {
    "scrolled": false
   },
   "outputs": [
    {
     "data": {
      "text/plain": [
       "count    3208.000000\n",
       "mean        3.089014\n",
       "std         1.349229\n",
       "min         0.186226\n",
       "25%         2.125158\n",
       "50%         2.989574\n",
       "75%         3.896307\n",
       "max        11.387710\n",
       "Name: active_power_sum, dtype: float64"
      ]
     },
     "execution_count": 50,
     "metadata": {},
     "output_type": "execute_result"
    }
   ],
   "source": [
    "arc_pivot['active_power_sum'].describe()"
   ]
  },
  {
   "cell_type": "markdown",
   "metadata": {},
   "source": [
    "Удалим выбросы, выходящие за границу тройного межквартильного интервала."
   ]
  },
  {
   "cell_type": "code",
   "execution_count": 51,
   "metadata": {},
   "outputs": [],
   "source": [
    "delete_blowout(arc_pivot, 'active_power_sum', 3)"
   ]
  },
  {
   "cell_type": "markdown",
   "metadata": {},
   "source": [
    "Параметр сумма потребленной активной мощности **active_power_sum** имеет нормальное распределение. В среднем для нагрева партии используется 3 единицы активной мощности. Минимальная суммарная активная мощность 0.18, максимальная - 11.39."
   ]
  },
  {
   "cell_type": "markdown",
   "metadata": {},
   "source": [
    "Параметр Сумма потребленной реактивной мощности **reactive_power_sum**"
   ]
  },
  {
   "cell_type": "code",
   "execution_count": 52,
   "metadata": {},
   "outputs": [
    {
     "data": {
      "image/png": "[encoded data removed]",
      "text/plain": [
       "<Figure size 1200x480 with 2 Axes>"
      ]
     },
     "metadata": {
      "needs_background": "light"
     },
     "output_type": "display_data"
    }
   ],
   "source": [
    "stat_plot(arc_pivot, 'reactive_power_sum', 50)"
   ]
  },
  {
   "cell_type": "markdown",
   "metadata": {},
   "source": [
    "В данных присутствуют значения с реактивной мощностью меньше 0. Найдем эти записи и проверим данные в исходной таблице *data_arc*."
   ]
  },
  {
   "cell_type": "code",
   "execution_count": 53,
   "metadata": {},
   "outputs": [
    {
     "data": {
      "text/html": [
       "<div>\n",
       "<style scoped>\n",
       "    .dataframe tbody tr th:only-of-type {\n",
       "        vertical-align: middle;\n",
       "    }\n",
       "\n",
       "    .dataframe tbody tr th {\n",
       "        vertical-align: top;\n",
       "    }\n",
       "\n",
       "    .dataframe thead th {\n",
       "        text-align: right;\n",
       "    }\n",
       "</style>\n",
       "<table border=\"1\" class=\"dataframe\">\n",
       "  <thead>\n",
       "    <tr style=\"text-align: right;\">\n",
       "      <th></th>\n",
       "      <th>count_heating</th>\n",
       "      <th>active_power_sum</th>\n",
       "      <th>heating_time_sum</th>\n",
       "      <th>reactive_power_sum</th>\n",
       "    </tr>\n",
       "    <tr>\n",
       "      <th>key</th>\n",
       "      <th></th>\n",
       "      <th></th>\n",
       "      <th></th>\n",
       "      <th></th>\n",
       "    </tr>\n",
       "  </thead>\n",
       "  <tbody>\n",
       "    <tr>\n",
       "      <th>2116</th>\n",
       "      <td>4</td>\n",
       "      <td>1.848681</td>\n",
       "      <td>00:07:13</td>\n",
       "      <td>-714.591636</td>\n",
       "    </tr>\n",
       "  </tbody>\n",
       "</table>\n",
       "</div>"
      ],
      "text/plain": [
       "      count_heating  active_power_sum heating_time_sum  reactive_power_sum\n",
       "key                                                                       \n",
       "2116              4          1.848681         00:07:13         -714.591636"
      ]
     },
     "execution_count": 53,
     "metadata": {},
     "output_type": "execute_result"
    }
   ],
   "source": [
    "arc_pivot.loc[arc_pivot['reactive_power_sum'] < 0]"
   ]
  },
  {
   "cell_type": "code",
   "execution_count": 54,
   "metadata": {},
   "outputs": [
    {
     "data": {
      "text/html": [
       "<div>\n",
       "<style scoped>\n",
       "    .dataframe tbody tr th:only-of-type {\n",
       "        vertical-align: middle;\n",
       "    }\n",
       "\n",
       "    .dataframe tbody tr th {\n",
       "        vertical-align: top;\n",
       "    }\n",
       "\n",
       "    .dataframe thead th {\n",
       "        text-align: right;\n",
       "    }\n",
       "</style>\n",
       "<table border=\"1\" class=\"dataframe\">\n",
       "  <thead>\n",
       "    <tr style=\"text-align: right;\">\n",
       "      <th></th>\n",
       "      <th>key</th>\n",
       "      <th>arc_heating_start</th>\n",
       "      <th>arc_heating_stop</th>\n",
       "      <th>active_power</th>\n",
       "      <th>reactive_power</th>\n",
       "      <th>heating_time</th>\n",
       "    </tr>\n",
       "  </thead>\n",
       "  <tbody>\n",
       "    <tr>\n",
       "      <th>9778</th>\n",
       "      <td>2116</td>\n",
       "      <td>2019-07-24 00:29:52</td>\n",
       "      <td>2019-07-24 00:31:54</td>\n",
       "      <td>0.433266</td>\n",
       "      <td>0.306141</td>\n",
       "      <td>00:02:02</td>\n",
       "    </tr>\n",
       "    <tr>\n",
       "      <th>9779</th>\n",
       "      <td>2116</td>\n",
       "      <td>2019-07-24 00:35:50</td>\n",
       "      <td>2019-07-24 00:38:05</td>\n",
       "      <td>0.620265</td>\n",
       "      <td>0.408352</td>\n",
       "      <td>00:02:15</td>\n",
       "    </tr>\n",
       "    <tr>\n",
       "      <th>9780</th>\n",
       "      <td>2116</td>\n",
       "      <td>2019-07-24 00:44:48</td>\n",
       "      <td>2019-07-24 00:46:37</td>\n",
       "      <td>0.495782</td>\n",
       "      <td>-715.504924</td>\n",
       "      <td>00:01:49</td>\n",
       "    </tr>\n",
       "    <tr>\n",
       "      <th>9781</th>\n",
       "      <td>2116</td>\n",
       "      <td>2019-07-24 00:51:51</td>\n",
       "      <td>2019-07-24 00:52:58</td>\n",
       "      <td>0.299368</td>\n",
       "      <td>0.198796</td>\n",
       "      <td>00:01:07</td>\n",
       "    </tr>\n",
       "  </tbody>\n",
       "</table>\n",
       "</div>"
      ],
      "text/plain": [
       "       key   arc_heating_start    arc_heating_stop  active_power  \\\n",
       "9778  2116 2019-07-24 00:29:52 2019-07-24 00:31:54      0.433266   \n",
       "9779  2116 2019-07-24 00:35:50 2019-07-24 00:38:05      0.620265   \n",
       "9780  2116 2019-07-24 00:44:48 2019-07-24 00:46:37      0.495782   \n",
       "9781  2116 2019-07-24 00:51:51 2019-07-24 00:52:58      0.299368   \n",
       "\n",
       "      reactive_power heating_time  \n",
       "9778        0.306141     00:02:02  \n",
       "9779        0.408352     00:02:15  \n",
       "9780     -715.504924     00:01:49  \n",
       "9781        0.198796     00:01:07  "
      ]
     },
     "execution_count": 54,
     "metadata": {},
     "output_type": "execute_result"
    }
   ],
   "source": [
    "data_arc.loc[data_arc['key'] == 2116]"
   ]
  },
  {
   "cell_type": "markdown",
   "metadata": {},
   "source": [
    "Найдена строка, в которой для реактивной мощности отрицательное значение. Для восстановления значения рассчитаем средние соотношение потребленной активной и реактивной мощности."
   ]
  },
  {
   "cell_type": "code",
   "execution_count": 55,
   "metadata": {},
   "outputs": [],
   "source": [
    "data_arc['ratio_power'] = data_arc['active_power'] / data_arc['reactive_power']"
   ]
  },
  {
   "cell_type": "code",
   "execution_count": 56,
   "metadata": {},
   "outputs": [
    {
     "data": {
      "text/html": [
       "<div>\n",
       "<style scoped>\n",
       "    .dataframe tbody tr th:only-of-type {\n",
       "        vertical-align: middle;\n",
       "    }\n",
       "\n",
       "    .dataframe tbody tr th {\n",
       "        vertical-align: top;\n",
       "    }\n",
       "\n",
       "    .dataframe thead th {\n",
       "        text-align: right;\n",
       "    }\n",
       "</style>\n",
       "<table border=\"1\" class=\"dataframe\">\n",
       "  <thead>\n",
       "    <tr style=\"text-align: right;\">\n",
       "      <th></th>\n",
       "      <th>key</th>\n",
       "      <th>arc_heating_start</th>\n",
       "      <th>arc_heating_stop</th>\n",
       "      <th>active_power</th>\n",
       "      <th>reactive_power</th>\n",
       "      <th>heating_time</th>\n",
       "      <th>ratio_power</th>\n",
       "    </tr>\n",
       "  </thead>\n",
       "  <tbody>\n",
       "    <tr>\n",
       "      <th>0</th>\n",
       "      <td>1</td>\n",
       "      <td>2019-05-03 11:02:14</td>\n",
       "      <td>2019-05-03 11:06:02</td>\n",
       "      <td>0.976059</td>\n",
       "      <td>0.687084</td>\n",
       "      <td>00:03:48</td>\n",
       "      <td>1.420582</td>\n",
       "    </tr>\n",
       "    <tr>\n",
       "      <th>1</th>\n",
       "      <td>1</td>\n",
       "      <td>2019-05-03 11:07:28</td>\n",
       "      <td>2019-05-03 11:10:33</td>\n",
       "      <td>0.805607</td>\n",
       "      <td>0.520285</td>\n",
       "      <td>00:03:05</td>\n",
       "      <td>1.548395</td>\n",
       "    </tr>\n",
       "    <tr>\n",
       "      <th>2</th>\n",
       "      <td>1</td>\n",
       "      <td>2019-05-03 11:11:44</td>\n",
       "      <td>2019-05-03 11:14:36</td>\n",
       "      <td>0.744363</td>\n",
       "      <td>0.498805</td>\n",
       "      <td>00:02:52</td>\n",
       "      <td>1.492292</td>\n",
       "    </tr>\n",
       "    <tr>\n",
       "      <th>3</th>\n",
       "      <td>1</td>\n",
       "      <td>2019-05-03 11:18:14</td>\n",
       "      <td>2019-05-03 11:24:19</td>\n",
       "      <td>1.659363</td>\n",
       "      <td>1.062669</td>\n",
       "      <td>00:06:05</td>\n",
       "      <td>1.561504</td>\n",
       "    </tr>\n",
       "    <tr>\n",
       "      <th>4</th>\n",
       "      <td>1</td>\n",
       "      <td>2019-05-03 11:26:09</td>\n",
       "      <td>2019-05-03 11:28:37</td>\n",
       "      <td>0.692755</td>\n",
       "      <td>0.414397</td>\n",
       "      <td>00:02:28</td>\n",
       "      <td>1.671717</td>\n",
       "    </tr>\n",
       "  </tbody>\n",
       "</table>\n",
       "</div>"
      ],
      "text/plain": [
       "   key   arc_heating_start    arc_heating_stop  active_power  reactive_power  \\\n",
       "0    1 2019-05-03 11:02:14 2019-05-03 11:06:02      0.976059        0.687084   \n",
       "1    1 2019-05-03 11:07:28 2019-05-03 11:10:33      0.805607        0.520285   \n",
       "2    1 2019-05-03 11:11:44 2019-05-03 11:14:36      0.744363        0.498805   \n",
       "3    1 2019-05-03 11:18:14 2019-05-03 11:24:19      1.659363        1.062669   \n",
       "4    1 2019-05-03 11:26:09 2019-05-03 11:28:37      0.692755        0.414397   \n",
       "\n",
       "  heating_time  ratio_power  \n",
       "0     00:03:48     1.420582  \n",
       "1     00:03:05     1.548395  \n",
       "2     00:02:52     1.492292  \n",
       "3     00:06:05     1.561504  \n",
       "4     00:02:28     1.671717  "
      ]
     },
     "execution_count": 56,
     "metadata": {},
     "output_type": "execute_result"
    }
   ],
   "source": [
    "data_arc.head()"
   ]
  },
  {
   "cell_type": "code",
   "execution_count": 57,
   "metadata": {},
   "outputs": [],
   "source": [
    "arc_mean_ratio_power = data_arc.pivot_table(index='key', values='ratio_power', aggfunc={'mean'}).reset_index()"
   ]
  },
  {
   "cell_type": "code",
   "execution_count": 58,
   "metadata": {},
   "outputs": [
    {
     "data": {
      "text/plain": [
       "count    3214.000000\n",
       "mean        1.357452\n",
       "std         0.132824\n",
       "min         0.676106\n",
       "25%         1.292892\n",
       "50%         1.370550\n",
       "75%         1.438292\n",
       "max         1.782164\n",
       "Name: mean, dtype: float64"
      ]
     },
     "execution_count": 58,
     "metadata": {},
     "output_type": "execute_result"
    }
   ],
   "source": [
    "arc_mean_ratio_power['mean'].describe()"
   ]
  },
  {
   "cell_type": "markdown",
   "metadata": {},
   "source": [
    "Средний коэффициент соотношения потребленной активной и реактивной мощности равен 1.357. Восстановим некорректное значение реактивной мощности."
   ]
  },
  {
   "cell_type": "code",
   "execution_count": 59,
   "metadata": {},
   "outputs": [],
   "source": [
    "data_arc.loc[9780, 'reactive_power'] = data_arc.loc[9780, 'active_power'] / 1.357452"
   ]
  },
  {
   "cell_type": "code",
   "execution_count": 60,
   "metadata": {},
   "outputs": [
    {
     "data": {
      "text/html": [
       "<div>\n",
       "<style scoped>\n",
       "    .dataframe tbody tr th:only-of-type {\n",
       "        vertical-align: middle;\n",
       "    }\n",
       "\n",
       "    .dataframe tbody tr th {\n",
       "        vertical-align: top;\n",
       "    }\n",
       "\n",
       "    .dataframe thead th {\n",
       "        text-align: right;\n",
       "    }\n",
       "</style>\n",
       "<table border=\"1\" class=\"dataframe\">\n",
       "  <thead>\n",
       "    <tr style=\"text-align: right;\">\n",
       "      <th></th>\n",
       "      <th>key</th>\n",
       "      <th>arc_heating_start</th>\n",
       "      <th>arc_heating_stop</th>\n",
       "      <th>active_power</th>\n",
       "      <th>reactive_power</th>\n",
       "      <th>heating_time</th>\n",
       "      <th>ratio_power</th>\n",
       "    </tr>\n",
       "  </thead>\n",
       "  <tbody>\n",
       "    <tr>\n",
       "      <th>9778</th>\n",
       "      <td>2116</td>\n",
       "      <td>2019-07-24 00:29:52</td>\n",
       "      <td>2019-07-24 00:31:54</td>\n",
       "      <td>0.433266</td>\n",
       "      <td>0.306141</td>\n",
       "      <td>00:02:02</td>\n",
       "      <td>1.415252</td>\n",
       "    </tr>\n",
       "    <tr>\n",
       "      <th>9779</th>\n",
       "      <td>2116</td>\n",
       "      <td>2019-07-24 00:35:50</td>\n",
       "      <td>2019-07-24 00:38:05</td>\n",
       "      <td>0.620265</td>\n",
       "      <td>0.408352</td>\n",
       "      <td>00:02:15</td>\n",
       "      <td>1.518947</td>\n",
       "    </tr>\n",
       "    <tr>\n",
       "      <th>9780</th>\n",
       "      <td>2116</td>\n",
       "      <td>2019-07-24 00:44:48</td>\n",
       "      <td>2019-07-24 00:46:37</td>\n",
       "      <td>0.495782</td>\n",
       "      <td>0.365230</td>\n",
       "      <td>00:01:49</td>\n",
       "      <td>-0.000693</td>\n",
       "    </tr>\n",
       "    <tr>\n",
       "      <th>9781</th>\n",
       "      <td>2116</td>\n",
       "      <td>2019-07-24 00:51:51</td>\n",
       "      <td>2019-07-24 00:52:58</td>\n",
       "      <td>0.299368</td>\n",
       "      <td>0.198796</td>\n",
       "      <td>00:01:07</td>\n",
       "      <td>1.505906</td>\n",
       "    </tr>\n",
       "  </tbody>\n",
       "</table>\n",
       "</div>"
      ],
      "text/plain": [
       "       key   arc_heating_start    arc_heating_stop  active_power  \\\n",
       "9778  2116 2019-07-24 00:29:52 2019-07-24 00:31:54      0.433266   \n",
       "9779  2116 2019-07-24 00:35:50 2019-07-24 00:38:05      0.620265   \n",
       "9780  2116 2019-07-24 00:44:48 2019-07-24 00:46:37      0.495782   \n",
       "9781  2116 2019-07-24 00:51:51 2019-07-24 00:52:58      0.299368   \n",
       "\n",
       "      reactive_power heating_time  ratio_power  \n",
       "9778        0.306141     00:02:02     1.415252  \n",
       "9779        0.408352     00:02:15     1.518947  \n",
       "9780        0.365230     00:01:49    -0.000693  \n",
       "9781        0.198796     00:01:07     1.505906  "
      ]
     },
     "execution_count": 60,
     "metadata": {},
     "output_type": "execute_result"
    }
   ],
   "source": [
    "data_arc.loc[data_arc['key'] == 2116]"
   ]
  },
  {
   "cell_type": "markdown",
   "metadata": {},
   "source": [
    "Обновим данные в сводной таблице. Рассчитаем суммарную реактивную мощность для **key** равным 2116."
   ]
  },
  {
   "cell_type": "code",
   "execution_count": 61,
   "metadata": {},
   "outputs": [],
   "source": [
    "arc_pivot.loc[2116, 'reactive_power_sum'] = data_arc.loc[data_arc['key'] == 2116, 'reactive_power'].sum()"
   ]
  },
  {
   "cell_type": "markdown",
   "metadata": {},
   "source": [
    "Проверим отсутствие отрицательных значений для поля **reactive_power_sum**."
   ]
  },
  {
   "cell_type": "code",
   "execution_count": 62,
   "metadata": {},
   "outputs": [
    {
     "data": {
      "text/html": [
       "<div>\n",
       "<style scoped>\n",
       "    .dataframe tbody tr th:only-of-type {\n",
       "        vertical-align: middle;\n",
       "    }\n",
       "\n",
       "    .dataframe tbody tr th {\n",
       "        vertical-align: top;\n",
       "    }\n",
       "\n",
       "    .dataframe thead th {\n",
       "        text-align: right;\n",
       "    }\n",
       "</style>\n",
       "<table border=\"1\" class=\"dataframe\">\n",
       "  <thead>\n",
       "    <tr style=\"text-align: right;\">\n",
       "      <th></th>\n",
       "      <th>count_heating</th>\n",
       "      <th>active_power_sum</th>\n",
       "      <th>heating_time_sum</th>\n",
       "      <th>reactive_power_sum</th>\n",
       "    </tr>\n",
       "    <tr>\n",
       "      <th>key</th>\n",
       "      <th></th>\n",
       "      <th></th>\n",
       "      <th></th>\n",
       "      <th></th>\n",
       "    </tr>\n",
       "  </thead>\n",
       "  <tbody>\n",
       "  </tbody>\n",
       "</table>\n",
       "</div>"
      ],
      "text/plain": [
       "Empty DataFrame\n",
       "Columns: [count_heating, active_power_sum, heating_time_sum, reactive_power_sum]\n",
       "Index: []"
      ]
     },
     "execution_count": 62,
     "metadata": {},
     "output_type": "execute_result"
    }
   ],
   "source": [
    "arc_pivot.loc[arc_pivot['reactive_power_sum'] < 0]"
   ]
  },
  {
   "cell_type": "markdown",
   "metadata": {},
   "source": [
    "Построим гистограмму и боксплот на исправленных данных."
   ]
  },
  {
   "cell_type": "code",
   "execution_count": 63,
   "metadata": {},
   "outputs": [
    {
     "data": {
      "image/png": "[encoded data removed]",
      "text/plain": [
       "<Figure size 1200x480 with 2 Axes>"
      ]
     },
     "metadata": {
      "needs_background": "light"
     },
     "output_type": "display_data"
    }
   ],
   "source": [
    "stat_plot(arc_pivot, 'reactive_power_sum', 50)"
   ]
  },
  {
   "cell_type": "markdown",
   "metadata": {},
   "source": [
    "*Статистики: среднее, минимальные и максимальные значения, медиана и величины 25%- и 75%-квартилей*"
   ]
  },
  {
   "cell_type": "code",
   "execution_count": 64,
   "metadata": {
    "scrolled": false
   },
   "outputs": [
    {
     "data": {
      "text/plain": [
       "count    3206.000000\n",
       "mean        2.302121\n",
       "std         1.002543\n",
       "min         0.158247\n",
       "25%         1.598756\n",
       "50%         2.227459\n",
       "75%         2.887711\n",
       "max         8.876344\n",
       "Name: reactive_power_sum, dtype: float64"
      ]
     },
     "execution_count": 64,
     "metadata": {},
     "output_type": "execute_result"
    }
   ],
   "source": [
    "arc_pivot['reactive_power_sum'].describe()"
   ]
  },
  {
   "cell_type": "markdown",
   "metadata": {},
   "source": [
    "Удалим выбросы, выходящие за границу тройного межквартильного интервала."
   ]
  },
  {
   "cell_type": "code",
   "execution_count": 65,
   "metadata": {},
   "outputs": [],
   "source": [
    "delete_blowout(arc_pivot, 'reactive_power_sum', 3)"
   ]
  },
  {
   "cell_type": "markdown",
   "metadata": {},
   "source": [
    "Параметр сумма потребленной реактивной мощности **reactive_power_sum** имеет нормальное распределение. В среднем для нагрева партии используется 2.3 единицы реактивной мощности. Минимальная суммарная реактивная мощность 0.16, максимальная - 8.88."
   ]
  },
  {
   "cell_type": "markdown",
   "metadata": {},
   "source": [
    "#### Рассчет полной мощности потребленной для нагрева электродов."
   ]
  },
  {
   "cell_type": "markdown",
   "metadata": {},
   "source": [
    "Восспользуемся формулой:  \n",
    "* $S$ - полная мощность\n",
    "* $P$ - активная мощность\n",
    "* $Q$ - реактивная мощность\n",
    "\n",
    "$$\n",
    "S = \\sqrt{P^{2} + Q^{2}}\n",
    "$$"
   ]
  },
  {
   "cell_type": "code",
   "execution_count": 66,
   "metadata": {},
   "outputs": [
    {
     "name": "stdout",
     "output_type": "stream",
     "text": [
      "<class 'pandas.core.frame.DataFrame'>\n",
      "RangeIndex: 14876 entries, 0 to 14875\n",
      "Data columns (total 7 columns):\n",
      " #   Column             Non-Null Count  Dtype          \n",
      "---  ------             --------------  -----          \n",
      " 0   key                14876 non-null  int64          \n",
      " 1   arc_heating_start  14876 non-null  datetime64[ns] \n",
      " 2   arc_heating_stop   14876 non-null  datetime64[ns] \n",
      " 3   active_power       14876 non-null  float64        \n",
      " 4   reactive_power     14876 non-null  float64        \n",
      " 5   heating_time       14876 non-null  timedelta64[ns]\n",
      " 6   ratio_power        14876 non-null  float64        \n",
      "dtypes: datetime64[ns](2), float64(3), int64(1), timedelta64[ns](1)\n",
      "memory usage: 813.7 KB\n"
     ]
    }
   ],
   "source": [
    "data_arc.info()"
   ]
  },
  {
   "cell_type": "code",
   "execution_count": 67,
   "metadata": {},
   "outputs": [
    {
     "data": {
      "text/html": [
       "<div>\n",
       "<style scoped>\n",
       "    .dataframe tbody tr th:only-of-type {\n",
       "        vertical-align: middle;\n",
       "    }\n",
       "\n",
       "    .dataframe tbody tr th {\n",
       "        vertical-align: top;\n",
       "    }\n",
       "\n",
       "    .dataframe thead th {\n",
       "        text-align: right;\n",
       "    }\n",
       "</style>\n",
       "<table border=\"1\" class=\"dataframe\">\n",
       "  <thead>\n",
       "    <tr style=\"text-align: right;\">\n",
       "      <th></th>\n",
       "      <th>key</th>\n",
       "      <th>arc_heating_start</th>\n",
       "      <th>arc_heating_stop</th>\n",
       "      <th>active_power</th>\n",
       "      <th>reactive_power</th>\n",
       "      <th>heating_time</th>\n",
       "      <th>ratio_power</th>\n",
       "    </tr>\n",
       "  </thead>\n",
       "  <tbody>\n",
       "    <tr>\n",
       "      <th>0</th>\n",
       "      <td>1</td>\n",
       "      <td>2019-05-03 11:02:14</td>\n",
       "      <td>2019-05-03 11:06:02</td>\n",
       "      <td>0.976059</td>\n",
       "      <td>0.687084</td>\n",
       "      <td>00:03:48</td>\n",
       "      <td>1.420582</td>\n",
       "    </tr>\n",
       "    <tr>\n",
       "      <th>1</th>\n",
       "      <td>1</td>\n",
       "      <td>2019-05-03 11:07:28</td>\n",
       "      <td>2019-05-03 11:10:33</td>\n",
       "      <td>0.805607</td>\n",
       "      <td>0.520285</td>\n",
       "      <td>00:03:05</td>\n",
       "      <td>1.548395</td>\n",
       "    </tr>\n",
       "    <tr>\n",
       "      <th>2</th>\n",
       "      <td>1</td>\n",
       "      <td>2019-05-03 11:11:44</td>\n",
       "      <td>2019-05-03 11:14:36</td>\n",
       "      <td>0.744363</td>\n",
       "      <td>0.498805</td>\n",
       "      <td>00:02:52</td>\n",
       "      <td>1.492292</td>\n",
       "    </tr>\n",
       "    <tr>\n",
       "      <th>3</th>\n",
       "      <td>1</td>\n",
       "      <td>2019-05-03 11:18:14</td>\n",
       "      <td>2019-05-03 11:24:19</td>\n",
       "      <td>1.659363</td>\n",
       "      <td>1.062669</td>\n",
       "      <td>00:06:05</td>\n",
       "      <td>1.561504</td>\n",
       "    </tr>\n",
       "    <tr>\n",
       "      <th>4</th>\n",
       "      <td>1</td>\n",
       "      <td>2019-05-03 11:26:09</td>\n",
       "      <td>2019-05-03 11:28:37</td>\n",
       "      <td>0.692755</td>\n",
       "      <td>0.414397</td>\n",
       "      <td>00:02:28</td>\n",
       "      <td>1.671717</td>\n",
       "    </tr>\n",
       "  </tbody>\n",
       "</table>\n",
       "</div>"
      ],
      "text/plain": [
       "   key   arc_heating_start    arc_heating_stop  active_power  reactive_power  \\\n",
       "0    1 2019-05-03 11:02:14 2019-05-03 11:06:02      0.976059        0.687084   \n",
       "1    1 2019-05-03 11:07:28 2019-05-03 11:10:33      0.805607        0.520285   \n",
       "2    1 2019-05-03 11:11:44 2019-05-03 11:14:36      0.744363        0.498805   \n",
       "3    1 2019-05-03 11:18:14 2019-05-03 11:24:19      1.659363        1.062669   \n",
       "4    1 2019-05-03 11:26:09 2019-05-03 11:28:37      0.692755        0.414397   \n",
       "\n",
       "  heating_time  ratio_power  \n",
       "0     00:03:48     1.420582  \n",
       "1     00:03:05     1.548395  \n",
       "2     00:02:52     1.492292  \n",
       "3     00:06:05     1.561504  \n",
       "4     00:02:28     1.671717  "
      ]
     },
     "execution_count": 67,
     "metadata": {},
     "output_type": "execute_result"
    }
   ],
   "source": [
    "data_arc.head()"
   ]
  },
  {
   "cell_type": "code",
   "execution_count": 68,
   "metadata": {},
   "outputs": [],
   "source": [
    "import math"
   ]
  },
  {
   "cell_type": "code",
   "execution_count": 69,
   "metadata": {},
   "outputs": [],
   "source": [
    "def full_power(row):\n",
    "    full_power = math.sqrt(row['active_power']**2 + row['reactive_power']**2)\n",
    "    return full_power"
   ]
  },
  {
   "cell_type": "code",
   "execution_count": 70,
   "metadata": {},
   "outputs": [],
   "source": [
    "data_arc['full_power'] = data_arc.apply(full_power, axis=1)"
   ]
  },
  {
   "cell_type": "code",
   "execution_count": 71,
   "metadata": {},
   "outputs": [
    {
     "data": {
      "text/html": [
       "<div>\n",
       "<style scoped>\n",
       "    .dataframe tbody tr th:only-of-type {\n",
       "        vertical-align: middle;\n",
       "    }\n",
       "\n",
       "    .dataframe tbody tr th {\n",
       "        vertical-align: top;\n",
       "    }\n",
       "\n",
       "    .dataframe thead th {\n",
       "        text-align: right;\n",
       "    }\n",
       "</style>\n",
       "<table border=\"1\" class=\"dataframe\">\n",
       "  <thead>\n",
       "    <tr style=\"text-align: right;\">\n",
       "      <th></th>\n",
       "      <th>key</th>\n",
       "      <th>arc_heating_start</th>\n",
       "      <th>arc_heating_stop</th>\n",
       "      <th>active_power</th>\n",
       "      <th>reactive_power</th>\n",
       "      <th>heating_time</th>\n",
       "      <th>ratio_power</th>\n",
       "      <th>full_power</th>\n",
       "    </tr>\n",
       "  </thead>\n",
       "  <tbody>\n",
       "    <tr>\n",
       "      <th>0</th>\n",
       "      <td>1</td>\n",
       "      <td>2019-05-03 11:02:14</td>\n",
       "      <td>2019-05-03 11:06:02</td>\n",
       "      <td>0.976059</td>\n",
       "      <td>0.687084</td>\n",
       "      <td>00:03:48</td>\n",
       "      <td>1.420582</td>\n",
       "      <td>1.193639</td>\n",
       "    </tr>\n",
       "    <tr>\n",
       "      <th>1</th>\n",
       "      <td>1</td>\n",
       "      <td>2019-05-03 11:07:28</td>\n",
       "      <td>2019-05-03 11:10:33</td>\n",
       "      <td>0.805607</td>\n",
       "      <td>0.520285</td>\n",
       "      <td>00:03:05</td>\n",
       "      <td>1.548395</td>\n",
       "      <td>0.959010</td>\n",
       "    </tr>\n",
       "    <tr>\n",
       "      <th>2</th>\n",
       "      <td>1</td>\n",
       "      <td>2019-05-03 11:11:44</td>\n",
       "      <td>2019-05-03 11:14:36</td>\n",
       "      <td>0.744363</td>\n",
       "      <td>0.498805</td>\n",
       "      <td>00:02:52</td>\n",
       "      <td>1.492292</td>\n",
       "      <td>0.896038</td>\n",
       "    </tr>\n",
       "    <tr>\n",
       "      <th>3</th>\n",
       "      <td>1</td>\n",
       "      <td>2019-05-03 11:18:14</td>\n",
       "      <td>2019-05-03 11:24:19</td>\n",
       "      <td>1.659363</td>\n",
       "      <td>1.062669</td>\n",
       "      <td>00:06:05</td>\n",
       "      <td>1.561504</td>\n",
       "      <td>1.970470</td>\n",
       "    </tr>\n",
       "    <tr>\n",
       "      <th>4</th>\n",
       "      <td>1</td>\n",
       "      <td>2019-05-03 11:26:09</td>\n",
       "      <td>2019-05-03 11:28:37</td>\n",
       "      <td>0.692755</td>\n",
       "      <td>0.414397</td>\n",
       "      <td>00:02:28</td>\n",
       "      <td>1.671717</td>\n",
       "      <td>0.807239</td>\n",
       "    </tr>\n",
       "  </tbody>\n",
       "</table>\n",
       "</div>"
      ],
      "text/plain": [
       "   key   arc_heating_start    arc_heating_stop  active_power  reactive_power  \\\n",
       "0    1 2019-05-03 11:02:14 2019-05-03 11:06:02      0.976059        0.687084   \n",
       "1    1 2019-05-03 11:07:28 2019-05-03 11:10:33      0.805607        0.520285   \n",
       "2    1 2019-05-03 11:11:44 2019-05-03 11:14:36      0.744363        0.498805   \n",
       "3    1 2019-05-03 11:18:14 2019-05-03 11:24:19      1.659363        1.062669   \n",
       "4    1 2019-05-03 11:26:09 2019-05-03 11:28:37      0.692755        0.414397   \n",
       "\n",
       "  heating_time  ratio_power  full_power  \n",
       "0     00:03:48     1.420582    1.193639  \n",
       "1     00:03:05     1.548395    0.959010  \n",
       "2     00:02:52     1.492292    0.896038  \n",
       "3     00:06:05     1.561504    1.970470  \n",
       "4     00:02:28     1.671717    0.807239  "
      ]
     },
     "execution_count": 71,
     "metadata": {},
     "output_type": "execute_result"
    }
   ],
   "source": [
    "data_arc.head()"
   ]
  },
  {
   "cell_type": "markdown",
   "metadata": {},
   "source": [
    "Рассчитаем суммарную полную энергию потребленную для нагрева каждой партии."
   ]
  },
  {
   "cell_type": "code",
   "execution_count": 72,
   "metadata": {},
   "outputs": [],
   "source": [
    "arc_full_power_sum = data_arc.pivot_table(index='key', values='full_power', aggfunc={'sum'}).reset_index()"
   ]
  },
  {
   "cell_type": "code",
   "execution_count": 73,
   "metadata": {},
   "outputs": [
    {
     "data": {
      "text/html": [
       "<div>\n",
       "<style scoped>\n",
       "    .dataframe tbody tr th:only-of-type {\n",
       "        vertical-align: middle;\n",
       "    }\n",
       "\n",
       "    .dataframe tbody tr th {\n",
       "        vertical-align: top;\n",
       "    }\n",
       "\n",
       "    .dataframe thead th {\n",
       "        text-align: right;\n",
       "    }\n",
       "</style>\n",
       "<table border=\"1\" class=\"dataframe\">\n",
       "  <thead>\n",
       "    <tr style=\"text-align: right;\">\n",
       "      <th></th>\n",
       "      <th>key</th>\n",
       "      <th>sum</th>\n",
       "    </tr>\n",
       "  </thead>\n",
       "  <tbody>\n",
       "    <tr>\n",
       "      <th>0</th>\n",
       "      <td>1</td>\n",
       "      <td>5.826395</td>\n",
       "    </tr>\n",
       "    <tr>\n",
       "      <th>1</th>\n",
       "      <td>2</td>\n",
       "      <td>3.649216</td>\n",
       "    </tr>\n",
       "    <tr>\n",
       "      <th>2</th>\n",
       "      <td>3</td>\n",
       "      <td>2.989534</td>\n",
       "    </tr>\n",
       "    <tr>\n",
       "      <th>3</th>\n",
       "      <td>4</td>\n",
       "      <td>3.814962</td>\n",
       "    </tr>\n",
       "    <tr>\n",
       "      <th>4</th>\n",
       "      <td>5</td>\n",
       "      <td>4.035758</td>\n",
       "    </tr>\n",
       "  </tbody>\n",
       "</table>\n",
       "</div>"
      ],
      "text/plain": [
       "   key       sum\n",
       "0    1  5.826395\n",
       "1    2  3.649216\n",
       "2    3  2.989534\n",
       "3    4  3.814962\n",
       "4    5  4.035758"
      ]
     },
     "execution_count": 73,
     "metadata": {},
     "output_type": "execute_result"
    }
   ],
   "source": [
    "arc_full_power_sum.head()"
   ]
  },
  {
   "cell_type": "markdown",
   "metadata": {},
   "source": [
    "*Построим гистограмму и боксплот*"
   ]
  },
  {
   "cell_type": "code",
   "execution_count": 74,
   "metadata": {},
   "outputs": [
    {
     "data": {
      "image/png": "[encoded data removed]",
      "text/plain": [
       "<Figure size 1200x480 with 2 Axes>"
      ]
     },
     "metadata": {
      "needs_background": "light"
     },
     "output_type": "display_data"
    }
   ],
   "source": [
    "stat_plot(arc_full_power_sum, 'sum', 50)"
   ]
  },
  {
   "cell_type": "markdown",
   "metadata": {},
   "source": [
    "*Статистики: среднее, минимальные и максимальные значения, медиана и величины 25%- и 75%-квартилей*"
   ]
  },
  {
   "cell_type": "code",
   "execution_count": 75,
   "metadata": {
    "scrolled": false
   },
   "outputs": [
    {
     "data": {
      "text/plain": [
       "count    3214.000000\n",
       "mean        3.882167\n",
       "std         1.740046\n",
       "min         0.257637\n",
       "25%         2.674763\n",
       "50%         3.749955\n",
       "75%         4.858563\n",
       "max        21.564771\n",
       "Name: sum, dtype: float64"
      ]
     },
     "execution_count": 75,
     "metadata": {},
     "output_type": "execute_result"
    }
   ],
   "source": [
    "arc_full_power_sum['sum'].describe()"
   ]
  },
  {
   "cell_type": "markdown",
   "metadata": {},
   "source": [
    "Удалим выбросы, выходящие за границу тройного межквартильного интервала."
   ]
  },
  {
   "cell_type": "code",
   "execution_count": 76,
   "metadata": {},
   "outputs": [],
   "source": [
    "delete_blowout(arc_full_power_sum, 'sum', 3)"
   ]
  },
  {
   "cell_type": "markdown",
   "metadata": {},
   "source": [
    "Параметр сумма потребленной полной мощности **full_power_sum** имеет нормальное распределение. В среднем для нагрева партии используется 3.88 единицы полной мощности. Минимальная суммарная полная мощность 1.74, максимальная - 21.56."
   ]
  },
  {
   "cell_type": "markdown",
   "metadata": {},
   "source": [
    "### Исследование целевого параметра Финальная температура"
   ]
  },
  {
   "cell_type": "markdown",
   "metadata": {},
   "source": [
    "#### Получим финальную темрепатуру и рассчитаем дельту нагрева от первого замера до последнего для каждой партии."
   ]
  },
  {
   "cell_type": "markdown",
   "metadata": {},
   "source": [
    "Предварительно рассчитаем количество замеров по каждому уникальному **key**"
   ]
  },
  {
   "cell_type": "code",
   "execution_count": 77,
   "metadata": {},
   "outputs": [
    {
     "name": "stdout",
     "output_type": "stream",
     "text": [
      "<class 'pandas.core.frame.DataFrame'>\n",
      "Int64Index: 13006 entries, 0 to 15902\n",
      "Data columns (total 3 columns):\n",
      " #   Column            Non-Null Count  Dtype         \n",
      "---  ------            --------------  -----         \n",
      " 0   key               13006 non-null  int64         \n",
      " 1   measurement_time  13006 non-null  datetime64[ns]\n",
      " 2   temperature       13006 non-null  float64       \n",
      "dtypes: datetime64[ns](1), float64(1), int64(1)\n",
      "memory usage: 406.4 KB\n"
     ]
    }
   ],
   "source": [
    "data_temp.info()"
   ]
  },
  {
   "cell_type": "code",
   "execution_count": 78,
   "metadata": {},
   "outputs": [],
   "source": [
    "data_temp_count = data_temp['key'].value_counts().reset_index()"
   ]
  },
  {
   "cell_type": "markdown",
   "metadata": {},
   "source": [
    "Проверим, что для всех партий есть информация о минимум 2х замерах."
   ]
  },
  {
   "cell_type": "code",
   "execution_count": 79,
   "metadata": {},
   "outputs": [],
   "source": [
    "data_temp_count.columns = ['key', 'count']"
   ]
  },
  {
   "cell_type": "code",
   "execution_count": 80,
   "metadata": {},
   "outputs": [],
   "source": [
    "data_temp_key_list = data_temp_count.loc[data_temp_count['count'] < 2, 'key'].values"
   ]
  },
  {
   "cell_type": "code",
   "execution_count": 81,
   "metadata": {},
   "outputs": [
    {
     "data": {
      "text/plain": [
       "741"
      ]
     },
     "execution_count": 81,
     "metadata": {},
     "output_type": "execute_result"
    }
   ],
   "source": [
    "len(data_temp_key_list)"
   ]
  },
  {
   "cell_type": "markdown",
   "metadata": {},
   "source": [
    "Для 741 партии содержится только одна запись о замере температуры, удалим данные из датасета *data_temp*."
   ]
  },
  {
   "cell_type": "code",
   "execution_count": 82,
   "metadata": {},
   "outputs": [],
   "source": [
    "data_temp_index = data_temp.loc[data_temp['key'].isin(data_temp_key_list)].index"
   ]
  },
  {
   "cell_type": "code",
   "execution_count": 83,
   "metadata": {},
   "outputs": [],
   "source": [
    "data_temp.drop(data_temp_index, axis=0, inplace=True)"
   ]
  },
  {
   "cell_type": "code",
   "execution_count": 84,
   "metadata": {},
   "outputs": [
    {
     "name": "stdout",
     "output_type": "stream",
     "text": [
      "<class 'pandas.core.frame.DataFrame'>\n",
      "Int64Index: 12265 entries, 0 to 12266\n",
      "Data columns (total 3 columns):\n",
      " #   Column            Non-Null Count  Dtype         \n",
      "---  ------            --------------  -----         \n",
      " 0   key               12265 non-null  int64         \n",
      " 1   measurement_time  12265 non-null  datetime64[ns]\n",
      " 2   temperature       12265 non-null  float64       \n",
      "dtypes: datetime64[ns](1), float64(1), int64(1)\n",
      "memory usage: 383.3 KB\n"
     ]
    }
   ],
   "source": [
    "data_temp.info()"
   ]
  },
  {
   "cell_type": "markdown",
   "metadata": {},
   "source": [
    "Получим списко уникальных значений параметра **key**"
   ]
  },
  {
   "cell_type": "code",
   "execution_count": 85,
   "metadata": {},
   "outputs": [],
   "source": [
    "temp_key = data_temp['key'].unique()"
   ]
  },
  {
   "cell_type": "markdown",
   "metadata": {},
   "source": [
    "Сформируем таблицу содержащую данные о начальной, финальной температуре и разнице между ними."
   ]
  },
  {
   "cell_type": "code",
   "execution_count": 86,
   "metadata": {},
   "outputs": [],
   "source": [
    "temp_diff = [[]]"
   ]
  },
  {
   "cell_type": "code",
   "execution_count": 87,
   "metadata": {},
   "outputs": [],
   "source": [
    "k=0\n",
    "for key in temp_key:\n",
    "    temp_list = data_temp.loc[data_temp['key'] == key, 'temperature'].reset_index(drop=True)\n",
    "    key_diff_temp = temp_list[len(temp_list)-1] - temp_list[0]\n",
    "    temp_diff[k].append(key)\n",
    "    temp_diff[k].append(temp_list[0])\n",
    "    temp_diff[k].append(temp_list[len(temp_list)-1])\n",
    "    temp_diff[k].append(key_diff_temp)\n",
    "    temp_diff.append([])\n",
    "    k+=1"
   ]
  },
  {
   "cell_type": "code",
   "execution_count": 88,
   "metadata": {},
   "outputs": [],
   "source": [
    "temp_diff = pd.DataFrame(temp_diff, columns=['key', 'first_temperature', 'last_temperature', 'temp_diff'])"
   ]
  },
  {
   "cell_type": "code",
   "execution_count": 89,
   "metadata": {},
   "outputs": [
    {
     "name": "stdout",
     "output_type": "stream",
     "text": [
      "<class 'pandas.core.frame.DataFrame'>\n",
      "RangeIndex: 2476 entries, 0 to 2475\n",
      "Data columns (total 4 columns):\n",
      " #   Column             Non-Null Count  Dtype  \n",
      "---  ------             --------------  -----  \n",
      " 0   key                2475 non-null   float64\n",
      " 1   first_temperature  2475 non-null   float64\n",
      " 2   last_temperature   2475 non-null   float64\n",
      " 3   temp_diff          2475 non-null   float64\n",
      "dtypes: float64(4)\n",
      "memory usage: 77.5 KB\n"
     ]
    }
   ],
   "source": [
    "temp_diff.info()"
   ]
  },
  {
   "cell_type": "code",
   "execution_count": 90,
   "metadata": {},
   "outputs": [],
   "source": [
    "temp_diff = temp_diff.drop(2475, axis=0)"
   ]
  },
  {
   "cell_type": "code",
   "execution_count": 91,
   "metadata": {},
   "outputs": [],
   "source": [
    "temp_diff['key'] = temp_diff['key'].astype(int)"
   ]
  },
  {
   "cell_type": "code",
   "execution_count": 92,
   "metadata": {},
   "outputs": [
    {
     "data": {
      "text/html": [
       "<div>\n",
       "<style scoped>\n",
       "    .dataframe tbody tr th:only-of-type {\n",
       "        vertical-align: middle;\n",
       "    }\n",
       "\n",
       "    .dataframe tbody tr th {\n",
       "        vertical-align: top;\n",
       "    }\n",
       "\n",
       "    .dataframe thead th {\n",
       "        text-align: right;\n",
       "    }\n",
       "</style>\n",
       "<table border=\"1\" class=\"dataframe\">\n",
       "  <thead>\n",
       "    <tr style=\"text-align: right;\">\n",
       "      <th></th>\n",
       "      <th>key</th>\n",
       "      <th>first_temperature</th>\n",
       "      <th>last_temperature</th>\n",
       "      <th>temp_diff</th>\n",
       "    </tr>\n",
       "  </thead>\n",
       "  <tbody>\n",
       "    <tr>\n",
       "      <th>0</th>\n",
       "      <td>1</td>\n",
       "      <td>1571.0</td>\n",
       "      <td>1613.0</td>\n",
       "      <td>42.0</td>\n",
       "    </tr>\n",
       "    <tr>\n",
       "      <th>1</th>\n",
       "      <td>2</td>\n",
       "      <td>1581.0</td>\n",
       "      <td>1602.0</td>\n",
       "      <td>21.0</td>\n",
       "    </tr>\n",
       "    <tr>\n",
       "      <th>2</th>\n",
       "      <td>3</td>\n",
       "      <td>1596.0</td>\n",
       "      <td>1599.0</td>\n",
       "      <td>3.0</td>\n",
       "    </tr>\n",
       "    <tr>\n",
       "      <th>3</th>\n",
       "      <td>4</td>\n",
       "      <td>1601.0</td>\n",
       "      <td>1625.0</td>\n",
       "      <td>24.0</td>\n",
       "    </tr>\n",
       "    <tr>\n",
       "      <th>4</th>\n",
       "      <td>5</td>\n",
       "      <td>1576.0</td>\n",
       "      <td>1602.0</td>\n",
       "      <td>26.0</td>\n",
       "    </tr>\n",
       "    <tr>\n",
       "      <th>...</th>\n",
       "      <td>...</td>\n",
       "      <td>...</td>\n",
       "      <td>...</td>\n",
       "      <td>...</td>\n",
       "    </tr>\n",
       "    <tr>\n",
       "      <th>2470</th>\n",
       "      <td>2495</td>\n",
       "      <td>1570.0</td>\n",
       "      <td>1591.0</td>\n",
       "      <td>21.0</td>\n",
       "    </tr>\n",
       "    <tr>\n",
       "      <th>2471</th>\n",
       "      <td>2496</td>\n",
       "      <td>1554.0</td>\n",
       "      <td>1591.0</td>\n",
       "      <td>37.0</td>\n",
       "    </tr>\n",
       "    <tr>\n",
       "      <th>2472</th>\n",
       "      <td>2497</td>\n",
       "      <td>1571.0</td>\n",
       "      <td>1589.0</td>\n",
       "      <td>18.0</td>\n",
       "    </tr>\n",
       "    <tr>\n",
       "      <th>2473</th>\n",
       "      <td>2498</td>\n",
       "      <td>1591.0</td>\n",
       "      <td>1594.0</td>\n",
       "      <td>3.0</td>\n",
       "    </tr>\n",
       "    <tr>\n",
       "      <th>2474</th>\n",
       "      <td>2499</td>\n",
       "      <td>1569.0</td>\n",
       "      <td>1603.0</td>\n",
       "      <td>34.0</td>\n",
       "    </tr>\n",
       "  </tbody>\n",
       "</table>\n",
       "<p>2475 rows × 4 columns</p>\n",
       "</div>"
      ],
      "text/plain": [
       "       key  first_temperature  last_temperature  temp_diff\n",
       "0        1             1571.0            1613.0       42.0\n",
       "1        2             1581.0            1602.0       21.0\n",
       "2        3             1596.0            1599.0        3.0\n",
       "3        4             1601.0            1625.0       24.0\n",
       "4        5             1576.0            1602.0       26.0\n",
       "...    ...                ...               ...        ...\n",
       "2470  2495             1570.0            1591.0       21.0\n",
       "2471  2496             1554.0            1591.0       37.0\n",
       "2472  2497             1571.0            1589.0       18.0\n",
       "2473  2498             1591.0            1594.0        3.0\n",
       "2474  2499             1569.0            1603.0       34.0\n",
       "\n",
       "[2475 rows x 4 columns]"
      ]
     },
     "execution_count": 92,
     "metadata": {},
     "output_type": "execute_result"
    }
   ],
   "source": [
    "temp_diff"
   ]
  },
  {
   "cell_type": "markdown",
   "metadata": {},
   "source": [
    "Параметр Финальная температура **last_temperature**"
   ]
  },
  {
   "cell_type": "markdown",
   "metadata": {},
   "source": [
    "*Построим гистограмму и боксплот*"
   ]
  },
  {
   "cell_type": "code",
   "execution_count": 93,
   "metadata": {},
   "outputs": [
    {
     "data": {
      "image/png": "[encoded data removed]",
      "text/plain": [
       "<Figure size 1200x480 with 2 Axes>"
      ]
     },
     "metadata": {
      "needs_background": "light"
     },
     "output_type": "display_data"
    }
   ],
   "source": [
    "stat_plot(temp_diff, 'last_temperature', 50)"
   ]
  },
  {
   "cell_type": "markdown",
   "metadata": {},
   "source": [
    "*Статистики: среднее, минимальные и максимальные значения, медиана и величины 25%- и 75%-квартилей*"
   ]
  },
  {
   "cell_type": "code",
   "execution_count": 94,
   "metadata": {
    "scrolled": true
   },
   "outputs": [
    {
     "data": {
      "text/plain": [
       "count    2475.000000\n",
       "mean     1595.336162\n",
       "std        16.023153\n",
       "min      1541.000000\n",
       "25%      1587.000000\n",
       "50%      1593.000000\n",
       "75%      1599.000000\n",
       "max      1700.000000\n",
       "Name: last_temperature, dtype: float64"
      ]
     },
     "execution_count": 94,
     "metadata": {},
     "output_type": "execute_result"
    }
   ],
   "source": [
    "temp_diff['last_temperature'].describe()"
   ]
  },
  {
   "cell_type": "markdown",
   "metadata": {},
   "source": [
    "Удалим выбросы, выходящие за границу тройного межквартильного интервала."
   ]
  },
  {
   "cell_type": "code",
   "execution_count": 95,
   "metadata": {},
   "outputs": [],
   "source": [
    "delete_blowout(temp_diff, 'last_temperature', 3)"
   ]
  },
  {
   "cell_type": "markdown",
   "metadata": {},
   "source": [
    "Параметр финальная температура **last_temperature** имеет нормальное распределение. В среднем партия нагревается до 1594 градусов. Минимальная температура составляет 1529 градусов, максимальная - 1700."
   ]
  },
  {
   "cell_type": "markdown",
   "metadata": {},
   "source": [
    "Параметр Дельта между начальной и финальной температурой **temp_diff**"
   ]
  },
  {
   "cell_type": "markdown",
   "metadata": {},
   "source": [
    "*Построим гистограмму и боксплот*"
   ]
  },
  {
   "cell_type": "code",
   "execution_count": 96,
   "metadata": {},
   "outputs": [
    {
     "data": {
      "image/png": "[encoded data removed]",
      "text/plain": [
       "<Figure size 1200x480 with 2 Axes>"
      ]
     },
     "metadata": {
      "needs_background": "light"
     },
     "output_type": "display_data"
    }
   ],
   "source": [
    "stat_plot(temp_diff, 'temp_diff', 100)"
   ]
  },
  {
   "cell_type": "markdown",
   "metadata": {},
   "source": [
    "*Статистики: среднее, минимальные и максимальные значения, медиана и величины 25%- и 75%-квартилей*"
   ]
  },
  {
   "cell_type": "code",
   "execution_count": 97,
   "metadata": {
    "scrolled": false
   },
   "outputs": [
    {
     "data": {
      "text/plain": [
       "count    2389.000000\n",
       "mean        6.559230\n",
       "std        27.264439\n",
       "min       -94.000000\n",
       "25%        -9.000000\n",
       "50%         7.000000\n",
       "75%        22.000000\n",
       "max       408.000000\n",
       "Name: temp_diff, dtype: float64"
      ]
     },
     "execution_count": 97,
     "metadata": {},
     "output_type": "execute_result"
    }
   ],
   "source": [
    "temp_diff['temp_diff'].describe()"
   ]
  },
  {
   "cell_type": "markdown",
   "metadata": {},
   "source": [
    "В данных наблюдается всплеск в районе 0."
   ]
  },
  {
   "cell_type": "code",
   "execution_count": 98,
   "metadata": {},
   "outputs": [
    {
     "data": {
      "text/plain": [
       "40"
      ]
     },
     "execution_count": 98,
     "metadata": {},
     "output_type": "execute_result"
    }
   ],
   "source": [
    "temp_diff.loc[temp_diff['temp_diff'] == 0, 'key'].count()"
   ]
  },
  {
   "cell_type": "markdown",
   "metadata": {},
   "source": [
    "Удалим выбросы, выходящие за границу тройного межквартильного интервала."
   ]
  },
  {
   "cell_type": "code",
   "execution_count": 99,
   "metadata": {},
   "outputs": [],
   "source": [
    "delete_blowout(temp_diff, 'temp_diff', 3)"
   ]
  },
  {
   "cell_type": "markdown",
   "metadata": {},
   "source": [
    "Параметр Дельта температур **temp_diff** имеет нормальное распределение. В среднем разница начальной и финальной температуры составляет 4.98 градусов. Минимальная разница составляет -98 градусов, максимальная - 408. Наблюдается большое количество партий, 752 штуки, для которых температура не изменилась."
   ]
  },
  {
   "cell_type": "markdown",
   "metadata": {},
   "source": [
    "Параметр Начальная температура **first_temperature**"
   ]
  },
  {
   "cell_type": "markdown",
   "metadata": {},
   "source": [
    "*Построим гистограмму и боксплот*"
   ]
  },
  {
   "cell_type": "code",
   "execution_count": 100,
   "metadata": {
    "scrolled": false
   },
   "outputs": [
    {
     "data": {
      "image/png": "[encoded data removed]",
      "text/plain": [
       "<Figure size 1200x480 with 2 Axes>"
      ]
     },
     "metadata": {
      "needs_background": "light"
     },
     "output_type": "display_data"
    }
   ],
   "source": [
    "stat_plot(temp_diff, 'first_temperature', 50)"
   ]
  },
  {
   "cell_type": "markdown",
   "metadata": {},
   "source": [
    "*Статистики: среднее, минимальные и максимальные значения, медиана и величины 25%- и 75%-квартилей*"
   ]
  },
  {
   "cell_type": "code",
   "execution_count": 101,
   "metadata": {
    "scrolled": true
   },
   "outputs": [
    {
     "data": {
      "text/plain": [
       "count    2385.000000\n",
       "mean     1587.405451\n",
       "std        23.569536\n",
       "min      1519.000000\n",
       "25%      1571.000000\n",
       "50%      1587.000000\n",
       "75%      1603.000000\n",
       "max      1673.000000\n",
       "Name: first_temperature, dtype: float64"
      ]
     },
     "execution_count": 101,
     "metadata": {},
     "output_type": "execute_result"
    }
   ],
   "source": [
    "temp_diff['first_temperature'].describe()"
   ]
  },
  {
   "cell_type": "markdown",
   "metadata": {},
   "source": [
    "Удалим выбросы, выходящие за границу тройного межквартильного интервала."
   ]
  },
  {
   "cell_type": "code",
   "execution_count": 102,
   "metadata": {},
   "outputs": [],
   "source": [
    "delete_blowout(temp_diff, 'first_temperature', 3)"
   ]
  },
  {
   "cell_type": "markdown",
   "metadata": {},
   "source": [
    "Параметр финальная температура **first_temperature** имеет нормальное распределение. В среднем партия нагревается до 1588 градусов. Минимальная температура составляет 1519 градусов, максимальная - 1673."
   ]
  },
  {
   "cell_type": "markdown",
   "metadata": {},
   "source": [
    "#### Исследуем данные об инертном газе"
   ]
  },
  {
   "cell_type": "markdown",
   "metadata": {},
   "source": [
    "*Построим гистограмму и боксплот*"
   ]
  },
  {
   "cell_type": "code",
   "execution_count": 103,
   "metadata": {},
   "outputs": [
    {
     "data": {
      "image/png": "[encoded data removed]",
      "text/plain": [
       "<Figure size 1200x480 with 2 Axes>"
      ]
     },
     "metadata": {
      "needs_background": "light"
     },
     "output_type": "display_data"
    }
   ],
   "source": [
    "stat_plot(data_gas, 'gas 1', 100)"
   ]
  },
  {
   "cell_type": "markdown",
   "metadata": {},
   "source": [
    "*Статистики: среднее, минимальные и максимальные значения, медиана и величины 25%- и 75%-квартилей*"
   ]
  },
  {
   "cell_type": "code",
   "execution_count": 104,
   "metadata": {},
   "outputs": [
    {
     "data": {
      "text/plain": [
       "count    3239.000000\n",
       "mean       11.002062\n",
       "std         6.220327\n",
       "min         0.008399\n",
       "25%         7.043089\n",
       "50%         9.836267\n",
       "75%        13.769915\n",
       "max        77.995040\n",
       "Name: gas 1, dtype: float64"
      ]
     },
     "execution_count": 104,
     "metadata": {},
     "output_type": "execute_result"
    }
   ],
   "source": [
    "data_gas['gas 1'].describe()"
   ]
  },
  {
   "cell_type": "markdown",
   "metadata": {},
   "source": [
    "Удалим выбросы, выходящие за границу тройного межквартильного интервала."
   ]
  },
  {
   "cell_type": "code",
   "execution_count": 105,
   "metadata": {},
   "outputs": [],
   "source": [
    "delete_blowout(data_gas, 'gas 1', 3)"
   ]
  },
  {
   "cell_type": "markdown",
   "metadata": {},
   "source": [
    "Параметр Объем инертного газа **gas 1** имеет нормальное распределение. В среднем на партию для продува используется 11 единиц объема инертного газа. Минимальный объем составляет 0.008 единиц, максимальная - 77.99."
   ]
  },
  {
   "cell_type": "markdown",
   "metadata": {},
   "source": [
    "#### Исследуем данные о суммарном количестве добавленных сыпучих материалов "
   ]
  },
  {
   "cell_type": "markdown",
   "metadata": {},
   "source": [
    "Рассчитаем суммарное количество сыпучих материалов и суммарное количество проволки, добавленных в каждую партию"
   ]
  },
  {
   "cell_type": "code",
   "execution_count": 106,
   "metadata": {},
   "outputs": [
    {
     "name": "stdout",
     "output_type": "stream",
     "text": [
      "<class 'pandas.core.frame.DataFrame'>\n",
      "RangeIndex: 3129 entries, 0 to 3128\n",
      "Data columns (total 16 columns):\n",
      " #   Column   Non-Null Count  Dtype  \n",
      "---  ------   --------------  -----  \n",
      " 0   key      3129 non-null   int64  \n",
      " 1   Bulk 1   3129 non-null   float64\n",
      " 2   Bulk 2   3129 non-null   float64\n",
      " 3   Bulk 3   3129 non-null   float64\n",
      " 4   Bulk 4   3129 non-null   float64\n",
      " 5   Bulk 5   3129 non-null   float64\n",
      " 6   Bulk 6   3129 non-null   float64\n",
      " 7   Bulk 7   3129 non-null   float64\n",
      " 8   Bulk 8   3129 non-null   float64\n",
      " 9   Bulk 9   3129 non-null   float64\n",
      " 10  Bulk 10  3129 non-null   float64\n",
      " 11  Bulk 11  3129 non-null   float64\n",
      " 12  Bulk 12  3129 non-null   float64\n",
      " 13  Bulk 13  3129 non-null   float64\n",
      " 14  Bulk 14  3129 non-null   float64\n",
      " 15  Bulk 15  3129 non-null   float64\n",
      "dtypes: float64(15), int64(1)\n",
      "memory usage: 391.2 KB\n"
     ]
    }
   ],
   "source": [
    "data_bulk.info()"
   ]
  },
  {
   "cell_type": "code",
   "execution_count": 107,
   "metadata": {},
   "outputs": [],
   "source": [
    "data_bulk['sum_bulk_add'] = data_bulk[['Bulk 1', 'Bulk 2', 'Bulk 3', 'Bulk 4', 'Bulk 5', 'Bulk 6', \n",
    "                                       'Bulk 7', 'Bulk 8', 'Bulk 9', 'Bulk 10', 'Bulk 11', 'Bulk 12', \n",
    "                                       'Bulk 14', 'Bulk 13', 'Bulk 15']].sum(axis=1)"
   ]
  },
  {
   "cell_type": "code",
   "execution_count": 108,
   "metadata": {},
   "outputs": [
    {
     "data": {
      "text/html": [
       "<div>\n",
       "<style scoped>\n",
       "    .dataframe tbody tr th:only-of-type {\n",
       "        vertical-align: middle;\n",
       "    }\n",
       "\n",
       "    .dataframe tbody tr th {\n",
       "        vertical-align: top;\n",
       "    }\n",
       "\n",
       "    .dataframe thead th {\n",
       "        text-align: right;\n",
       "    }\n",
       "</style>\n",
       "<table border=\"1\" class=\"dataframe\">\n",
       "  <thead>\n",
       "    <tr style=\"text-align: right;\">\n",
       "      <th></th>\n",
       "      <th>key</th>\n",
       "      <th>Bulk 1</th>\n",
       "      <th>Bulk 2</th>\n",
       "      <th>Bulk 3</th>\n",
       "      <th>Bulk 4</th>\n",
       "      <th>Bulk 5</th>\n",
       "      <th>Bulk 6</th>\n",
       "      <th>Bulk 7</th>\n",
       "      <th>Bulk 8</th>\n",
       "      <th>Bulk 9</th>\n",
       "      <th>Bulk 10</th>\n",
       "      <th>Bulk 11</th>\n",
       "      <th>Bulk 12</th>\n",
       "      <th>Bulk 13</th>\n",
       "      <th>Bulk 14</th>\n",
       "      <th>Bulk 15</th>\n",
       "      <th>sum_bulk_add</th>\n",
       "    </tr>\n",
       "  </thead>\n",
       "  <tbody>\n",
       "    <tr>\n",
       "      <th>0</th>\n",
       "      <td>1</td>\n",
       "      <td>0.0</td>\n",
       "      <td>0.0</td>\n",
       "      <td>0.0</td>\n",
       "      <td>43.0</td>\n",
       "      <td>0.0</td>\n",
       "      <td>0.0</td>\n",
       "      <td>0.0</td>\n",
       "      <td>0.0</td>\n",
       "      <td>0.0</td>\n",
       "      <td>0.0</td>\n",
       "      <td>0.0</td>\n",
       "      <td>206.0</td>\n",
       "      <td>0.0</td>\n",
       "      <td>150.0</td>\n",
       "      <td>154.0</td>\n",
       "      <td>553.0</td>\n",
       "    </tr>\n",
       "    <tr>\n",
       "      <th>1</th>\n",
       "      <td>2</td>\n",
       "      <td>0.0</td>\n",
       "      <td>0.0</td>\n",
       "      <td>0.0</td>\n",
       "      <td>73.0</td>\n",
       "      <td>0.0</td>\n",
       "      <td>0.0</td>\n",
       "      <td>0.0</td>\n",
       "      <td>0.0</td>\n",
       "      <td>0.0</td>\n",
       "      <td>0.0</td>\n",
       "      <td>0.0</td>\n",
       "      <td>206.0</td>\n",
       "      <td>0.0</td>\n",
       "      <td>149.0</td>\n",
       "      <td>154.0</td>\n",
       "      <td>582.0</td>\n",
       "    </tr>\n",
       "    <tr>\n",
       "      <th>2</th>\n",
       "      <td>3</td>\n",
       "      <td>0.0</td>\n",
       "      <td>0.0</td>\n",
       "      <td>0.0</td>\n",
       "      <td>34.0</td>\n",
       "      <td>0.0</td>\n",
       "      <td>0.0</td>\n",
       "      <td>0.0</td>\n",
       "      <td>0.0</td>\n",
       "      <td>0.0</td>\n",
       "      <td>0.0</td>\n",
       "      <td>0.0</td>\n",
       "      <td>205.0</td>\n",
       "      <td>0.0</td>\n",
       "      <td>152.0</td>\n",
       "      <td>153.0</td>\n",
       "      <td>544.0</td>\n",
       "    </tr>\n",
       "    <tr>\n",
       "      <th>3</th>\n",
       "      <td>4</td>\n",
       "      <td>0.0</td>\n",
       "      <td>0.0</td>\n",
       "      <td>0.0</td>\n",
       "      <td>81.0</td>\n",
       "      <td>0.0</td>\n",
       "      <td>0.0</td>\n",
       "      <td>0.0</td>\n",
       "      <td>0.0</td>\n",
       "      <td>0.0</td>\n",
       "      <td>0.0</td>\n",
       "      <td>0.0</td>\n",
       "      <td>207.0</td>\n",
       "      <td>0.0</td>\n",
       "      <td>153.0</td>\n",
       "      <td>154.0</td>\n",
       "      <td>595.0</td>\n",
       "    </tr>\n",
       "    <tr>\n",
       "      <th>4</th>\n",
       "      <td>5</td>\n",
       "      <td>0.0</td>\n",
       "      <td>0.0</td>\n",
       "      <td>0.0</td>\n",
       "      <td>78.0</td>\n",
       "      <td>0.0</td>\n",
       "      <td>0.0</td>\n",
       "      <td>0.0</td>\n",
       "      <td>0.0</td>\n",
       "      <td>0.0</td>\n",
       "      <td>0.0</td>\n",
       "      <td>0.0</td>\n",
       "      <td>203.0</td>\n",
       "      <td>0.0</td>\n",
       "      <td>151.0</td>\n",
       "      <td>152.0</td>\n",
       "      <td>584.0</td>\n",
       "    </tr>\n",
       "  </tbody>\n",
       "</table>\n",
       "</div>"
      ],
      "text/plain": [
       "   key  Bulk 1  Bulk 2  Bulk 3  Bulk 4  Bulk 5  Bulk 6  Bulk 7  Bulk 8  \\\n",
       "0    1     0.0     0.0     0.0    43.0     0.0     0.0     0.0     0.0   \n",
       "1    2     0.0     0.0     0.0    73.0     0.0     0.0     0.0     0.0   \n",
       "2    3     0.0     0.0     0.0    34.0     0.0     0.0     0.0     0.0   \n",
       "3    4     0.0     0.0     0.0    81.0     0.0     0.0     0.0     0.0   \n",
       "4    5     0.0     0.0     0.0    78.0     0.0     0.0     0.0     0.0   \n",
       "\n",
       "   Bulk 9  Bulk 10  Bulk 11  Bulk 12  Bulk 13  Bulk 14  Bulk 15  sum_bulk_add  \n",
       "0     0.0      0.0      0.0    206.0      0.0    150.0    154.0         553.0  \n",
       "1     0.0      0.0      0.0    206.0      0.0    149.0    154.0         582.0  \n",
       "2     0.0      0.0      0.0    205.0      0.0    152.0    153.0         544.0  \n",
       "3     0.0      0.0      0.0    207.0      0.0    153.0    154.0         595.0  \n",
       "4     0.0      0.0      0.0    203.0      0.0    151.0    152.0         584.0  "
      ]
     },
     "execution_count": 108,
     "metadata": {},
     "output_type": "execute_result"
    }
   ],
   "source": [
    "data_bulk.head()"
   ]
  },
  {
   "cell_type": "code",
   "execution_count": 109,
   "metadata": {},
   "outputs": [
    {
     "name": "stdout",
     "output_type": "stream",
     "text": [
      "<class 'pandas.core.frame.DataFrame'>\n",
      "RangeIndex: 3081 entries, 0 to 3080\n",
      "Data columns (total 10 columns):\n",
      " #   Column  Non-Null Count  Dtype  \n",
      "---  ------  --------------  -----  \n",
      " 0   key     3081 non-null   int64  \n",
      " 1   Wire 1  3081 non-null   float64\n",
      " 2   Wire 2  3081 non-null   float64\n",
      " 3   Wire 3  3081 non-null   float64\n",
      " 4   Wire 4  3081 non-null   float64\n",
      " 5   Wire 5  3081 non-null   float64\n",
      " 6   Wire 6  3081 non-null   float64\n",
      " 7   Wire 7  3081 non-null   float64\n",
      " 8   Wire 8  3081 non-null   float64\n",
      " 9   Wire 9  3081 non-null   float64\n",
      "dtypes: float64(9), int64(1)\n",
      "memory usage: 240.8 KB\n"
     ]
    }
   ],
   "source": [
    "data_wire.info()"
   ]
  },
  {
   "cell_type": "code",
   "execution_count": 110,
   "metadata": {},
   "outputs": [],
   "source": [
    "data_wire['sum_wire_add'] = data_wire[['Wire 1', 'Wire 2', 'Wire 3', 'Wire 4', 'Wire 5', 'Wire 6', \n",
    "                                   'Wire 7', 'Wire 8', 'Wire 9']].sum(axis=1)"
   ]
  },
  {
   "cell_type": "code",
   "execution_count": 111,
   "metadata": {
    "scrolled": true
   },
   "outputs": [
    {
     "data": {
      "text/html": [
       "<div>\n",
       "<style scoped>\n",
       "    .dataframe tbody tr th:only-of-type {\n",
       "        vertical-align: middle;\n",
       "    }\n",
       "\n",
       "    .dataframe tbody tr th {\n",
       "        vertical-align: top;\n",
       "    }\n",
       "\n",
       "    .dataframe thead th {\n",
       "        text-align: right;\n",
       "    }\n",
       "</style>\n",
       "<table border=\"1\" class=\"dataframe\">\n",
       "  <thead>\n",
       "    <tr style=\"text-align: right;\">\n",
       "      <th></th>\n",
       "      <th>key</th>\n",
       "      <th>Wire 1</th>\n",
       "      <th>Wire 2</th>\n",
       "      <th>Wire 3</th>\n",
       "      <th>Wire 4</th>\n",
       "      <th>Wire 5</th>\n",
       "      <th>Wire 6</th>\n",
       "      <th>Wire 7</th>\n",
       "      <th>Wire 8</th>\n",
       "      <th>Wire 9</th>\n",
       "      <th>sum_wire_add</th>\n",
       "    </tr>\n",
       "  </thead>\n",
       "  <tbody>\n",
       "    <tr>\n",
       "      <th>0</th>\n",
       "      <td>1</td>\n",
       "      <td>60.059998</td>\n",
       "      <td>0.00000</td>\n",
       "      <td>0.0</td>\n",
       "      <td>0.0</td>\n",
       "      <td>0.0</td>\n",
       "      <td>0.0</td>\n",
       "      <td>0.0</td>\n",
       "      <td>0.0</td>\n",
       "      <td>0.0</td>\n",
       "      <td>60.059998</td>\n",
       "    </tr>\n",
       "    <tr>\n",
       "      <th>1</th>\n",
       "      <td>2</td>\n",
       "      <td>96.052315</td>\n",
       "      <td>0.00000</td>\n",
       "      <td>0.0</td>\n",
       "      <td>0.0</td>\n",
       "      <td>0.0</td>\n",
       "      <td>0.0</td>\n",
       "      <td>0.0</td>\n",
       "      <td>0.0</td>\n",
       "      <td>0.0</td>\n",
       "      <td>96.052315</td>\n",
       "    </tr>\n",
       "    <tr>\n",
       "      <th>2</th>\n",
       "      <td>3</td>\n",
       "      <td>91.160157</td>\n",
       "      <td>0.00000</td>\n",
       "      <td>0.0</td>\n",
       "      <td>0.0</td>\n",
       "      <td>0.0</td>\n",
       "      <td>0.0</td>\n",
       "      <td>0.0</td>\n",
       "      <td>0.0</td>\n",
       "      <td>0.0</td>\n",
       "      <td>91.160157</td>\n",
       "    </tr>\n",
       "    <tr>\n",
       "      <th>3</th>\n",
       "      <td>4</td>\n",
       "      <td>89.063515</td>\n",
       "      <td>0.00000</td>\n",
       "      <td>0.0</td>\n",
       "      <td>0.0</td>\n",
       "      <td>0.0</td>\n",
       "      <td>0.0</td>\n",
       "      <td>0.0</td>\n",
       "      <td>0.0</td>\n",
       "      <td>0.0</td>\n",
       "      <td>89.063515</td>\n",
       "    </tr>\n",
       "    <tr>\n",
       "      <th>4</th>\n",
       "      <td>5</td>\n",
       "      <td>89.238236</td>\n",
       "      <td>9.11456</td>\n",
       "      <td>0.0</td>\n",
       "      <td>0.0</td>\n",
       "      <td>0.0</td>\n",
       "      <td>0.0</td>\n",
       "      <td>0.0</td>\n",
       "      <td>0.0</td>\n",
       "      <td>0.0</td>\n",
       "      <td>98.352796</td>\n",
       "    </tr>\n",
       "  </tbody>\n",
       "</table>\n",
       "</div>"
      ],
      "text/plain": [
       "   key     Wire 1   Wire 2  Wire 3  Wire 4  Wire 5  Wire 6  Wire 7  Wire 8  \\\n",
       "0    1  60.059998  0.00000     0.0     0.0     0.0     0.0     0.0     0.0   \n",
       "1    2  96.052315  0.00000     0.0     0.0     0.0     0.0     0.0     0.0   \n",
       "2    3  91.160157  0.00000     0.0     0.0     0.0     0.0     0.0     0.0   \n",
       "3    4  89.063515  0.00000     0.0     0.0     0.0     0.0     0.0     0.0   \n",
       "4    5  89.238236  9.11456     0.0     0.0     0.0     0.0     0.0     0.0   \n",
       "\n",
       "   Wire 9  sum_wire_add  \n",
       "0     0.0     60.059998  \n",
       "1     0.0     96.052315  \n",
       "2     0.0     91.160157  \n",
       "3     0.0     89.063515  \n",
       "4     0.0     98.352796  "
      ]
     },
     "execution_count": 111,
     "metadata": {},
     "output_type": "execute_result"
    }
   ],
   "source": [
    "data_wire.head()"
   ]
  },
  {
   "cell_type": "markdown",
   "metadata": {},
   "source": [
    "Выберем данные по тем сыпучим материалам и проволке, по которым есть достаточный объем данных для исследования."
   ]
  },
  {
   "cell_type": "markdown",
   "metadata": {},
   "source": [
    "Параметр **Bulk 3**"
   ]
  },
  {
   "cell_type": "markdown",
   "metadata": {},
   "source": [
    "*Построим гистограмму и боксплот*"
   ]
  },
  {
   "cell_type": "code",
   "execution_count": 112,
   "metadata": {},
   "outputs": [
    {
     "data": {
      "image/png": "[encoded data removed]",
      "text/plain": [
       "<Figure size 1200x480 with 2 Axes>"
      ]
     },
     "metadata": {
      "needs_background": "light"
     },
     "output_type": "display_data"
    }
   ],
   "source": [
    "stat_plot(data_bulk, 'Bulk 3', 25)"
   ]
  },
  {
   "cell_type": "markdown",
   "metadata": {},
   "source": [
    "*Статистики: среднее, минимальные и максимальные значения, медиана и величины 25%- и 75%-квартилей*"
   ]
  },
  {
   "cell_type": "code",
   "execution_count": 113,
   "metadata": {},
   "outputs": [
    {
     "data": {
      "text/plain": [
       "count    3129.000000\n",
       "mean       47.240332\n",
       "std        74.239954\n",
       "min         0.000000\n",
       "25%         0.000000\n",
       "50%         0.000000\n",
       "75%        80.000000\n",
       "max       454.000000\n",
       "Name: Bulk 3, dtype: float64"
      ]
     },
     "execution_count": 113,
     "metadata": {},
     "output_type": "execute_result"
    }
   ],
   "source": [
    "data_bulk['Bulk 3'].describe()"
   ]
  },
  {
   "cell_type": "markdown",
   "metadata": {},
   "source": [
    "Удалим выбросы, выходящие за границу тройного межквартильного интервала."
   ]
  },
  {
   "cell_type": "code",
   "execution_count": 114,
   "metadata": {},
   "outputs": [],
   "source": [
    "delete_blowout(data_bulk, 'Bulk 3', 3)"
   ]
  },
  {
   "cell_type": "markdown",
   "metadata": {},
   "source": [
    "Параметр **Bulk 4**"
   ]
  },
  {
   "cell_type": "markdown",
   "metadata": {},
   "source": [
    "*Построим гистограмму и боксплот*"
   ]
  },
  {
   "cell_type": "code",
   "execution_count": 115,
   "metadata": {},
   "outputs": [
    {
     "data": {
      "image/png": "[encoded data removed]",
      "text/plain": [
       "<Figure size 1200x480 with 2 Axes>"
      ]
     },
     "metadata": {
      "needs_background": "light"
     },
     "output_type": "display_data"
    }
   ],
   "source": [
    "stat_plot(data_bulk, 'Bulk 4', 25)"
   ]
  },
  {
   "cell_type": "markdown",
   "metadata": {},
   "source": [
    "*Статистики: среднее, минимальные и максимальные значения, медиана и величины 25%- и 75%-квартилей*"
   ]
  },
  {
   "cell_type": "code",
   "execution_count": 116,
   "metadata": {},
   "outputs": [
    {
     "data": {
      "text/plain": [
       "count    3109.000000\n",
       "mean       34.048247\n",
       "std        56.148540\n",
       "min         0.000000\n",
       "25%         0.000000\n",
       "50%         0.000000\n",
       "75%        69.000000\n",
       "max       281.000000\n",
       "Name: Bulk 4, dtype: float64"
      ]
     },
     "execution_count": 116,
     "metadata": {},
     "output_type": "execute_result"
    }
   ],
   "source": [
    "data_bulk['Bulk 4'].describe()"
   ]
  },
  {
   "cell_type": "markdown",
   "metadata": {},
   "source": [
    "Удалим выбросы, выходящие за границу тройного межквартильного интервала."
   ]
  },
  {
   "cell_type": "code",
   "execution_count": 117,
   "metadata": {},
   "outputs": [],
   "source": [
    "delete_blowout(data_bulk, 'Bulk 4', 3)"
   ]
  },
  {
   "cell_type": "markdown",
   "metadata": {},
   "source": [
    "Параметр **Bulk 12**"
   ]
  },
  {
   "cell_type": "markdown",
   "metadata": {},
   "source": [
    "*Построим гистограмму и боксплот*"
   ]
  },
  {
   "cell_type": "code",
   "execution_count": 118,
   "metadata": {},
   "outputs": [
    {
     "data": {
      "image/png": "[encoded data removed]",
      "text/plain": [
       "<Figure size 1200x480 with 2 Axes>"
      ]
     },
     "metadata": {
      "needs_background": "light"
     },
     "output_type": "display_data"
    }
   ],
   "source": [
    "stat_plot(data_bulk, 'Bulk 12', 25)"
   ]
  },
  {
   "cell_type": "markdown",
   "metadata": {},
   "source": [
    "*Статистики: среднее, минимальные и максимальные значения, медиана и величины 25%- и 75%-квартилей*"
   ]
  },
  {
   "cell_type": "code",
   "execution_count": 119,
   "metadata": {},
   "outputs": [
    {
     "data": {
      "text/plain": [
       "count    3108.000000\n",
       "mean      203.780566\n",
       "std       151.428574\n",
       "min         0.000000\n",
       "25%       105.000000\n",
       "50%       206.000000\n",
       "75%       263.000000\n",
       "max      1849.000000\n",
       "Name: Bulk 12, dtype: float64"
      ]
     },
     "execution_count": 119,
     "metadata": {},
     "output_type": "execute_result"
    }
   ],
   "source": [
    "data_bulk['Bulk 12'].describe()"
   ]
  },
  {
   "cell_type": "markdown",
   "metadata": {},
   "source": [
    "Удалим выбросы, выходящие за границу тройного межквартильного интервала."
   ]
  },
  {
   "cell_type": "code",
   "execution_count": 120,
   "metadata": {},
   "outputs": [],
   "source": [
    "delete_blowout(data_bulk, 'Bulk 12', 3)"
   ]
  },
  {
   "cell_type": "markdown",
   "metadata": {},
   "source": [
    "Параметр **Bulk 14**"
   ]
  },
  {
   "cell_type": "markdown",
   "metadata": {},
   "source": [
    "*Построим гистограмму и боксплот*"
   ]
  },
  {
   "cell_type": "code",
   "execution_count": 121,
   "metadata": {},
   "outputs": [
    {
     "data": {
      "image/png": "[encoded data removed]",
      "text/plain": [
       "<Figure size 1200x480 with 2 Axes>"
      ]
     },
     "metadata": {
      "needs_background": "light"
     },
     "output_type": "display_data"
    }
   ],
   "source": [
    "stat_plot(data_bulk, 'Bulk 14', 25)"
   ]
  },
  {
   "cell_type": "markdown",
   "metadata": {},
   "source": [
    "*Статистики: среднее, минимальные и максимальные значения, медиана и величины 25%- и 75%-квартилей*"
   ]
  },
  {
   "cell_type": "code",
   "execution_count": 122,
   "metadata": {},
   "outputs": [
    {
     "data": {
      "text/plain": [
       "count    3103.000000\n",
       "mean      152.060587\n",
       "std        80.445665\n",
       "min         0.000000\n",
       "25%       104.000000\n",
       "50%       148.000000\n",
       "75%       202.000000\n",
       "max       601.000000\n",
       "Name: Bulk 14, dtype: float64"
      ]
     },
     "execution_count": 122,
     "metadata": {},
     "output_type": "execute_result"
    }
   ],
   "source": [
    "data_bulk['Bulk 14'].describe()"
   ]
  },
  {
   "cell_type": "markdown",
   "metadata": {},
   "source": [
    "Удалим выбросы, выходящие за границу тройного межквартильного интервала."
   ]
  },
  {
   "cell_type": "code",
   "execution_count": 123,
   "metadata": {},
   "outputs": [],
   "source": [
    "delete_blowout(data_bulk, 'Bulk 14', 3)"
   ]
  },
  {
   "cell_type": "markdown",
   "metadata": {},
   "source": [
    "Параметр **Bulk 15**"
   ]
  },
  {
   "cell_type": "markdown",
   "metadata": {},
   "source": [
    "*Построим гистограмму и боксплот*"
   ]
  },
  {
   "cell_type": "code",
   "execution_count": 124,
   "metadata": {},
   "outputs": [
    {
     "data": {
      "image/png": "[encoded data removed]",
      "text/plain": [
       "<Figure size 1200x480 with 2 Axes>"
      ]
     },
     "metadata": {
      "needs_background": "light"
     },
     "output_type": "display_data"
    }
   ],
   "source": [
    "stat_plot(data_bulk, 'Bulk 15', 25)"
   ]
  },
  {
   "cell_type": "markdown",
   "metadata": {},
   "source": [
    "*Статистики: среднее, минимальные и максимальные значения, медиана и величины 25%- и 75%-квартилей*"
   ]
  },
  {
   "cell_type": "code",
   "execution_count": 125,
   "metadata": {},
   "outputs": [
    {
     "data": {
      "text/plain": [
       "count    3099.000000\n",
       "mean      115.398516\n",
       "std        84.486018\n",
       "min         0.000000\n",
       "25%         0.000000\n",
       "50%       106.000000\n",
       "75%       204.000000\n",
       "max       405.000000\n",
       "Name: Bulk 15, dtype: float64"
      ]
     },
     "execution_count": 125,
     "metadata": {},
     "output_type": "execute_result"
    }
   ],
   "source": [
    "data_bulk['Bulk 15'].describe()"
   ]
  },
  {
   "cell_type": "markdown",
   "metadata": {},
   "source": [
    "Параметр **Wire 1**"
   ]
  },
  {
   "cell_type": "markdown",
   "metadata": {},
   "source": [
    "*Построим гистограмму и боксплот*"
   ]
  },
  {
   "cell_type": "code",
   "execution_count": 126,
   "metadata": {},
   "outputs": [
    {
     "data": {
      "image/png": "[encoded data removed]",
      "text/plain": [
       "<Figure size 1200x480 with 2 Axes>"
      ]
     },
     "metadata": {
      "needs_background": "light"
     },
     "output_type": "display_data"
    }
   ],
   "source": [
    "stat_plot(data_wire, 'Wire 1', 50)"
   ]
  },
  {
   "cell_type": "markdown",
   "metadata": {},
   "source": [
    "*Статистики: среднее, минимальные и максимальные значения, медиана и величины 25%- и 75%-квартилей*"
   ]
  },
  {
   "cell_type": "code",
   "execution_count": 127,
   "metadata": {},
   "outputs": [
    {
     "data": {
      "text/plain": [
       "count    3081.000000\n",
       "mean      100.044411\n",
       "std        42.841120\n",
       "min         0.000000\n",
       "25%        70.281120\n",
       "50%       100.114563\n",
       "75%       125.798405\n",
       "max       330.314424\n",
       "Name: Wire 1, dtype: float64"
      ]
     },
     "execution_count": 127,
     "metadata": {},
     "output_type": "execute_result"
    }
   ],
   "source": [
    "data_wire['Wire 1'].describe()"
   ]
  },
  {
   "cell_type": "markdown",
   "metadata": {},
   "source": [
    "Удалим выбросы, выходящие за границу тройного межквартильного интервала."
   ]
  },
  {
   "cell_type": "code",
   "execution_count": 128,
   "metadata": {},
   "outputs": [],
   "source": [
    "delete_blowout(data_wire, 'Wire 1', 3)"
   ]
  },
  {
   "cell_type": "markdown",
   "metadata": {},
   "source": [
    "Параметр **Wire 2**"
   ]
  },
  {
   "cell_type": "markdown",
   "metadata": {},
   "source": [
    "*Построим гистограмму и боксплот*"
   ]
  },
  {
   "cell_type": "code",
   "execution_count": 129,
   "metadata": {},
   "outputs": [
    {
     "data": {
      "image/png": "[encoded data removed]",
      "text/plain": [
       "<Figure size 1200x480 with 2 Axes>"
      ]
     },
     "metadata": {
      "needs_background": "light"
     },
     "output_type": "display_data"
    }
   ],
   "source": [
    "stat_plot(data_wire, 'Wire 2', 50)"
   ]
  },
  {
   "cell_type": "markdown",
   "metadata": {},
   "source": [
    "*Статистики: среднее, минимальные и максимальные значения, медиана и величины 25%- и 75%-квартилей*"
   ]
  },
  {
   "cell_type": "code",
   "execution_count": 130,
   "metadata": {},
   "outputs": [
    {
     "data": {
      "text/plain": [
       "count    3080.000000\n",
       "mean       17.695972\n",
       "std        33.510260\n",
       "min         0.000000\n",
       "25%         0.000000\n",
       "50%         0.000000\n",
       "75%        23.162880\n",
       "max       282.780152\n",
       "Name: Wire 2, dtype: float64"
      ]
     },
     "execution_count": 130,
     "metadata": {},
     "output_type": "execute_result"
    }
   ],
   "source": [
    "data_wire['Wire 2'].describe()"
   ]
  },
  {
   "cell_type": "markdown",
   "metadata": {},
   "source": [
    "Удалим выбросы, выходящие за границу тройного межквартильного интервала."
   ]
  },
  {
   "cell_type": "code",
   "execution_count": 131,
   "metadata": {},
   "outputs": [],
   "source": [
    "delete_blowout(data_wire, 'Wire 2', 3)"
   ]
  },
  {
   "cell_type": "markdown",
   "metadata": {},
   "source": [
    "#### Объединим полученные данные по температуре и запускам нагрева электродами."
   ]
  },
  {
   "cell_type": "code",
   "execution_count": 132,
   "metadata": {},
   "outputs": [],
   "source": [
    "arc_pivot_full = arc_pivot.merge(arc_full_power_sum, on='key', how='left')"
   ]
  },
  {
   "cell_type": "code",
   "execution_count": 133,
   "metadata": {},
   "outputs": [
    {
     "name": "stdout",
     "output_type": "stream",
     "text": [
      "<class 'pandas.core.frame.DataFrame'>\n",
      "Int64Index: 3201 entries, 0 to 3200\n",
      "Data columns (total 6 columns):\n",
      " #   Column              Non-Null Count  Dtype          \n",
      "---  ------              --------------  -----          \n",
      " 0   key                 3201 non-null   int64          \n",
      " 1   count_heating       3201 non-null   int64          \n",
      " 2   active_power_sum    3201 non-null   float64        \n",
      " 3   heating_time_sum    3201 non-null   timedelta64[ns]\n",
      " 4   reactive_power_sum  3201 non-null   float64        \n",
      " 5   sum                 3201 non-null   float64        \n",
      "dtypes: float64(3), int64(2), timedelta64[ns](1)\n",
      "memory usage: 175.1 KB\n"
     ]
    }
   ],
   "source": [
    "arc_pivot_full.info()"
   ]
  },
  {
   "cell_type": "code",
   "execution_count": 134,
   "metadata": {},
   "outputs": [],
   "source": [
    "arc_pivot_full.columns = ['key', 'count_heating', 'active_power_sum', 'heating_time_sum',\n",
    "       'reactive_power_sum', 'full_power_sum']"
   ]
  },
  {
   "cell_type": "code",
   "execution_count": 135,
   "metadata": {},
   "outputs": [],
   "source": [
    "temp_arc_pivot = temp_diff.merge(arc_pivot_full, on='key', how='left')"
   ]
  },
  {
   "cell_type": "code",
   "execution_count": 136,
   "metadata": {},
   "outputs": [
    {
     "name": "stdout",
     "output_type": "stream",
     "text": [
      "<class 'pandas.core.frame.DataFrame'>\n",
      "Int64Index: 2385 entries, 0 to 2384\n",
      "Data columns (total 9 columns):\n",
      " #   Column              Non-Null Count  Dtype          \n",
      "---  ------              --------------  -----          \n",
      " 0   key                 2385 non-null   int32          \n",
      " 1   first_temperature   2385 non-null   float64        \n",
      " 2   last_temperature    2385 non-null   float64        \n",
      " 3   temp_diff           2385 non-null   float64        \n",
      " 4   count_heating       2375 non-null   float64        \n",
      " 5   active_power_sum    2375 non-null   float64        \n",
      " 6   heating_time_sum    2375 non-null   timedelta64[ns]\n",
      " 7   reactive_power_sum  2375 non-null   float64        \n",
      " 8   full_power_sum      2375 non-null   float64        \n",
      "dtypes: float64(7), int32(1), timedelta64[ns](1)\n",
      "memory usage: 177.0 KB\n"
     ]
    }
   ],
   "source": [
    "temp_arc_pivot.info()"
   ]
  },
  {
   "cell_type": "markdown",
   "metadata": {},
   "source": [
    "#### Объединим данные по температуре, нагреву, газу и добавкам сыпучих материалов и проволки в один датасет"
   ]
  },
  {
   "cell_type": "code",
   "execution_count": 137,
   "metadata": {},
   "outputs": [],
   "source": [
    "data_pivot = temp_arc_pivot.merge(data_bulk, on='key', how='left')"
   ]
  },
  {
   "cell_type": "code",
   "execution_count": 138,
   "metadata": {},
   "outputs": [],
   "source": [
    "data_pivot = data_pivot.merge(data_wire, on='key', how='left')"
   ]
  },
  {
   "cell_type": "code",
   "execution_count": 139,
   "metadata": {},
   "outputs": [],
   "source": [
    "data_pivot = data_pivot.merge(data_gas, on='key', how='left')"
   ]
  },
  {
   "cell_type": "code",
   "execution_count": 140,
   "metadata": {},
   "outputs": [
    {
     "name": "stdout",
     "output_type": "stream",
     "text": [
      "<class 'pandas.core.frame.DataFrame'>\n",
      "Int64Index: 2385 entries, 0 to 2384\n",
      "Data columns (total 36 columns):\n",
      " #   Column              Non-Null Count  Dtype          \n",
      "---  ------              --------------  -----          \n",
      " 0   key                 2385 non-null   int32          \n",
      " 1   first_temperature   2385 non-null   float64        \n",
      " 2   last_temperature    2385 non-null   float64        \n",
      " 3   temp_diff           2385 non-null   float64        \n",
      " 4   count_heating       2375 non-null   float64        \n",
      " 5   active_power_sum    2375 non-null   float64        \n",
      " 6   heating_time_sum    2375 non-null   timedelta64[ns]\n",
      " 7   reactive_power_sum  2375 non-null   float64        \n",
      " 8   full_power_sum      2375 non-null   float64        \n",
      " 9   Bulk 1              2310 non-null   float64        \n",
      " 10  Bulk 2              2310 non-null   float64        \n",
      " 11  Bulk 3              2310 non-null   float64        \n",
      " 12  Bulk 4              2310 non-null   float64        \n",
      " 13  Bulk 5              2310 non-null   float64        \n",
      " 14  Bulk 6              2310 non-null   float64        \n",
      " 15  Bulk 7              2310 non-null   float64        \n",
      " 16  Bulk 8              2310 non-null   float64        \n",
      " 17  Bulk 9              2310 non-null   float64        \n",
      " 18  Bulk 10             2310 non-null   float64        \n",
      " 19  Bulk 11             2310 non-null   float64        \n",
      " 20  Bulk 12             2310 non-null   float64        \n",
      " 21  Bulk 13             2310 non-null   float64        \n",
      " 22  Bulk 14             2310 non-null   float64        \n",
      " 23  Bulk 15             2310 non-null   float64        \n",
      " 24  sum_bulk_add        2310 non-null   float64        \n",
      " 25  Wire 1              2245 non-null   float64        \n",
      " 26  Wire 2              2245 non-null   float64        \n",
      " 27  Wire 3              2245 non-null   float64        \n",
      " 28  Wire 4              2245 non-null   float64        \n",
      " 29  Wire 5              2245 non-null   float64        \n",
      " 30  Wire 6              2245 non-null   float64        \n",
      " 31  Wire 7              2245 non-null   float64        \n",
      " 32  Wire 8              2245 non-null   float64        \n",
      " 33  Wire 9              2245 non-null   float64        \n",
      " 34  sum_wire_add        2245 non-null   float64        \n",
      " 35  gas 1               2368 non-null   float64        \n",
      "dtypes: float64(34), int32(1), timedelta64[ns](1)\n",
      "memory usage: 680.1 KB\n"
     ]
    }
   ],
   "source": [
    "data_pivot.info()"
   ]
  },
  {
   "cell_type": "markdown",
   "metadata": {},
   "source": [
    "Така как нет возможности восстановить данные о пропущенных значениях в столбцах сумма сыпучих материалов, сумма проволки, объем газа, то такие строки удалим."
   ]
  },
  {
   "cell_type": "code",
   "execution_count": 141,
   "metadata": {},
   "outputs": [],
   "source": [
    "data_pivot.dropna(axis=0, inplace=True)"
   ]
  },
  {
   "cell_type": "code",
   "execution_count": 142,
   "metadata": {},
   "outputs": [
    {
     "name": "stdout",
     "output_type": "stream",
     "text": [
      "<class 'pandas.core.frame.DataFrame'>\n",
      "Int64Index: 2166 entries, 0 to 2384\n",
      "Data columns (total 36 columns):\n",
      " #   Column              Non-Null Count  Dtype          \n",
      "---  ------              --------------  -----          \n",
      " 0   key                 2166 non-null   int32          \n",
      " 1   first_temperature   2166 non-null   float64        \n",
      " 2   last_temperature    2166 non-null   float64        \n",
      " 3   temp_diff           2166 non-null   float64        \n",
      " 4   count_heating       2166 non-null   float64        \n",
      " 5   active_power_sum    2166 non-null   float64        \n",
      " 6   heating_time_sum    2166 non-null   timedelta64[ns]\n",
      " 7   reactive_power_sum  2166 non-null   float64        \n",
      " 8   full_power_sum      2166 non-null   float64        \n",
      " 9   Bulk 1              2166 non-null   float64        \n",
      " 10  Bulk 2              2166 non-null   float64        \n",
      " 11  Bulk 3              2166 non-null   float64        \n",
      " 12  Bulk 4              2166 non-null   float64        \n",
      " 13  Bulk 5              2166 non-null   float64        \n",
      " 14  Bulk 6              2166 non-null   float64        \n",
      " 15  Bulk 7              2166 non-null   float64        \n",
      " 16  Bulk 8              2166 non-null   float64        \n",
      " 17  Bulk 9              2166 non-null   float64        \n",
      " 18  Bulk 10             2166 non-null   float64        \n",
      " 19  Bulk 11             2166 non-null   float64        \n",
      " 20  Bulk 12             2166 non-null   float64        \n",
      " 21  Bulk 13             2166 non-null   float64        \n",
      " 22  Bulk 14             2166 non-null   float64        \n",
      " 23  Bulk 15             2166 non-null   float64        \n",
      " 24  sum_bulk_add        2166 non-null   float64        \n",
      " 25  Wire 1              2166 non-null   float64        \n",
      " 26  Wire 2              2166 non-null   float64        \n",
      " 27  Wire 3              2166 non-null   float64        \n",
      " 28  Wire 4              2166 non-null   float64        \n",
      " 29  Wire 5              2166 non-null   float64        \n",
      " 30  Wire 6              2166 non-null   float64        \n",
      " 31  Wire 7              2166 non-null   float64        \n",
      " 32  Wire 8              2166 non-null   float64        \n",
      " 33  Wire 9              2166 non-null   float64        \n",
      " 34  sum_wire_add        2166 non-null   float64        \n",
      " 35  gas 1               2166 non-null   float64        \n",
      "dtypes: float64(34), int32(1), timedelta64[ns](1)\n",
      "memory usage: 617.6 KB\n"
     ]
    }
   ],
   "source": [
    "data_pivot.info()"
   ]
  },
  {
   "cell_type": "markdown",
   "metadata": {},
   "source": [
    "#### Переведем данные о длительности нагрева электродами из минут в секунды."
   ]
  },
  {
   "cell_type": "code",
   "execution_count": 143,
   "metadata": {},
   "outputs": [],
   "source": [
    "def heating_seconds(row):\n",
    "    heating_seconds = row['heating_time_sum'].total_seconds()\n",
    "    return heating_seconds"
   ]
  },
  {
   "cell_type": "code",
   "execution_count": 144,
   "metadata": {},
   "outputs": [],
   "source": [
    "data_pivot['heating_seconds'] = data_pivot.apply(heating_seconds, axis=1)"
   ]
  },
  {
   "cell_type": "code",
   "execution_count": 145,
   "metadata": {},
   "outputs": [
    {
     "data": {
      "text/html": [
       "<div>\n",
       "<style scoped>\n",
       "    .dataframe tbody tr th:only-of-type {\n",
       "        vertical-align: middle;\n",
       "    }\n",
       "\n",
       "    .dataframe tbody tr th {\n",
       "        vertical-align: top;\n",
       "    }\n",
       "\n",
       "    .dataframe thead th {\n",
       "        text-align: right;\n",
       "    }\n",
       "</style>\n",
       "<table border=\"1\" class=\"dataframe\">\n",
       "  <thead>\n",
       "    <tr style=\"text-align: right;\">\n",
       "      <th></th>\n",
       "      <th>key</th>\n",
       "      <th>first_temperature</th>\n",
       "      <th>last_temperature</th>\n",
       "      <th>temp_diff</th>\n",
       "      <th>count_heating</th>\n",
       "      <th>active_power_sum</th>\n",
       "      <th>heating_time_sum</th>\n",
       "      <th>reactive_power_sum</th>\n",
       "      <th>full_power_sum</th>\n",
       "      <th>Bulk 1</th>\n",
       "      <th>...</th>\n",
       "      <th>Wire 3</th>\n",
       "      <th>Wire 4</th>\n",
       "      <th>Wire 5</th>\n",
       "      <th>Wire 6</th>\n",
       "      <th>Wire 7</th>\n",
       "      <th>Wire 8</th>\n",
       "      <th>Wire 9</th>\n",
       "      <th>sum_wire_add</th>\n",
       "      <th>gas 1</th>\n",
       "      <th>heating_seconds</th>\n",
       "    </tr>\n",
       "  </thead>\n",
       "  <tbody>\n",
       "    <tr>\n",
       "      <th>0</th>\n",
       "      <td>1</td>\n",
       "      <td>1571.0</td>\n",
       "      <td>1613.0</td>\n",
       "      <td>42.0</td>\n",
       "      <td>5.0</td>\n",
       "      <td>4.878147</td>\n",
       "      <td>00:18:18</td>\n",
       "      <td>3.183241</td>\n",
       "      <td>5.826395</td>\n",
       "      <td>0.0</td>\n",
       "      <td>...</td>\n",
       "      <td>0.0</td>\n",
       "      <td>0.0</td>\n",
       "      <td>0.0</td>\n",
       "      <td>0.0</td>\n",
       "      <td>0.0</td>\n",
       "      <td>0.0</td>\n",
       "      <td>0.0</td>\n",
       "      <td>60.059998</td>\n",
       "      <td>29.749986</td>\n",
       "      <td>1098.0</td>\n",
       "    </tr>\n",
       "    <tr>\n",
       "      <th>1</th>\n",
       "      <td>2</td>\n",
       "      <td>1581.0</td>\n",
       "      <td>1602.0</td>\n",
       "      <td>21.0</td>\n",
       "      <td>4.0</td>\n",
       "      <td>3.052598</td>\n",
       "      <td>00:13:31</td>\n",
       "      <td>1.998112</td>\n",
       "      <td>3.649216</td>\n",
       "      <td>0.0</td>\n",
       "      <td>...</td>\n",
       "      <td>0.0</td>\n",
       "      <td>0.0</td>\n",
       "      <td>0.0</td>\n",
       "      <td>0.0</td>\n",
       "      <td>0.0</td>\n",
       "      <td>0.0</td>\n",
       "      <td>0.0</td>\n",
       "      <td>96.052315</td>\n",
       "      <td>12.555561</td>\n",
       "      <td>811.0</td>\n",
       "    </tr>\n",
       "    <tr>\n",
       "      <th>2</th>\n",
       "      <td>3</td>\n",
       "      <td>1596.0</td>\n",
       "      <td>1599.0</td>\n",
       "      <td>3.0</td>\n",
       "      <td>5.0</td>\n",
       "      <td>2.525882</td>\n",
       "      <td>00:10:55</td>\n",
       "      <td>1.599076</td>\n",
       "      <td>2.989534</td>\n",
       "      <td>0.0</td>\n",
       "      <td>...</td>\n",
       "      <td>0.0</td>\n",
       "      <td>0.0</td>\n",
       "      <td>0.0</td>\n",
       "      <td>0.0</td>\n",
       "      <td>0.0</td>\n",
       "      <td>0.0</td>\n",
       "      <td>0.0</td>\n",
       "      <td>91.160157</td>\n",
       "      <td>28.554793</td>\n",
       "      <td>655.0</td>\n",
       "    </tr>\n",
       "    <tr>\n",
       "      <th>3</th>\n",
       "      <td>4</td>\n",
       "      <td>1601.0</td>\n",
       "      <td>1625.0</td>\n",
       "      <td>24.0</td>\n",
       "      <td>4.0</td>\n",
       "      <td>3.209250</td>\n",
       "      <td>00:12:21</td>\n",
       "      <td>2.060298</td>\n",
       "      <td>3.814962</td>\n",
       "      <td>0.0</td>\n",
       "      <td>...</td>\n",
       "      <td>0.0</td>\n",
       "      <td>0.0</td>\n",
       "      <td>0.0</td>\n",
       "      <td>0.0</td>\n",
       "      <td>0.0</td>\n",
       "      <td>0.0</td>\n",
       "      <td>0.0</td>\n",
       "      <td>89.063515</td>\n",
       "      <td>18.841219</td>\n",
       "      <td>741.0</td>\n",
       "    </tr>\n",
       "    <tr>\n",
       "      <th>4</th>\n",
       "      <td>5</td>\n",
       "      <td>1576.0</td>\n",
       "      <td>1602.0</td>\n",
       "      <td>26.0</td>\n",
       "      <td>4.0</td>\n",
       "      <td>3.347173</td>\n",
       "      <td>00:14:29</td>\n",
       "      <td>2.252643</td>\n",
       "      <td>4.035758</td>\n",
       "      <td>0.0</td>\n",
       "      <td>...</td>\n",
       "      <td>0.0</td>\n",
       "      <td>0.0</td>\n",
       "      <td>0.0</td>\n",
       "      <td>0.0</td>\n",
       "      <td>0.0</td>\n",
       "      <td>0.0</td>\n",
       "      <td>0.0</td>\n",
       "      <td>98.352796</td>\n",
       "      <td>5.413692</td>\n",
       "      <td>869.0</td>\n",
       "    </tr>\n",
       "  </tbody>\n",
       "</table>\n",
       "<p>5 rows × 37 columns</p>\n",
       "</div>"
      ],
      "text/plain": [
       "   key  first_temperature  last_temperature  temp_diff  count_heating  \\\n",
       "0    1             1571.0            1613.0       42.0            5.0   \n",
       "1    2             1581.0            1602.0       21.0            4.0   \n",
       "2    3             1596.0            1599.0        3.0            5.0   \n",
       "3    4             1601.0            1625.0       24.0            4.0   \n",
       "4    5             1576.0            1602.0       26.0            4.0   \n",
       "\n",
       "   active_power_sum heating_time_sum  reactive_power_sum  full_power_sum  \\\n",
       "0          4.878147         00:18:18            3.183241        5.826395   \n",
       "1          3.052598         00:13:31            1.998112        3.649216   \n",
       "2          2.525882         00:10:55            1.599076        2.989534   \n",
       "3          3.209250         00:12:21            2.060298        3.814962   \n",
       "4          3.347173         00:14:29            2.252643        4.035758   \n",
       "\n",
       "   Bulk 1  ...  Wire 3  Wire 4  Wire 5  Wire 6  Wire 7  Wire 8  Wire 9  \\\n",
       "0     0.0  ...     0.0     0.0     0.0     0.0     0.0     0.0     0.0   \n",
       "1     0.0  ...     0.0     0.0     0.0     0.0     0.0     0.0     0.0   \n",
       "2     0.0  ...     0.0     0.0     0.0     0.0     0.0     0.0     0.0   \n",
       "3     0.0  ...     0.0     0.0     0.0     0.0     0.0     0.0     0.0   \n",
       "4     0.0  ...     0.0     0.0     0.0     0.0     0.0     0.0     0.0   \n",
       "\n",
       "   sum_wire_add      gas 1  heating_seconds  \n",
       "0     60.059998  29.749986           1098.0  \n",
       "1     96.052315  12.555561            811.0  \n",
       "2     91.160157  28.554793            655.0  \n",
       "3     89.063515  18.841219            741.0  \n",
       "4     98.352796   5.413692            869.0  \n",
       "\n",
       "[5 rows x 37 columns]"
      ]
     },
     "execution_count": 145,
     "metadata": {},
     "output_type": "execute_result"
    }
   ],
   "source": [
    "data_pivot.head()"
   ]
  },
  {
   "cell_type": "markdown",
   "metadata": {},
   "source": [
    "### Исследуем зависимости финальной температуры от других параметров "
   ]
  },
  {
   "cell_type": "code",
   "execution_count": 146,
   "metadata": {},
   "outputs": [
    {
     "data": {
      "text/html": [
       "<div>\n",
       "<style scoped>\n",
       "    .dataframe tbody tr th:only-of-type {\n",
       "        vertical-align: middle;\n",
       "    }\n",
       "\n",
       "    .dataframe tbody tr th {\n",
       "        vertical-align: top;\n",
       "    }\n",
       "\n",
       "    .dataframe thead th {\n",
       "        text-align: right;\n",
       "    }\n",
       "</style>\n",
       "<table border=\"1\" class=\"dataframe\">\n",
       "  <thead>\n",
       "    <tr style=\"text-align: right;\">\n",
       "      <th></th>\n",
       "      <th>last_temperature</th>\n",
       "      <th>first_temperature</th>\n",
       "      <th>heating_seconds</th>\n",
       "      <th>count_heating</th>\n",
       "      <th>active_power_sum</th>\n",
       "      <th>reactive_power_sum</th>\n",
       "      <th>full_power_sum</th>\n",
       "      <th>gas 1</th>\n",
       "    </tr>\n",
       "  </thead>\n",
       "  <tbody>\n",
       "    <tr>\n",
       "      <th>last_temperature</th>\n",
       "      <td>1.000000</td>\n",
       "      <td>0.314428</td>\n",
       "      <td>0.305952</td>\n",
       "      <td>0.226763</td>\n",
       "      <td>0.315259</td>\n",
       "      <td>0.265346</td>\n",
       "      <td>0.298706</td>\n",
       "      <td>0.090108</td>\n",
       "    </tr>\n",
       "    <tr>\n",
       "      <th>first_temperature</th>\n",
       "      <td>0.314428</td>\n",
       "      <td>1.000000</td>\n",
       "      <td>-0.430772</td>\n",
       "      <td>-0.202124</td>\n",
       "      <td>-0.480412</td>\n",
       "      <td>-0.462945</td>\n",
       "      <td>-0.479076</td>\n",
       "      <td>0.017274</td>\n",
       "    </tr>\n",
       "    <tr>\n",
       "      <th>heating_seconds</th>\n",
       "      <td>0.305952</td>\n",
       "      <td>-0.430772</td>\n",
       "      <td>1.000000</td>\n",
       "      <td>0.778909</td>\n",
       "      <td>0.975722</td>\n",
       "      <td>0.962311</td>\n",
       "      <td>0.980490</td>\n",
       "      <td>0.353844</td>\n",
       "    </tr>\n",
       "    <tr>\n",
       "      <th>count_heating</th>\n",
       "      <td>0.226763</td>\n",
       "      <td>-0.202124</td>\n",
       "      <td>0.778909</td>\n",
       "      <td>1.000000</td>\n",
       "      <td>0.738852</td>\n",
       "      <td>0.729473</td>\n",
       "      <td>0.742971</td>\n",
       "      <td>0.368655</td>\n",
       "    </tr>\n",
       "    <tr>\n",
       "      <th>active_power_sum</th>\n",
       "      <td>0.315259</td>\n",
       "      <td>-0.480412</td>\n",
       "      <td>0.975722</td>\n",
       "      <td>0.738852</td>\n",
       "      <td>1.000000</td>\n",
       "      <td>0.956635</td>\n",
       "      <td>0.993266</td>\n",
       "      <td>0.338072</td>\n",
       "    </tr>\n",
       "    <tr>\n",
       "      <th>reactive_power_sum</th>\n",
       "      <td>0.265346</td>\n",
       "      <td>-0.462945</td>\n",
       "      <td>0.962311</td>\n",
       "      <td>0.729473</td>\n",
       "      <td>0.956635</td>\n",
       "      <td>1.000000</td>\n",
       "      <td>0.983781</td>\n",
       "      <td>0.313913</td>\n",
       "    </tr>\n",
       "    <tr>\n",
       "      <th>full_power_sum</th>\n",
       "      <td>0.298706</td>\n",
       "      <td>-0.479076</td>\n",
       "      <td>0.980490</td>\n",
       "      <td>0.742971</td>\n",
       "      <td>0.993266</td>\n",
       "      <td>0.983781</td>\n",
       "      <td>1.000000</td>\n",
       "      <td>0.331891</td>\n",
       "    </tr>\n",
       "    <tr>\n",
       "      <th>gas 1</th>\n",
       "      <td>0.090108</td>\n",
       "      <td>0.017274</td>\n",
       "      <td>0.353844</td>\n",
       "      <td>0.368655</td>\n",
       "      <td>0.338072</td>\n",
       "      <td>0.313913</td>\n",
       "      <td>0.331891</td>\n",
       "      <td>1.000000</td>\n",
       "    </tr>\n",
       "  </tbody>\n",
       "</table>\n",
       "</div>"
      ],
      "text/plain": [
       "                    last_temperature  first_temperature  heating_seconds  \\\n",
       "last_temperature            1.000000           0.314428         0.305952   \n",
       "first_temperature           0.314428           1.000000        -0.430772   \n",
       "heating_seconds             0.305952          -0.430772         1.000000   \n",
       "count_heating               0.226763          -0.202124         0.778909   \n",
       "active_power_sum            0.315259          -0.480412         0.975722   \n",
       "reactive_power_sum          0.265346          -0.462945         0.962311   \n",
       "full_power_sum              0.298706          -0.479076         0.980490   \n",
       "gas 1                       0.090108           0.017274         0.353844   \n",
       "\n",
       "                    count_heating  active_power_sum  reactive_power_sum  \\\n",
       "last_temperature         0.226763          0.315259            0.265346   \n",
       "first_temperature       -0.202124         -0.480412           -0.462945   \n",
       "heating_seconds          0.778909          0.975722            0.962311   \n",
       "count_heating            1.000000          0.738852            0.729473   \n",
       "active_power_sum         0.738852          1.000000            0.956635   \n",
       "reactive_power_sum       0.729473          0.956635            1.000000   \n",
       "full_power_sum           0.742971          0.993266            0.983781   \n",
       "gas 1                    0.368655          0.338072            0.313913   \n",
       "\n",
       "                    full_power_sum     gas 1  \n",
       "last_temperature          0.298706  0.090108  \n",
       "first_temperature        -0.479076  0.017274  \n",
       "heating_seconds           0.980490  0.353844  \n",
       "count_heating             0.742971  0.368655  \n",
       "active_power_sum          0.993266  0.338072  \n",
       "reactive_power_sum        0.983781  0.313913  \n",
       "full_power_sum            1.000000  0.331891  \n",
       "gas 1                     0.331891  1.000000  "
      ]
     },
     "execution_count": 146,
     "metadata": {},
     "output_type": "execute_result"
    }
   ],
   "source": [
    "data_pivot.loc[:,['last_temperature', 'first_temperature', 'heating_seconds',\n",
    "                   'count_heating', 'active_power_sum', 'reactive_power_sum', 'full_power_sum', \n",
    "                   'gas 1']].corr()"
   ]
  },
  {
   "cell_type": "code",
   "execution_count": 147,
   "metadata": {},
   "outputs": [
    {
     "data": {
      "text/html": [
       "<div>\n",
       "<style scoped>\n",
       "    .dataframe tbody tr th:only-of-type {\n",
       "        vertical-align: middle;\n",
       "    }\n",
       "\n",
       "    .dataframe tbody tr th {\n",
       "        vertical-align: top;\n",
       "    }\n",
       "\n",
       "    .dataframe thead th {\n",
       "        text-align: right;\n",
       "    }\n",
       "</style>\n",
       "<table border=\"1\" class=\"dataframe\">\n",
       "  <thead>\n",
       "    <tr style=\"text-align: right;\">\n",
       "      <th></th>\n",
       "      <th>last_temperature</th>\n",
       "      <th>Bulk 1</th>\n",
       "      <th>Bulk 2</th>\n",
       "      <th>Bulk 3</th>\n",
       "      <th>Bulk 4</th>\n",
       "      <th>Bulk 5</th>\n",
       "      <th>Bulk 6</th>\n",
       "      <th>Bulk 7</th>\n",
       "      <th>Bulk 8</th>\n",
       "      <th>Bulk 9</th>\n",
       "      <th>Bulk 10</th>\n",
       "      <th>Bulk 11</th>\n",
       "      <th>Bulk 12</th>\n",
       "      <th>Bulk 13</th>\n",
       "      <th>Bulk 14</th>\n",
       "      <th>Bulk 15</th>\n",
       "      <th>gas 1</th>\n",
       "    </tr>\n",
       "  </thead>\n",
       "  <tbody>\n",
       "    <tr>\n",
       "      <th>last_temperature</th>\n",
       "      <td>1.000000</td>\n",
       "      <td>-0.069223</td>\n",
       "      <td>0.008604</td>\n",
       "      <td>-0.036818</td>\n",
       "      <td>0.192459</td>\n",
       "      <td>0.014661</td>\n",
       "      <td>-0.190132</td>\n",
       "      <td>-0.009217</td>\n",
       "      <td>-0.029779</td>\n",
       "      <td>-0.020801</td>\n",
       "      <td>0.053528</td>\n",
       "      <td>-0.107176</td>\n",
       "      <td>0.243243</td>\n",
       "      <td>-0.039445</td>\n",
       "      <td>0.080817</td>\n",
       "      <td>0.255785</td>\n",
       "      <td>0.090108</td>\n",
       "    </tr>\n",
       "    <tr>\n",
       "      <th>Bulk 1</th>\n",
       "      <td>-0.069223</td>\n",
       "      <td>1.000000</td>\n",
       "      <td>0.114951</td>\n",
       "      <td>-0.003481</td>\n",
       "      <td>0.026314</td>\n",
       "      <td>0.008247</td>\n",
       "      <td>0.014741</td>\n",
       "      <td>0.092869</td>\n",
       "      <td>-0.005978</td>\n",
       "      <td>-0.018022</td>\n",
       "      <td>-0.020125</td>\n",
       "      <td>-0.045275</td>\n",
       "      <td>0.289833</td>\n",
       "      <td>-0.006809</td>\n",
       "      <td>0.203166</td>\n",
       "      <td>0.022916</td>\n",
       "      <td>0.149082</td>\n",
       "    </tr>\n",
       "    <tr>\n",
       "      <th>Bulk 2</th>\n",
       "      <td>0.008604</td>\n",
       "      <td>0.114951</td>\n",
       "      <td>1.000000</td>\n",
       "      <td>-0.030762</td>\n",
       "      <td>0.023596</td>\n",
       "      <td>0.250419</td>\n",
       "      <td>-0.018911</td>\n",
       "      <td>0.745768</td>\n",
       "      <td>-0.001033</td>\n",
       "      <td>-0.003115</td>\n",
       "      <td>-0.011982</td>\n",
       "      <td>-0.008739</td>\n",
       "      <td>-0.066655</td>\n",
       "      <td>-0.003510</td>\n",
       "      <td>-0.093184</td>\n",
       "      <td>-0.069426</td>\n",
       "      <td>0.071960</td>\n",
       "    </tr>\n",
       "    <tr>\n",
       "      <th>Bulk 3</th>\n",
       "      <td>-0.036818</td>\n",
       "      <td>-0.003481</td>\n",
       "      <td>-0.030762</td>\n",
       "      <td>1.000000</td>\n",
       "      <td>-0.303567</td>\n",
       "      <td>0.006856</td>\n",
       "      <td>0.065178</td>\n",
       "      <td>-0.028473</td>\n",
       "      <td>0.024040</td>\n",
       "      <td>0.020929</td>\n",
       "      <td>-0.084477</td>\n",
       "      <td>-0.029671</td>\n",
       "      <td>0.016865</td>\n",
       "      <td>-0.003270</td>\n",
       "      <td>0.001968</td>\n",
       "      <td>-0.016881</td>\n",
       "      <td>0.059737</td>\n",
       "    </tr>\n",
       "    <tr>\n",
       "      <th>Bulk 4</th>\n",
       "      <td>0.192459</td>\n",
       "      <td>0.026314</td>\n",
       "      <td>0.023596</td>\n",
       "      <td>-0.303567</td>\n",
       "      <td>1.000000</td>\n",
       "      <td>0.021108</td>\n",
       "      <td>-0.254025</td>\n",
       "      <td>0.027832</td>\n",
       "      <td>-0.014144</td>\n",
       "      <td>-0.019808</td>\n",
       "      <td>-0.095253</td>\n",
       "      <td>-0.119634</td>\n",
       "      <td>0.103018</td>\n",
       "      <td>0.012046</td>\n",
       "      <td>-0.092413</td>\n",
       "      <td>0.104173</td>\n",
       "      <td>0.014700</td>\n",
       "    </tr>\n",
       "    <tr>\n",
       "      <th>Bulk 5</th>\n",
       "      <td>0.014661</td>\n",
       "      <td>0.008247</td>\n",
       "      <td>0.250419</td>\n",
       "      <td>0.006856</td>\n",
       "      <td>0.021108</td>\n",
       "      <td>1.000000</td>\n",
       "      <td>-0.024782</td>\n",
       "      <td>0.220938</td>\n",
       "      <td>-0.002227</td>\n",
       "      <td>-0.006714</td>\n",
       "      <td>-0.025829</td>\n",
       "      <td>-0.018839</td>\n",
       "      <td>-0.053190</td>\n",
       "      <td>-0.007567</td>\n",
       "      <td>-0.037961</td>\n",
       "      <td>-0.047589</td>\n",
       "      <td>0.035059</td>\n",
       "    </tr>\n",
       "    <tr>\n",
       "      <th>Bulk 6</th>\n",
       "      <td>-0.190132</td>\n",
       "      <td>0.014741</td>\n",
       "      <td>-0.018911</td>\n",
       "      <td>0.065178</td>\n",
       "      <td>-0.254025</td>\n",
       "      <td>-0.024782</td>\n",
       "      <td>1.000000</td>\n",
       "      <td>-0.015819</td>\n",
       "      <td>-0.008454</td>\n",
       "      <td>-0.025485</td>\n",
       "      <td>-0.098036</td>\n",
       "      <td>0.200841</td>\n",
       "      <td>-0.113571</td>\n",
       "      <td>-0.000502</td>\n",
       "      <td>0.184124</td>\n",
       "      <td>-0.120158</td>\n",
       "      <td>0.127233</td>\n",
       "    </tr>\n",
       "    <tr>\n",
       "      <th>Bulk 7</th>\n",
       "      <td>-0.009217</td>\n",
       "      <td>0.092869</td>\n",
       "      <td>0.745768</td>\n",
       "      <td>-0.028473</td>\n",
       "      <td>0.027832</td>\n",
       "      <td>0.220938</td>\n",
       "      <td>-0.015819</td>\n",
       "      <td>1.000000</td>\n",
       "      <td>-0.000956</td>\n",
       "      <td>-0.002883</td>\n",
       "      <td>-0.011090</td>\n",
       "      <td>-0.008089</td>\n",
       "      <td>-0.058792</td>\n",
       "      <td>-0.003249</td>\n",
       "      <td>-0.082441</td>\n",
       "      <td>-0.060834</td>\n",
       "      <td>0.064064</td>\n",
       "    </tr>\n",
       "    <tr>\n",
       "      <th>Bulk 8</th>\n",
       "      <td>-0.029779</td>\n",
       "      <td>-0.005978</td>\n",
       "      <td>-0.001033</td>\n",
       "      <td>0.024040</td>\n",
       "      <td>-0.014144</td>\n",
       "      <td>-0.002227</td>\n",
       "      <td>-0.008454</td>\n",
       "      <td>-0.000956</td>\n",
       "      <td>1.000000</td>\n",
       "      <td>0.556978</td>\n",
       "      <td>-0.005356</td>\n",
       "      <td>-0.003907</td>\n",
       "      <td>-0.029798</td>\n",
       "      <td>-0.001569</td>\n",
       "      <td>-0.041658</td>\n",
       "      <td>-0.031037</td>\n",
       "      <td>0.006524</td>\n",
       "    </tr>\n",
       "    <tr>\n",
       "      <th>Bulk 9</th>\n",
       "      <td>-0.020801</td>\n",
       "      <td>-0.018022</td>\n",
       "      <td>-0.003115</td>\n",
       "      <td>0.020929</td>\n",
       "      <td>-0.019808</td>\n",
       "      <td>-0.006714</td>\n",
       "      <td>-0.025485</td>\n",
       "      <td>-0.002883</td>\n",
       "      <td>0.556978</td>\n",
       "      <td>1.000000</td>\n",
       "      <td>-0.016147</td>\n",
       "      <td>-0.011777</td>\n",
       "      <td>-0.059066</td>\n",
       "      <td>-0.004730</td>\n",
       "      <td>0.031549</td>\n",
       "      <td>-0.093562</td>\n",
       "      <td>0.079688</td>\n",
       "    </tr>\n",
       "    <tr>\n",
       "      <th>Bulk 10</th>\n",
       "      <td>0.053528</td>\n",
       "      <td>-0.020125</td>\n",
       "      <td>-0.011982</td>\n",
       "      <td>-0.084477</td>\n",
       "      <td>-0.095253</td>\n",
       "      <td>-0.025829</td>\n",
       "      <td>-0.098036</td>\n",
       "      <td>-0.011090</td>\n",
       "      <td>-0.005356</td>\n",
       "      <td>-0.016147</td>\n",
       "      <td>1.000000</td>\n",
       "      <td>-0.045305</td>\n",
       "      <td>0.028591</td>\n",
       "      <td>-0.018197</td>\n",
       "      <td>-0.046441</td>\n",
       "      <td>0.047967</td>\n",
       "      <td>0.007106</td>\n",
       "    </tr>\n",
       "    <tr>\n",
       "      <th>Bulk 11</th>\n",
       "      <td>-0.107176</td>\n",
       "      <td>-0.045275</td>\n",
       "      <td>-0.008739</td>\n",
       "      <td>-0.029671</td>\n",
       "      <td>-0.119634</td>\n",
       "      <td>-0.018839</td>\n",
       "      <td>0.200841</td>\n",
       "      <td>-0.008089</td>\n",
       "      <td>-0.003907</td>\n",
       "      <td>-0.011777</td>\n",
       "      <td>-0.045305</td>\n",
       "      <td>1.000000</td>\n",
       "      <td>-0.040829</td>\n",
       "      <td>-0.008129</td>\n",
       "      <td>0.090534</td>\n",
       "      <td>-0.039351</td>\n",
       "      <td>0.042829</td>\n",
       "    </tr>\n",
       "    <tr>\n",
       "      <th>Bulk 12</th>\n",
       "      <td>0.243243</td>\n",
       "      <td>0.289833</td>\n",
       "      <td>-0.066655</td>\n",
       "      <td>0.016865</td>\n",
       "      <td>0.103018</td>\n",
       "      <td>-0.053190</td>\n",
       "      <td>-0.113571</td>\n",
       "      <td>-0.058792</td>\n",
       "      <td>-0.029798</td>\n",
       "      <td>-0.059066</td>\n",
       "      <td>0.028591</td>\n",
       "      <td>-0.040829</td>\n",
       "      <td>1.000000</td>\n",
       "      <td>0.030955</td>\n",
       "      <td>0.465884</td>\n",
       "      <td>0.634660</td>\n",
       "      <td>0.209314</td>\n",
       "    </tr>\n",
       "    <tr>\n",
       "      <th>Bulk 13</th>\n",
       "      <td>-0.039445</td>\n",
       "      <td>-0.006809</td>\n",
       "      <td>-0.003510</td>\n",
       "      <td>-0.003270</td>\n",
       "      <td>0.012046</td>\n",
       "      <td>-0.007567</td>\n",
       "      <td>-0.000502</td>\n",
       "      <td>-0.003249</td>\n",
       "      <td>-0.001569</td>\n",
       "      <td>-0.004730</td>\n",
       "      <td>-0.018197</td>\n",
       "      <td>-0.008129</td>\n",
       "      <td>0.030955</td>\n",
       "      <td>1.000000</td>\n",
       "      <td>-0.094345</td>\n",
       "      <td>0.007991</td>\n",
       "      <td>0.025874</td>\n",
       "    </tr>\n",
       "    <tr>\n",
       "      <th>Bulk 14</th>\n",
       "      <td>0.080817</td>\n",
       "      <td>0.203166</td>\n",
       "      <td>-0.093184</td>\n",
       "      <td>0.001968</td>\n",
       "      <td>-0.092413</td>\n",
       "      <td>-0.037961</td>\n",
       "      <td>0.184124</td>\n",
       "      <td>-0.082441</td>\n",
       "      <td>-0.041658</td>\n",
       "      <td>0.031549</td>\n",
       "      <td>-0.046441</td>\n",
       "      <td>0.090534</td>\n",
       "      <td>0.465884</td>\n",
       "      <td>-0.094345</td>\n",
       "      <td>1.000000</td>\n",
       "      <td>0.263693</td>\n",
       "      <td>0.285210</td>\n",
       "    </tr>\n",
       "    <tr>\n",
       "      <th>Bulk 15</th>\n",
       "      <td>0.255785</td>\n",
       "      <td>0.022916</td>\n",
       "      <td>-0.069426</td>\n",
       "      <td>-0.016881</td>\n",
       "      <td>0.104173</td>\n",
       "      <td>-0.047589</td>\n",
       "      <td>-0.120158</td>\n",
       "      <td>-0.060834</td>\n",
       "      <td>-0.031037</td>\n",
       "      <td>-0.093562</td>\n",
       "      <td>0.047967</td>\n",
       "      <td>-0.039351</td>\n",
       "      <td>0.634660</td>\n",
       "      <td>0.007991</td>\n",
       "      <td>0.263693</td>\n",
       "      <td>1.000000</td>\n",
       "      <td>0.089032</td>\n",
       "    </tr>\n",
       "    <tr>\n",
       "      <th>gas 1</th>\n",
       "      <td>0.090108</td>\n",
       "      <td>0.149082</td>\n",
       "      <td>0.071960</td>\n",
       "      <td>0.059737</td>\n",
       "      <td>0.014700</td>\n",
       "      <td>0.035059</td>\n",
       "      <td>0.127233</td>\n",
       "      <td>0.064064</td>\n",
       "      <td>0.006524</td>\n",
       "      <td>0.079688</td>\n",
       "      <td>0.007106</td>\n",
       "      <td>0.042829</td>\n",
       "      <td>0.209314</td>\n",
       "      <td>0.025874</td>\n",
       "      <td>0.285210</td>\n",
       "      <td>0.089032</td>\n",
       "      <td>1.000000</td>\n",
       "    </tr>\n",
       "  </tbody>\n",
       "</table>\n",
       "</div>"
      ],
      "text/plain": [
       "                  last_temperature    Bulk 1    Bulk 2    Bulk 3    Bulk 4  \\\n",
       "last_temperature          1.000000 -0.069223  0.008604 -0.036818  0.192459   \n",
       "Bulk 1                   -0.069223  1.000000  0.114951 -0.003481  0.026314   \n",
       "Bulk 2                    0.008604  0.114951  1.000000 -0.030762  0.023596   \n",
       "Bulk 3                   -0.036818 -0.003481 -0.030762  1.000000 -0.303567   \n",
       "Bulk 4                    0.192459  0.026314  0.023596 -0.303567  1.000000   \n",
       "Bulk 5                    0.014661  0.008247  0.250419  0.006856  0.021108   \n",
       "Bulk 6                   -0.190132  0.014741 -0.018911  0.065178 -0.254025   \n",
       "Bulk 7                   -0.009217  0.092869  0.745768 -0.028473  0.027832   \n",
       "Bulk 8                   -0.029779 -0.005978 -0.001033  0.024040 -0.014144   \n",
       "Bulk 9                   -0.020801 -0.018022 -0.003115  0.020929 -0.019808   \n",
       "Bulk 10                   0.053528 -0.020125 -0.011982 -0.084477 -0.095253   \n",
       "Bulk 11                  -0.107176 -0.045275 -0.008739 -0.029671 -0.119634   \n",
       "Bulk 12                   0.243243  0.289833 -0.066655  0.016865  0.103018   \n",
       "Bulk 13                  -0.039445 -0.006809 -0.003510 -0.003270  0.012046   \n",
       "Bulk 14                   0.080817  0.203166 -0.093184  0.001968 -0.092413   \n",
       "Bulk 15                   0.255785  0.022916 -0.069426 -0.016881  0.104173   \n",
       "gas 1                     0.090108  0.149082  0.071960  0.059737  0.014700   \n",
       "\n",
       "                    Bulk 5    Bulk 6    Bulk 7    Bulk 8    Bulk 9   Bulk 10  \\\n",
       "last_temperature  0.014661 -0.190132 -0.009217 -0.029779 -0.020801  0.053528   \n",
       "Bulk 1            0.008247  0.014741  0.092869 -0.005978 -0.018022 -0.020125   \n",
       "Bulk 2            0.250419 -0.018911  0.745768 -0.001033 -0.003115 -0.011982   \n",
       "Bulk 3            0.006856  0.065178 -0.028473  0.024040  0.020929 -0.084477   \n",
       "Bulk 4            0.021108 -0.254025  0.027832 -0.014144 -0.019808 -0.095253   \n",
       "Bulk 5            1.000000 -0.024782  0.220938 -0.002227 -0.006714 -0.025829   \n",
       "Bulk 6           -0.024782  1.000000 -0.015819 -0.008454 -0.025485 -0.098036   \n",
       "Bulk 7            0.220938 -0.015819  1.000000 -0.000956 -0.002883 -0.011090   \n",
       "Bulk 8           -0.002227 -0.008454 -0.000956  1.000000  0.556978 -0.005356   \n",
       "Bulk 9           -0.006714 -0.025485 -0.002883  0.556978  1.000000 -0.016147   \n",
       "Bulk 10          -0.025829 -0.098036 -0.011090 -0.005356 -0.016147  1.000000   \n",
       "Bulk 11          -0.018839  0.200841 -0.008089 -0.003907 -0.011777 -0.045305   \n",
       "Bulk 12          -0.053190 -0.113571 -0.058792 -0.029798 -0.059066  0.028591   \n",
       "Bulk 13          -0.007567 -0.000502 -0.003249 -0.001569 -0.004730 -0.018197   \n",
       "Bulk 14          -0.037961  0.184124 -0.082441 -0.041658  0.031549 -0.046441   \n",
       "Bulk 15          -0.047589 -0.120158 -0.060834 -0.031037 -0.093562  0.047967   \n",
       "gas 1             0.035059  0.127233  0.064064  0.006524  0.079688  0.007106   \n",
       "\n",
       "                   Bulk 11   Bulk 12   Bulk 13   Bulk 14   Bulk 15     gas 1  \n",
       "last_temperature -0.107176  0.243243 -0.039445  0.080817  0.255785  0.090108  \n",
       "Bulk 1           -0.045275  0.289833 -0.006809  0.203166  0.022916  0.149082  \n",
       "Bulk 2           -0.008739 -0.066655 -0.003510 -0.093184 -0.069426  0.071960  \n",
       "Bulk 3           -0.029671  0.016865 -0.003270  0.001968 -0.016881  0.059737  \n",
       "Bulk 4           -0.119634  0.103018  0.012046 -0.092413  0.104173  0.014700  \n",
       "Bulk 5           -0.018839 -0.053190 -0.007567 -0.037961 -0.047589  0.035059  \n",
       "Bulk 6            0.200841 -0.113571 -0.000502  0.184124 -0.120158  0.127233  \n",
       "Bulk 7           -0.008089 -0.058792 -0.003249 -0.082441 -0.060834  0.064064  \n",
       "Bulk 8           -0.003907 -0.029798 -0.001569 -0.041658 -0.031037  0.006524  \n",
       "Bulk 9           -0.011777 -0.059066 -0.004730  0.031549 -0.093562  0.079688  \n",
       "Bulk 10          -0.045305  0.028591 -0.018197 -0.046441  0.047967  0.007106  \n",
       "Bulk 11           1.000000 -0.040829 -0.008129  0.090534 -0.039351  0.042829  \n",
       "Bulk 12          -0.040829  1.000000  0.030955  0.465884  0.634660  0.209314  \n",
       "Bulk 13          -0.008129  0.030955  1.000000 -0.094345  0.007991  0.025874  \n",
       "Bulk 14           0.090534  0.465884 -0.094345  1.000000  0.263693  0.285210  \n",
       "Bulk 15          -0.039351  0.634660  0.007991  0.263693  1.000000  0.089032  \n",
       "gas 1             0.042829  0.209314  0.025874  0.285210  0.089032  1.000000  "
      ]
     },
     "execution_count": 147,
     "metadata": {},
     "output_type": "execute_result"
    }
   ],
   "source": [
    "data_pivot.loc[:,['last_temperature', \n",
    "                   'Bulk 1', 'Bulk 2', 'Bulk 3', 'Bulk 4', 'Bulk 5', 'Bulk 6', 'Bulk 7', 'Bulk 8', \n",
    "                   'Bulk 9', 'Bulk 10', 'Bulk 11', 'Bulk 12', 'Bulk 13', 'Bulk 14', 'Bulk 15',\n",
    "                   'gas 1']].corr()"
   ]
  },
  {
   "cell_type": "code",
   "execution_count": 148,
   "metadata": {
    "scrolled": true
   },
   "outputs": [
    {
     "data": {
      "text/html": [
       "<div>\n",
       "<style scoped>\n",
       "    .dataframe tbody tr th:only-of-type {\n",
       "        vertical-align: middle;\n",
       "    }\n",
       "\n",
       "    .dataframe tbody tr th {\n",
       "        vertical-align: top;\n",
       "    }\n",
       "\n",
       "    .dataframe thead th {\n",
       "        text-align: right;\n",
       "    }\n",
       "</style>\n",
       "<table border=\"1\" class=\"dataframe\">\n",
       "  <thead>\n",
       "    <tr style=\"text-align: right;\">\n",
       "      <th></th>\n",
       "      <th>last_temperature</th>\n",
       "      <th>Wire 1</th>\n",
       "      <th>Wire 2</th>\n",
       "      <th>Wire 3</th>\n",
       "      <th>Wire 4</th>\n",
       "      <th>Wire 5</th>\n",
       "      <th>Wire 6</th>\n",
       "      <th>Wire 7</th>\n",
       "      <th>Wire 8</th>\n",
       "      <th>Wire 9</th>\n",
       "      <th>gas 1</th>\n",
       "    </tr>\n",
       "  </thead>\n",
       "  <tbody>\n",
       "    <tr>\n",
       "      <th>last_temperature</th>\n",
       "      <td>1.000000</td>\n",
       "      <td>0.316596</td>\n",
       "      <td>-0.195876</td>\n",
       "      <td>-0.036030</td>\n",
       "      <td>-0.051020</td>\n",
       "      <td>NaN</td>\n",
       "      <td>-0.024149</td>\n",
       "      <td>NaN</td>\n",
       "      <td>-0.015532</td>\n",
       "      <td>-0.004106</td>\n",
       "      <td>0.090108</td>\n",
       "    </tr>\n",
       "    <tr>\n",
       "      <th>Wire 1</th>\n",
       "      <td>0.316596</td>\n",
       "      <td>1.000000</td>\n",
       "      <td>-0.090446</td>\n",
       "      <td>0.064979</td>\n",
       "      <td>-0.100951</td>\n",
       "      <td>NaN</td>\n",
       "      <td>-0.085822</td>\n",
       "      <td>NaN</td>\n",
       "      <td>0.011940</td>\n",
       "      <td>-0.007821</td>\n",
       "      <td>0.144614</td>\n",
       "    </tr>\n",
       "    <tr>\n",
       "      <th>Wire 2</th>\n",
       "      <td>-0.195876</td>\n",
       "      <td>-0.090446</td>\n",
       "      <td>1.000000</td>\n",
       "      <td>0.116645</td>\n",
       "      <td>-0.024492</td>\n",
       "      <td>NaN</td>\n",
       "      <td>-0.053992</td>\n",
       "      <td>NaN</td>\n",
       "      <td>0.064522</td>\n",
       "      <td>0.056953</td>\n",
       "      <td>0.032607</td>\n",
       "    </tr>\n",
       "    <tr>\n",
       "      <th>Wire 3</th>\n",
       "      <td>-0.036030</td>\n",
       "      <td>0.064979</td>\n",
       "      <td>0.116645</td>\n",
       "      <td>1.000000</td>\n",
       "      <td>0.097014</td>\n",
       "      <td>NaN</td>\n",
       "      <td>0.140123</td>\n",
       "      <td>NaN</td>\n",
       "      <td>-0.006702</td>\n",
       "      <td>-0.005877</td>\n",
       "      <td>0.080123</td>\n",
       "    </tr>\n",
       "    <tr>\n",
       "      <th>Wire 4</th>\n",
       "      <td>-0.051020</td>\n",
       "      <td>-0.100951</td>\n",
       "      <td>-0.024492</td>\n",
       "      <td>0.097014</td>\n",
       "      <td>1.000000</td>\n",
       "      <td>NaN</td>\n",
       "      <td>0.256670</td>\n",
       "      <td>NaN</td>\n",
       "      <td>-0.002906</td>\n",
       "      <td>-0.002548</td>\n",
       "      <td>0.036382</td>\n",
       "    </tr>\n",
       "    <tr>\n",
       "      <th>Wire 5</th>\n",
       "      <td>NaN</td>\n",
       "      <td>NaN</td>\n",
       "      <td>NaN</td>\n",
       "      <td>NaN</td>\n",
       "      <td>NaN</td>\n",
       "      <td>NaN</td>\n",
       "      <td>NaN</td>\n",
       "      <td>NaN</td>\n",
       "      <td>NaN</td>\n",
       "      <td>NaN</td>\n",
       "      <td>NaN</td>\n",
       "    </tr>\n",
       "    <tr>\n",
       "      <th>Wire 6</th>\n",
       "      <td>-0.024149</td>\n",
       "      <td>-0.085822</td>\n",
       "      <td>-0.053992</td>\n",
       "      <td>0.140123</td>\n",
       "      <td>0.256670</td>\n",
       "      <td>NaN</td>\n",
       "      <td>1.000000</td>\n",
       "      <td>NaN</td>\n",
       "      <td>-0.006467</td>\n",
       "      <td>-0.005671</td>\n",
       "      <td>0.025250</td>\n",
       "    </tr>\n",
       "    <tr>\n",
       "      <th>Wire 7</th>\n",
       "      <td>NaN</td>\n",
       "      <td>NaN</td>\n",
       "      <td>NaN</td>\n",
       "      <td>NaN</td>\n",
       "      <td>NaN</td>\n",
       "      <td>NaN</td>\n",
       "      <td>NaN</td>\n",
       "      <td>NaN</td>\n",
       "      <td>NaN</td>\n",
       "      <td>NaN</td>\n",
       "      <td>NaN</td>\n",
       "    </tr>\n",
       "    <tr>\n",
       "      <th>Wire 8</th>\n",
       "      <td>-0.015532</td>\n",
       "      <td>0.011940</td>\n",
       "      <td>0.064522</td>\n",
       "      <td>-0.006702</td>\n",
       "      <td>-0.002906</td>\n",
       "      <td>NaN</td>\n",
       "      <td>-0.006467</td>\n",
       "      <td>NaN</td>\n",
       "      <td>1.000000</td>\n",
       "      <td>-0.003741</td>\n",
       "      <td>0.081572</td>\n",
       "    </tr>\n",
       "    <tr>\n",
       "      <th>Wire 9</th>\n",
       "      <td>-0.004106</td>\n",
       "      <td>-0.007821</td>\n",
       "      <td>0.056953</td>\n",
       "      <td>-0.005877</td>\n",
       "      <td>-0.002548</td>\n",
       "      <td>NaN</td>\n",
       "      <td>-0.005671</td>\n",
       "      <td>NaN</td>\n",
       "      <td>-0.003741</td>\n",
       "      <td>1.000000</td>\n",
       "      <td>-0.008930</td>\n",
       "    </tr>\n",
       "    <tr>\n",
       "      <th>gas 1</th>\n",
       "      <td>0.090108</td>\n",
       "      <td>0.144614</td>\n",
       "      <td>0.032607</td>\n",
       "      <td>0.080123</td>\n",
       "      <td>0.036382</td>\n",
       "      <td>NaN</td>\n",
       "      <td>0.025250</td>\n",
       "      <td>NaN</td>\n",
       "      <td>0.081572</td>\n",
       "      <td>-0.008930</td>\n",
       "      <td>1.000000</td>\n",
       "    </tr>\n",
       "  </tbody>\n",
       "</table>\n",
       "</div>"
      ],
      "text/plain": [
       "                  last_temperature    Wire 1    Wire 2    Wire 3    Wire 4  \\\n",
       "last_temperature          1.000000  0.316596 -0.195876 -0.036030 -0.051020   \n",
       "Wire 1                    0.316596  1.000000 -0.090446  0.064979 -0.100951   \n",
       "Wire 2                   -0.195876 -0.090446  1.000000  0.116645 -0.024492   \n",
       "Wire 3                   -0.036030  0.064979  0.116645  1.000000  0.097014   \n",
       "Wire 4                   -0.051020 -0.100951 -0.024492  0.097014  1.000000   \n",
       "Wire 5                         NaN       NaN       NaN       NaN       NaN   \n",
       "Wire 6                   -0.024149 -0.085822 -0.053992  0.140123  0.256670   \n",
       "Wire 7                         NaN       NaN       NaN       NaN       NaN   \n",
       "Wire 8                   -0.015532  0.011940  0.064522 -0.006702 -0.002906   \n",
       "Wire 9                   -0.004106 -0.007821  0.056953 -0.005877 -0.002548   \n",
       "gas 1                     0.090108  0.144614  0.032607  0.080123  0.036382   \n",
       "\n",
       "                  Wire 5    Wire 6  Wire 7    Wire 8    Wire 9     gas 1  \n",
       "last_temperature     NaN -0.024149     NaN -0.015532 -0.004106  0.090108  \n",
       "Wire 1               NaN -0.085822     NaN  0.011940 -0.007821  0.144614  \n",
       "Wire 2               NaN -0.053992     NaN  0.064522  0.056953  0.032607  \n",
       "Wire 3               NaN  0.140123     NaN -0.006702 -0.005877  0.080123  \n",
       "Wire 4               NaN  0.256670     NaN -0.002906 -0.002548  0.036382  \n",
       "Wire 5               NaN       NaN     NaN       NaN       NaN       NaN  \n",
       "Wire 6               NaN  1.000000     NaN -0.006467 -0.005671  0.025250  \n",
       "Wire 7               NaN       NaN     NaN       NaN       NaN       NaN  \n",
       "Wire 8               NaN -0.006467     NaN  1.000000 -0.003741  0.081572  \n",
       "Wire 9               NaN -0.005671     NaN -0.003741  1.000000 -0.008930  \n",
       "gas 1                NaN  0.025250     NaN  0.081572 -0.008930  1.000000  "
      ]
     },
     "execution_count": 148,
     "metadata": {},
     "output_type": "execute_result"
    }
   ],
   "source": [
    "data_pivot.loc[:, ['last_temperature', \n",
    "                   'Wire 1', 'Wire 2', 'Wire 3', 'Wire 4', 'Wire 5', 'Wire 6', 'Wire 7',\n",
    "                   'Wire 8', 'Wire 9', 'gas 1']].corr()"
   ]
  },
  {
   "cell_type": "markdown",
   "metadata": {},
   "source": [
    "#### Основной параметр, от которого зависит финальная температура, - это начальная температура. Также оказывают влияние добавки сыпучих материалов Bulk 4, 6, 11, 12, 15 и проволки Wire 1, 2."
   ]
  },
  {
   "cell_type": "markdown",
   "metadata": {},
   "source": [
    "## Подготовка данных для обучения моделей"
   ]
  },
  {
   "cell_type": "markdown",
   "metadata": {},
   "source": [
    "В качестве датасета для обучения возьмем датасет **data_pivot** и следующие параметры: **last_temperature, 'heating_seconds', 'count_heating', 'active_power_sum', 'reactive_power_sum', 'full_power_sum' 'Bulk 1', 'Bulk 2', 'Bulk 3', 'Bulk 4', 'Bulk 5', 'Bulk 6', 'Bulk 7', 'Bulk 8', 'Bulk 9', 'Bulk 10', 'Bulk 11', 'Bulk 12', 'Bulk 13', 'Bulk 14', 'Bulk 15', 'sum_bulk_add', 'Wire 1', 'Wire 2', 'Wire 3', 'Wire 4', 'Wire 6', 'Wire 8', 'Wire 9', 'sum_wire_add', 'gas 1'**.   \n",
    "В качестве целевого параметра будет использоваться параметр **last_temperature**."
   ]
  },
  {
   "cell_type": "code",
   "execution_count": 149,
   "metadata": {},
   "outputs": [],
   "source": [
    "target = data_pivot['last_temperature']\n",
    "features = data_pivot[['first_temperature', 'heating_seconds',\n",
    "                       'count_heating', 'active_power_sum', 'reactive_power_sum', 'full_power_sum', \n",
    "                       'Bulk 1', 'Bulk 2', 'Bulk 3',\n",
    "                       'Bulk 4', 'Bulk 5', 'Bulk 6', 'Bulk 7', 'Bulk 8', 'Bulk 9', 'Bulk 10',\n",
    "                       'Bulk 11', 'Bulk 12', 'Bulk 13', 'Bulk 14', 'Bulk 15', 'sum_bulk_add',\n",
    "                       'Wire 1', 'Wire 2', 'Wire 3', 'Wire 4', 'Wire 6', \n",
    "                       'Wire 8', 'Wire 9', 'sum_wire_add', 'gas 1']]"
   ]
  },
  {
   "cell_type": "markdown",
   "metadata": {},
   "source": [
    "Для разбиения данных на выборки воспользуемся методом **train_test_split** из модуля **sklearn.model_selection**.  \n",
    "Разобьем исходные данные на три части: обучающую, валидационную и тестовую в соотношении 9:1."
   ]
  },
  {
   "cell_type": "code",
   "execution_count": 150,
   "metadata": {},
   "outputs": [],
   "source": [
    "from sklearn.model_selection import train_test_split"
   ]
  },
  {
   "cell_type": "code",
   "execution_count": 151,
   "metadata": {},
   "outputs": [],
   "source": [
    "features_train, features_test, target_train, target_test = train_test_split(features, target, \n",
    "                                                                            test_size=0.1, random_state=12345)"
   ]
  },
  {
   "cell_type": "markdown",
   "metadata": {},
   "source": [
    "#### Масштабируем признаки"
   ]
  },
  {
   "cell_type": "code",
   "execution_count": 152,
   "metadata": {},
   "outputs": [],
   "source": [
    "from sklearn.preprocessing import StandardScaler"
   ]
  },
  {
   "cell_type": "code",
   "execution_count": 153,
   "metadata": {},
   "outputs": [
    {
     "name": "stderr",
     "output_type": "stream",
     "text": [
      "<ipython-input-153-cb8485c30767>:11: SettingWithCopyWarning: \n",
      "A value is trying to be set on a copy of a slice from a DataFrame.\n",
      "Try using .loc[row_indexer,col_indexer] = value instead\n",
      "\n",
      "See the caveats in the documentation: https://pandas.pydata.org/pandas-docs/stable/user_guide/indexing.html#returning-a-view-versus-a-copy\n",
      "  features_train[numeric] = scaler.transform(features_train[numeric])\n",
      "S:\\Programs\\anaconda3\\lib\\site-packages\\pandas\\core\\frame.py:2969: SettingWithCopyWarning: \n",
      "A value is trying to be set on a copy of a slice from a DataFrame\n",
      "\n",
      "See the caveats in the documentation: https://pandas.pydata.org/pandas-docs/stable/user_guide/indexing.html#returning-a-view-versus-a-copy\n",
      "  self.loc._setitem_with_indexer((slice(None), indexer), value)\n",
      "S:\\Programs\\anaconda3\\lib\\site-packages\\pandas\\core\\frame.py:2935: SettingWithCopyWarning: \n",
      "A value is trying to be set on a copy of a slice from a DataFrame\n",
      "\n",
      "See the caveats in the documentation: https://pandas.pydata.org/pandas-docs/stable/user_guide/indexing.html#returning-a-view-versus-a-copy\n",
      "  self._setitem_array(key, value)\n",
      "<ipython-input-153-cb8485c30767>:12: SettingWithCopyWarning: \n",
      "A value is trying to be set on a copy of a slice from a DataFrame.\n",
      "Try using .loc[row_indexer,col_indexer] = value instead\n",
      "\n",
      "See the caveats in the documentation: https://pandas.pydata.org/pandas-docs/stable/user_guide/indexing.html#returning-a-view-versus-a-copy\n",
      "  features_test[numeric] = scaler.transform(features_test[numeric])\n",
      "S:\\Programs\\anaconda3\\lib\\site-packages\\pandas\\core\\frame.py:2969: SettingWithCopyWarning: \n",
      "A value is trying to be set on a copy of a slice from a DataFrame\n",
      "\n",
      "See the caveats in the documentation: https://pandas.pydata.org/pandas-docs/stable/user_guide/indexing.html#returning-a-view-versus-a-copy\n",
      "  self.loc._setitem_with_indexer((slice(None), indexer), value)\n",
      "S:\\Programs\\anaconda3\\lib\\site-packages\\pandas\\core\\frame.py:2935: SettingWithCopyWarning: \n",
      "A value is trying to be set on a copy of a slice from a DataFrame\n",
      "\n",
      "See the caveats in the documentation: https://pandas.pydata.org/pandas-docs/stable/user_guide/indexing.html#returning-a-view-versus-a-copy\n",
      "  self._setitem_array(key, value)\n"
     ]
    }
   ],
   "source": [
    "numeric = ['first_temperature', 'heating_seconds',\n",
    "           'count_heating', 'active_power_sum', 'reactive_power_sum', 'full_power_sum', \n",
    "           'Bulk 1', 'Bulk 2', 'Bulk 3',\n",
    "           'Bulk 4', 'Bulk 5', 'Bulk 6', 'Bulk 7', 'Bulk 8', 'Bulk 9', 'Bulk 10',\n",
    "           'Bulk 11', 'Bulk 12', 'Bulk 13', 'Bulk 14', 'Bulk 15', 'sum_bulk_add',\n",
    "           'Wire 1', 'Wire 2', 'Wire 3', 'Wire 4', 'Wire 6', \n",
    "           'Wire 8', 'Wire 9', 'sum_wire_add', 'gas 1']\n",
    "\n",
    "scaler = StandardScaler()\n",
    "scaler.fit(features_train[numeric])\n",
    "features_train[numeric] = scaler.transform(features_train[numeric])\n",
    "features_test[numeric] = scaler.transform(features_test[numeric])"
   ]
  },
  {
   "cell_type": "code",
   "execution_count": 154,
   "metadata": {},
   "outputs": [
    {
     "data": {
      "text/html": [
       "<div>\n",
       "<style scoped>\n",
       "    .dataframe tbody tr th:only-of-type {\n",
       "        vertical-align: middle;\n",
       "    }\n",
       "\n",
       "    .dataframe tbody tr th {\n",
       "        vertical-align: top;\n",
       "    }\n",
       "\n",
       "    .dataframe thead th {\n",
       "        text-align: right;\n",
       "    }\n",
       "</style>\n",
       "<table border=\"1\" class=\"dataframe\">\n",
       "  <thead>\n",
       "    <tr style=\"text-align: right;\">\n",
       "      <th></th>\n",
       "      <th>first_temperature</th>\n",
       "      <th>heating_seconds</th>\n",
       "      <th>count_heating</th>\n",
       "      <th>active_power_sum</th>\n",
       "      <th>reactive_power_sum</th>\n",
       "      <th>full_power_sum</th>\n",
       "      <th>Bulk 1</th>\n",
       "      <th>Bulk 2</th>\n",
       "      <th>Bulk 3</th>\n",
       "      <th>Bulk 4</th>\n",
       "      <th>Bulk 5</th>\n",
       "      <th>Bulk 6</th>\n",
       "      <th>Bulk 7</th>\n",
       "      <th>Bulk 8</th>\n",
       "      <th>Bulk 9</th>\n",
       "      <th>Bulk 10</th>\n",
       "      <th>Bulk 11</th>\n",
       "      <th>Bulk 12</th>\n",
       "      <th>Bulk 13</th>\n",
       "      <th>Bulk 14</th>\n",
       "      <th>Bulk 15</th>\n",
       "      <th>sum_bulk_add</th>\n",
       "      <th>Wire 1</th>\n",
       "      <th>Wire 2</th>\n",
       "      <th>Wire 3</th>\n",
       "      <th>Wire 4</th>\n",
       "      <th>Wire 6</th>\n",
       "      <th>Wire 8</th>\n",
       "      <th>Wire 9</th>\n",
       "      <th>sum_wire_add</th>\n",
       "      <th>gas 1</th>\n",
       "    </tr>\n",
       "  </thead>\n",
       "  <tbody>\n",
       "    <tr>\n",
       "      <th>2040</th>\n",
       "      <td>-0.318099</td>\n",
       "      <td>-1.166487</td>\n",
       "      <td>-1.08675</td>\n",
       "      <td>-0.929781</td>\n",
       "      <td>-1.062619</td>\n",
       "      <td>-0.987802</td>\n",
       "      <td>-0.274051</td>\n",
       "      <td>-0.03925</td>\n",
       "      <td>0.520320</td>\n",
       "      <td>-0.656915</td>\n",
       "      <td>-0.099918</td>\n",
       "      <td>-0.401119</td>\n",
       "      <td>-0.046914</td>\n",
       "      <td>-0.022657</td>\n",
       "      <td>-0.068316</td>\n",
       "      <td>-0.250052</td>\n",
       "      <td>-0.185489</td>\n",
       "      <td>0.297769</td>\n",
       "      <td>-0.073606</td>\n",
       "      <td>-0.565191</td>\n",
       "      <td>1.210015</td>\n",
       "      <td>0.220668</td>\n",
       "      <td>-0.926338</td>\n",
       "      <td>-0.546473</td>\n",
       "      <td>-0.105395</td>\n",
       "      <td>-0.041931</td>\n",
       "      <td>6.078680</td>\n",
       "      <td>-0.068872</td>\n",
       "      <td>-0.060392</td>\n",
       "      <td>-0.092078</td>\n",
       "      <td>-0.601284</td>\n",
       "    </tr>\n",
       "    <tr>\n",
       "      <th>1416</th>\n",
       "      <td>-1.304499</td>\n",
       "      <td>-0.269816</td>\n",
       "      <td>0.24203</td>\n",
       "      <td>-0.032094</td>\n",
       "      <td>-0.110027</td>\n",
       "      <td>-0.065237</td>\n",
       "      <td>-0.274051</td>\n",
       "      <td>-0.03925</td>\n",
       "      <td>-0.021638</td>\n",
       "      <td>2.224490</td>\n",
       "      <td>-0.099918</td>\n",
       "      <td>-0.401119</td>\n",
       "      <td>-0.046914</td>\n",
       "      <td>-0.022657</td>\n",
       "      <td>-0.068316</td>\n",
       "      <td>-0.250052</td>\n",
       "      <td>-0.185489</td>\n",
       "      <td>-0.034716</td>\n",
       "      <td>-0.073606</td>\n",
       "      <td>-0.283453</td>\n",
       "      <td>-0.204858</td>\n",
       "      <td>0.166330</td>\n",
       "      <td>-0.019136</td>\n",
       "      <td>-0.546473</td>\n",
       "      <td>-0.105395</td>\n",
       "      <td>-0.041931</td>\n",
       "      <td>-0.095871</td>\n",
       "      <td>-0.068872</td>\n",
       "      <td>-0.060392</td>\n",
       "      <td>-0.300789</td>\n",
       "      <td>-0.255283</td>\n",
       "    </tr>\n",
       "    <tr>\n",
       "      <th>110</th>\n",
       "      <td>0.196545</td>\n",
       "      <td>0.508366</td>\n",
       "      <td>0.24203</td>\n",
       "      <td>0.378261</td>\n",
       "      <td>0.533965</td>\n",
       "      <td>0.433038</td>\n",
       "      <td>-0.274051</td>\n",
       "      <td>-0.03925</td>\n",
       "      <td>0.349175</td>\n",
       "      <td>-0.656915</td>\n",
       "      <td>-0.099918</td>\n",
       "      <td>-0.401119</td>\n",
       "      <td>-0.046914</td>\n",
       "      <td>-0.022657</td>\n",
       "      <td>-0.068316</td>\n",
       "      <td>-0.250052</td>\n",
       "      <td>-0.185489</td>\n",
       "      <td>-0.028066</td>\n",
       "      <td>-0.073606</td>\n",
       "      <td>-0.642028</td>\n",
       "      <td>0.984111</td>\n",
       "      <td>-0.090867</td>\n",
       "      <td>-1.114460</td>\n",
       "      <td>-0.546473</td>\n",
       "      <td>-0.105395</td>\n",
       "      <td>-0.041931</td>\n",
       "      <td>-0.095871</td>\n",
       "      <td>-0.068872</td>\n",
       "      <td>-0.060392</td>\n",
       "      <td>-1.104999</td>\n",
       "      <td>-0.570514</td>\n",
       "    </tr>\n",
       "    <tr>\n",
       "      <th>942</th>\n",
       "      <td>-0.060777</td>\n",
       "      <td>-0.718152</td>\n",
       "      <td>-0.42236</td>\n",
       "      <td>-0.702200</td>\n",
       "      <td>-0.800760</td>\n",
       "      <td>-0.746906</td>\n",
       "      <td>-0.274051</td>\n",
       "      <td>-0.03925</td>\n",
       "      <td>-0.634906</td>\n",
       "      <td>0.563445</td>\n",
       "      <td>-0.099918</td>\n",
       "      <td>-0.401119</td>\n",
       "      <td>-0.046914</td>\n",
       "      <td>-0.022657</td>\n",
       "      <td>-0.068316</td>\n",
       "      <td>-0.250052</td>\n",
       "      <td>-0.185489</td>\n",
       "      <td>-1.397901</td>\n",
       "      <td>-0.073606</td>\n",
       "      <td>-1.961074</td>\n",
       "      <td>-1.453274</td>\n",
       "      <td>-1.941966</td>\n",
       "      <td>0.051020</td>\n",
       "      <td>-0.546473</td>\n",
       "      <td>-0.105395</td>\n",
       "      <td>-0.041931</td>\n",
       "      <td>-0.095871</td>\n",
       "      <td>-0.068872</td>\n",
       "      <td>-0.060392</td>\n",
       "      <td>-0.249279</td>\n",
       "      <td>-1.214989</td>\n",
       "    </tr>\n",
       "    <tr>\n",
       "      <th>1114</th>\n",
       "      <td>-1.819143</td>\n",
       "      <td>1.004738</td>\n",
       "      <td>-0.42236</td>\n",
       "      <td>1.105863</td>\n",
       "      <td>1.130757</td>\n",
       "      <td>1.120548</td>\n",
       "      <td>-0.274051</td>\n",
       "      <td>-0.03925</td>\n",
       "      <td>-0.634906</td>\n",
       "      <td>-0.656915</td>\n",
       "      <td>-0.099918</td>\n",
       "      <td>1.889199</td>\n",
       "      <td>-0.046914</td>\n",
       "      <td>-0.022657</td>\n",
       "      <td>-0.068316</td>\n",
       "      <td>-0.250052</td>\n",
       "      <td>-0.185489</td>\n",
       "      <td>1.355068</td>\n",
       "      <td>-0.073606</td>\n",
       "      <td>1.445393</td>\n",
       "      <td>0.948442</td>\n",
       "      <td>1.437829</td>\n",
       "      <td>-0.304214</td>\n",
       "      <td>3.480858</td>\n",
       "      <td>-0.105395</td>\n",
       "      <td>-0.041931</td>\n",
       "      <td>-0.095871</td>\n",
       "      <td>-0.068872</td>\n",
       "      <td>-0.060392</td>\n",
       "      <td>1.063254</td>\n",
       "      <td>-0.251997</td>\n",
       "    </tr>\n",
       "  </tbody>\n",
       "</table>\n",
       "</div>"
      ],
      "text/plain": [
       "      first_temperature  heating_seconds  count_heating  active_power_sum  \\\n",
       "2040          -0.318099        -1.166487       -1.08675         -0.929781   \n",
       "1416          -1.304499        -0.269816        0.24203         -0.032094   \n",
       "110            0.196545         0.508366        0.24203          0.378261   \n",
       "942           -0.060777        -0.718152       -0.42236         -0.702200   \n",
       "1114          -1.819143         1.004738       -0.42236          1.105863   \n",
       "\n",
       "      reactive_power_sum  full_power_sum    Bulk 1   Bulk 2    Bulk 3  \\\n",
       "2040           -1.062619       -0.987802 -0.274051 -0.03925  0.520320   \n",
       "1416           -0.110027       -0.065237 -0.274051 -0.03925 -0.021638   \n",
       "110             0.533965        0.433038 -0.274051 -0.03925  0.349175   \n",
       "942            -0.800760       -0.746906 -0.274051 -0.03925 -0.634906   \n",
       "1114            1.130757        1.120548 -0.274051 -0.03925 -0.634906   \n",
       "\n",
       "        Bulk 4    Bulk 5    Bulk 6    Bulk 7    Bulk 8    Bulk 9   Bulk 10  \\\n",
       "2040 -0.656915 -0.099918 -0.401119 -0.046914 -0.022657 -0.068316 -0.250052   \n",
       "1416  2.224490 -0.099918 -0.401119 -0.046914 -0.022657 -0.068316 -0.250052   \n",
       "110  -0.656915 -0.099918 -0.401119 -0.046914 -0.022657 -0.068316 -0.250052   \n",
       "942   0.563445 -0.099918 -0.401119 -0.046914 -0.022657 -0.068316 -0.250052   \n",
       "1114 -0.656915 -0.099918  1.889199 -0.046914 -0.022657 -0.068316 -0.250052   \n",
       "\n",
       "       Bulk 11   Bulk 12   Bulk 13   Bulk 14   Bulk 15  sum_bulk_add  \\\n",
       "2040 -0.185489  0.297769 -0.073606 -0.565191  1.210015      0.220668   \n",
       "1416 -0.185489 -0.034716 -0.073606 -0.283453 -0.204858      0.166330   \n",
       "110  -0.185489 -0.028066 -0.073606 -0.642028  0.984111     -0.090867   \n",
       "942  -0.185489 -1.397901 -0.073606 -1.961074 -1.453274     -1.941966   \n",
       "1114 -0.185489  1.355068 -0.073606  1.445393  0.948442      1.437829   \n",
       "\n",
       "        Wire 1    Wire 2    Wire 3    Wire 4    Wire 6    Wire 8    Wire 9  \\\n",
       "2040 -0.926338 -0.546473 -0.105395 -0.041931  6.078680 -0.068872 -0.060392   \n",
       "1416 -0.019136 -0.546473 -0.105395 -0.041931 -0.095871 -0.068872 -0.060392   \n",
       "110  -1.114460 -0.546473 -0.105395 -0.041931 -0.095871 -0.068872 -0.060392   \n",
       "942   0.051020 -0.546473 -0.105395 -0.041931 -0.095871 -0.068872 -0.060392   \n",
       "1114 -0.304214  3.480858 -0.105395 -0.041931 -0.095871 -0.068872 -0.060392   \n",
       "\n",
       "      sum_wire_add     gas 1  \n",
       "2040     -0.092078 -0.601284  \n",
       "1416     -0.300789 -0.255283  \n",
       "110      -1.104999 -0.570514  \n",
       "942      -0.249279 -1.214989  \n",
       "1114      1.063254 -0.251997  "
      ]
     },
     "execution_count": 154,
     "metadata": {},
     "output_type": "execute_result"
    }
   ],
   "source": [
    "pd.set_option('display.max_columns', 50)\n",
    "features_train.head()"
   ]
  },
  {
   "cell_type": "markdown",
   "metadata": {},
   "source": [
    "## Обучение моделей"
   ]
  },
  {
   "cell_type": "markdown",
   "metadata": {},
   "source": [
    "Для оценки качества моделей будем использовать метрику **mean_absolute_error**"
   ]
  },
  {
   "cell_type": "code",
   "execution_count": 155,
   "metadata": {},
   "outputs": [],
   "source": [
    "from sklearn.metrics import mean_absolute_error"
   ]
  },
  {
   "cell_type": "markdown",
   "metadata": {},
   "source": [
    "### Линейная регрессия"
   ]
  },
  {
   "cell_type": "code",
   "execution_count": 156,
   "metadata": {},
   "outputs": [],
   "source": [
    "from sklearn.linear_model import LinearRegression"
   ]
  },
  {
   "cell_type": "code",
   "execution_count": 157,
   "metadata": {},
   "outputs": [],
   "source": [
    "model_lr = LinearRegression()"
   ]
  },
  {
   "cell_type": "markdown",
   "metadata": {},
   "source": [
    "Обучаем модель"
   ]
  },
  {
   "cell_type": "code",
   "execution_count": 158,
   "metadata": {},
   "outputs": [
    {
     "data": {
      "text/plain": [
       "LinearRegression()"
      ]
     },
     "execution_count": 158,
     "metadata": {},
     "output_type": "execute_result"
    }
   ],
   "source": [
    "model_lr.fit(features_train, target_train)"
   ]
  },
  {
   "cell_type": "code",
   "execution_count": 159,
   "metadata": {},
   "outputs": [],
   "source": [
    "predicted_train_lr = model_lr.predict(features_train)"
   ]
  },
  {
   "cell_type": "code",
   "execution_count": 160,
   "metadata": {},
   "outputs": [],
   "source": [
    "mae_train_lr = mean_absolute_error(target_train, predicted_train_lr)"
   ]
  },
  {
   "cell_type": "markdown",
   "metadata": {},
   "source": [
    "Рассчитываем метрику качества на обучающей выборке"
   ]
  },
  {
   "cell_type": "code",
   "execution_count": 161,
   "metadata": {},
   "outputs": [
    {
     "data": {
      "text/plain": [
       "6.116786989398148"
      ]
     },
     "execution_count": 161,
     "metadata": {},
     "output_type": "execute_result"
    }
   ],
   "source": [
    "mae_train_lr"
   ]
  },
  {
   "cell_type": "markdown",
   "metadata": {},
   "source": [
    "Рассчитываем метрику качества на тестовой модели"
   ]
  },
  {
   "cell_type": "code",
   "execution_count": 162,
   "metadata": {},
   "outputs": [],
   "source": [
    "predicted_test_lr = model_lr.predict(features_test)"
   ]
  },
  {
   "cell_type": "code",
   "execution_count": 163,
   "metadata": {},
   "outputs": [],
   "source": [
    "mae_test_lr = mean_absolute_error(target_test, predicted_test_lr)"
   ]
  },
  {
   "cell_type": "code",
   "execution_count": 164,
   "metadata": {
    "scrolled": false
   },
   "outputs": [
    {
     "data": {
      "text/plain": [
       "5.964500739657483"
      ]
     },
     "execution_count": 164,
     "metadata": {},
     "output_type": "execute_result"
    }
   ],
   "source": [
    "mae_test_lr"
   ]
  },
  {
   "cell_type": "markdown",
   "metadata": {},
   "source": [
    "#### Модель линейной регрессии показала метрику MAE на обучающей выборке 6.12, на тестовой - 5.96."
   ]
  },
  {
   "cell_type": "markdown",
   "metadata": {},
   "source": [
    "### Модель CatBoostRegressor"
   ]
  },
  {
   "cell_type": "code",
   "execution_count": 165,
   "metadata": {},
   "outputs": [],
   "source": [
    "from catboost import CatBoostRegressor"
   ]
  },
  {
   "cell_type": "code",
   "execution_count": 166,
   "metadata": {},
   "outputs": [],
   "source": [
    "model_cbr = CatBoostRegressor(loss_function='MAE', learning_rate=0.01)"
   ]
  },
  {
   "cell_type": "code",
   "execution_count": 167,
   "metadata": {
    "scrolled": true
   },
   "outputs": [
    {
     "name": "stdout",
     "output_type": "stream",
     "text": [
      "\n",
      "bestTest = 584.7233921\n",
      "bestIteration = 99\n",
      "\n",
      "0:\tloss: 584.7233921\tbest: 584.7233921 (0)\ttotal: 467ms\tremaining: 21.9s\n",
      "\n",
      "bestTest = 584.6755316\n",
      "bestIteration = 99\n",
      "\n",
      "1:\tloss: 584.6755316\tbest: 584.6755316 (1)\ttotal: 716ms\tremaining: 16.5s\n",
      "\n",
      "bestTest = 584.7101138\n",
      "bestIteration = 99\n",
      "\n",
      "2:\tloss: 584.7101138\tbest: 584.6755316 (1)\ttotal: 937ms\tremaining: 14.1s\n",
      "\n",
      "bestTest = 584.7726879\n",
      "bestIteration = 99\n",
      "\n",
      "3:\tloss: 584.7726879\tbest: 584.6755316 (1)\ttotal: 1.17s\tremaining: 12.9s\n",
      "\n",
      "bestTest = 131.1234512\n",
      "bestIteration = 249\n",
      "\n",
      "4:\tloss: 131.1234512\tbest: 131.1234512 (4)\ttotal: 1.75s\tremaining: 15s\n",
      "\n",
      "bestTest = 131.0654101\n",
      "bestIteration = 249\n",
      "\n",
      "5:\tloss: 131.0654101\tbest: 131.0654101 (5)\ttotal: 2.31s\tremaining: 16.2s\n",
      "\n",
      "bestTest = 131.1539042\n",
      "bestIteration = 249\n",
      "\n",
      "6:\tloss: 131.1539042\tbest: 131.0654101 (5)\ttotal: 2.9s\tremaining: 17s\n",
      "\n",
      "bestTest = 131.2240654\n",
      "bestIteration = 249\n",
      "\n",
      "7:\tloss: 131.2240654\tbest: 131.0654101 (5)\ttotal: 3.48s\tremaining: 17.4s\n",
      "\n",
      "bestTest = 12.93846153\n",
      "bestIteration = 499\n",
      "\n",
      "8:\tloss: 12.9384615\tbest: 12.9384615 (8)\ttotal: 4.67s\tremaining: 20.2s\n",
      "\n",
      "bestTest = 12.89328408\n",
      "bestIteration = 499\n",
      "\n",
      "9:\tloss: 12.8932841\tbest: 12.8932841 (9)\ttotal: 6.02s\tremaining: 22.9s\n",
      "\n",
      "bestTest = 12.97329632\n",
      "bestIteration = 499\n",
      "\n",
      "10:\tloss: 12.9732963\tbest: 12.8932841 (9)\ttotal: 7.21s\tremaining: 24.3s\n",
      "\n",
      "bestTest = 13.03354288\n",
      "bestIteration = 499\n",
      "\n",
      "11:\tloss: 13.0335429\tbest: 12.8932841 (9)\ttotal: 8.25s\tremaining: 24.8s\n",
      "\n",
      "bestTest = 589.3245261\n",
      "bestIteration = 99\n",
      "\n",
      "12:\tloss: 589.3245261\tbest: 12.8932841 (9)\ttotal: 9.47s\tremaining: 25.5s\n",
      "\n",
      "bestTest = 589.5997821\n",
      "bestIteration = 99\n",
      "\n",
      "13:\tloss: 589.5997821\tbest: 12.8932841 (9)\ttotal: 10.7s\tremaining: 25.9s\n",
      "\n",
      "bestTest = 589.0367963\n",
      "bestIteration = 99\n",
      "\n",
      "14:\tloss: 589.0367963\tbest: 12.8932841 (9)\ttotal: 11.9s\tremaining: 26.2s\n",
      "\n",
      "bestTest = 588.3775594\n",
      "bestIteration = 99\n",
      "\n",
      "15:\tloss: 588.3775594\tbest: 12.8932841 (9)\ttotal: 13.1s\tremaining: 26.2s\n",
      "\n",
      "bestTest = 138.1793973\n",
      "bestIteration = 249\n",
      "\n",
      "16:\tloss: 138.1793973\tbest: 12.8932841 (9)\ttotal: 16.1s\tremaining: 29.4s\n",
      "\n",
      "bestTest = 138.0985961\n",
      "bestIteration = 249\n",
      "\n",
      "17:\tloss: 138.0985961\tbest: 12.8932841 (9)\ttotal: 19.1s\tremaining: 31.8s\n",
      "\n",
      "bestTest = 137.5102014\n",
      "bestIteration = 249\n",
      "\n",
      "18:\tloss: 137.5102014\tbest: 12.8932841 (9)\ttotal: 22.4s\tremaining: 34.3s\n",
      "\n",
      "bestTest = 136.8881615\n",
      "bestIteration = 249\n",
      "\n",
      "19:\tloss: 136.8881615\tbest: 12.8932841 (9)\ttotal: 25.3s\tremaining: 35.4s\n",
      "\n",
      "bestTest = 20.20899808\n",
      "bestIteration = 499\n",
      "\n",
      "20:\tloss: 20.2089981\tbest: 12.8932841 (9)\ttotal: 31s\tremaining: 39.9s\n",
      "\n",
      "bestTest = 20.09291484\n",
      "bestIteration = 499\n",
      "\n",
      "21:\tloss: 20.0929148\tbest: 12.8932841 (9)\ttotal: 36.8s\tremaining: 43.5s\n",
      "\n",
      "bestTest = 19.52205374\n",
      "bestIteration = 499\n",
      "\n",
      "22:\tloss: 19.5220537\tbest: 12.8932841 (9)\ttotal: 43.1s\tremaining: 46.8s\n",
      "\n",
      "bestTest = 18.94011126\n",
      "bestIteration = 499\n",
      "\n",
      "23:\tloss: 18.9401113\tbest: 12.8932841 (9)\ttotal: 48.9s\tremaining: 48.9s\n",
      "\n",
      "bestTest = 602.5416572\n",
      "bestIteration = 99\n",
      "\n",
      "24:\tloss: 602.5416572\tbest: 12.8932841 (9)\ttotal: 1m 6s\tremaining: 1m 1s\n",
      "\n",
      "bestTest = 600.1756264\n",
      "bestIteration = 99\n",
      "\n",
      "25:\tloss: 600.1756264\tbest: 12.8932841 (9)\ttotal: 1m 23s\tremaining: 1m 10s\n",
      "\n",
      "bestTest = 597.7321836\n",
      "bestIteration = 99\n",
      "\n",
      "26:\tloss: 597.7321836\tbest: 12.8932841 (9)\ttotal: 1m 41s\tremaining: 1m 18s\n",
      "\n",
      "bestTest = 596.8933331\n",
      "bestIteration = 99\n",
      "\n",
      "27:\tloss: 596.8933331\tbest: 12.8932841 (9)\ttotal: 1m 58s\tremaining: 1m 24s\n",
      "\n",
      "bestTest = 157.1693873\n",
      "bestIteration = 249\n",
      "\n",
      "28:\tloss: 157.1693873\tbest: 12.8932841 (9)\ttotal: 2m 42s\tremaining: 1m 46s\n",
      "\n",
      "bestTest = 153.8479233\n",
      "bestIteration = 249\n",
      "\n",
      "29:\tloss: 153.8479233\tbest: 12.8932841 (9)\ttotal: 3m 26s\tremaining: 2m 4s\n",
      "\n",
      "bestTest = 150.7748883\n",
      "bestIteration = 249\n",
      "\n",
      "30:\tloss: 150.7748883\tbest: 12.8932841 (9)\ttotal: 4m 12s\tremaining: 2m 18s\n",
      "\n",
      "bestTest = 149.6071105\n",
      "bestIteration = 249\n",
      "\n",
      "31:\tloss: 149.6071105\tbest: 12.8932841 (9)\ttotal: 4m 56s\tremaining: 2m 28s\n",
      "\n",
      "bestTest = 40.71223691\n",
      "bestIteration = 499\n",
      "\n",
      "32:\tloss: 40.7122369\tbest: 12.8932841 (9)\ttotal: 6m 26s\tremaining: 2m 55s\n",
      "\n",
      "bestTest = 37.09982842\n",
      "bestIteration = 499\n",
      "\n",
      "33:\tloss: 37.0998284\tbest: 12.8932841 (9)\ttotal: 7m 57s\tremaining: 3m 16s\n",
      "\n",
      "bestTest = 33.86846944\n",
      "bestIteration = 499\n",
      "\n",
      "34:\tloss: 33.8684694\tbest: 12.8932841 (9)\ttotal: 9m 17s\tremaining: 3m 27s\n",
      "\n",
      "bestTest = 32.56587396\n",
      "bestIteration = 499\n",
      "\n",
      "35:\tloss: 32.5658740\tbest: 12.8932841 (9)\ttotal: 10m 36s\tremaining: 3m 32s\n",
      "\n",
      "bestTest = 612.9432907\n",
      "bestIteration = 99\n",
      "\n",
      "36:\tloss: 612.9432907\tbest: 12.8932841 (9)\ttotal: 14m 3s\tremaining: 4m 10s\n",
      "\n",
      "bestTest = 608.339574\n",
      "bestIteration = 99\n",
      "\n",
      "37:\tloss: 608.3395740\tbest: 12.8932841 (9)\ttotal: 17m 23s\tremaining: 4m 34s\n",
      "\n",
      "bestTest = 606.2884613\n",
      "bestIteration = 99\n",
      "\n",
      "38:\tloss: 606.2884613\tbest: 12.8932841 (9)\ttotal: 20m 58s\tremaining: 4m 50s\n",
      "\n",
      "bestTest = 603.9651845\n",
      "bestIteration = 99\n",
      "\n",
      "39:\tloss: 603.9651845\tbest: 12.8932841 (9)\ttotal: 24m 4s\tremaining: 4m 48s\n",
      "\n",
      "bestTest = 173.974739\n",
      "bestIteration = 249\n",
      "\n",
      "40:\tloss: 173.9747390\tbest: 12.8932841 (9)\ttotal: 33m 22s\tremaining: 5m 41s\n",
      "\n",
      "bestTest = 166.2656063\n",
      "bestIteration = 249\n",
      "\n",
      "41:\tloss: 166.2656063\tbest: 12.8932841 (9)\ttotal: 41m 53s\tremaining: 5m 59s\n",
      "\n",
      "bestTest = 164.2615294\n",
      "bestIteration = 249\n",
      "\n",
      "42:\tloss: 164.2615294\tbest: 12.8932841 (9)\ttotal: 50m 27s\tremaining: 5m 52s\n",
      "\n",
      "bestTest = 159.9061587\n",
      "bestIteration = 249\n",
      "\n",
      "43:\tloss: 159.9061587\tbest: 12.8932841 (9)\ttotal: 57m 39s\tremaining: 5m 14s\n",
      "\n",
      "bestTest = 59.48821355\n",
      "bestIteration = 499\n",
      "\n",
      "44:\tloss: 59.4882136\tbest: 12.8932841 (9)\ttotal: 1h 14m 58s\tremaining: 4m 59s\n",
      "\n",
      "bestTest = 50.72594889\n",
      "bestIteration = 499\n",
      "\n",
      "45:\tloss: 50.7259489\tbest: 12.8932841 (9)\ttotal: 1h 31m 10s\tremaining: 3m 57s\n",
      "\n",
      "bestTest = 48.28665599\n",
      "bestIteration = 499\n",
      "\n",
      "46:\tloss: 48.2866560\tbest: 12.8932841 (9)\ttotal: 1h 47m 35s\tremaining: 2m 17s\n",
      "\n",
      "bestTest = 43.78105256\n",
      "bestIteration = 499\n",
      "\n",
      "47:\tloss: 43.7810526\tbest: 12.8932841 (9)\ttotal: 2h 3m 38s\tremaining: 0us\n",
      "Estimating final quality...\n"
     ]
    }
   ],
   "source": [
    "grid = {'depth': [4, 8, 12, 16],\n",
    "        'iterations': [100, 250, 500],\n",
    "        'l2_leaf_reg': [8, 16, 24, 32]}\n",
    "\n",
    "grid_search_result = model_cbr.grid_search(grid, \n",
    "                                       X=features_train, \n",
    "                                       y=target_train,\n",
    "                                       cv = 3)"
   ]
  },
  {
   "cell_type": "code",
   "execution_count": 168,
   "metadata": {},
   "outputs": [
    {
     "data": {
      "text/plain": [
       "{'learn': {'MAE': 5.539202634766754}}"
      ]
     },
     "execution_count": 168,
     "metadata": {},
     "output_type": "execute_result"
    }
   ],
   "source": [
    "model_cbr.get_best_score()"
   ]
  },
  {
   "cell_type": "code",
   "execution_count": 169,
   "metadata": {},
   "outputs": [
    {
     "data": {
      "text/plain": [
       "{'learning_rate': 0.01,\n",
       " 'loss_function': 'MAE',\n",
       " 'depth': 4,\n",
       " 'l2_leaf_reg': 16,\n",
       " 'iterations': 500}"
      ]
     },
     "execution_count": 169,
     "metadata": {},
     "output_type": "execute_result"
    }
   ],
   "source": [
    "model_cbr.get_params()"
   ]
  },
  {
   "cell_type": "code",
   "execution_count": 170,
   "metadata": {},
   "outputs": [],
   "source": [
    "pred_test_cbr = model_cbr.predict(features_test)"
   ]
  },
  {
   "cell_type": "code",
   "execution_count": 171,
   "metadata": {},
   "outputs": [],
   "source": [
    "mae_test_cbr = mean_absolute_error(target_test, pred_test_cbr)"
   ]
  },
  {
   "cell_type": "code",
   "execution_count": 172,
   "metadata": {
    "scrolled": false
   },
   "outputs": [
    {
     "data": {
      "text/plain": [
       "5.4856757888784236"
      ]
     },
     "execution_count": 172,
     "metadata": {},
     "output_type": "execute_result"
    }
   ],
   "source": [
    "mae_test_cbr"
   ]
  },
  {
   "cell_type": "markdown",
   "metadata": {},
   "source": [
    "#### Модель LightGBMRegressor показала метрику MAE на обучающей выборке 5.54, на тестовой - 5.49."
   ]
  },
  {
   "cell_type": "markdown",
   "metadata": {},
   "source": [
    "### Модель LightGBMRegressor"
   ]
  },
  {
   "cell_type": "code",
   "execution_count": 173,
   "metadata": {},
   "outputs": [],
   "source": [
    "import lightgbm"
   ]
  },
  {
   "cell_type": "code",
   "execution_count": 174,
   "metadata": {},
   "outputs": [],
   "source": [
    "from sklearn.model_selection import GridSearchCV"
   ]
  },
  {
   "cell_type": "code",
   "execution_count": 175,
   "metadata": {},
   "outputs": [],
   "source": [
    "model_lgbm = lightgbm.LGBMRegressor(learning_rate=0.01)"
   ]
  },
  {
   "cell_type": "markdown",
   "metadata": {},
   "source": [
    "Задаем сетку параметров для получения лучшей метрики."
   ]
  },
  {
   "cell_type": "code",
   "execution_count": 176,
   "metadata": {},
   "outputs": [],
   "source": [
    "param_grid = {'max_depth': [4, 8, 12, 16, 20, 24],\n",
    "              'n_estimators': [100, 200, 300, 500, 750],\n",
    "              'num_leaves': [8, 16, 24, 32, 64, 144]}"
   ]
  },
  {
   "cell_type": "code",
   "execution_count": 177,
   "metadata": {},
   "outputs": [],
   "source": [
    "grid = GridSearchCV(model_lgbm, param_grid=param_grid, cv=3, scoring='neg_mean_absolute_error', verbose = 50)"
   ]
  },
  {
   "cell_type": "markdown",
   "metadata": {},
   "source": [
    "Обучаем модель"
   ]
  },
  {
   "cell_type": "code",
   "execution_count": 178,
   "metadata": {},
   "outputs": [
    {
     "name": "stdout",
     "output_type": "stream",
     "text": [
      "Fitting 3 folds for each of 180 candidates, totalling 540 fits\n",
      "[Parallel(n_jobs=1)]: Using backend SequentialBackend with 1 concurrent workers.\n",
      "[CV] max_depth=4, n_estimators=100, num_leaves=8 .....................\n",
      "[CV]  max_depth=4, n_estimators=100, num_leaves=8, score=-6.817, total=   0.1s\n",
      "[Parallel(n_jobs=1)]: Done   1 out of   1 | elapsed:    0.0s remaining:    0.0s\n",
      "[CV] max_depth=4, n_estimators=100, num_leaves=8 .....................\n",
      "[CV]  max_depth=4, n_estimators=100, num_leaves=8, score=-6.675, total=   0.0s\n",
      "[Parallel(n_jobs=1)]: Done   2 out of   2 | elapsed:    0.0s remaining:    0.0s\n",
      "[CV] max_depth=4, n_estimators=100, num_leaves=8 .....................\n",
      "[CV]  max_depth=4, n_estimators=100, num_leaves=8, score=-6.545, total=   0.1s\n",
      "[Parallel(n_jobs=1)]: Done   3 out of   3 | elapsed:    0.1s remaining:    0.0s\n",
      "[CV] max_depth=4, n_estimators=100, num_leaves=16 ....................\n",
      "[CV]  max_depth=4, n_estimators=100, num_leaves=16, score=-6.720, total=   0.1s\n",
      "[Parallel(n_jobs=1)]: Done   4 out of   4 | elapsed:    0.2s remaining:    0.0s\n",
      "[CV] max_depth=4, n_estimators=100, num_leaves=16 ....................\n",
      "[CV]  max_depth=4, n_estimators=100, num_leaves=16, score=-6.521, total=   0.1s\n",
      "[Parallel(n_jobs=1)]: Done   5 out of   5 | elapsed:    0.2s remaining:    0.0s\n",
      "[CV] max_depth=4, n_estimators=100, num_leaves=16 ....................\n",
      "[CV]  max_depth=4, n_estimators=100, num_leaves=16, score=-6.422, total=   0.0s\n",
      "[Parallel(n_jobs=1)]: Done   6 out of   6 | elapsed:    0.3s remaining:    0.0s\n",
      "[CV] max_depth=4, n_estimators=100, num_leaves=24 ....................\n",
      "[CV]  max_depth=4, n_estimators=100, num_leaves=24, score=-6.720, total=   0.1s\n",
      "[Parallel(n_jobs=1)]: Done   7 out of   7 | elapsed:    0.3s remaining:    0.0s\n",
      "[CV] max_depth=4, n_estimators=100, num_leaves=24 ....................\n",
      "[CV]  max_depth=4, n_estimators=100, num_leaves=24, score=-6.521, total=   0.1s\n",
      "[Parallel(n_jobs=1)]: Done   8 out of   8 | elapsed:    0.4s remaining:    0.0s\n",
      "[CV] max_depth=4, n_estimators=100, num_leaves=24 ....................\n",
      "[CV]  max_depth=4, n_estimators=100, num_leaves=24, score=-6.422, total=   0.1s\n",
      "[Parallel(n_jobs=1)]: Done   9 out of   9 | elapsed:    0.5s remaining:    0.0s\n",
      "[CV] max_depth=4, n_estimators=100, num_leaves=32 ....................\n",
      "[CV]  max_depth=4, n_estimators=100, num_leaves=32, score=-6.720, total=   0.1s\n",
      "[Parallel(n_jobs=1)]: Done  10 out of  10 | elapsed:    0.5s remaining:    0.0s\n",
      "[CV] max_depth=4, n_estimators=100, num_leaves=32 ....................\n",
      "[CV]  max_depth=4, n_estimators=100, num_leaves=32, score=-6.521, total=   0.1s\n",
      "[Parallel(n_jobs=1)]: Done  11 out of  11 | elapsed:    0.6s remaining:    0.0s\n",
      "[CV] max_depth=4, n_estimators=100, num_leaves=32 ....................\n",
      "[CV]  max_depth=4, n_estimators=100, num_leaves=32, score=-6.422, total=   0.1s\n",
      "[Parallel(n_jobs=1)]: Done  12 out of  12 | elapsed:    0.7s remaining:    0.0s\n",
      "[CV] max_depth=4, n_estimators=100, num_leaves=64 ....................\n",
      "[CV]  max_depth=4, n_estimators=100, num_leaves=64, score=-6.720, total=   0.1s\n",
      "[Parallel(n_jobs=1)]: Done  13 out of  13 | elapsed:    0.7s remaining:    0.0s\n",
      "[CV] max_depth=4, n_estimators=100, num_leaves=64 ....................\n",
      "[CV]  max_depth=4, n_estimators=100, num_leaves=64, score=-6.521, total=   0.1s\n",
      "[Parallel(n_jobs=1)]: Done  14 out of  14 | elapsed:    0.8s remaining:    0.0s\n",
      "[CV] max_depth=4, n_estimators=100, num_leaves=64 ....................\n",
      "[CV]  max_depth=4, n_estimators=100, num_leaves=64, score=-6.422, total=   0.1s\n",
      "[Parallel(n_jobs=1)]: Done  15 out of  15 | elapsed:    0.9s remaining:    0.0s\n",
      "[CV] max_depth=4, n_estimators=100, num_leaves=144 ...................\n",
      "[CV]  max_depth=4, n_estimators=100, num_leaves=144, score=-6.720, total=   0.1s\n",
      "[Parallel(n_jobs=1)]: Done  16 out of  16 | elapsed:    1.0s remaining:    0.0s\n",
      "[CV] max_depth=4, n_estimators=100, num_leaves=144 ...................\n",
      "[CV]  max_depth=4, n_estimators=100, num_leaves=144, score=-6.521, total=   0.1s\n",
      "[Parallel(n_jobs=1)]: Done  17 out of  17 | elapsed:    1.1s remaining:    0.0s\n",
      "[CV] max_depth=4, n_estimators=100, num_leaves=144 ...................\n",
      "[CV]  max_depth=4, n_estimators=100, num_leaves=144, score=-6.422, total=   0.1s\n",
      "[Parallel(n_jobs=1)]: Done  18 out of  18 | elapsed:    1.1s remaining:    0.0s\n",
      "[CV] max_depth=4, n_estimators=200, num_leaves=8 .....................\n",
      "[CV]  max_depth=4, n_estimators=200, num_leaves=8, score=-6.361, total=   0.1s\n",
      "[Parallel(n_jobs=1)]: Done  19 out of  19 | elapsed:    1.2s remaining:    0.0s\n",
      "[CV] max_depth=4, n_estimators=200, num_leaves=8 .....................\n",
      "[CV]  max_depth=4, n_estimators=200, num_leaves=8, score=-6.217, total=   0.1s\n",
      "[Parallel(n_jobs=1)]: Done  20 out of  20 | elapsed:    1.3s remaining:    0.0s\n",
      "[CV] max_depth=4, n_estimators=200, num_leaves=8 .....................\n",
      "[CV]  max_depth=4, n_estimators=200, num_leaves=8, score=-6.160, total=   0.1s\n",
      "[Parallel(n_jobs=1)]: Done  21 out of  21 | elapsed:    1.4s remaining:    0.0s\n",
      "[CV] max_depth=4, n_estimators=200, num_leaves=16 ....................\n",
      "[CV]  max_depth=4, n_estimators=200, num_leaves=16, score=-6.296, total=   0.1s\n",
      "[Parallel(n_jobs=1)]: Done  22 out of  22 | elapsed:    1.5s remaining:    0.0s\n",
      "[CV] max_depth=4, n_estimators=200, num_leaves=16 ....................\n",
      "[CV]  max_depth=4, n_estimators=200, num_leaves=16, score=-6.100, total=   0.1s\n",
      "[Parallel(n_jobs=1)]: Done  23 out of  23 | elapsed:    1.7s remaining:    0.0s\n",
      "[CV] max_depth=4, n_estimators=200, num_leaves=16 ....................\n",
      "[CV]  max_depth=4, n_estimators=200, num_leaves=16, score=-6.051, total=   0.1s\n",
      "[Parallel(n_jobs=1)]: Done  24 out of  24 | elapsed:    1.8s remaining:    0.0s\n",
      "[CV] max_depth=4, n_estimators=200, num_leaves=24 ....................\n",
      "[CV]  max_depth=4, n_estimators=200, num_leaves=24, score=-6.296, total=   0.1s\n",
      "[Parallel(n_jobs=1)]: Done  25 out of  25 | elapsed:    1.9s remaining:    0.0s\n",
      "[CV] max_depth=4, n_estimators=200, num_leaves=24 ....................\n",
      "[CV]  max_depth=4, n_estimators=200, num_leaves=24, score=-6.100, total=   0.1s\n",
      "[Parallel(n_jobs=1)]: Done  26 out of  26 | elapsed:    2.0s remaining:    0.0s\n",
      "[CV] max_depth=4, n_estimators=200, num_leaves=24 ....................\n",
      "[CV]  max_depth=4, n_estimators=200, num_leaves=24, score=-6.051, total=   0.1s\n",
      "[Parallel(n_jobs=1)]: Done  27 out of  27 | elapsed:    2.2s remaining:    0.0s\n",
      "[CV] max_depth=4, n_estimators=200, num_leaves=32 ....................\n",
      "[CV]  max_depth=4, n_estimators=200, num_leaves=32, score=-6.296, total=   0.1s\n",
      "[Parallel(n_jobs=1)]: Done  28 out of  28 | elapsed:    2.3s remaining:    0.0s\n",
      "[CV] max_depth=4, n_estimators=200, num_leaves=32 ....................\n",
      "[CV]  max_depth=4, n_estimators=200, num_leaves=32, score=-6.100, total=   0.1s\n",
      "[Parallel(n_jobs=1)]: Done  29 out of  29 | elapsed:    2.3s remaining:    0.0s\n",
      "[CV] max_depth=4, n_estimators=200, num_leaves=32 ....................\n",
      "[CV]  max_depth=4, n_estimators=200, num_leaves=32, score=-6.051, total=   0.1s\n",
      "[Parallel(n_jobs=1)]: Done  30 out of  30 | elapsed:    2.5s remaining:    0.0s\n",
      "[CV] max_depth=4, n_estimators=200, num_leaves=64 ....................\n",
      "[CV]  max_depth=4, n_estimators=200, num_leaves=64, score=-6.296, total=   0.1s\n",
      "[Parallel(n_jobs=1)]: Done  31 out of  31 | elapsed:    2.6s remaining:    0.0s\n",
      "[CV] max_depth=4, n_estimators=200, num_leaves=64 ....................\n",
      "[CV]  max_depth=4, n_estimators=200, num_leaves=64, score=-6.100, total=   0.1s\n",
      "[Parallel(n_jobs=1)]: Done  32 out of  32 | elapsed:    2.7s remaining:    0.0s\n",
      "[CV] max_depth=4, n_estimators=200, num_leaves=64 ....................\n",
      "[CV]  max_depth=4, n_estimators=200, num_leaves=64, score=-6.051, total=   0.1s\n",
      "[Parallel(n_jobs=1)]: Done  33 out of  33 | elapsed:    2.8s remaining:    0.0s\n",
      "[CV] max_depth=4, n_estimators=200, num_leaves=144 ...................\n",
      "[CV]  max_depth=4, n_estimators=200, num_leaves=144, score=-6.296, total=   0.1s\n",
      "[Parallel(n_jobs=1)]: Done  34 out of  34 | elapsed:    2.9s remaining:    0.0s\n",
      "[CV] max_depth=4, n_estimators=200, num_leaves=144 ...................\n",
      "[CV]  max_depth=4, n_estimators=200, num_leaves=144, score=-6.100, total=   0.1s\n",
      "[Parallel(n_jobs=1)]: Done  35 out of  35 | elapsed:    3.0s remaining:    0.0s\n",
      "[CV] max_depth=4, n_estimators=200, num_leaves=144 ...................\n",
      "[CV]  max_depth=4, n_estimators=200, num_leaves=144, score=-6.051, total=   0.1s\n",
      "[Parallel(n_jobs=1)]: Done  36 out of  36 | elapsed:    3.1s remaining:    0.0s\n",
      "[CV] max_depth=4, n_estimators=300, num_leaves=8 .....................\n",
      "[CV]  max_depth=4, n_estimators=300, num_leaves=8, score=-6.171, total=   0.1s\n",
      "[Parallel(n_jobs=1)]: Done  37 out of  37 | elapsed:    3.2s remaining:    0.0s\n",
      "[CV] max_depth=4, n_estimators=300, num_leaves=8 .....................\n",
      "[CV]  max_depth=4, n_estimators=300, num_leaves=8, score=-6.001, total=   0.1s\n",
      "[Parallel(n_jobs=1)]: Done  38 out of  38 | elapsed:    3.4s remaining:    0.0s\n",
      "[CV] max_depth=4, n_estimators=300, num_leaves=8 .....................\n",
      "[CV]  max_depth=4, n_estimators=300, num_leaves=8, score=-5.940, total=   0.1s\n",
      "[Parallel(n_jobs=1)]: Done  39 out of  39 | elapsed:    3.5s remaining:    0.0s\n",
      "[CV] max_depth=4, n_estimators=300, num_leaves=16 ....................\n",
      "[CV]  max_depth=4, n_estimators=300, num_leaves=16, score=-6.136, total=   0.1s\n",
      "[Parallel(n_jobs=1)]: Done  40 out of  40 | elapsed:    3.6s remaining:    0.0s\n",
      "[CV] max_depth=4, n_estimators=300, num_leaves=16 ....................\n",
      "[CV]  max_depth=4, n_estimators=300, num_leaves=16, score=-5.913, total=   0.1s\n",
      "[Parallel(n_jobs=1)]: Done  41 out of  41 | elapsed:    3.8s remaining:    0.0s\n",
      "[CV] max_depth=4, n_estimators=300, num_leaves=16 ....................\n",
      "[CV]  max_depth=4, n_estimators=300, num_leaves=16, score=-5.893, total=   0.1s\n",
      "[Parallel(n_jobs=1)]: Done  42 out of  42 | elapsed:    3.9s remaining:    0.0s\n",
      "[CV] max_depth=4, n_estimators=300, num_leaves=24 ....................\n",
      "[CV]  max_depth=4, n_estimators=300, num_leaves=24, score=-6.136, total=   0.1s\n",
      "[Parallel(n_jobs=1)]: Done  43 out of  43 | elapsed:    4.1s remaining:    0.0s\n",
      "[CV] max_depth=4, n_estimators=300, num_leaves=24 ....................\n",
      "[CV]  max_depth=4, n_estimators=300, num_leaves=24, score=-5.913, total=   0.1s\n",
      "[Parallel(n_jobs=1)]: Done  44 out of  44 | elapsed:    4.2s remaining:    0.0s\n",
      "[CV] max_depth=4, n_estimators=300, num_leaves=24 ....................\n",
      "[CV]  max_depth=4, n_estimators=300, num_leaves=24, score=-5.893, total=   0.2s\n",
      "[Parallel(n_jobs=1)]: Done  45 out of  45 | elapsed:    4.3s remaining:    0.0s\n",
      "[CV] max_depth=4, n_estimators=300, num_leaves=32 ....................\n",
      "[CV]  max_depth=4, n_estimators=300, num_leaves=32, score=-6.136, total=   0.1s\n",
      "[Parallel(n_jobs=1)]: Done  46 out of  46 | elapsed:    4.5s remaining:    0.0s\n",
      "[CV] max_depth=4, n_estimators=300, num_leaves=32 ....................\n",
      "[CV]  max_depth=4, n_estimators=300, num_leaves=32, score=-5.913, total=   0.1s\n",
      "[Parallel(n_jobs=1)]: Done  47 out of  47 | elapsed:    4.6s remaining:    0.0s\n",
      "[CV] max_depth=4, n_estimators=300, num_leaves=32 ....................\n",
      "[CV]  max_depth=4, n_estimators=300, num_leaves=32, score=-5.893, total=   0.2s\n",
      "[Parallel(n_jobs=1)]: Done  48 out of  48 | elapsed:    4.8s remaining:    0.0s\n",
      "[CV] max_depth=4, n_estimators=300, num_leaves=64 ....................\n",
      "[CV]  max_depth=4, n_estimators=300, num_leaves=64, score=-6.136, total=   0.2s\n",
      "[Parallel(n_jobs=1)]: Done  49 out of  49 | elapsed:    5.0s remaining:    0.0s\n",
      "[CV] max_depth=4, n_estimators=300, num_leaves=64 ....................\n",
      "[CV]  max_depth=4, n_estimators=300, num_leaves=64, score=-5.913, total=   0.2s\n",
      "[CV] max_depth=4, n_estimators=300, num_leaves=64 ....................\n",
      "[CV]  max_depth=4, n_estimators=300, num_leaves=64, score=-5.893, total=   0.2s\n",
      "[CV] max_depth=4, n_estimators=300, num_leaves=144 ...................\n",
      "[CV]  max_depth=4, n_estimators=300, num_leaves=144, score=-6.136, total=   0.2s\n",
      "[CV] max_depth=4, n_estimators=300, num_leaves=144 ...................\n",
      "[CV]  max_depth=4, n_estimators=300, num_leaves=144, score=-5.913, total=   0.2s\n",
      "[CV] max_depth=4, n_estimators=300, num_leaves=144 ...................\n",
      "[CV]  max_depth=4, n_estimators=300, num_leaves=144, score=-5.893, total=   0.2s\n",
      "[CV] max_depth=4, n_estimators=500, num_leaves=8 .....................\n",
      "[CV]  max_depth=4, n_estimators=500, num_leaves=8, score=-5.963, total=   0.3s\n",
      "[CV] max_depth=4, n_estimators=500, num_leaves=8 .....................\n",
      "[CV]  max_depth=4, n_estimators=500, num_leaves=8, score=-5.844, total=   0.2s\n",
      "[CV] max_depth=4, n_estimators=500, num_leaves=8 .....................\n",
      "[CV]  max_depth=4, n_estimators=500, num_leaves=8, score=-5.782, total=   0.3s\n",
      "[CV] max_depth=4, n_estimators=500, num_leaves=16 ....................\n",
      "[CV]  max_depth=4, n_estimators=500, num_leaves=16, score=-5.984, total=   0.2s\n",
      "[CV] max_depth=4, n_estimators=500, num_leaves=16 ....................\n",
      "[CV]  max_depth=4, n_estimators=500, num_leaves=16, score=-5.778, total=   0.3s\n",
      "[CV] max_depth=4, n_estimators=500, num_leaves=16 ....................\n",
      "[CV]  max_depth=4, n_estimators=500, num_leaves=16, score=-5.764, total=   0.4s\n",
      "[CV] max_depth=4, n_estimators=500, num_leaves=24 ....................\n",
      "[CV]  max_depth=4, n_estimators=500, num_leaves=24, score=-5.984, total=   0.3s\n",
      "[CV] max_depth=4, n_estimators=500, num_leaves=24 ....................\n",
      "[CV]  max_depth=4, n_estimators=500, num_leaves=24, score=-5.778, total=   0.3s\n",
      "[CV] max_depth=4, n_estimators=500, num_leaves=24 ....................\n",
      "[CV]  max_depth=4, n_estimators=500, num_leaves=24, score=-5.764, total=   0.3s\n",
      "[CV] max_depth=4, n_estimators=500, num_leaves=32 ....................\n",
      "[CV]  max_depth=4, n_estimators=500, num_leaves=32, score=-5.984, total=   0.3s\n",
      "[CV] max_depth=4, n_estimators=500, num_leaves=32 ....................\n",
      "[CV]  max_depth=4, n_estimators=500, num_leaves=32, score=-5.778, total=   0.3s\n",
      "[CV] max_depth=4, n_estimators=500, num_leaves=32 ....................\n",
      "[CV]  max_depth=4, n_estimators=500, num_leaves=32, score=-5.764, total=   0.3s\n",
      "[CV] max_depth=4, n_estimators=500, num_leaves=64 ....................\n",
      "[CV]  max_depth=4, n_estimators=500, num_leaves=64, score=-5.984, total=   0.2s\n",
      "[CV] max_depth=4, n_estimators=500, num_leaves=64 ....................\n",
      "[CV]  max_depth=4, n_estimators=500, num_leaves=64, score=-5.778, total=   0.2s\n",
      "[CV] max_depth=4, n_estimators=500, num_leaves=64 ....................\n",
      "[CV]  max_depth=4, n_estimators=500, num_leaves=64, score=-5.764, total=   0.3s\n",
      "[CV] max_depth=4, n_estimators=500, num_leaves=144 ...................\n",
      "[CV]  max_depth=4, n_estimators=500, num_leaves=144, score=-5.984, total=   0.3s\n",
      "[CV] max_depth=4, n_estimators=500, num_leaves=144 ...................\n",
      "[CV]  max_depth=4, n_estimators=500, num_leaves=144, score=-5.778, total=   0.4s\n",
      "[CV] max_depth=4, n_estimators=500, num_leaves=144 ...................\n",
      "[CV]  max_depth=4, n_estimators=500, num_leaves=144, score=-5.764, total=   0.3s\n",
      "[CV] max_depth=4, n_estimators=750, num_leaves=8 .....................\n",
      "[CV]  max_depth=4, n_estimators=750, num_leaves=8, score=-5.896, total=   0.3s\n",
      "[CV] max_depth=4, n_estimators=750, num_leaves=8 .....................\n",
      "[CV]  max_depth=4, n_estimators=750, num_leaves=8, score=-5.768, total=   0.3s\n",
      "[CV] max_depth=4, n_estimators=750, num_leaves=8 .....................\n",
      "[CV]  max_depth=4, n_estimators=750, num_leaves=8, score=-5.703, total=   0.3s\n",
      "[CV] max_depth=4, n_estimators=750, num_leaves=16 ....................\n",
      "[CV]  max_depth=4, n_estimators=750, num_leaves=16, score=-5.936, total=   0.3s\n",
      "[CV] max_depth=4, n_estimators=750, num_leaves=16 ....................\n",
      "[CV]  max_depth=4, n_estimators=750, num_leaves=16, score=-5.692, total=   0.3s\n",
      "[CV] max_depth=4, n_estimators=750, num_leaves=16 ....................\n",
      "[CV]  max_depth=4, n_estimators=750, num_leaves=16, score=-5.710, total=   0.3s\n",
      "[CV] max_depth=4, n_estimators=750, num_leaves=24 ....................\n",
      "[CV]  max_depth=4, n_estimators=750, num_leaves=24, score=-5.936, total=   0.3s\n",
      "[CV] max_depth=4, n_estimators=750, num_leaves=24 ....................\n",
      "[CV]  max_depth=4, n_estimators=750, num_leaves=24, score=-5.692, total=   0.3s\n",
      "[CV] max_depth=4, n_estimators=750, num_leaves=24 ....................\n",
      "[CV]  max_depth=4, n_estimators=750, num_leaves=24, score=-5.710, total=   0.3s\n",
      "[CV] max_depth=4, n_estimators=750, num_leaves=32 ....................\n",
      "[CV]  max_depth=4, n_estimators=750, num_leaves=32, score=-5.936, total=   0.3s\n",
      "[CV] max_depth=4, n_estimators=750, num_leaves=32 ....................\n",
      "[CV]  max_depth=4, n_estimators=750, num_leaves=32, score=-5.692, total=   0.3s\n",
      "[CV] max_depth=4, n_estimators=750, num_leaves=32 ....................\n",
      "[CV]  max_depth=4, n_estimators=750, num_leaves=32, score=-5.710, total=   0.3s\n",
      "[CV] max_depth=4, n_estimators=750, num_leaves=64 ....................\n",
      "[CV]  max_depth=4, n_estimators=750, num_leaves=64, score=-5.936, total=   0.3s\n",
      "[CV] max_depth=4, n_estimators=750, num_leaves=64 ....................\n",
      "[CV]  max_depth=4, n_estimators=750, num_leaves=64, score=-5.692, total=   0.3s\n",
      "[CV] max_depth=4, n_estimators=750, num_leaves=64 ....................\n",
      "[CV]  max_depth=4, n_estimators=750, num_leaves=64, score=-5.710, total=   0.3s\n",
      "[CV] max_depth=4, n_estimators=750, num_leaves=144 ...................\n",
      "[CV]  max_depth=4, n_estimators=750, num_leaves=144, score=-5.936, total=   0.3s\n",
      "[CV] max_depth=4, n_estimators=750, num_leaves=144 ...................\n",
      "[CV]  max_depth=4, n_estimators=750, num_leaves=144, score=-5.692, total=   0.3s\n",
      "[CV] max_depth=4, n_estimators=750, num_leaves=144 ...................\n",
      "[CV]  max_depth=4, n_estimators=750, num_leaves=144, score=-5.710, total=   0.3s\n",
      "[CV] max_depth=8, n_estimators=100, num_leaves=8 .....................\n",
      "[CV]  max_depth=8, n_estimators=100, num_leaves=8, score=-6.818, total=   0.1s\n",
      "[CV] max_depth=8, n_estimators=100, num_leaves=8 .....................\n",
      "[CV]  max_depth=8, n_estimators=100, num_leaves=8, score=-6.672, total=   0.1s\n",
      "[CV] max_depth=8, n_estimators=100, num_leaves=8 .....................\n",
      "[CV]  max_depth=8, n_estimators=100, num_leaves=8, score=-6.541, total=   0.0s\n",
      "[CV] max_depth=8, n_estimators=100, num_leaves=16 ....................\n",
      "[CV]  max_depth=8, n_estimators=100, num_leaves=16, score=-6.596, total=   0.1s\n",
      "[CV] max_depth=8, n_estimators=100, num_leaves=16 ....................\n",
      "[CV]  max_depth=8, n_estimators=100, num_leaves=16, score=-6.457, total=   0.1s\n",
      "[CV] max_depth=8, n_estimators=100, num_leaves=16 ....................\n",
      "[CV]  max_depth=8, n_estimators=100, num_leaves=16, score=-6.333, total=   0.1s\n",
      "[CV] max_depth=8, n_estimators=100, num_leaves=24 ....................\n",
      "[CV]  max_depth=8, n_estimators=100, num_leaves=24, score=-6.536, total=   0.1s\n",
      "[CV] max_depth=8, n_estimators=100, num_leaves=24 ....................\n",
      "[CV]  max_depth=8, n_estimators=100, num_leaves=24, score=-6.384, total=   0.1s\n",
      "[CV] max_depth=8, n_estimators=100, num_leaves=24 ....................\n",
      "[CV]  max_depth=8, n_estimators=100, num_leaves=24, score=-6.262, total=   0.1s\n",
      "[CV] max_depth=8, n_estimators=100, num_leaves=32 ....................\n",
      "[CV]  max_depth=8, n_estimators=100, num_leaves=32, score=-6.528, total=   0.1s\n",
      "[CV] max_depth=8, n_estimators=100, num_leaves=32 ....................\n",
      "[CV]  max_depth=8, n_estimators=100, num_leaves=32, score=-6.341, total=   0.1s\n",
      "[CV] max_depth=8, n_estimators=100, num_leaves=32 ....................\n",
      "[CV]  max_depth=8, n_estimators=100, num_leaves=32, score=-6.269, total=   0.1s\n",
      "[CV] max_depth=8, n_estimators=100, num_leaves=64 ....................\n",
      "[CV]  max_depth=8, n_estimators=100, num_leaves=64, score=-6.526, total=   0.1s\n",
      "[CV] max_depth=8, n_estimators=100, num_leaves=64 ....................\n",
      "[CV]  max_depth=8, n_estimators=100, num_leaves=64, score=-6.328, total=   0.1s\n",
      "[CV] max_depth=8, n_estimators=100, num_leaves=64 ....................\n",
      "[CV]  max_depth=8, n_estimators=100, num_leaves=64, score=-6.249, total=   0.1s\n",
      "[CV] max_depth=8, n_estimators=100, num_leaves=144 ...................\n",
      "[CV]  max_depth=8, n_estimators=100, num_leaves=144, score=-6.526, total=   0.1s\n",
      "[CV] max_depth=8, n_estimators=100, num_leaves=144 ...................\n",
      "[CV]  max_depth=8, n_estimators=100, num_leaves=144, score=-6.328, total=   0.1s\n",
      "[CV] max_depth=8, n_estimators=100, num_leaves=144 ...................\n",
      "[CV]  max_depth=8, n_estimators=100, num_leaves=144, score=-6.249, total=   0.1s\n",
      "[CV] max_depth=8, n_estimators=200, num_leaves=8 .....................\n",
      "[CV]  max_depth=8, n_estimators=200, num_leaves=8, score=-6.351, total=   0.1s\n",
      "[CV] max_depth=8, n_estimators=200, num_leaves=8 .....................\n",
      "[CV]  max_depth=8, n_estimators=200, num_leaves=8, score=-6.209, total=   0.1s\n",
      "[CV] max_depth=8, n_estimators=200, num_leaves=8 .....................\n",
      "[CV]  max_depth=8, n_estimators=200, num_leaves=8, score=-6.136, total=   0.1s\n",
      "[CV] max_depth=8, n_estimators=200, num_leaves=16 ....................\n",
      "[CV]  max_depth=8, n_estimators=200, num_leaves=16, score=-6.178, total=   0.2s\n",
      "[CV] max_depth=8, n_estimators=200, num_leaves=16 ....................\n",
      "[CV]  max_depth=8, n_estimators=200, num_leaves=16, score=-5.977, total=   0.1s\n",
      "[CV] max_depth=8, n_estimators=200, num_leaves=16 ....................\n",
      "[CV]  max_depth=8, n_estimators=200, num_leaves=16, score=-5.964, total=   0.2s\n",
      "[CV] max_depth=8, n_estimators=200, num_leaves=24 ....................\n",
      "[CV]  max_depth=8, n_estimators=200, num_leaves=24, score=-6.174, total=   0.2s\n",
      "[CV] max_depth=8, n_estimators=200, num_leaves=24 ....................\n",
      "[CV]  max_depth=8, n_estimators=200, num_leaves=24, score=-5.934, total=   0.2s\n",
      "[CV] max_depth=8, n_estimators=200, num_leaves=24 ....................\n",
      "[CV]  max_depth=8, n_estimators=200, num_leaves=24, score=-5.887, total=   0.2s\n",
      "[CV] max_depth=8, n_estimators=200, num_leaves=32 ....................\n",
      "[CV]  max_depth=8, n_estimators=200, num_leaves=32, score=-6.159, total=   0.2s\n",
      "[CV] max_depth=8, n_estimators=200, num_leaves=32 ....................\n",
      "[CV]  max_depth=8, n_estimators=200, num_leaves=32, score=-5.900, total=   0.2s\n",
      "[CV] max_depth=8, n_estimators=200, num_leaves=32 ....................\n",
      "[CV]  max_depth=8, n_estimators=200, num_leaves=32, score=-5.888, total=   0.2s\n",
      "[CV] max_depth=8, n_estimators=200, num_leaves=64 ....................\n",
      "[CV]  max_depth=8, n_estimators=200, num_leaves=64, score=-6.169, total=   0.2s\n",
      "[CV] max_depth=8, n_estimators=200, num_leaves=64 ....................\n",
      "[CV]  max_depth=8, n_estimators=200, num_leaves=64, score=-5.939, total=   0.2s\n",
      "[CV] max_depth=8, n_estimators=200, num_leaves=64 ....................\n",
      "[CV]  max_depth=8, n_estimators=200, num_leaves=64, score=-5.875, total=   0.2s\n",
      "[CV] max_depth=8, n_estimators=200, num_leaves=144 ...................\n",
      "[CV]  max_depth=8, n_estimators=200, num_leaves=144, score=-6.169, total=   0.2s\n",
      "[CV] max_depth=8, n_estimators=200, num_leaves=144 ...................\n",
      "[CV]  max_depth=8, n_estimators=200, num_leaves=144, score=-5.939, total=   0.2s\n",
      "[CV] max_depth=8, n_estimators=200, num_leaves=144 ...................\n",
      "[CV]  max_depth=8, n_estimators=200, num_leaves=144, score=-5.875, total=   0.2s\n",
      "[CV] max_depth=8, n_estimators=300, num_leaves=8 .....................\n",
      "[CV]  max_depth=8, n_estimators=300, num_leaves=8, score=-6.156, total=   0.1s\n",
      "[CV] max_depth=8, n_estimators=300, num_leaves=8 .....................\n",
      "[CV]  max_depth=8, n_estimators=300, num_leaves=8, score=-6.011, total=   0.1s\n",
      "[CV] max_depth=8, n_estimators=300, num_leaves=8 .....................\n",
      "[CV]  max_depth=8, n_estimators=300, num_leaves=8, score=-5.934, total=   0.1s\n",
      "[CV] max_depth=8, n_estimators=300, num_leaves=16 ....................\n",
      "[CV]  max_depth=8, n_estimators=300, num_leaves=16, score=-6.017, total=   0.2s\n",
      "[CV] max_depth=8, n_estimators=300, num_leaves=16 ....................\n",
      "[CV]  max_depth=8, n_estimators=300, num_leaves=16, score=-5.820, total=   0.2s\n",
      "[CV] max_depth=8, n_estimators=300, num_leaves=16 ....................\n",
      "[CV]  max_depth=8, n_estimators=300, num_leaves=16, score=-5.800, total=   0.2s\n",
      "[CV] max_depth=8, n_estimators=300, num_leaves=24 ....................\n",
      "[CV]  max_depth=8, n_estimators=300, num_leaves=24, score=-6.035, total=   0.3s\n",
      "[CV] max_depth=8, n_estimators=300, num_leaves=24 ....................\n",
      "[CV]  max_depth=8, n_estimators=300, num_leaves=24, score=-5.800, total=   0.3s\n",
      "[CV] max_depth=8, n_estimators=300, num_leaves=24 ....................\n",
      "[CV]  max_depth=8, n_estimators=300, num_leaves=24, score=-5.750, total=   0.3s\n",
      "[CV] max_depth=8, n_estimators=300, num_leaves=32 ....................\n",
      "[CV]  max_depth=8, n_estimators=300, num_leaves=32, score=-6.061, total=   0.3s\n",
      "[CV] max_depth=8, n_estimators=300, num_leaves=32 ....................\n",
      "[CV]  max_depth=8, n_estimators=300, num_leaves=32, score=-5.800, total=   0.3s\n",
      "[CV] max_depth=8, n_estimators=300, num_leaves=32 ....................\n",
      "[CV]  max_depth=8, n_estimators=300, num_leaves=32, score=-5.787, total=   0.3s\n",
      "[CV] max_depth=8, n_estimators=300, num_leaves=64 ....................\n",
      "[CV]  max_depth=8, n_estimators=300, num_leaves=64, score=-6.073, total=   0.3s\n",
      "[CV] max_depth=8, n_estimators=300, num_leaves=64 ....................\n",
      "[CV]  max_depth=8, n_estimators=300, num_leaves=64, score=-5.852, total=   0.3s\n",
      "[CV] max_depth=8, n_estimators=300, num_leaves=64 ....................\n",
      "[CV]  max_depth=8, n_estimators=300, num_leaves=64, score=-5.776, total=   0.3s\n",
      "[CV] max_depth=8, n_estimators=300, num_leaves=144 ...................\n",
      "[CV]  max_depth=8, n_estimators=300, num_leaves=144, score=-6.073, total=   0.3s\n",
      "[CV] max_depth=8, n_estimators=300, num_leaves=144 ...................\n",
      "[CV]  max_depth=8, n_estimators=300, num_leaves=144, score=-5.852, total=   0.3s\n",
      "[CV] max_depth=8, n_estimators=300, num_leaves=144 ...................\n",
      "[CV]  max_depth=8, n_estimators=300, num_leaves=144, score=-5.776, total=   0.5s\n",
      "[CV] max_depth=8, n_estimators=500, num_leaves=8 .....................\n",
      "[CV]  max_depth=8, n_estimators=500, num_leaves=8, score=-5.968, total=   0.3s\n",
      "[CV] max_depth=8, n_estimators=500, num_leaves=8 .....................\n",
      "[CV]  max_depth=8, n_estimators=500, num_leaves=8, score=-5.850, total=   0.3s\n",
      "[CV] max_depth=8, n_estimators=500, num_leaves=8 .....................\n",
      "[CV]  max_depth=8, n_estimators=500, num_leaves=8, score=-5.775, total=   0.2s\n",
      "[CV] max_depth=8, n_estimators=500, num_leaves=16 ....................\n",
      "[CV]  max_depth=8, n_estimators=500, num_leaves=16, score=-5.914, total=   0.3s\n",
      "[CV] max_depth=8, n_estimators=500, num_leaves=16 ....................\n",
      "[CV]  max_depth=8, n_estimators=500, num_leaves=16, score=-5.710, total=   0.3s\n",
      "[CV] max_depth=8, n_estimators=500, num_leaves=16 ....................\n",
      "[CV]  max_depth=8, n_estimators=500, num_leaves=16, score=-5.691, total=   0.3s\n",
      "[CV] max_depth=8, n_estimators=500, num_leaves=24 ....................\n",
      "[CV]  max_depth=8, n_estimators=500, num_leaves=24, score=-5.984, total=   0.4s\n",
      "[CV] max_depth=8, n_estimators=500, num_leaves=24 ....................\n",
      "[CV]  max_depth=8, n_estimators=500, num_leaves=24, score=-5.696, total=   0.4s\n",
      "[CV] max_depth=8, n_estimators=500, num_leaves=24 ....................\n",
      "[CV]  max_depth=8, n_estimators=500, num_leaves=24, score=-5.691, total=   0.4s\n",
      "[CV] max_depth=8, n_estimators=500, num_leaves=32 ....................\n",
      "[CV]  max_depth=8, n_estimators=500, num_leaves=32, score=-6.004, total=   0.5s\n",
      "[CV] max_depth=8, n_estimators=500, num_leaves=32 ....................\n",
      "[CV]  max_depth=8, n_estimators=500, num_leaves=32, score=-5.708, total=   0.5s\n",
      "[CV] max_depth=8, n_estimators=500, num_leaves=32 ....................\n",
      "[CV]  max_depth=8, n_estimators=500, num_leaves=32, score=-5.731, total=   0.5s\n",
      "[CV] max_depth=8, n_estimators=500, num_leaves=64 ....................\n",
      "[CV]  max_depth=8, n_estimators=500, num_leaves=64, score=-6.008, total=   0.5s\n",
      "[CV] max_depth=8, n_estimators=500, num_leaves=64 ....................\n",
      "[CV]  max_depth=8, n_estimators=500, num_leaves=64, score=-5.779, total=   0.5s\n",
      "[CV] max_depth=8, n_estimators=500, num_leaves=64 ....................\n",
      "[CV]  max_depth=8, n_estimators=500, num_leaves=64, score=-5.736, total=   0.5s\n",
      "[CV] max_depth=8, n_estimators=500, num_leaves=144 ...................\n",
      "[CV]  max_depth=8, n_estimators=500, num_leaves=144, score=-6.008, total=   0.5s\n",
      "[CV] max_depth=8, n_estimators=500, num_leaves=144 ...................\n",
      "[CV]  max_depth=8, n_estimators=500, num_leaves=144, score=-5.779, total=   0.5s\n",
      "[CV] max_depth=8, n_estimators=500, num_leaves=144 ...................\n",
      "[CV]  max_depth=8, n_estimators=500, num_leaves=144, score=-5.736, total=   0.5s\n",
      "[CV] max_depth=8, n_estimators=750, num_leaves=8 .....................\n",
      "[CV]  max_depth=8, n_estimators=750, num_leaves=8, score=-5.920, total=   0.3s\n",
      "[CV] max_depth=8, n_estimators=750, num_leaves=8 .....................\n",
      "[CV]  max_depth=8, n_estimators=750, num_leaves=8, score=-5.767, total=   0.3s\n",
      "[CV] max_depth=8, n_estimators=750, num_leaves=8 .....................\n",
      "[CV]  max_depth=8, n_estimators=750, num_leaves=8, score=-5.712, total=   0.3s\n",
      "[CV] max_depth=8, n_estimators=750, num_leaves=16 ....................\n",
      "[CV]  max_depth=8, n_estimators=750, num_leaves=16, score=-5.890, total=   0.5s\n",
      "[CV] max_depth=8, n_estimators=750, num_leaves=16 ....................\n",
      "[CV]  max_depth=8, n_estimators=750, num_leaves=16, score=-5.676, total=   0.5s\n",
      "[CV] max_depth=8, n_estimators=750, num_leaves=16 ....................\n",
      "[CV]  max_depth=8, n_estimators=750, num_leaves=16, score=-5.691, total=   0.5s\n",
      "[CV] max_depth=8, n_estimators=750, num_leaves=24 ....................\n",
      "[CV]  max_depth=8, n_estimators=750, num_leaves=24, score=-5.958, total=   0.6s\n",
      "[CV] max_depth=8, n_estimators=750, num_leaves=24 ....................\n",
      "[CV]  max_depth=8, n_estimators=750, num_leaves=24, score=-5.700, total=   0.6s\n",
      "[CV] max_depth=8, n_estimators=750, num_leaves=24 ....................\n",
      "[CV]  max_depth=8, n_estimators=750, num_leaves=24, score=-5.675, total=   0.6s\n",
      "[CV] max_depth=8, n_estimators=750, num_leaves=32 ....................\n",
      "[CV]  max_depth=8, n_estimators=750, num_leaves=32, score=-5.967, total=   0.6s\n",
      "[CV] max_depth=8, n_estimators=750, num_leaves=32 ....................\n",
      "[CV]  max_depth=8, n_estimators=750, num_leaves=32, score=-5.708, total=   0.6s\n",
      "[CV] max_depth=8, n_estimators=750, num_leaves=32 ....................\n",
      "[CV]  max_depth=8, n_estimators=750, num_leaves=32, score=-5.754, total=   0.7s\n",
      "[CV] max_depth=8, n_estimators=750, num_leaves=64 ....................\n",
      "[CV]  max_depth=8, n_estimators=750, num_leaves=64, score=-5.973, total=   0.7s\n",
      "[CV] max_depth=8, n_estimators=750, num_leaves=64 ....................\n",
      "[CV]  max_depth=8, n_estimators=750, num_leaves=64, score=-5.773, total=   0.7s\n",
      "[CV] max_depth=8, n_estimators=750, num_leaves=64 ....................\n",
      "[CV]  max_depth=8, n_estimators=750, num_leaves=64, score=-5.723, total=   0.7s\n",
      "[CV] max_depth=8, n_estimators=750, num_leaves=144 ...................\n",
      "[CV]  max_depth=8, n_estimators=750, num_leaves=144, score=-5.973, total=   1.0s\n",
      "[CV] max_depth=8, n_estimators=750, num_leaves=144 ...................\n",
      "[CV]  max_depth=8, n_estimators=750, num_leaves=144, score=-5.773, total=   0.9s\n",
      "[CV] max_depth=8, n_estimators=750, num_leaves=144 ...................\n",
      "[CV]  max_depth=8, n_estimators=750, num_leaves=144, score=-5.723, total=   0.7s\n",
      "[CV] max_depth=12, n_estimators=100, num_leaves=8 ....................\n",
      "[CV]  max_depth=12, n_estimators=100, num_leaves=8, score=-6.818, total=   0.1s\n",
      "[CV] max_depth=12, n_estimators=100, num_leaves=8 ....................\n",
      "[CV]  max_depth=12, n_estimators=100, num_leaves=8, score=-6.672, total=   0.0s\n",
      "[CV] max_depth=12, n_estimators=100, num_leaves=8 ....................\n",
      "[CV]  max_depth=12, n_estimators=100, num_leaves=8, score=-6.541, total=   0.1s\n",
      "[CV] max_depth=12, n_estimators=100, num_leaves=16 ...................\n",
      "[CV]  max_depth=12, n_estimators=100, num_leaves=16, score=-6.596, total=   0.1s\n",
      "[CV] max_depth=12, n_estimators=100, num_leaves=16 ...................\n",
      "[CV]  max_depth=12, n_estimators=100, num_leaves=16, score=-6.457, total=   0.1s\n",
      "[CV] max_depth=12, n_estimators=100, num_leaves=16 ...................\n",
      "[CV]  max_depth=12, n_estimators=100, num_leaves=16, score=-6.333, total=   0.1s\n",
      "[CV] max_depth=12, n_estimators=100, num_leaves=24 ...................\n",
      "[CV]  max_depth=12, n_estimators=100, num_leaves=24, score=-6.536, total=   0.1s\n",
      "[CV] max_depth=12, n_estimators=100, num_leaves=24 ...................\n",
      "[CV]  max_depth=12, n_estimators=100, num_leaves=24, score=-6.385, total=   0.1s\n",
      "[CV] max_depth=12, n_estimators=100, num_leaves=24 ...................\n",
      "[CV]  max_depth=12, n_estimators=100, num_leaves=24, score=-6.262, total=   0.1s\n",
      "[CV] max_depth=12, n_estimators=100, num_leaves=32 ...................\n",
      "[CV]  max_depth=12, n_estimators=100, num_leaves=32, score=-6.517, total=   0.1s\n",
      "[CV] max_depth=12, n_estimators=100, num_leaves=32 ...................\n",
      "[CV]  max_depth=12, n_estimators=100, num_leaves=32, score=-6.339, total=   0.1s\n",
      "[CV] max_depth=12, n_estimators=100, num_leaves=32 ...................\n",
      "[CV]  max_depth=12, n_estimators=100, num_leaves=32, score=-6.249, total=   0.1s\n",
      "[CV] max_depth=12, n_estimators=100, num_leaves=64 ...................\n",
      "[CV]  max_depth=12, n_estimators=100, num_leaves=64, score=-6.491, total=   0.2s\n",
      "[CV] max_depth=12, n_estimators=100, num_leaves=64 ...................\n",
      "[CV]  max_depth=12, n_estimators=100, num_leaves=64, score=-6.321, total=   0.2s\n",
      "[CV] max_depth=12, n_estimators=100, num_leaves=64 ...................\n",
      "[CV]  max_depth=12, n_estimators=100, num_leaves=64, score=-6.218, total=   0.2s\n",
      "[CV] max_depth=12, n_estimators=100, num_leaves=144 ..................\n",
      "[CV]  max_depth=12, n_estimators=100, num_leaves=144, score=-6.491, total=   0.2s\n",
      "[CV] max_depth=12, n_estimators=100, num_leaves=144 ..................\n",
      "[CV]  max_depth=12, n_estimators=100, num_leaves=144, score=-6.321, total=   0.2s\n",
      "[CV] max_depth=12, n_estimators=100, num_leaves=144 ..................\n",
      "[CV]  max_depth=12, n_estimators=100, num_leaves=144, score=-6.218, total=   0.2s\n",
      "[CV] max_depth=12, n_estimators=200, num_leaves=8 ....................\n",
      "[CV]  max_depth=12, n_estimators=200, num_leaves=8, score=-6.351, total=   0.1s\n",
      "[CV] max_depth=12, n_estimators=200, num_leaves=8 ....................\n",
      "[CV]  max_depth=12, n_estimators=200, num_leaves=8, score=-6.209, total=   0.1s\n",
      "[CV] max_depth=12, n_estimators=200, num_leaves=8 ....................\n",
      "[CV]  max_depth=12, n_estimators=200, num_leaves=8, score=-6.136, total=   0.1s\n",
      "[CV] max_depth=12, n_estimators=200, num_leaves=16 ...................\n",
      "[CV]  max_depth=12, n_estimators=200, num_leaves=16, score=-6.175, total=   0.2s\n",
      "[CV] max_depth=12, n_estimators=200, num_leaves=16 ...................\n",
      "[CV]  max_depth=12, n_estimators=200, num_leaves=16, score=-5.984, total=   0.2s\n",
      "[CV] max_depth=12, n_estimators=200, num_leaves=16 ...................\n",
      "[CV]  max_depth=12, n_estimators=200, num_leaves=16, score=-5.966, total=   0.2s\n",
      "[CV] max_depth=12, n_estimators=200, num_leaves=24 ...................\n",
      "[CV]  max_depth=12, n_estimators=200, num_leaves=24, score=-6.169, total=   0.2s\n",
      "[CV] max_depth=12, n_estimators=200, num_leaves=24 ...................\n",
      "[CV]  max_depth=12, n_estimators=200, num_leaves=24, score=-5.937, total=   0.2s\n",
      "[CV] max_depth=12, n_estimators=200, num_leaves=24 ...................\n",
      "[CV]  max_depth=12, n_estimators=200, num_leaves=24, score=-5.877, total=   0.3s\n",
      "[CV] max_depth=12, n_estimators=200, num_leaves=32 ...................\n",
      "[CV]  max_depth=12, n_estimators=200, num_leaves=32, score=-6.161, total=   0.3s\n",
      "[CV] max_depth=12, n_estimators=200, num_leaves=32 ...................\n",
      "[CV]  max_depth=12, n_estimators=200, num_leaves=32, score=-5.932, total=   0.3s\n",
      "[CV] max_depth=12, n_estimators=200, num_leaves=32 ...................\n",
      "[CV]  max_depth=12, n_estimators=200, num_leaves=32, score=-5.887, total=   0.3s\n",
      "[CV] max_depth=12, n_estimators=200, num_leaves=64 ...................\n",
      "[CV]  max_depth=12, n_estimators=200, num_leaves=64, score=-6.132, total=   0.3s\n",
      "[CV] max_depth=12, n_estimators=200, num_leaves=64 ...................\n",
      "[CV]  max_depth=12, n_estimators=200, num_leaves=64, score=-5.961, total=   0.3s\n",
      "[CV] max_depth=12, n_estimators=200, num_leaves=64 ...................\n",
      "[CV]  max_depth=12, n_estimators=200, num_leaves=64, score=-5.840, total=   0.4s\n",
      "[CV] max_depth=12, n_estimators=200, num_leaves=144 ..................\n",
      "[CV]  max_depth=12, n_estimators=200, num_leaves=144, score=-6.132, total=   0.3s\n",
      "[CV] max_depth=12, n_estimators=200, num_leaves=144 ..................\n",
      "[CV]  max_depth=12, n_estimators=200, num_leaves=144, score=-5.961, total=   0.4s\n",
      "[CV] max_depth=12, n_estimators=200, num_leaves=144 ..................\n",
      "[CV]  max_depth=12, n_estimators=200, num_leaves=144, score=-5.840, total=   0.5s\n",
      "[CV] max_depth=12, n_estimators=300, num_leaves=8 ....................\n",
      "[CV]  max_depth=12, n_estimators=300, num_leaves=8, score=-6.156, total=   0.1s\n",
      "[CV] max_depth=12, n_estimators=300, num_leaves=8 ....................\n",
      "[CV]  max_depth=12, n_estimators=300, num_leaves=8, score=-6.011, total=   0.1s\n",
      "[CV] max_depth=12, n_estimators=300, num_leaves=8 ....................\n",
      "[CV]  max_depth=12, n_estimators=300, num_leaves=8, score=-5.934, total=   0.1s\n",
      "[CV] max_depth=12, n_estimators=300, num_leaves=16 ...................\n",
      "[CV]  max_depth=12, n_estimators=300, num_leaves=16, score=-6.012, total=   0.3s\n",
      "[CV] max_depth=12, n_estimators=300, num_leaves=16 ...................\n",
      "[CV]  max_depth=12, n_estimators=300, num_leaves=16, score=-5.818, total=   0.3s\n",
      "[CV] max_depth=12, n_estimators=300, num_leaves=16 ...................\n",
      "[CV]  max_depth=12, n_estimators=300, num_leaves=16, score=-5.807, total=   0.3s\n",
      "[CV] max_depth=12, n_estimators=300, num_leaves=24 ...................\n",
      "[CV]  max_depth=12, n_estimators=300, num_leaves=24, score=-6.020, total=   0.3s\n",
      "[CV] max_depth=12, n_estimators=300, num_leaves=24 ...................\n",
      "[CV]  max_depth=12, n_estimators=300, num_leaves=24, score=-5.804, total=   0.5s\n",
      "[CV] max_depth=12, n_estimators=300, num_leaves=24 ...................\n",
      "[CV]  max_depth=12, n_estimators=300, num_leaves=24, score=-5.747, total=   0.3s\n",
      "[CV] max_depth=12, n_estimators=300, num_leaves=32 ...................\n",
      "[CV]  max_depth=12, n_estimators=300, num_leaves=32, score=-6.046, total=   0.4s\n",
      "[CV] max_depth=12, n_estimators=300, num_leaves=32 ...................\n",
      "[CV]  max_depth=12, n_estimators=300, num_leaves=32, score=-5.802, total=   0.4s\n",
      "[CV] max_depth=12, n_estimators=300, num_leaves=32 ...................\n",
      "[CV]  max_depth=12, n_estimators=300, num_leaves=32, score=-5.785, total=   0.3s\n",
      "[CV] max_depth=12, n_estimators=300, num_leaves=64 ...................\n",
      "[CV]  max_depth=12, n_estimators=300, num_leaves=64, score=-6.052, total=   0.6s\n",
      "[CV] max_depth=12, n_estimators=300, num_leaves=64 ...................\n",
      "[CV]  max_depth=12, n_estimators=300, num_leaves=64, score=-5.862, total=   0.6s\n",
      "[CV] max_depth=12, n_estimators=300, num_leaves=64 ...................\n",
      "[CV]  max_depth=12, n_estimators=300, num_leaves=64, score=-5.740, total=   0.5s\n",
      "[CV] max_depth=12, n_estimators=300, num_leaves=144 ..................\n",
      "[CV]  max_depth=12, n_estimators=300, num_leaves=144, score=-6.052, total=   0.5s\n",
      "[CV] max_depth=12, n_estimators=300, num_leaves=144 ..................\n",
      "[CV]  max_depth=12, n_estimators=300, num_leaves=144, score=-5.862, total=   0.5s\n",
      "[CV] max_depth=12, n_estimators=300, num_leaves=144 ..................\n",
      "[CV]  max_depth=12, n_estimators=300, num_leaves=144, score=-5.740, total=   0.8s\n",
      "[CV] max_depth=12, n_estimators=500, num_leaves=8 ....................\n",
      "[CV]  max_depth=12, n_estimators=500, num_leaves=8, score=-5.968, total=   0.3s\n",
      "[CV] max_depth=12, n_estimators=500, num_leaves=8 ....................\n",
      "[CV]  max_depth=12, n_estimators=500, num_leaves=8, score=-5.850, total=   0.2s\n",
      "[CV] max_depth=12, n_estimators=500, num_leaves=8 ....................\n",
      "[CV]  max_depth=12, n_estimators=500, num_leaves=8, score=-5.775, total=   0.3s\n",
      "[CV] max_depth=12, n_estimators=500, num_leaves=16 ...................\n",
      "[CV]  max_depth=12, n_estimators=500, num_leaves=16, score=-5.919, total=   0.4s\n",
      "[CV] max_depth=12, n_estimators=500, num_leaves=16 ...................\n",
      "[CV]  max_depth=12, n_estimators=500, num_leaves=16, score=-5.700, total=   0.4s\n",
      "[CV] max_depth=12, n_estimators=500, num_leaves=16 ...................\n",
      "[CV]  max_depth=12, n_estimators=500, num_leaves=16, score=-5.714, total=   0.4s\n",
      "[CV] max_depth=12, n_estimators=500, num_leaves=24 ...................\n",
      "[CV]  max_depth=12, n_estimators=500, num_leaves=24, score=-5.952, total=   0.6s\n",
      "[CV] max_depth=12, n_estimators=500, num_leaves=24 ...................\n",
      "[CV]  max_depth=12, n_estimators=500, num_leaves=24, score=-5.739, total=   0.5s\n",
      "[CV] max_depth=12, n_estimators=500, num_leaves=24 ...................\n",
      "[CV]  max_depth=12, n_estimators=500, num_leaves=24, score=-5.679, total=   0.5s\n",
      "[CV] max_depth=12, n_estimators=500, num_leaves=32 ...................\n",
      "[CV]  max_depth=12, n_estimators=500, num_leaves=32, score=-5.984, total=   0.7s\n",
      "[CV] max_depth=12, n_estimators=500, num_leaves=32 ...................\n",
      "[CV]  max_depth=12, n_estimators=500, num_leaves=32, score=-5.759, total=   0.7s\n",
      "[CV] max_depth=12, n_estimators=500, num_leaves=32 ...................\n",
      "[CV]  max_depth=12, n_estimators=500, num_leaves=32, score=-5.732, total=   0.7s\n",
      "[CV] max_depth=12, n_estimators=500, num_leaves=64 ...................\n",
      "[CV]  max_depth=12, n_estimators=500, num_leaves=64, score=-6.029, total=   0.7s\n",
      "[CV] max_depth=12, n_estimators=500, num_leaves=64 ...................\n",
      "[CV]  max_depth=12, n_estimators=500, num_leaves=64, score=-5.781, total=   1.5s\n",
      "[CV] max_depth=12, n_estimators=500, num_leaves=64 ...................\n",
      "[CV]  max_depth=12, n_estimators=500, num_leaves=64, score=-5.694, total=   0.8s\n",
      "[CV] max_depth=12, n_estimators=500, num_leaves=144 ..................\n",
      "[CV]  max_depth=12, n_estimators=500, num_leaves=144, score=-6.029, total=   1.0s\n",
      "[CV] max_depth=12, n_estimators=500, num_leaves=144 ..................\n",
      "[CV]  max_depth=12, n_estimators=500, num_leaves=144, score=-5.781, total=   0.8s\n",
      "[CV] max_depth=12, n_estimators=500, num_leaves=144 ..................\n",
      "[CV]  max_depth=12, n_estimators=500, num_leaves=144, score=-5.694, total=   0.8s\n",
      "[CV] max_depth=12, n_estimators=750, num_leaves=8 ....................\n",
      "[CV]  max_depth=12, n_estimators=750, num_leaves=8, score=-5.920, total=   0.8s\n",
      "[CV] max_depth=12, n_estimators=750, num_leaves=8 ....................\n",
      "[CV]  max_depth=12, n_estimators=750, num_leaves=8, score=-5.767, total=   0.6s\n",
      "[CV] max_depth=12, n_estimators=750, num_leaves=8 ....................\n",
      "[CV]  max_depth=12, n_estimators=750, num_leaves=8, score=-5.712, total=   0.5s\n",
      "[CV] max_depth=12, n_estimators=750, num_leaves=16 ...................\n",
      "[CV]  max_depth=12, n_estimators=750, num_leaves=16, score=-5.904, total=   0.9s\n",
      "[CV] max_depth=12, n_estimators=750, num_leaves=16 ...................\n",
      "[CV]  max_depth=12, n_estimators=750, num_leaves=16, score=-5.673, total=   0.8s\n",
      "[CV] max_depth=12, n_estimators=750, num_leaves=16 ...................\n",
      "[CV]  max_depth=12, n_estimators=750, num_leaves=16, score=-5.708, total=   0.9s\n",
      "[CV] max_depth=12, n_estimators=750, num_leaves=24 ...................\n",
      "[CV]  max_depth=12, n_estimators=750, num_leaves=24, score=-5.933, total=   1.1s\n",
      "[CV] max_depth=12, n_estimators=750, num_leaves=24 ...................\n",
      "[CV]  max_depth=12, n_estimators=750, num_leaves=24, score=-5.721, total=   0.9s\n",
      "[CV] max_depth=12, n_estimators=750, num_leaves=24 ...................\n",
      "[CV]  max_depth=12, n_estimators=750, num_leaves=24, score=-5.680, total=   0.8s\n",
      "[CV] max_depth=12, n_estimators=750, num_leaves=32 ...................\n",
      "[CV]  max_depth=12, n_estimators=750, num_leaves=32, score=-5.968, total=   1.0s\n",
      "[CV] max_depth=12, n_estimators=750, num_leaves=32 ...................\n",
      "[CV]  max_depth=12, n_estimators=750, num_leaves=32, score=-5.780, total=   1.1s\n",
      "[CV] max_depth=12, n_estimators=750, num_leaves=32 ...................\n",
      "[CV]  max_depth=12, n_estimators=750, num_leaves=32, score=-5.745, total=   1.0s\n",
      "[CV] max_depth=12, n_estimators=750, num_leaves=64 ...................\n",
      "[CV]  max_depth=12, n_estimators=750, num_leaves=64, score=-6.040, total=   1.0s\n",
      "[CV] max_depth=12, n_estimators=750, num_leaves=64 ...................\n",
      "[CV]  max_depth=12, n_estimators=750, num_leaves=64, score=-5.778, total=   0.9s\n",
      "[CV] max_depth=12, n_estimators=750, num_leaves=64 ...................\n",
      "[CV]  max_depth=12, n_estimators=750, num_leaves=64, score=-5.685, total=   0.9s\n",
      "[CV] max_depth=12, n_estimators=750, num_leaves=144 ..................\n",
      "[CV]  max_depth=12, n_estimators=750, num_leaves=144, score=-6.040, total=   0.9s\n",
      "[CV] max_depth=12, n_estimators=750, num_leaves=144 ..................\n",
      "[CV]  max_depth=12, n_estimators=750, num_leaves=144, score=-5.778, total=   0.9s\n",
      "[CV] max_depth=12, n_estimators=750, num_leaves=144 ..................\n",
      "[CV]  max_depth=12, n_estimators=750, num_leaves=144, score=-5.685, total=   0.9s\n",
      "[CV] max_depth=16, n_estimators=100, num_leaves=8 ....................\n",
      "[CV]  max_depth=16, n_estimators=100, num_leaves=8, score=-6.818, total=   0.1s\n",
      "[CV] max_depth=16, n_estimators=100, num_leaves=8 ....................\n",
      "[CV]  max_depth=16, n_estimators=100, num_leaves=8, score=-6.672, total=   0.1s\n",
      "[CV] max_depth=16, n_estimators=100, num_leaves=8 ....................\n",
      "[CV]  max_depth=16, n_estimators=100, num_leaves=8, score=-6.541, total=   0.1s\n",
      "[CV] max_depth=16, n_estimators=100, num_leaves=16 ...................\n",
      "[CV]  max_depth=16, n_estimators=100, num_leaves=16, score=-6.596, total=   0.1s\n",
      "[CV] max_depth=16, n_estimators=100, num_leaves=16 ...................\n",
      "[CV]  max_depth=16, n_estimators=100, num_leaves=16, score=-6.457, total=   0.1s\n",
      "[CV] max_depth=16, n_estimators=100, num_leaves=16 ...................\n",
      "[CV]  max_depth=16, n_estimators=100, num_leaves=16, score=-6.333, total=   0.1s\n",
      "[CV] max_depth=16, n_estimators=100, num_leaves=24 ...................\n",
      "[CV]  max_depth=16, n_estimators=100, num_leaves=24, score=-6.536, total=   0.1s\n",
      "[CV] max_depth=16, n_estimators=100, num_leaves=24 ...................\n",
      "[CV]  max_depth=16, n_estimators=100, num_leaves=24, score=-6.385, total=   0.1s\n",
      "[CV] max_depth=16, n_estimators=100, num_leaves=24 ...................\n",
      "[CV]  max_depth=16, n_estimators=100, num_leaves=24, score=-6.262, total=   0.1s\n",
      "[CV] max_depth=16, n_estimators=100, num_leaves=32 ...................\n",
      "[CV]  max_depth=16, n_estimators=100, num_leaves=32, score=-6.517, total=   0.1s\n",
      "[CV] max_depth=16, n_estimators=100, num_leaves=32 ...................\n",
      "[CV]  max_depth=16, n_estimators=100, num_leaves=32, score=-6.339, total=   0.1s\n",
      "[CV] max_depth=16, n_estimators=100, num_leaves=32 ...................\n",
      "[CV]  max_depth=16, n_estimators=100, num_leaves=32, score=-6.249, total=   0.1s\n",
      "[CV] max_depth=16, n_estimators=100, num_leaves=64 ...................\n",
      "[CV]  max_depth=16, n_estimators=100, num_leaves=64, score=-6.493, total=   0.2s\n",
      "[CV] max_depth=16, n_estimators=100, num_leaves=64 ...................\n",
      "[CV]  max_depth=16, n_estimators=100, num_leaves=64, score=-6.323, total=   0.1s\n",
      "[CV] max_depth=16, n_estimators=100, num_leaves=64 ...................\n",
      "[CV]  max_depth=16, n_estimators=100, num_leaves=64, score=-6.213, total=   0.2s\n",
      "[CV] max_depth=16, n_estimators=100, num_leaves=144 ..................\n",
      "[CV]  max_depth=16, n_estimators=100, num_leaves=144, score=-6.493, total=   0.2s\n",
      "[CV] max_depth=16, n_estimators=100, num_leaves=144 ..................\n",
      "[CV]  max_depth=16, n_estimators=100, num_leaves=144, score=-6.323, total=   0.2s\n",
      "[CV] max_depth=16, n_estimators=100, num_leaves=144 ..................\n",
      "[CV]  max_depth=16, n_estimators=100, num_leaves=144, score=-6.213, total=   0.2s\n",
      "[CV] max_depth=16, n_estimators=200, num_leaves=8 ....................\n",
      "[CV]  max_depth=16, n_estimators=200, num_leaves=8, score=-6.351, total=   0.1s\n",
      "[CV] max_depth=16, n_estimators=200, num_leaves=8 ....................\n",
      "[CV]  max_depth=16, n_estimators=200, num_leaves=8, score=-6.209, total=   0.1s\n",
      "[CV] max_depth=16, n_estimators=200, num_leaves=8 ....................\n",
      "[CV]  max_depth=16, n_estimators=200, num_leaves=8, score=-6.136, total=   0.1s\n",
      "[CV] max_depth=16, n_estimators=200, num_leaves=16 ...................\n",
      "[CV]  max_depth=16, n_estimators=200, num_leaves=16, score=-6.175, total=   0.1s\n",
      "[CV] max_depth=16, n_estimators=200, num_leaves=16 ...................\n",
      "[CV]  max_depth=16, n_estimators=200, num_leaves=16, score=-5.984, total=   0.1s\n",
      "[CV] max_depth=16, n_estimators=200, num_leaves=16 ...................\n",
      "[CV]  max_depth=16, n_estimators=200, num_leaves=16, score=-5.966, total=   0.2s\n",
      "[CV] max_depth=16, n_estimators=200, num_leaves=24 ...................\n",
      "[CV]  max_depth=16, n_estimators=200, num_leaves=24, score=-6.166, total=   0.2s\n",
      "[CV] max_depth=16, n_estimators=200, num_leaves=24 ...................\n",
      "[CV]  max_depth=16, n_estimators=200, num_leaves=24, score=-5.937, total=   0.2s\n",
      "[CV] max_depth=16, n_estimators=200, num_leaves=24 ...................\n",
      "[CV]  max_depth=16, n_estimators=200, num_leaves=24, score=-5.880, total=   0.2s\n",
      "[CV] max_depth=16, n_estimators=200, num_leaves=32 ...................\n",
      "[CV]  max_depth=16, n_estimators=200, num_leaves=32, score=-6.161, total=   0.2s\n",
      "[CV] max_depth=16, n_estimators=200, num_leaves=32 ...................\n",
      "[CV]  max_depth=16, n_estimators=200, num_leaves=32, score=-5.930, total=   0.2s\n",
      "[CV] max_depth=16, n_estimators=200, num_leaves=32 ...................\n",
      "[CV]  max_depth=16, n_estimators=200, num_leaves=32, score=-5.881, total=   0.4s\n",
      "[CV] max_depth=16, n_estimators=200, num_leaves=64 ...................\n",
      "[CV]  max_depth=16, n_estimators=200, num_leaves=64, score=-6.156, total=   0.5s\n",
      "[CV] max_depth=16, n_estimators=200, num_leaves=64 ...................\n",
      "[CV]  max_depth=16, n_estimators=200, num_leaves=64, score=-5.959, total=   0.3s\n",
      "[CV] max_depth=16, n_estimators=200, num_leaves=64 ...................\n",
      "[CV]  max_depth=16, n_estimators=200, num_leaves=64, score=-5.856, total=   0.3s\n",
      "[CV] max_depth=16, n_estimators=200, num_leaves=144 ..................\n",
      "[CV]  max_depth=16, n_estimators=200, num_leaves=144, score=-6.156, total=   0.3s\n",
      "[CV] max_depth=16, n_estimators=200, num_leaves=144 ..................\n",
      "[CV]  max_depth=16, n_estimators=200, num_leaves=144, score=-5.959, total=   0.3s\n",
      "[CV] max_depth=16, n_estimators=200, num_leaves=144 ..................\n",
      "[CV]  max_depth=16, n_estimators=200, num_leaves=144, score=-5.856, total=   0.3s\n",
      "[CV] max_depth=16, n_estimators=300, num_leaves=8 ....................\n",
      "[CV]  max_depth=16, n_estimators=300, num_leaves=8, score=-6.156, total=   0.1s\n",
      "[CV] max_depth=16, n_estimators=300, num_leaves=8 ....................\n",
      "[CV]  max_depth=16, n_estimators=300, num_leaves=8, score=-6.011, total=   0.1s\n",
      "[CV] max_depth=16, n_estimators=300, num_leaves=8 ....................\n",
      "[CV]  max_depth=16, n_estimators=300, num_leaves=8, score=-5.934, total=   0.1s\n",
      "[CV] max_depth=16, n_estimators=300, num_leaves=16 ...................\n",
      "[CV]  max_depth=16, n_estimators=300, num_leaves=16, score=-6.012, total=   0.2s\n",
      "[CV] max_depth=16, n_estimators=300, num_leaves=16 ...................\n",
      "[CV]  max_depth=16, n_estimators=300, num_leaves=16, score=-5.819, total=   0.2s\n",
      "[CV] max_depth=16, n_estimators=300, num_leaves=16 ...................\n",
      "[CV]  max_depth=16, n_estimators=300, num_leaves=16, score=-5.810, total=   0.2s\n",
      "[CV] max_depth=16, n_estimators=300, num_leaves=24 ...................\n",
      "[CV]  max_depth=16, n_estimators=300, num_leaves=24, score=-6.020, total=   0.3s\n",
      "[CV] max_depth=16, n_estimators=300, num_leaves=24 ...................\n",
      "[CV]  max_depth=16, n_estimators=300, num_leaves=24, score=-5.800, total=   0.3s\n",
      "[CV] max_depth=16, n_estimators=300, num_leaves=24 ...................\n",
      "[CV]  max_depth=16, n_estimators=300, num_leaves=24, score=-5.741, total=   0.3s\n",
      "[CV] max_depth=16, n_estimators=300, num_leaves=32 ...................\n",
      "[CV]  max_depth=16, n_estimators=300, num_leaves=32, score=-6.041, total=   0.3s\n",
      "[CV] max_depth=16, n_estimators=300, num_leaves=32 ...................\n",
      "[CV]  max_depth=16, n_estimators=300, num_leaves=32, score=-5.807, total=   0.3s\n",
      "[CV] max_depth=16, n_estimators=300, num_leaves=32 ...................\n",
      "[CV]  max_depth=16, n_estimators=300, num_leaves=32, score=-5.771, total=   0.4s\n",
      "[CV] max_depth=16, n_estimators=300, num_leaves=64 ...................\n",
      "[CV]  max_depth=16, n_estimators=300, num_leaves=64, score=-6.070, total=   0.5s\n",
      "[CV] max_depth=16, n_estimators=300, num_leaves=64 ...................\n",
      "[CV]  max_depth=16, n_estimators=300, num_leaves=64, score=-5.857, total=   0.5s\n",
      "[CV] max_depth=16, n_estimators=300, num_leaves=64 ...................\n",
      "[CV]  max_depth=16, n_estimators=300, num_leaves=64, score=-5.764, total=   0.5s\n",
      "[CV] max_depth=16, n_estimators=300, num_leaves=144 ..................\n",
      "[CV]  max_depth=16, n_estimators=300, num_leaves=144, score=-6.070, total=   0.5s\n",
      "[CV] max_depth=16, n_estimators=300, num_leaves=144 ..................\n",
      "[CV]  max_depth=16, n_estimators=300, num_leaves=144, score=-5.857, total=   0.5s\n",
      "[CV] max_depth=16, n_estimators=300, num_leaves=144 ..................\n",
      "[CV]  max_depth=16, n_estimators=300, num_leaves=144, score=-5.764, total=   0.5s\n",
      "[CV] max_depth=16, n_estimators=500, num_leaves=8 ....................\n",
      "[CV]  max_depth=16, n_estimators=500, num_leaves=8, score=-5.968, total=   0.2s\n",
      "[CV] max_depth=16, n_estimators=500, num_leaves=8 ....................\n",
      "[CV]  max_depth=16, n_estimators=500, num_leaves=8, score=-5.850, total=   0.2s\n",
      "[CV] max_depth=16, n_estimators=500, num_leaves=8 ....................\n",
      "[CV]  max_depth=16, n_estimators=500, num_leaves=8, score=-5.775, total=   0.2s\n",
      "[CV] max_depth=16, n_estimators=500, num_leaves=16 ...................\n",
      "[CV]  max_depth=16, n_estimators=500, num_leaves=16, score=-5.920, total=   0.4s\n",
      "[CV] max_depth=16, n_estimators=500, num_leaves=16 ...................\n",
      "[CV]  max_depth=16, n_estimators=500, num_leaves=16, score=-5.696, total=   0.3s\n",
      "[CV] max_depth=16, n_estimators=500, num_leaves=16 ...................\n",
      "[CV]  max_depth=16, n_estimators=500, num_leaves=16, score=-5.705, total=   0.4s\n",
      "[CV] max_depth=16, n_estimators=500, num_leaves=24 ...................\n",
      "[CV]  max_depth=16, n_estimators=500, num_leaves=24, score=-5.948, total=   0.5s\n",
      "[CV] max_depth=16, n_estimators=500, num_leaves=24 ...................\n",
      "[CV]  max_depth=16, n_estimators=500, num_leaves=24, score=-5.754, total=   0.5s\n",
      "[CV] max_depth=16, n_estimators=500, num_leaves=24 ...................\n",
      "[CV]  max_depth=16, n_estimators=500, num_leaves=24, score=-5.689, total=   0.5s\n",
      "[CV] max_depth=16, n_estimators=500, num_leaves=32 ...................\n",
      "[CV]  max_depth=16, n_estimators=500, num_leaves=32, score=-5.970, total=   0.6s\n",
      "[CV] max_depth=16, n_estimators=500, num_leaves=32 ...................\n",
      "[CV]  max_depth=16, n_estimators=500, num_leaves=32, score=-5.751, total=   0.6s\n",
      "[CV] max_depth=16, n_estimators=500, num_leaves=32 ...................\n",
      "[CV]  max_depth=16, n_estimators=500, num_leaves=32, score=-5.722, total=   0.6s\n",
      "[CV] max_depth=16, n_estimators=500, num_leaves=64 ...................\n",
      "[CV]  max_depth=16, n_estimators=500, num_leaves=64, score=-6.022, total=   1.0s\n",
      "[CV] max_depth=16, n_estimators=500, num_leaves=64 ...................\n",
      "[CV]  max_depth=16, n_estimators=500, num_leaves=64, score=-5.813, total=   0.7s\n",
      "[CV] max_depth=16, n_estimators=500, num_leaves=64 ...................\n",
      "[CV]  max_depth=16, n_estimators=500, num_leaves=64, score=-5.715, total=   0.7s\n",
      "[CV] max_depth=16, n_estimators=500, num_leaves=144 ..................\n",
      "[CV]  max_depth=16, n_estimators=500, num_leaves=144, score=-6.022, total=   1.1s\n",
      "[CV] max_depth=16, n_estimators=500, num_leaves=144 ..................\n",
      "[CV]  max_depth=16, n_estimators=500, num_leaves=144, score=-5.813, total=   0.7s\n",
      "[CV] max_depth=16, n_estimators=500, num_leaves=144 ..................\n",
      "[CV]  max_depth=16, n_estimators=500, num_leaves=144, score=-5.715, total=   0.7s\n",
      "[CV] max_depth=16, n_estimators=750, num_leaves=8 ....................\n",
      "[CV]  max_depth=16, n_estimators=750, num_leaves=8, score=-5.920, total=   0.3s\n",
      "[CV] max_depth=16, n_estimators=750, num_leaves=8 ....................\n",
      "[CV]  max_depth=16, n_estimators=750, num_leaves=8, score=-5.767, total=   0.3s\n",
      "[CV] max_depth=16, n_estimators=750, num_leaves=8 ....................\n",
      "[CV]  max_depth=16, n_estimators=750, num_leaves=8, score=-5.712, total=   0.3s\n",
      "[CV] max_depth=16, n_estimators=750, num_leaves=16 ...................\n",
      "[CV]  max_depth=16, n_estimators=750, num_leaves=16, score=-5.889, total=   0.5s\n",
      "[CV] max_depth=16, n_estimators=750, num_leaves=16 ...................\n",
      "[CV]  max_depth=16, n_estimators=750, num_leaves=16, score=-5.689, total=   0.5s\n",
      "[CV] max_depth=16, n_estimators=750, num_leaves=16 ...................\n",
      "[CV]  max_depth=16, n_estimators=750, num_leaves=16, score=-5.688, total=   0.5s\n",
      "[CV] max_depth=16, n_estimators=750, num_leaves=24 ...................\n",
      "[CV]  max_depth=16, n_estimators=750, num_leaves=24, score=-5.936, total=   0.7s\n",
      "[CV] max_depth=16, n_estimators=750, num_leaves=24 ...................\n",
      "[CV]  max_depth=16, n_estimators=750, num_leaves=24, score=-5.743, total=   0.7s\n",
      "[CV] max_depth=16, n_estimators=750, num_leaves=24 ...................\n",
      "[CV]  max_depth=16, n_estimators=750, num_leaves=24, score=-5.663, total=   0.7s\n",
      "[CV] max_depth=16, n_estimators=750, num_leaves=32 ...................\n",
      "[CV]  max_depth=16, n_estimators=750, num_leaves=32, score=-5.980, total=   0.9s\n",
      "[CV] max_depth=16, n_estimators=750, num_leaves=32 ...................\n",
      "[CV]  max_depth=16, n_estimators=750, num_leaves=32, score=-5.793, total=   0.9s\n",
      "[CV] max_depth=16, n_estimators=750, num_leaves=32 ...................\n",
      "[CV]  max_depth=16, n_estimators=750, num_leaves=32, score=-5.722, total=   0.9s\n",
      "[CV] max_depth=16, n_estimators=750, num_leaves=64 ...................\n",
      "[CV]  max_depth=16, n_estimators=750, num_leaves=64, score=-6.048, total=   1.1s\n",
      "[CV] max_depth=16, n_estimators=750, num_leaves=64 ...................\n",
      "[CV]  max_depth=16, n_estimators=750, num_leaves=64, score=-5.798, total=   1.0s\n",
      "[CV] max_depth=16, n_estimators=750, num_leaves=64 ...................\n",
      "[CV]  max_depth=16, n_estimators=750, num_leaves=64, score=-5.728, total=   1.1s\n",
      "[CV] max_depth=16, n_estimators=750, num_leaves=144 ..................\n",
      "[CV]  max_depth=16, n_estimators=750, num_leaves=144, score=-6.048, total=   1.1s\n",
      "[CV] max_depth=16, n_estimators=750, num_leaves=144 ..................\n",
      "[CV]  max_depth=16, n_estimators=750, num_leaves=144, score=-5.798, total=   1.1s\n",
      "[CV] max_depth=16, n_estimators=750, num_leaves=144 ..................\n",
      "[CV]  max_depth=16, n_estimators=750, num_leaves=144, score=-5.728, total=   1.1s\n",
      "[CV] max_depth=20, n_estimators=100, num_leaves=8 ....................\n",
      "[CV]  max_depth=20, n_estimators=100, num_leaves=8, score=-6.818, total=   0.1s\n",
      "[CV] max_depth=20, n_estimators=100, num_leaves=8 ....................\n",
      "[CV]  max_depth=20, n_estimators=100, num_leaves=8, score=-6.672, total=   0.1s\n",
      "[CV] max_depth=20, n_estimators=100, num_leaves=8 ....................\n",
      "[CV]  max_depth=20, n_estimators=100, num_leaves=8, score=-6.541, total=   0.1s\n",
      "[CV] max_depth=20, n_estimators=100, num_leaves=16 ...................\n",
      "[CV]  max_depth=20, n_estimators=100, num_leaves=16, score=-6.596, total=   0.1s\n",
      "[CV] max_depth=20, n_estimators=100, num_leaves=16 ...................\n",
      "[CV]  max_depth=20, n_estimators=100, num_leaves=16, score=-6.457, total=   0.1s\n",
      "[CV] max_depth=20, n_estimators=100, num_leaves=16 ...................\n",
      "[CV]  max_depth=20, n_estimators=100, num_leaves=16, score=-6.333, total=   0.1s\n",
      "[CV] max_depth=20, n_estimators=100, num_leaves=24 ...................\n",
      "[CV]  max_depth=20, n_estimators=100, num_leaves=24, score=-6.536, total=   0.1s\n",
      "[CV] max_depth=20, n_estimators=100, num_leaves=24 ...................\n",
      "[CV]  max_depth=20, n_estimators=100, num_leaves=24, score=-6.385, total=   0.1s\n",
      "[CV] max_depth=20, n_estimators=100, num_leaves=24 ...................\n",
      "[CV]  max_depth=20, n_estimators=100, num_leaves=24, score=-6.262, total=   0.1s\n",
      "[CV] max_depth=20, n_estimators=100, num_leaves=32 ...................\n",
      "[CV]  max_depth=20, n_estimators=100, num_leaves=32, score=-6.517, total=   0.1s\n",
      "[CV] max_depth=20, n_estimators=100, num_leaves=32 ...................\n",
      "[CV]  max_depth=20, n_estimators=100, num_leaves=32, score=-6.339, total=   0.1s\n",
      "[CV] max_depth=20, n_estimators=100, num_leaves=32 ...................\n",
      "[CV]  max_depth=20, n_estimators=100, num_leaves=32, score=-6.249, total=   0.1s\n",
      "[CV] max_depth=20, n_estimators=100, num_leaves=64 ...................\n",
      "[CV]  max_depth=20, n_estimators=100, num_leaves=64, score=-6.496, total=   0.2s\n",
      "[CV] max_depth=20, n_estimators=100, num_leaves=64 ...................\n",
      "[CV]  max_depth=20, n_estimators=100, num_leaves=64, score=-6.323, total=   0.1s\n",
      "[CV] max_depth=20, n_estimators=100, num_leaves=64 ...................\n",
      "[CV]  max_depth=20, n_estimators=100, num_leaves=64, score=-6.213, total=   0.2s\n",
      "[CV] max_depth=20, n_estimators=100, num_leaves=144 ..................\n",
      "[CV]  max_depth=20, n_estimators=100, num_leaves=144, score=-6.496, total=   0.2s\n",
      "[CV] max_depth=20, n_estimators=100, num_leaves=144 ..................\n",
      "[CV]  max_depth=20, n_estimators=100, num_leaves=144, score=-6.323, total=   0.2s\n",
      "[CV] max_depth=20, n_estimators=100, num_leaves=144 ..................\n",
      "[CV]  max_depth=20, n_estimators=100, num_leaves=144, score=-6.213, total=   0.2s\n",
      "[CV] max_depth=20, n_estimators=200, num_leaves=8 ....................\n",
      "[CV]  max_depth=20, n_estimators=200, num_leaves=8, score=-6.351, total=   0.1s\n",
      "[CV] max_depth=20, n_estimators=200, num_leaves=8 ....................\n",
      "[CV]  max_depth=20, n_estimators=200, num_leaves=8, score=-6.209, total=   0.1s\n",
      "[CV] max_depth=20, n_estimators=200, num_leaves=8 ....................\n",
      "[CV]  max_depth=20, n_estimators=200, num_leaves=8, score=-6.136, total=   0.1s\n",
      "[CV] max_depth=20, n_estimators=200, num_leaves=16 ...................\n",
      "[CV]  max_depth=20, n_estimators=200, num_leaves=16, score=-6.175, total=   0.2s\n",
      "[CV] max_depth=20, n_estimators=200, num_leaves=16 ...................\n",
      "[CV]  max_depth=20, n_estimators=200, num_leaves=16, score=-5.984, total=   0.2s\n",
      "[CV] max_depth=20, n_estimators=200, num_leaves=16 ...................\n",
      "[CV]  max_depth=20, n_estimators=200, num_leaves=16, score=-5.966, total=   0.2s\n",
      "[CV] max_depth=20, n_estimators=200, num_leaves=24 ...................\n",
      "[CV]  max_depth=20, n_estimators=200, num_leaves=24, score=-6.166, total=   0.2s\n",
      "[CV] max_depth=20, n_estimators=200, num_leaves=24 ...................\n",
      "[CV]  max_depth=20, n_estimators=200, num_leaves=24, score=-5.937, total=   0.2s\n",
      "[CV] max_depth=20, n_estimators=200, num_leaves=24 ...................\n",
      "[CV]  max_depth=20, n_estimators=200, num_leaves=24, score=-5.880, total=   0.2s\n",
      "[CV] max_depth=20, n_estimators=200, num_leaves=32 ...................\n",
      "[CV]  max_depth=20, n_estimators=200, num_leaves=32, score=-6.159, total=   0.3s\n",
      "[CV] max_depth=20, n_estimators=200, num_leaves=32 ...................\n",
      "[CV]  max_depth=20, n_estimators=200, num_leaves=32, score=-5.930, total=   0.2s\n",
      "[CV] max_depth=20, n_estimators=200, num_leaves=32 ...................\n",
      "[CV]  max_depth=20, n_estimators=200, num_leaves=32, score=-5.881, total=   0.3s\n",
      "[CV] max_depth=20, n_estimators=200, num_leaves=64 ...................\n",
      "[CV]  max_depth=20, n_estimators=200, num_leaves=64, score=-6.138, total=   0.3s\n",
      "[CV] max_depth=20, n_estimators=200, num_leaves=64 ...................\n",
      "[CV]  max_depth=20, n_estimators=200, num_leaves=64, score=-5.963, total=   0.3s\n",
      "[CV] max_depth=20, n_estimators=200, num_leaves=64 ...................\n",
      "[CV]  max_depth=20, n_estimators=200, num_leaves=64, score=-5.856, total=   0.3s\n",
      "[CV] max_depth=20, n_estimators=200, num_leaves=144 ..................\n",
      "[CV]  max_depth=20, n_estimators=200, num_leaves=144, score=-6.138, total=   0.3s\n",
      "[CV] max_depth=20, n_estimators=200, num_leaves=144 ..................\n",
      "[CV]  max_depth=20, n_estimators=200, num_leaves=144, score=-5.963, total=   0.3s\n",
      "[CV] max_depth=20, n_estimators=200, num_leaves=144 ..................\n",
      "[CV]  max_depth=20, n_estimators=200, num_leaves=144, score=-5.856, total=   0.3s\n",
      "[CV] max_depth=20, n_estimators=300, num_leaves=8 ....................\n",
      "[CV]  max_depth=20, n_estimators=300, num_leaves=8, score=-6.156, total=   0.1s\n",
      "[CV] max_depth=20, n_estimators=300, num_leaves=8 ....................\n",
      "[CV]  max_depth=20, n_estimators=300, num_leaves=8, score=-6.011, total=   0.1s\n",
      "[CV] max_depth=20, n_estimators=300, num_leaves=8 ....................\n",
      "[CV]  max_depth=20, n_estimators=300, num_leaves=8, score=-5.934, total=   0.1s\n",
      "[CV] max_depth=20, n_estimators=300, num_leaves=16 ...................\n",
      "[CV]  max_depth=20, n_estimators=300, num_leaves=16, score=-6.012, total=   0.2s\n",
      "[CV] max_depth=20, n_estimators=300, num_leaves=16 ...................\n",
      "[CV]  max_depth=20, n_estimators=300, num_leaves=16, score=-5.819, total=   0.2s\n",
      "[CV] max_depth=20, n_estimators=300, num_leaves=16 ...................\n",
      "[CV]  max_depth=20, n_estimators=300, num_leaves=16, score=-5.810, total=   0.2s\n",
      "[CV] max_depth=20, n_estimators=300, num_leaves=24 ...................\n",
      "[CV]  max_depth=20, n_estimators=300, num_leaves=24, score=-6.018, total=   0.3s\n",
      "[CV] max_depth=20, n_estimators=300, num_leaves=24 ...................\n",
      "[CV]  max_depth=20, n_estimators=300, num_leaves=24, score=-5.797, total=   0.3s\n",
      "[CV] max_depth=20, n_estimators=300, num_leaves=24 ...................\n",
      "[CV]  max_depth=20, n_estimators=300, num_leaves=24, score=-5.741, total=   0.3s\n",
      "[CV] max_depth=20, n_estimators=300, num_leaves=32 ...................\n",
      "[CV]  max_depth=20, n_estimators=300, num_leaves=32, score=-6.040, total=   0.4s\n",
      "[CV] max_depth=20, n_estimators=300, num_leaves=32 ...................\n",
      "[CV]  max_depth=20, n_estimators=300, num_leaves=32, score=-5.802, total=   0.4s\n",
      "[CV] max_depth=20, n_estimators=300, num_leaves=32 ...................\n",
      "[CV]  max_depth=20, n_estimators=300, num_leaves=32, score=-5.773, total=   0.4s\n",
      "[CV] max_depth=20, n_estimators=300, num_leaves=64 ...................\n",
      "[CV]  max_depth=20, n_estimators=300, num_leaves=64, score=-6.056, total=   0.5s\n",
      "[CV] max_depth=20, n_estimators=300, num_leaves=64 ...................\n",
      "[CV]  max_depth=20, n_estimators=300, num_leaves=64, score=-5.857, total=   0.5s\n",
      "[CV] max_depth=20, n_estimators=300, num_leaves=64 ...................\n",
      "[CV]  max_depth=20, n_estimators=300, num_leaves=64, score=-5.773, total=   0.5s\n",
      "[CV] max_depth=20, n_estimators=300, num_leaves=144 ..................\n",
      "[CV]  max_depth=20, n_estimators=300, num_leaves=144, score=-6.056, total=   0.5s\n",
      "[CV] max_depth=20, n_estimators=300, num_leaves=144 ..................\n",
      "[CV]  max_depth=20, n_estimators=300, num_leaves=144, score=-5.857, total=   0.5s\n",
      "[CV] max_depth=20, n_estimators=300, num_leaves=144 ..................\n",
      "[CV]  max_depth=20, n_estimators=300, num_leaves=144, score=-5.773, total=   0.5s\n",
      "[CV] max_depth=20, n_estimators=500, num_leaves=8 ....................\n",
      "[CV]  max_depth=20, n_estimators=500, num_leaves=8, score=-5.968, total=   0.2s\n",
      "[CV] max_depth=20, n_estimators=500, num_leaves=8 ....................\n",
      "[CV]  max_depth=20, n_estimators=500, num_leaves=8, score=-5.850, total=   0.2s\n",
      "[CV] max_depth=20, n_estimators=500, num_leaves=8 ....................\n",
      "[CV]  max_depth=20, n_estimators=500, num_leaves=8, score=-5.775, total=   0.2s\n",
      "[CV] max_depth=20, n_estimators=500, num_leaves=16 ...................\n",
      "[CV]  max_depth=20, n_estimators=500, num_leaves=16, score=-5.920, total=   0.3s\n",
      "[CV] max_depth=20, n_estimators=500, num_leaves=16 ...................\n",
      "[CV]  max_depth=20, n_estimators=500, num_leaves=16, score=-5.696, total=   0.4s\n",
      "[CV] max_depth=20, n_estimators=500, num_leaves=16 ...................\n",
      "[CV]  max_depth=20, n_estimators=500, num_leaves=16, score=-5.705, total=   0.4s\n",
      "[CV] max_depth=20, n_estimators=500, num_leaves=24 ...................\n",
      "[CV]  max_depth=20, n_estimators=500, num_leaves=24, score=-5.945, total=   0.5s\n",
      "[CV] max_depth=20, n_estimators=500, num_leaves=24 ...................\n",
      "[CV]  max_depth=20, n_estimators=500, num_leaves=24, score=-5.757, total=   0.5s\n",
      "[CV] max_depth=20, n_estimators=500, num_leaves=24 ...................\n",
      "[CV]  max_depth=20, n_estimators=500, num_leaves=24, score=-5.685, total=   0.5s\n",
      "[CV] max_depth=20, n_estimators=500, num_leaves=32 ...................\n",
      "[CV]  max_depth=20, n_estimators=500, num_leaves=32, score=-5.967, total=   0.7s\n",
      "[CV] max_depth=20, n_estimators=500, num_leaves=32 ...................\n",
      "[CV]  max_depth=20, n_estimators=500, num_leaves=32, score=-5.766, total=   0.9s\n",
      "[CV] max_depth=20, n_estimators=500, num_leaves=32 ...................\n",
      "[CV]  max_depth=20, n_estimators=500, num_leaves=32, score=-5.723, total=   0.6s\n",
      "[CV] max_depth=20, n_estimators=500, num_leaves=64 ...................\n",
      "[CV]  max_depth=20, n_estimators=500, num_leaves=64, score=-6.016, total=   0.8s\n",
      "[CV] max_depth=20, n_estimators=500, num_leaves=64 ...................\n",
      "[CV]  max_depth=20, n_estimators=500, num_leaves=64, score=-5.829, total=   0.8s\n",
      "[CV] max_depth=20, n_estimators=500, num_leaves=64 ...................\n",
      "[CV]  max_depth=20, n_estimators=500, num_leaves=64, score=-5.744, total=   0.8s\n",
      "[CV] max_depth=20, n_estimators=500, num_leaves=144 ..................\n",
      "[CV]  max_depth=20, n_estimators=500, num_leaves=144, score=-6.016, total=   0.8s\n",
      "[CV] max_depth=20, n_estimators=500, num_leaves=144 ..................\n",
      "[CV]  max_depth=20, n_estimators=500, num_leaves=144, score=-5.829, total=   0.8s\n",
      "[CV] max_depth=20, n_estimators=500, num_leaves=144 ..................\n",
      "[CV]  max_depth=20, n_estimators=500, num_leaves=144, score=-5.744, total=   0.8s\n",
      "[CV] max_depth=20, n_estimators=750, num_leaves=8 ....................\n",
      "[CV]  max_depth=20, n_estimators=750, num_leaves=8, score=-5.920, total=   0.3s\n",
      "[CV] max_depth=20, n_estimators=750, num_leaves=8 ....................\n",
      "[CV]  max_depth=20, n_estimators=750, num_leaves=8, score=-5.767, total=   0.3s\n",
      "[CV] max_depth=20, n_estimators=750, num_leaves=8 ....................\n",
      "[CV]  max_depth=20, n_estimators=750, num_leaves=8, score=-5.712, total=   0.3s\n",
      "[CV] max_depth=20, n_estimators=750, num_leaves=16 ...................\n",
      "[CV]  max_depth=20, n_estimators=750, num_leaves=16, score=-5.889, total=   0.5s\n",
      "[CV] max_depth=20, n_estimators=750, num_leaves=16 ...................\n",
      "[CV]  max_depth=20, n_estimators=750, num_leaves=16, score=-5.689, total=   0.5s\n",
      "[CV] max_depth=20, n_estimators=750, num_leaves=16 ...................\n",
      "[CV]  max_depth=20, n_estimators=750, num_leaves=16, score=-5.688, total=   0.5s\n",
      "[CV] max_depth=20, n_estimators=750, num_leaves=24 ...................\n",
      "[CV]  max_depth=20, n_estimators=750, num_leaves=24, score=-5.904, total=   0.7s\n",
      "[CV] max_depth=20, n_estimators=750, num_leaves=24 ...................\n",
      "[CV]  max_depth=20, n_estimators=750, num_leaves=24, score=-5.760, total=   0.7s\n",
      "[CV] max_depth=20, n_estimators=750, num_leaves=24 ...................\n",
      "[CV]  max_depth=20, n_estimators=750, num_leaves=24, score=-5.679, total=   0.7s\n",
      "[CV] max_depth=20, n_estimators=750, num_leaves=32 ...................\n",
      "[CV]  max_depth=20, n_estimators=750, num_leaves=32, score=-5.977, total=   0.9s\n",
      "[CV] max_depth=20, n_estimators=750, num_leaves=32 ...................\n",
      "[CV]  max_depth=20, n_estimators=750, num_leaves=32, score=-5.799, total=   0.9s\n",
      "[CV] max_depth=20, n_estimators=750, num_leaves=32 ...................\n",
      "[CV]  max_depth=20, n_estimators=750, num_leaves=32, score=-5.735, total=   0.9s\n",
      "[CV] max_depth=20, n_estimators=750, num_leaves=64 ...................\n",
      "[CV]  max_depth=20, n_estimators=750, num_leaves=64, score=-6.018, total=   1.1s\n",
      "[CV] max_depth=20, n_estimators=750, num_leaves=64 ...................\n",
      "[CV]  max_depth=20, n_estimators=750, num_leaves=64, score=-5.822, total=   1.1s\n",
      "[CV] max_depth=20, n_estimators=750, num_leaves=64 ...................\n",
      "[CV]  max_depth=20, n_estimators=750, num_leaves=64, score=-5.749, total=   1.5s\n",
      "[CV] max_depth=20, n_estimators=750, num_leaves=144 ..................\n",
      "[CV]  max_depth=20, n_estimators=750, num_leaves=144, score=-6.018, total=   1.2s\n",
      "[CV] max_depth=20, n_estimators=750, num_leaves=144 ..................\n",
      "[CV]  max_depth=20, n_estimators=750, num_leaves=144, score=-5.822, total=   1.1s\n",
      "[CV] max_depth=20, n_estimators=750, num_leaves=144 ..................\n",
      "[CV]  max_depth=20, n_estimators=750, num_leaves=144, score=-5.749, total=   1.2s\n",
      "[CV] max_depth=24, n_estimators=100, num_leaves=8 ....................\n",
      "[CV]  max_depth=24, n_estimators=100, num_leaves=8, score=-6.818, total=   0.1s\n",
      "[CV] max_depth=24, n_estimators=100, num_leaves=8 ....................\n",
      "[CV]  max_depth=24, n_estimators=100, num_leaves=8, score=-6.672, total=   0.1s\n",
      "[CV] max_depth=24, n_estimators=100, num_leaves=8 ....................\n",
      "[CV]  max_depth=24, n_estimators=100, num_leaves=8, score=-6.541, total=   0.1s\n",
      "[CV] max_depth=24, n_estimators=100, num_leaves=16 ...................\n",
      "[CV]  max_depth=24, n_estimators=100, num_leaves=16, score=-6.596, total=   0.1s\n",
      "[CV] max_depth=24, n_estimators=100, num_leaves=16 ...................\n",
      "[CV]  max_depth=24, n_estimators=100, num_leaves=16, score=-6.457, total=   0.1s\n",
      "[CV] max_depth=24, n_estimators=100, num_leaves=16 ...................\n",
      "[CV]  max_depth=24, n_estimators=100, num_leaves=16, score=-6.333, total=   0.1s\n",
      "[CV] max_depth=24, n_estimators=100, num_leaves=24 ...................\n",
      "[CV]  max_depth=24, n_estimators=100, num_leaves=24, score=-6.536, total=   0.1s\n",
      "[CV] max_depth=24, n_estimators=100, num_leaves=24 ...................\n",
      "[CV]  max_depth=24, n_estimators=100, num_leaves=24, score=-6.385, total=   0.1s\n",
      "[CV] max_depth=24, n_estimators=100, num_leaves=24 ...................\n",
      "[CV]  max_depth=24, n_estimators=100, num_leaves=24, score=-6.262, total=   0.1s\n",
      "[CV] max_depth=24, n_estimators=100, num_leaves=32 ...................\n",
      "[CV]  max_depth=24, n_estimators=100, num_leaves=32, score=-6.517, total=   0.1s\n",
      "[CV] max_depth=24, n_estimators=100, num_leaves=32 ...................\n",
      "[CV]  max_depth=24, n_estimators=100, num_leaves=32, score=-6.339, total=   0.1s\n",
      "[CV] max_depth=24, n_estimators=100, num_leaves=32 ...................\n",
      "[CV]  max_depth=24, n_estimators=100, num_leaves=32, score=-6.249, total=   0.1s\n",
      "[CV] max_depth=24, n_estimators=100, num_leaves=64 ...................\n",
      "[CV]  max_depth=24, n_estimators=100, num_leaves=64, score=-6.496, total=   0.2s\n",
      "[CV] max_depth=24, n_estimators=100, num_leaves=64 ...................\n",
      "[CV]  max_depth=24, n_estimators=100, num_leaves=64, score=-6.323, total=   0.2s\n",
      "[CV] max_depth=24, n_estimators=100, num_leaves=64 ...................\n",
      "[CV]  max_depth=24, n_estimators=100, num_leaves=64, score=-6.213, total=   0.2s\n",
      "[CV] max_depth=24, n_estimators=100, num_leaves=144 ..................\n",
      "[CV]  max_depth=24, n_estimators=100, num_leaves=144, score=-6.496, total=   0.2s\n",
      "[CV] max_depth=24, n_estimators=100, num_leaves=144 ..................\n",
      "[CV]  max_depth=24, n_estimators=100, num_leaves=144, score=-6.323, total=   0.2s\n",
      "[CV] max_depth=24, n_estimators=100, num_leaves=144 ..................\n",
      "[CV]  max_depth=24, n_estimators=100, num_leaves=144, score=-6.213, total=   0.2s\n",
      "[CV] max_depth=24, n_estimators=200, num_leaves=8 ....................\n",
      "[CV]  max_depth=24, n_estimators=200, num_leaves=8, score=-6.351, total=   0.1s\n",
      "[CV] max_depth=24, n_estimators=200, num_leaves=8 ....................\n",
      "[CV]  max_depth=24, n_estimators=200, num_leaves=8, score=-6.209, total=   0.1s\n",
      "[CV] max_depth=24, n_estimators=200, num_leaves=8 ....................\n",
      "[CV]  max_depth=24, n_estimators=200, num_leaves=8, score=-6.136, total=   0.1s\n",
      "[CV] max_depth=24, n_estimators=200, num_leaves=16 ...................\n",
      "[CV]  max_depth=24, n_estimators=200, num_leaves=16, score=-6.175, total=   0.1s\n",
      "[CV] max_depth=24, n_estimators=200, num_leaves=16 ...................\n",
      "[CV]  max_depth=24, n_estimators=200, num_leaves=16, score=-5.984, total=   0.2s\n",
      "[CV] max_depth=24, n_estimators=200, num_leaves=16 ...................\n",
      "[CV]  max_depth=24, n_estimators=200, num_leaves=16, score=-5.966, total=   0.2s\n",
      "[CV] max_depth=24, n_estimators=200, num_leaves=24 ...................\n",
      "[CV]  max_depth=24, n_estimators=200, num_leaves=24, score=-6.166, total=   0.2s\n",
      "[CV] max_depth=24, n_estimators=200, num_leaves=24 ...................\n",
      "[CV]  max_depth=24, n_estimators=200, num_leaves=24, score=-5.937, total=   0.2s\n",
      "[CV] max_depth=24, n_estimators=200, num_leaves=24 ...................\n",
      "[CV]  max_depth=24, n_estimators=200, num_leaves=24, score=-5.880, total=   0.2s\n",
      "[CV] max_depth=24, n_estimators=200, num_leaves=32 ...................\n",
      "[CV]  max_depth=24, n_estimators=200, num_leaves=32, score=-6.159, total=   0.2s\n",
      "[CV] max_depth=24, n_estimators=200, num_leaves=32 ...................\n",
      "[CV]  max_depth=24, n_estimators=200, num_leaves=32, score=-5.930, total=   0.2s\n",
      "[CV] max_depth=24, n_estimators=200, num_leaves=32 ...................\n",
      "[CV]  max_depth=24, n_estimators=200, num_leaves=32, score=-5.881, total=   0.2s\n",
      "[CV] max_depth=24, n_estimators=200, num_leaves=64 ...................\n",
      "[CV]  max_depth=24, n_estimators=200, num_leaves=64, score=-6.138, total=   0.3s\n",
      "[CV] max_depth=24, n_estimators=200, num_leaves=64 ...................\n",
      "[CV]  max_depth=24, n_estimators=200, num_leaves=64, score=-5.962, total=   0.5s\n",
      "[CV] max_depth=24, n_estimators=200, num_leaves=64 ...................\n",
      "[CV]  max_depth=24, n_estimators=200, num_leaves=64, score=-5.856, total=   0.4s\n",
      "[CV] max_depth=24, n_estimators=200, num_leaves=144 ..................\n",
      "[CV]  max_depth=24, n_estimators=200, num_leaves=144, score=-6.138, total=   0.3s\n",
      "[CV] max_depth=24, n_estimators=200, num_leaves=144 ..................\n",
      "[CV]  max_depth=24, n_estimators=200, num_leaves=144, score=-5.962, total=   0.3s\n",
      "[CV] max_depth=24, n_estimators=200, num_leaves=144 ..................\n",
      "[CV]  max_depth=24, n_estimators=200, num_leaves=144, score=-5.856, total=   0.3s\n",
      "[CV] max_depth=24, n_estimators=300, num_leaves=8 ....................\n",
      "[CV]  max_depth=24, n_estimators=300, num_leaves=8, score=-6.156, total=   0.1s\n",
      "[CV] max_depth=24, n_estimators=300, num_leaves=8 ....................\n",
      "[CV]  max_depth=24, n_estimators=300, num_leaves=8, score=-6.011, total=   0.1s\n",
      "[CV] max_depth=24, n_estimators=300, num_leaves=8 ....................\n",
      "[CV]  max_depth=24, n_estimators=300, num_leaves=8, score=-5.934, total=   0.1s\n",
      "[CV] max_depth=24, n_estimators=300, num_leaves=16 ...................\n",
      "[CV]  max_depth=24, n_estimators=300, num_leaves=16, score=-6.012, total=   0.2s\n",
      "[CV] max_depth=24, n_estimators=300, num_leaves=16 ...................\n",
      "[CV]  max_depth=24, n_estimators=300, num_leaves=16, score=-5.819, total=   0.2s\n",
      "[CV] max_depth=24, n_estimators=300, num_leaves=16 ...................\n",
      "[CV]  max_depth=24, n_estimators=300, num_leaves=16, score=-5.810, total=   0.2s\n",
      "[CV] max_depth=24, n_estimators=300, num_leaves=24 ...................\n",
      "[CV]  max_depth=24, n_estimators=300, num_leaves=24, score=-6.018, total=   0.3s\n",
      "[CV] max_depth=24, n_estimators=300, num_leaves=24 ...................\n",
      "[CV]  max_depth=24, n_estimators=300, num_leaves=24, score=-5.797, total=   0.3s\n",
      "[CV] max_depth=24, n_estimators=300, num_leaves=24 ...................\n",
      "[CV]  max_depth=24, n_estimators=300, num_leaves=24, score=-5.741, total=   0.3s\n",
      "[CV] max_depth=24, n_estimators=300, num_leaves=32 ...................\n",
      "[CV]  max_depth=24, n_estimators=300, num_leaves=32, score=-6.040, total=   0.3s\n",
      "[CV] max_depth=24, n_estimators=300, num_leaves=32 ...................\n",
      "[CV]  max_depth=24, n_estimators=300, num_leaves=32, score=-5.802, total=   0.3s\n",
      "[CV] max_depth=24, n_estimators=300, num_leaves=32 ...................\n",
      "[CV]  max_depth=24, n_estimators=300, num_leaves=32, score=-5.773, total=   0.4s\n",
      "[CV] max_depth=24, n_estimators=300, num_leaves=64 ...................\n",
      "[CV]  max_depth=24, n_estimators=300, num_leaves=64, score=-6.061, total=   0.5s\n",
      "[CV] max_depth=24, n_estimators=300, num_leaves=64 ...................\n",
      "[CV]  max_depth=24, n_estimators=300, num_leaves=64, score=-5.854, total=   0.5s\n",
      "[CV] max_depth=24, n_estimators=300, num_leaves=64 ...................\n",
      "[CV]  max_depth=24, n_estimators=300, num_leaves=64, score=-5.772, total=   0.5s\n",
      "[CV] max_depth=24, n_estimators=300, num_leaves=144 ..................\n",
      "[CV]  max_depth=24, n_estimators=300, num_leaves=144, score=-6.061, total=   0.7s\n",
      "[CV] max_depth=24, n_estimators=300, num_leaves=144 ..................\n",
      "[CV]  max_depth=24, n_estimators=300, num_leaves=144, score=-5.854, total=   0.6s\n",
      "[CV] max_depth=24, n_estimators=300, num_leaves=144 ..................\n",
      "[CV]  max_depth=24, n_estimators=300, num_leaves=144, score=-5.772, total=   0.5s\n",
      "[CV] max_depth=24, n_estimators=500, num_leaves=8 ....................\n",
      "[CV]  max_depth=24, n_estimators=500, num_leaves=8, score=-5.968, total=   0.2s\n",
      "[CV] max_depth=24, n_estimators=500, num_leaves=8 ....................\n",
      "[CV]  max_depth=24, n_estimators=500, num_leaves=8, score=-5.850, total=   0.2s\n",
      "[CV] max_depth=24, n_estimators=500, num_leaves=8 ....................\n",
      "[CV]  max_depth=24, n_estimators=500, num_leaves=8, score=-5.775, total=   0.2s\n",
      "[CV] max_depth=24, n_estimators=500, num_leaves=16 ...................\n",
      "[CV]  max_depth=24, n_estimators=500, num_leaves=16, score=-5.920, total=   0.4s\n",
      "[CV] max_depth=24, n_estimators=500, num_leaves=16 ...................\n",
      "[CV]  max_depth=24, n_estimators=500, num_leaves=16, score=-5.696, total=   0.4s\n",
      "[CV] max_depth=24, n_estimators=500, num_leaves=16 ...................\n",
      "[CV]  max_depth=24, n_estimators=500, num_leaves=16, score=-5.705, total=   0.5s\n",
      "[CV] max_depth=24, n_estimators=500, num_leaves=24 ...................\n",
      "[CV]  max_depth=24, n_estimators=500, num_leaves=24, score=-5.945, total=   0.6s\n",
      "[CV] max_depth=24, n_estimators=500, num_leaves=24 ...................\n",
      "[CV]  max_depth=24, n_estimators=500, num_leaves=24, score=-5.757, total=   0.5s\n",
      "[CV] max_depth=24, n_estimators=500, num_leaves=24 ...................\n",
      "[CV]  max_depth=24, n_estimators=500, num_leaves=24, score=-5.685, total=   0.5s\n",
      "[CV] max_depth=24, n_estimators=500, num_leaves=32 ...................\n",
      "[CV]  max_depth=24, n_estimators=500, num_leaves=32, score=-5.974, total=   0.6s\n",
      "[CV] max_depth=24, n_estimators=500, num_leaves=32 ...................\n",
      "[CV]  max_depth=24, n_estimators=500, num_leaves=32, score=-5.762, total=   0.6s\n",
      "[CV] max_depth=24, n_estimators=500, num_leaves=32 ...................\n",
      "[CV]  max_depth=24, n_estimators=500, num_leaves=32, score=-5.715, total=   0.6s\n",
      "[CV] max_depth=24, n_estimators=500, num_leaves=64 ...................\n",
      "[CV]  max_depth=24, n_estimators=500, num_leaves=64, score=-6.008, total=   1.2s\n",
      "[CV] max_depth=24, n_estimators=500, num_leaves=64 ...................\n",
      "[CV]  max_depth=24, n_estimators=500, num_leaves=64, score=-5.822, total=   0.8s\n",
      "[CV] max_depth=24, n_estimators=500, num_leaves=64 ...................\n",
      "[CV]  max_depth=24, n_estimators=500, num_leaves=64, score=-5.738, total=   0.8s\n",
      "[CV] max_depth=24, n_estimators=500, num_leaves=144 ..................\n",
      "[CV]  max_depth=24, n_estimators=500, num_leaves=144, score=-6.008, total=   0.8s\n",
      "[CV] max_depth=24, n_estimators=500, num_leaves=144 ..................\n",
      "[CV]  max_depth=24, n_estimators=500, num_leaves=144, score=-5.822, total=   0.8s\n",
      "[CV] max_depth=24, n_estimators=500, num_leaves=144 ..................\n",
      "[CV]  max_depth=24, n_estimators=500, num_leaves=144, score=-5.738, total=   0.8s\n",
      "[CV] max_depth=24, n_estimators=750, num_leaves=8 ....................\n",
      "[CV]  max_depth=24, n_estimators=750, num_leaves=8, score=-5.920, total=   0.3s\n",
      "[CV] max_depth=24, n_estimators=750, num_leaves=8 ....................\n",
      "[CV]  max_depth=24, n_estimators=750, num_leaves=8, score=-5.767, total=   0.3s\n",
      "[CV] max_depth=24, n_estimators=750, num_leaves=8 ....................\n",
      "[CV]  max_depth=24, n_estimators=750, num_leaves=8, score=-5.712, total=   0.3s\n",
      "[CV] max_depth=24, n_estimators=750, num_leaves=16 ...................\n",
      "[CV]  max_depth=24, n_estimators=750, num_leaves=16, score=-5.889, total=   0.5s\n",
      "[CV] max_depth=24, n_estimators=750, num_leaves=16 ...................\n",
      "[CV]  max_depth=24, n_estimators=750, num_leaves=16, score=-5.689, total=   0.5s\n",
      "[CV] max_depth=24, n_estimators=750, num_leaves=16 ...................\n",
      "[CV]  max_depth=24, n_estimators=750, num_leaves=16, score=-5.688, total=   0.5s\n",
      "[CV] max_depth=24, n_estimators=750, num_leaves=24 ...................\n",
      "[CV]  max_depth=24, n_estimators=750, num_leaves=24, score=-5.903, total=   0.7s\n",
      "[CV] max_depth=24, n_estimators=750, num_leaves=24 ...................\n",
      "[CV]  max_depth=24, n_estimators=750, num_leaves=24, score=-5.760, total=   0.8s\n",
      "[CV] max_depth=24, n_estimators=750, num_leaves=24 ...................\n",
      "[CV]  max_depth=24, n_estimators=750, num_leaves=24, score=-5.679, total=   0.9s\n",
      "[CV] max_depth=24, n_estimators=750, num_leaves=32 ...................\n",
      "[CV]  max_depth=24, n_estimators=750, num_leaves=32, score=-5.988, total=   0.9s\n",
      "[CV] max_depth=24, n_estimators=750, num_leaves=32 ...................\n",
      "[CV]  max_depth=24, n_estimators=750, num_leaves=32, score=-5.791, total=   0.9s\n",
      "[CV] max_depth=24, n_estimators=750, num_leaves=32 ...................\n",
      "[CV]  max_depth=24, n_estimators=750, num_leaves=32, score=-5.730, total=   0.9s\n",
      "[CV] max_depth=24, n_estimators=750, num_leaves=64 ...................\n",
      "[CV]  max_depth=24, n_estimators=750, num_leaves=64, score=-6.025, total=   1.2s\n",
      "[CV] max_depth=24, n_estimators=750, num_leaves=64 ...................\n",
      "[CV]  max_depth=24, n_estimators=750, num_leaves=64, score=-5.841, total=   1.2s\n",
      "[CV] max_depth=24, n_estimators=750, num_leaves=64 ...................\n",
      "[CV]  max_depth=24, n_estimators=750, num_leaves=64, score=-5.752, total=   1.2s\n",
      "[CV] max_depth=24, n_estimators=750, num_leaves=144 ..................\n",
      "[CV]  max_depth=24, n_estimators=750, num_leaves=144, score=-6.025, total=   1.2s\n",
      "[CV] max_depth=24, n_estimators=750, num_leaves=144 ..................\n",
      "[CV]  max_depth=24, n_estimators=750, num_leaves=144, score=-5.841, total=   1.6s\n",
      "[CV] max_depth=24, n_estimators=750, num_leaves=144 ..................\n",
      "[CV]  max_depth=24, n_estimators=750, num_leaves=144, score=-5.752, total=   1.6s\n",
      "[Parallel(n_jobs=1)]: Done 540 out of 540 | elapsed:  3.3min finished\n",
      "Wall time: 3min 18s\n"
     ]
    },
    {
     "data": {
      "text/plain": [
       "GridSearchCV(cv=3, estimator=LGBMRegressor(learning_rate=0.01),\n",
       "             param_grid={'max_depth': [4, 8, 12, 16, 20, 24],\n",
       "                         'n_estimators': [100, 200, 300, 500, 750],\n",
       "                         'num_leaves': [8, 16, 24, 32, 64, 144]},\n",
       "             scoring='neg_mean_absolute_error', verbose=50)"
      ]
     },
     "execution_count": 178,
     "metadata": {},
     "output_type": "execute_result"
    }
   ],
   "source": [
    "%%time\n",
    "grid.fit(features_train, target_train)"
   ]
  },
  {
   "cell_type": "markdown",
   "metadata": {},
   "source": [
    "Лучшие параметры"
   ]
  },
  {
   "cell_type": "code",
   "execution_count": 179,
   "metadata": {
    "scrolled": true
   },
   "outputs": [
    {
     "data": {
      "text/plain": [
       "{'max_depth': 8, 'n_estimators': 750, 'num_leaves': 16}"
      ]
     },
     "execution_count": 179,
     "metadata": {},
     "output_type": "execute_result"
    }
   ],
   "source": [
    "grid.best_params_"
   ]
  },
  {
   "cell_type": "markdown",
   "metadata": {},
   "source": [
    "Лучшее значение метрики"
   ]
  },
  {
   "cell_type": "code",
   "execution_count": 180,
   "metadata": {},
   "outputs": [
    {
     "data": {
      "text/plain": [
       "-5.752540533080022"
      ]
     },
     "execution_count": 180,
     "metadata": {},
     "output_type": "execute_result"
    }
   ],
   "source": [
    "grid.best_score_"
   ]
  },
  {
   "cell_type": "code",
   "execution_count": 181,
   "metadata": {},
   "outputs": [
    {
     "data": {
      "text/plain": [
       "LGBMRegressor(learning_rate=0.01, max_depth=8, n_estimators=750, num_leaves=16)"
      ]
     },
     "execution_count": 181,
     "metadata": {},
     "output_type": "execute_result"
    }
   ],
   "source": [
    "grid.best_estimator_"
   ]
  },
  {
   "cell_type": "markdown",
   "metadata": {},
   "source": [
    "Рассчитываем метрику качества на тестовой модели"
   ]
  },
  {
   "cell_type": "code",
   "execution_count": 182,
   "metadata": {},
   "outputs": [],
   "source": [
    "pred_test_lgbm = grid.predict(features_test)"
   ]
  },
  {
   "cell_type": "code",
   "execution_count": 183,
   "metadata": {},
   "outputs": [],
   "source": [
    "mae_test_lgbm = mean_absolute_error(target_test, pred_test_lgbm)"
   ]
  },
  {
   "cell_type": "code",
   "execution_count": 184,
   "metadata": {
    "scrolled": false
   },
   "outputs": [
    {
     "data": {
      "text/plain": [
       "5.315630687743664"
      ]
     },
     "execution_count": 184,
     "metadata": {},
     "output_type": "execute_result"
    }
   ],
   "source": [
    "mae_test_lgbm"
   ]
  },
  {
   "cell_type": "markdown",
   "metadata": {},
   "source": [
    "#### Модель LightGBMRegressor показала метрику MAE на обучающей выборке 5.75, на тестовой - 5.32."
   ]
  },
  {
   "cell_type": "markdown",
   "metadata": {},
   "source": [
    "### Проверка модели на адекватность"
   ]
  },
  {
   "cell_type": "markdown",
   "metadata": {},
   "source": [
    "Рассчитаем метрику *MAE* для константной модели, в качестве предсказания возьмем среднее значение финальной температуры для обучающего набора данных."
   ]
  },
  {
   "cell_type": "code",
   "execution_count": 185,
   "metadata": {},
   "outputs": [],
   "source": [
    "mean_temp = pd.Series(target_train.mean(), index=target_test.index)"
   ]
  },
  {
   "cell_type": "code",
   "execution_count": 186,
   "metadata": {},
   "outputs": [],
   "source": [
    "mae_mean_temp = mean_absolute_error(target_test, mean_temp)"
   ]
  },
  {
   "cell_type": "code",
   "execution_count": 187,
   "metadata": {},
   "outputs": [
    {
     "data": {
      "text/plain": [
       "7.5548893087084785"
      ]
     },
     "execution_count": 187,
     "metadata": {},
     "output_type": "execute_result"
    }
   ],
   "source": [
    "mae_mean_temp"
   ]
  },
  {
   "cell_type": "markdown",
   "metadata": {},
   "source": [
    "### Анализ значимости входных параметров"
   ]
  },
  {
   "cell_type": "markdown",
   "metadata": {},
   "source": [
    "Построим график важности входных параметров модели"
   ]
  },
  {
   "cell_type": "code",
   "execution_count": 188,
   "metadata": {},
   "outputs": [],
   "source": [
    "feature_importances = pd.DataFrame(data=grid.best_estimator_.feature_importances_, index=['first_temperature', 'heating_seconds',\n",
    "   'count_heating', 'active_power_sum', 'reactive_power_sum', 'full_power_sum', \n",
    "   'Bulk 1', 'Bulk 2', 'Bulk 3',\n",
    "   'Bulk 4', 'Bulk 5', 'Bulk 6', 'Bulk 7', 'Bulk 8', 'Bulk 9', 'Bulk 10',\n",
    "   'Bulk 11', 'Bulk 12', 'Bulk 13', 'Bulk 14', 'Bulk 15', 'sum_bulk_add',\n",
    "   'Wire 1', 'Wire 2', 'Wire 3', 'Wire 4', 'Wire 6', \n",
    "   'Wire 8', 'Wire 9', 'sum_wire_add', 'gas 1'], columns=['importance'])"
   ]
  },
  {
   "cell_type": "code",
   "execution_count": 189,
   "metadata": {},
   "outputs": [],
   "source": [
    "feature_importances.sort_values(by='importance', ascending=False, inplace=True)"
   ]
  },
  {
   "cell_type": "code",
   "execution_count": 190,
   "metadata": {
    "scrolled": true
   },
   "outputs": [
    {
     "data": {
      "image/png": "[encoded data removed]",
      "text/plain": [
       "<Figure size 864x432 with 1 Axes>"
      ]
     },
     "metadata": {
      "needs_background": "light"
     },
     "output_type": "display_data"
    }
   ],
   "source": [
    "# ----------------------------------------------------------------------------------------------------\n",
    "# fitler x and y\n",
    "x = feature_importances.index\n",
    "y = feature_importances['importance']\n",
    "\n",
    "# ----------------------------------------------------------------------------------------------------\n",
    "# instanciate the figure\n",
    "fig = plt.figure(figsize = (12, 6))\n",
    "ax = fig.add_subplot()\n",
    "\n",
    "# ----------------------------------------------------------------------------------------------------\n",
    "# plot the data\n",
    "for x_, y_ in zip(x, y):\n",
    "    # make a scatter plot\n",
    "    ax.scatter(x_, y_, color = \"red\" if y_ < y.mean() else \"green\", alpha = 0.3, s = 100)\n",
    "    \n",
    "    # add vertical lines to connect them to the data point (head of the lollipop)\n",
    "    ax.vlines(x_, ymin = 0, ymax = y_, color = \"red\" if y_ < y.mean() else \"green\", alpha = 0.3)\n",
    "    \n",
    "    # add text with the data\n",
    "    ax.text(x_, y_ + 0.5, round(y_, 1), horizontalalignment='center')\n",
    "    \n",
    "# ----------------------------------------------------------------------------------------------------\n",
    "# prettify the plot\n",
    "# change the ylim\n",
    "#ax.set_ylim(0, 30)\n",
    "\n",
    "# rotate the x ticks 90 degrees\n",
    "ax.set_xticklabels(x, rotation = 90)\n",
    "\n",
    "# add an y label\n",
    "ax.set_ylabel(\"Importances\")\n",
    "\n",
    "# set a title\n",
    "ax.set_title(\"Важность входных параметров модели\");"
   ]
  },
  {
   "cell_type": "markdown",
   "metadata": {},
   "source": [
    "#### Наибольший вес имеют следующие параметры, в порядке убывания: начальная температура нагрева, активная мощность, объем инертного газа. Не оказывают влияение на целевую переменную следующие параметры: Wire 4, Wire 5, Wire 6, Wire 7, Wire 8, Wire 9, Bulk 2, Bulk 7, Bulk 8, Bulk 9. Остальные параметры оказывают влияние на целевую модель, но являются менее значимыми."
   ]
  },
  {
   "cell_type": "markdown",
   "metadata": {},
   "source": [
    "## Вывод"
   ]
  },
  {
   "cell_type": "markdown",
   "metadata": {},
   "source": [
    "Модель **LightGBMRegressor** показала лучший результат, на обучающей выборке *МАЕ* = **5.75**, на тестовой = **5.31**. Также модель показала лучший результат, чем константная модель.  \n",
    "Модель **LightGBMRegressor** *рекомендуется* к использованию для прогнозирования финальной температуры нагрева стали.  \n",
    "\n",
    "При оптимизации процесса стоит обратить наибольшее внимание на начальную температура, активную мощности и объем инертного газа, так как они имеют наибольшее влияние на финальную температуру. Не оказывают влияние следующие параметры: Wire 4, Wire 5, Wire 6, Wire 7, Wire 8, Wire 9, Bulk 2, Bulk 7, Bulk 8, Bulk 9"
   ]
  }
 ],
 "metadata": {
  "kernelspec": {
   "display_name": "Python 3",
   "language": "python",
   "name": "python3"
  },
  "language_info": {
   "codemirror_mode": {
    "name": "ipython",
    "version": 3
   },
   "file_extension": ".py",
   "mimetype": "text/x-python",
   "name": "python",
   "nbconvert_exporter": "python",
   "pygments_lexer": "ipython3",
   "version": "3.7.7"
  }
 },
 "nbformat": 4,
 "nbformat_minor": 2
}
