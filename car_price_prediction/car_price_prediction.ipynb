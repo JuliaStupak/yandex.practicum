{
 "cells": [
  {
   "cell_type": "markdown",
   "metadata": {},
   "source": [
    "# 1. Подготовка данных"
   ]
  },
  {
   "cell_type": "code",
   "execution_count": 1,
   "metadata": {},
   "outputs": [],
   "source": [
    "import pandas as pd\n",
    "import numpy as np"
   ]
  },
  {
   "cell_type": "code",
   "execution_count": 2,
   "metadata": {},
   "outputs": [],
   "source": [
    "from catboost import CatBoostRegressor\n",
    "import lightgbm"
   ]
  },
  {
   "cell_type": "code",
   "execution_count": 3,
   "metadata": {},
   "outputs": [],
   "source": [
    "from sklearn.model_selection import train_test_split\n",
    "from sklearn.preprocessing import OrdinalEncoder\n",
    "from sklearn.preprocessing import StandardScaler\n",
    "from sklearn.linear_model import LogisticRegression\n",
    "from sklearn.metrics import f1_score\n",
    "from sklearn.tree import DecisionTreeClassifier\n",
    "from sklearn.metrics import roc_auc_score\n",
    "from sklearn.model_selection import GridSearchCV"
   ]
  },
  {
   "cell_type": "code",
   "execution_count": 4,
   "metadata": {},
   "outputs": [
    {
     "name": "stderr",
     "output_type": "stream",
     "text": [
      "/opt/conda/lib/python3.7/site-packages/statsmodels/tools/_testing.py:19: FutureWarning: pandas.util.testing is deprecated. Use the functions in the public API at pandas.testing instead.\n",
      "  import pandas.util.testing as tm\n"
     ]
    }
   ],
   "source": [
    "import matplotlib.pyplot as plt\n",
    "import seaborn as sns"
   ]
  },
  {
   "cell_type": "code",
   "execution_count": 5,
   "metadata": {},
   "outputs": [],
   "source": [
    "# Функция построения гистограммы и боксплот\n",
    "def stat_plot(data, param, bins=10):\n",
    "    # Create Fig\n",
    "    fig = plt.figure(figsize=(15, 6), dpi= 80)\n",
    "    grid = plt.GridSpec(4, 4, hspace=0.5, wspace=0.2)\n",
    "\n",
    "    # Define the axes\n",
    "    ax_main = fig.add_subplot(grid[:-1, :-1])\n",
    "    ax_right = fig.add_subplot(grid[:-1, -1])\n",
    "    \n",
    "    # histogram on main ax\n",
    "    ax_main.hist(data[param], bins, histtype='stepfilled', orientation='vertical')\n",
    "\n",
    "    # boxplot in the right\n",
    "    ax_right.boxplot(data[param])\n",
    "    ax_right.grid(axis='y')\n",
    "\n",
    "    # Decorations\n",
    "    ax_main.set(title='Гистограмма и боксплот по параметру '+param)\n",
    "\n",
    "    plt.show()"
   ]
  },
  {
   "cell_type": "code",
   "execution_count": 6,
   "metadata": {},
   "outputs": [],
   "source": [
    "df = pd.read_csv('/datasets/autos.csv')"
   ]
  },
  {
   "cell_type": "code",
   "execution_count": 7,
   "metadata": {},
   "outputs": [
    {
     "name": "stdout",
     "output_type": "stream",
     "text": [
      "<class 'pandas.core.frame.DataFrame'>\n",
      "RangeIndex: 354369 entries, 0 to 354368\n",
      "Data columns (total 16 columns):\n",
      " #   Column             Non-Null Count   Dtype \n",
      "---  ------             --------------   ----- \n",
      " 0   DateCrawled        354369 non-null  object\n",
      " 1   Price              354369 non-null  int64 \n",
      " 2   VehicleType        316879 non-null  object\n",
      " 3   RegistrationYear   354369 non-null  int64 \n",
      " 4   Gearbox            334536 non-null  object\n",
      " 5   Power              354369 non-null  int64 \n",
      " 6   Model              334664 non-null  object\n",
      " 7   Kilometer          354369 non-null  int64 \n",
      " 8   RegistrationMonth  354369 non-null  int64 \n",
      " 9   FuelType           321474 non-null  object\n",
      " 10  Brand              354369 non-null  object\n",
      " 11  NotRepaired        283215 non-null  object\n",
      " 12  DateCreated        354369 non-null  object\n",
      " 13  NumberOfPictures   354369 non-null  int64 \n",
      " 14  PostalCode         354369 non-null  int64 \n",
      " 15  LastSeen           354369 non-null  object\n",
      "dtypes: int64(7), object(9)\n",
      "memory usage: 43.3+ MB\n"
     ]
    }
   ],
   "source": [
    "df.info()"
   ]
  },
  {
   "cell_type": "code",
   "execution_count": 8,
   "metadata": {},
   "outputs": [
    {
     "data": {
      "text/html": [
       "<div>\n",
       "<style scoped>\n",
       "    .dataframe tbody tr th:only-of-type {\n",
       "        vertical-align: middle;\n",
       "    }\n",
       "\n",
       "    .dataframe tbody tr th {\n",
       "        vertical-align: top;\n",
       "    }\n",
       "\n",
       "    .dataframe thead th {\n",
       "        text-align: right;\n",
       "    }\n",
       "</style>\n",
       "<table border=\"1\" class=\"dataframe\">\n",
       "  <thead>\n",
       "    <tr style=\"text-align: right;\">\n",
       "      <th></th>\n",
       "      <th>DateCrawled</th>\n",
       "      <th>Price</th>\n",
       "      <th>VehicleType</th>\n",
       "      <th>RegistrationYear</th>\n",
       "      <th>Gearbox</th>\n",
       "      <th>Power</th>\n",
       "      <th>Model</th>\n",
       "      <th>Kilometer</th>\n",
       "      <th>RegistrationMonth</th>\n",
       "      <th>FuelType</th>\n",
       "      <th>Brand</th>\n",
       "      <th>NotRepaired</th>\n",
       "      <th>DateCreated</th>\n",
       "      <th>NumberOfPictures</th>\n",
       "      <th>PostalCode</th>\n",
       "      <th>LastSeen</th>\n",
       "    </tr>\n",
       "  </thead>\n",
       "  <tbody>\n",
       "    <tr>\n",
       "      <th>0</th>\n",
       "      <td>2016-03-24 11:52:17</td>\n",
       "      <td>480</td>\n",
       "      <td>NaN</td>\n",
       "      <td>1993</td>\n",
       "      <td>manual</td>\n",
       "      <td>0</td>\n",
       "      <td>golf</td>\n",
       "      <td>150000</td>\n",
       "      <td>0</td>\n",
       "      <td>petrol</td>\n",
       "      <td>volkswagen</td>\n",
       "      <td>NaN</td>\n",
       "      <td>2016-03-24 00:00:00</td>\n",
       "      <td>0</td>\n",
       "      <td>70435</td>\n",
       "      <td>2016-04-07 03:16:57</td>\n",
       "    </tr>\n",
       "    <tr>\n",
       "      <th>1</th>\n",
       "      <td>2016-03-24 10:58:45</td>\n",
       "      <td>18300</td>\n",
       "      <td>coupe</td>\n",
       "      <td>2011</td>\n",
       "      <td>manual</td>\n",
       "      <td>190</td>\n",
       "      <td>NaN</td>\n",
       "      <td>125000</td>\n",
       "      <td>5</td>\n",
       "      <td>gasoline</td>\n",
       "      <td>audi</td>\n",
       "      <td>yes</td>\n",
       "      <td>2016-03-24 00:00:00</td>\n",
       "      <td>0</td>\n",
       "      <td>66954</td>\n",
       "      <td>2016-04-07 01:46:50</td>\n",
       "    </tr>\n",
       "    <tr>\n",
       "      <th>2</th>\n",
       "      <td>2016-03-14 12:52:21</td>\n",
       "      <td>9800</td>\n",
       "      <td>suv</td>\n",
       "      <td>2004</td>\n",
       "      <td>auto</td>\n",
       "      <td>163</td>\n",
       "      <td>grand</td>\n",
       "      <td>125000</td>\n",
       "      <td>8</td>\n",
       "      <td>gasoline</td>\n",
       "      <td>jeep</td>\n",
       "      <td>NaN</td>\n",
       "      <td>2016-03-14 00:00:00</td>\n",
       "      <td>0</td>\n",
       "      <td>90480</td>\n",
       "      <td>2016-04-05 12:47:46</td>\n",
       "    </tr>\n",
       "    <tr>\n",
       "      <th>3</th>\n",
       "      <td>2016-03-17 16:54:04</td>\n",
       "      <td>1500</td>\n",
       "      <td>small</td>\n",
       "      <td>2001</td>\n",
       "      <td>manual</td>\n",
       "      <td>75</td>\n",
       "      <td>golf</td>\n",
       "      <td>150000</td>\n",
       "      <td>6</td>\n",
       "      <td>petrol</td>\n",
       "      <td>volkswagen</td>\n",
       "      <td>no</td>\n",
       "      <td>2016-03-17 00:00:00</td>\n",
       "      <td>0</td>\n",
       "      <td>91074</td>\n",
       "      <td>2016-03-17 17:40:17</td>\n",
       "    </tr>\n",
       "    <tr>\n",
       "      <th>4</th>\n",
       "      <td>2016-03-31 17:25:20</td>\n",
       "      <td>3600</td>\n",
       "      <td>small</td>\n",
       "      <td>2008</td>\n",
       "      <td>manual</td>\n",
       "      <td>69</td>\n",
       "      <td>fabia</td>\n",
       "      <td>90000</td>\n",
       "      <td>7</td>\n",
       "      <td>gasoline</td>\n",
       "      <td>skoda</td>\n",
       "      <td>no</td>\n",
       "      <td>2016-03-31 00:00:00</td>\n",
       "      <td>0</td>\n",
       "      <td>60437</td>\n",
       "      <td>2016-04-06 10:17:21</td>\n",
       "    </tr>\n",
       "  </tbody>\n",
       "</table>\n",
       "</div>"
      ],
      "text/plain": [
       "           DateCrawled  Price VehicleType  RegistrationYear Gearbox  Power  \\\n",
       "0  2016-03-24 11:52:17    480         NaN              1993  manual      0   \n",
       "1  2016-03-24 10:58:45  18300       coupe              2011  manual    190   \n",
       "2  2016-03-14 12:52:21   9800         suv              2004    auto    163   \n",
       "3  2016-03-17 16:54:04   1500       small              2001  manual     75   \n",
       "4  2016-03-31 17:25:20   3600       small              2008  manual     69   \n",
       "\n",
       "   Model  Kilometer  RegistrationMonth  FuelType       Brand NotRepaired  \\\n",
       "0   golf     150000                  0    petrol  volkswagen         NaN   \n",
       "1    NaN     125000                  5  gasoline        audi         yes   \n",
       "2  grand     125000                  8  gasoline        jeep         NaN   \n",
       "3   golf     150000                  6    petrol  volkswagen          no   \n",
       "4  fabia      90000                  7  gasoline       skoda          no   \n",
       "\n",
       "           DateCreated  NumberOfPictures  PostalCode             LastSeen  \n",
       "0  2016-03-24 00:00:00                 0       70435  2016-04-07 03:16:57  \n",
       "1  2016-03-24 00:00:00                 0       66954  2016-04-07 01:46:50  \n",
       "2  2016-03-14 00:00:00                 0       90480  2016-04-05 12:47:46  \n",
       "3  2016-03-17 00:00:00                 0       91074  2016-03-17 17:40:17  \n",
       "4  2016-03-31 00:00:00                 0       60437  2016-04-06 10:17:21  "
      ]
     },
     "execution_count": 8,
     "metadata": {},
     "output_type": "execute_result"
    }
   ],
   "source": [
    "df.head()"
   ]
  },
  {
   "cell_type": "markdown",
   "metadata": {},
   "source": [
    "Исходный датасет содержит 354369 записей и 16 столбцов. Часть столбцов не имеют отношения к характеристикам автомобиля, а относятся к владельцу или анкете. Удалим такие столбцы из рассмотрения."
   ]
  },
  {
   "cell_type": "code",
   "execution_count": 9,
   "metadata": {},
   "outputs": [],
   "source": [
    "df = df.drop(['DateCrawled', 'RegistrationMonth', 'DateCreated', 'NumberOfPictures', 'PostalCode', 'LastSeen'], axis=1)"
   ]
  },
  {
   "cell_type": "code",
   "execution_count": 10,
   "metadata": {},
   "outputs": [
    {
     "name": "stdout",
     "output_type": "stream",
     "text": [
      "<class 'pandas.core.frame.DataFrame'>\n",
      "RangeIndex: 354369 entries, 0 to 354368\n",
      "Data columns (total 10 columns):\n",
      " #   Column            Non-Null Count   Dtype \n",
      "---  ------            --------------   ----- \n",
      " 0   Price             354369 non-null  int64 \n",
      " 1   VehicleType       316879 non-null  object\n",
      " 2   RegistrationYear  354369 non-null  int64 \n",
      " 3   Gearbox           334536 non-null  object\n",
      " 4   Power             354369 non-null  int64 \n",
      " 5   Model             334664 non-null  object\n",
      " 6   Kilometer         354369 non-null  int64 \n",
      " 7   FuelType          321474 non-null  object\n",
      " 8   Brand             354369 non-null  object\n",
      " 9   NotRepaired       283215 non-null  object\n",
      "dtypes: int64(4), object(6)\n",
      "memory usage: 27.0+ MB\n"
     ]
    }
   ],
   "source": [
    "df.info()"
   ]
  },
  {
   "cell_type": "markdown",
   "metadata": {},
   "source": [
    "Датасет содержит 5 столбцов, в части из них содержаться пустые данные. "
   ]
  },
  {
   "cell_type": "markdown",
   "metadata": {},
   "source": [
    "#### Для корректного построения моделей необходимо проверить данные на наличие выбросов, заполнить или удалить null-значения, стандартизировать признаки."
   ]
  },
  {
   "cell_type": "markdown",
   "metadata": {},
   "source": [
    "Исследуем целевой признак **Price**"
   ]
  },
  {
   "cell_type": "markdown",
   "metadata": {},
   "source": [
    "Первым шагом построим гистограмму и боксплот "
   ]
  },
  {
   "cell_type": "code",
   "execution_count": 11,
   "metadata": {},
   "outputs": [
    {
     "data": {
      "image/png": "[encoded data removed]",
      "text/plain": [
       "<Figure size 1200x480 with 2 Axes>"
      ]
     },
     "metadata": {
      "needs_background": "light"
     },
     "output_type": "display_data"
    }
   ],
   "source": [
    "stat_plot(df, 'Price', 10)"
   ]
  },
  {
   "cell_type": "markdown",
   "metadata": {},
   "source": [
    "На построенных диаграммах, видны выбросы около 15 тыс. евро, так же в данных есть автомобили со стоимостью 0 евро. Рассмотрим эти данные деталей."
   ]
  },
  {
   "cell_type": "markdown",
   "metadata": {},
   "source": [
    "Рассчитаем количество автомобилей с ценой равной 0."
   ]
  },
  {
   "cell_type": "code",
   "execution_count": 12,
   "metadata": {},
   "outputs": [
    {
     "data": {
      "text/html": [
       "<div>\n",
       "<style scoped>\n",
       "    .dataframe tbody tr th:only-of-type {\n",
       "        vertical-align: middle;\n",
       "    }\n",
       "\n",
       "    .dataframe tbody tr th {\n",
       "        vertical-align: top;\n",
       "    }\n",
       "\n",
       "    .dataframe thead th {\n",
       "        text-align: right;\n",
       "    }\n",
       "</style>\n",
       "<table border=\"1\" class=\"dataframe\">\n",
       "  <thead>\n",
       "    <tr style=\"text-align: right;\">\n",
       "      <th></th>\n",
       "      <th>Price</th>\n",
       "      <th>VehicleType</th>\n",
       "      <th>RegistrationYear</th>\n",
       "      <th>Gearbox</th>\n",
       "      <th>Power</th>\n",
       "      <th>Model</th>\n",
       "      <th>Kilometer</th>\n",
       "      <th>FuelType</th>\n",
       "      <th>Brand</th>\n",
       "      <th>NotRepaired</th>\n",
       "    </tr>\n",
       "  </thead>\n",
       "  <tbody>\n",
       "    <tr>\n",
       "      <th>7</th>\n",
       "      <td>0</td>\n",
       "      <td>sedan</td>\n",
       "      <td>1980</td>\n",
       "      <td>manual</td>\n",
       "      <td>50</td>\n",
       "      <td>other</td>\n",
       "      <td>40000</td>\n",
       "      <td>petrol</td>\n",
       "      <td>volkswagen</td>\n",
       "      <td>no</td>\n",
       "    </tr>\n",
       "    <tr>\n",
       "      <th>40</th>\n",
       "      <td>0</td>\n",
       "      <td>NaN</td>\n",
       "      <td>1990</td>\n",
       "      <td>NaN</td>\n",
       "      <td>0</td>\n",
       "      <td>corsa</td>\n",
       "      <td>150000</td>\n",
       "      <td>petrol</td>\n",
       "      <td>opel</td>\n",
       "      <td>NaN</td>\n",
       "    </tr>\n",
       "    <tr>\n",
       "      <th>111</th>\n",
       "      <td>0</td>\n",
       "      <td>NaN</td>\n",
       "      <td>2017</td>\n",
       "      <td>manual</td>\n",
       "      <td>0</td>\n",
       "      <td>golf</td>\n",
       "      <td>5000</td>\n",
       "      <td>petrol</td>\n",
       "      <td>volkswagen</td>\n",
       "      <td>NaN</td>\n",
       "    </tr>\n",
       "    <tr>\n",
       "      <th>115</th>\n",
       "      <td>0</td>\n",
       "      <td>small</td>\n",
       "      <td>1999</td>\n",
       "      <td>NaN</td>\n",
       "      <td>0</td>\n",
       "      <td>NaN</td>\n",
       "      <td>5000</td>\n",
       "      <td>petrol</td>\n",
       "      <td>volkswagen</td>\n",
       "      <td>NaN</td>\n",
       "    </tr>\n",
       "    <tr>\n",
       "      <th>152</th>\n",
       "      <td>0</td>\n",
       "      <td>bus</td>\n",
       "      <td>2004</td>\n",
       "      <td>manual</td>\n",
       "      <td>101</td>\n",
       "      <td>meriva</td>\n",
       "      <td>150000</td>\n",
       "      <td>lpg</td>\n",
       "      <td>opel</td>\n",
       "      <td>yes</td>\n",
       "    </tr>\n",
       "    <tr>\n",
       "      <th>...</th>\n",
       "      <td>...</td>\n",
       "      <td>...</td>\n",
       "      <td>...</td>\n",
       "      <td>...</td>\n",
       "      <td>...</td>\n",
       "      <td>...</td>\n",
       "      <td>...</td>\n",
       "      <td>...</td>\n",
       "      <td>...</td>\n",
       "      <td>...</td>\n",
       "    </tr>\n",
       "    <tr>\n",
       "      <th>354205</th>\n",
       "      <td>0</td>\n",
       "      <td>NaN</td>\n",
       "      <td>2000</td>\n",
       "      <td>manual</td>\n",
       "      <td>65</td>\n",
       "      <td>corsa</td>\n",
       "      <td>150000</td>\n",
       "      <td>NaN</td>\n",
       "      <td>opel</td>\n",
       "      <td>yes</td>\n",
       "    </tr>\n",
       "    <tr>\n",
       "      <th>354238</th>\n",
       "      <td>0</td>\n",
       "      <td>small</td>\n",
       "      <td>2002</td>\n",
       "      <td>manual</td>\n",
       "      <td>60</td>\n",
       "      <td>fiesta</td>\n",
       "      <td>150000</td>\n",
       "      <td>petrol</td>\n",
       "      <td>ford</td>\n",
       "      <td>NaN</td>\n",
       "    </tr>\n",
       "    <tr>\n",
       "      <th>354248</th>\n",
       "      <td>0</td>\n",
       "      <td>small</td>\n",
       "      <td>1999</td>\n",
       "      <td>manual</td>\n",
       "      <td>53</td>\n",
       "      <td>swift</td>\n",
       "      <td>150000</td>\n",
       "      <td>petrol</td>\n",
       "      <td>suzuki</td>\n",
       "      <td>NaN</td>\n",
       "    </tr>\n",
       "    <tr>\n",
       "      <th>354277</th>\n",
       "      <td>0</td>\n",
       "      <td>small</td>\n",
       "      <td>1999</td>\n",
       "      <td>manual</td>\n",
       "      <td>37</td>\n",
       "      <td>arosa</td>\n",
       "      <td>150000</td>\n",
       "      <td>petrol</td>\n",
       "      <td>seat</td>\n",
       "      <td>yes</td>\n",
       "    </tr>\n",
       "    <tr>\n",
       "      <th>354364</th>\n",
       "      <td>0</td>\n",
       "      <td>NaN</td>\n",
       "      <td>2005</td>\n",
       "      <td>manual</td>\n",
       "      <td>0</td>\n",
       "      <td>colt</td>\n",
       "      <td>150000</td>\n",
       "      <td>petrol</td>\n",
       "      <td>mitsubishi</td>\n",
       "      <td>yes</td>\n",
       "    </tr>\n",
       "  </tbody>\n",
       "</table>\n",
       "<p>10772 rows × 10 columns</p>\n",
       "</div>"
      ],
      "text/plain": [
       "        Price VehicleType  RegistrationYear Gearbox  Power   Model  Kilometer  \\\n",
       "7           0       sedan              1980  manual     50   other      40000   \n",
       "40          0         NaN              1990     NaN      0   corsa     150000   \n",
       "111         0         NaN              2017  manual      0    golf       5000   \n",
       "115         0       small              1999     NaN      0     NaN       5000   \n",
       "152         0         bus              2004  manual    101  meriva     150000   \n",
       "...       ...         ...               ...     ...    ...     ...        ...   \n",
       "354205      0         NaN              2000  manual     65   corsa     150000   \n",
       "354238      0       small              2002  manual     60  fiesta     150000   \n",
       "354248      0       small              1999  manual     53   swift     150000   \n",
       "354277      0       small              1999  manual     37   arosa     150000   \n",
       "354364      0         NaN              2005  manual      0    colt     150000   \n",
       "\n",
       "       FuelType       Brand NotRepaired  \n",
       "7        petrol  volkswagen          no  \n",
       "40       petrol        opel         NaN  \n",
       "111      petrol  volkswagen         NaN  \n",
       "115      petrol  volkswagen         NaN  \n",
       "152         lpg        opel         yes  \n",
       "...         ...         ...         ...  \n",
       "354205      NaN        opel         yes  \n",
       "354238   petrol        ford         NaN  \n",
       "354248   petrol      suzuki         NaN  \n",
       "354277   petrol        seat         yes  \n",
       "354364   petrol  mitsubishi         yes  \n",
       "\n",
       "[10772 rows x 10 columns]"
      ]
     },
     "execution_count": 12,
     "metadata": {},
     "output_type": "execute_result"
    }
   ],
   "source": [
    "df.loc[df['Price'] == 0]"
   ]
  },
  {
   "cell_type": "markdown",
   "metadata": {},
   "source": [
    "Записей содержащих 0 в столбце **Price** около 11 тысяч, что составляет 3% всех записей. Возможно при создании объявления владелец автомобиля по ошибке не указал стоимость, или такая ситуация возникла из-за ошибки сервиса. Так как нас интересует рыночная стоимость автомобиля, то заполним данные значения средней стоимостью на основании значений столбцов **Brand**, **Model**, **RegistrationYear**."
   ]
  },
  {
   "cell_type": "markdown",
   "metadata": {},
   "source": [
    "Предварительно проработаем null-значения и проверим корректность данных в указанных выше столбцах."
   ]
  },
  {
   "cell_type": "markdown",
   "metadata": {},
   "source": [
    "Рассмотрим столбец **RegistrationYear**"
   ]
  },
  {
   "cell_type": "markdown",
   "metadata": {},
   "source": [
    "Проверим корректность данных содержащихся в данном столбце."
   ]
  },
  {
   "cell_type": "code",
   "execution_count": 13,
   "metadata": {},
   "outputs": [
    {
     "data": {
      "text/plain": [
       "array([1993, 2011, 2004, 2001, 2008, 1995, 1980, 2014, 1998, 2005, 1910,\n",
       "       2016, 2007, 2009, 2002, 2018, 1997, 1990, 2017, 1981, 2003, 1994,\n",
       "       1991, 1984, 2006, 1999, 2012, 2010, 2000, 1992, 2013, 1996, 1985,\n",
       "       1989, 2015, 1982, 1976, 1983, 1973, 1111, 1969, 1971, 1987, 1986,\n",
       "       1988, 1970, 1965, 1945, 1925, 1974, 1979, 1955, 1978, 1972, 1968,\n",
       "       1977, 1961, 1960, 1966, 1975, 1963, 1964, 5000, 1954, 1958, 1967,\n",
       "       1959, 9999, 1956, 3200, 1000, 1941, 8888, 1500, 2200, 4100, 1962,\n",
       "       1929, 1957, 1940, 3000, 2066, 1949, 2019, 1937, 1951, 1800, 1953,\n",
       "       1234, 8000, 5300, 9000, 2900, 6000, 5900, 5911, 1933, 1400, 1950,\n",
       "       4000, 1948, 1952, 1200, 8500, 1932, 1255, 3700, 3800, 4800, 1942,\n",
       "       7000, 1935, 1936, 6500, 1923, 2290, 2500, 1930, 1001, 9450, 1944,\n",
       "       1943, 1934, 1938, 1688, 2800, 1253, 1928, 1919, 5555, 5600, 1600,\n",
       "       2222, 1039, 9996, 1300, 8455, 1931, 1915, 4500, 1920, 1602, 7800,\n",
       "       9229, 1947, 1927, 7100, 8200, 1946, 7500, 3500])"
      ]
     },
     "execution_count": 13,
     "metadata": {},
     "output_type": "execute_result"
    }
   ],
   "source": [
    "df['RegistrationYear'].unique()"
   ]
  },
  {
   "cell_type": "markdown",
   "metadata": {},
   "source": [
    "В столбце **RegistrationYear** явно содержаться некорректные данные, машины с годом регистрации ранее 1900 года и позднее 2020. Рассчитаем количество таких данных."
   ]
  },
  {
   "cell_type": "code",
   "execution_count": 14,
   "metadata": {},
   "outputs": [
    {
     "data": {
      "text/plain": [
       "171"
      ]
     },
     "execution_count": 14,
     "metadata": {},
     "output_type": "execute_result"
    }
   ],
   "source": [
    "df.loc[(df['RegistrationYear'] < 1900) | (df['RegistrationYear'] > 2020), 'RegistrationYear'].count()"
   ]
  },
  {
   "cell_type": "markdown",
   "metadata": {},
   "source": [
    "Столбец **RegistrationYear** содержит 171 некорректную запись, это менее 1%. Возможность восстановить данные отсутствует, поэтому удалим их."
   ]
  },
  {
   "cell_type": "code",
   "execution_count": 15,
   "metadata": {},
   "outputs": [],
   "source": [
    "df = df.loc[(df['RegistrationYear'] >= 1900) & (df['RegistrationYear'] <= 2020)]"
   ]
  },
  {
   "cell_type": "code",
   "execution_count": 16,
   "metadata": {},
   "outputs": [
    {
     "data": {
      "text/plain": [
       "array([1993, 2011, 2004, 2001, 2008, 1995, 1980, 2014, 1998, 2005, 1910,\n",
       "       2016, 2007, 2009, 2002, 2018, 1997, 1990, 2017, 1981, 2003, 1994,\n",
       "       1991, 1984, 2006, 1999, 2012, 2010, 2000, 1992, 2013, 1996, 1985,\n",
       "       1989, 2015, 1982, 1976, 1983, 1973, 1969, 1971, 1987, 1986, 1988,\n",
       "       1970, 1965, 1945, 1925, 1974, 1979, 1955, 1978, 1972, 1968, 1977,\n",
       "       1961, 1960, 1966, 1975, 1963, 1964, 1954, 1958, 1967, 1959, 1956,\n",
       "       1941, 1962, 1929, 1957, 1940, 1949, 2019, 1937, 1951, 1953, 1933,\n",
       "       1950, 1948, 1952, 1932, 1942, 1935, 1936, 1923, 1930, 1944, 1943,\n",
       "       1934, 1938, 1928, 1919, 1931, 1915, 1920, 1947, 1927, 1946])"
      ]
     },
     "execution_count": 16,
     "metadata": {},
     "output_type": "execute_result"
    }
   ],
   "source": [
    "df['RegistrationYear'].unique()"
   ]
  },
  {
   "cell_type": "code",
   "execution_count": 17,
   "metadata": {},
   "outputs": [
    {
     "data": {
      "text/plain": [
       "0"
      ]
     },
     "execution_count": 17,
     "metadata": {},
     "output_type": "execute_result"
    }
   ],
   "source": [
    "df.loc[(df['RegistrationYear'] < 1900) | (df['RegistrationYear'] > 2020), 'RegistrationYear'].count()"
   ]
  },
  {
   "cell_type": "markdown",
   "metadata": {},
   "source": [
    "Некорректные данные в столбце **RegistrationYear** отсутствуют."
   ]
  },
  {
   "cell_type": "markdown",
   "metadata": {},
   "source": [
    "Рассмотрим столбцы **VehicleType**, **Model** и **Brand**"
   ]
  },
  {
   "cell_type": "code",
   "execution_count": 18,
   "metadata": {},
   "outputs": [
    {
     "data": {
      "text/plain": [
       "array([nan, 'coupe', 'suv', 'small', 'sedan', 'convertible', 'bus',\n",
       "       'wagon', 'other'], dtype=object)"
      ]
     },
     "execution_count": 18,
     "metadata": {},
     "output_type": "execute_result"
    }
   ],
   "source": [
    "df['VehicleType'].unique()"
   ]
  },
  {
   "cell_type": "code",
   "execution_count": 19,
   "metadata": {},
   "outputs": [
    {
     "data": {
      "text/plain": [
       "array(['golf', nan, 'grand', 'fabia', '3er', '2_reihe', 'other', 'c_max',\n",
       "       '3_reihe', 'passat', 'navara', 'ka', 'polo', 'twingo', 'a_klasse',\n",
       "       'scirocco', '5er', 'meriva', 'arosa', 'c4', 'civic', 'transporter',\n",
       "       'punto', 'e_klasse', 'clio', 'kadett', 'kangoo', 'corsa', 'one',\n",
       "       'fortwo', '1er', 'b_klasse', 'signum', 'astra', 'a8', 'jetta',\n",
       "       'fiesta', 'c_klasse', 'micra', 'vito', 'sprinter', '156', 'escort',\n",
       "       'forester', 'xc_reihe', 'scenic', 'a4', 'a1', 'insignia', 'combo',\n",
       "       'focus', 'tt', 'a6', 'jazz', 'omega', 'slk', '7er', '80', '147',\n",
       "       '100', 'z_reihe', 'sportage', 'sorento', 'v40', 'ibiza', 'mustang',\n",
       "       'eos', 'touran', 'getz', 'a3', 'almera', 'megane', 'lupo', 'r19',\n",
       "       'zafira', 'caddy', 'mondeo', 'cordoba', 'colt', 'impreza',\n",
       "       'vectra', 'berlingo', 'tiguan', 'i_reihe', 'espace', 'sharan',\n",
       "       '6_reihe', 'panda', 'up', 'seicento', 'ceed', '5_reihe', 'yeti',\n",
       "       'octavia', 'mii', 'rx_reihe', '6er', 'modus', 'fox', 'matiz',\n",
       "       'beetle', 'c1', 'rio', 'touareg', 'logan', 'spider', 'cuore',\n",
       "       's_max', 'a2', 'galaxy', 'c3', 'viano', 's_klasse', '1_reihe',\n",
       "       'avensis', 'roomster', 'sl', 'kaefer', 'santa', 'cooper', 'leon',\n",
       "       '4_reihe', 'a5', '500', 'laguna', 'ptcruiser', 'clk', 'primera',\n",
       "       'x_reihe', 'exeo', '159', 'transit', 'juke', 'qashqai', 'carisma',\n",
       "       'accord', 'corolla', 'lanos', 'phaeton', 'verso', 'swift', 'rav',\n",
       "       'picanto', 'boxster', 'kalos', 'superb', 'stilo', 'alhambra',\n",
       "       'mx_reihe', 'roadster', 'ypsilon', 'cayenne', 'galant', 'justy',\n",
       "       '90', 'sirion', 'crossfire', 'agila', 'duster', 'cr_reihe', 'v50',\n",
       "       'c_reihe', 'v_klasse', 'm_klasse', 'yaris', 'c5', 'aygo', 'cc',\n",
       "       'carnival', 'fusion', '911', 'bora', 'forfour', 'm_reihe', 'cl',\n",
       "       'tigra', '300c', 'spark', 'v70', 'kuga', 'x_type', 'ducato',\n",
       "       's_type', 'x_trail', 'toledo', 'altea', 'voyager', 'calibra',\n",
       "       'bravo', 'antara', 'tucson', 'citigo', 'jimny', 'wrangler',\n",
       "       'lybra', 'q7', 'lancer', 'captiva', 'c2', 'discovery',\n",
       "       'freelander', 'sandero', 'note', '900', 'cherokee', 'clubman',\n",
       "       'samara', 'defender', '601', 'cx_reihe', 'legacy', 'pajero',\n",
       "       'auris', 'niva', 's60', 'nubira', 'vivaro', 'g_klasse', 'lodgy',\n",
       "       '850', 'range_rover', 'q3', 'serie_2', 'glk', 'charade', 'croma',\n",
       "       'outlander', 'doblo', 'musa', 'move', '9000', 'v60', '145', 'aveo',\n",
       "       '200', 'b_max', 'range_rover_sport', 'terios', 'rangerover', 'q5',\n",
       "       'range_rover_evoque', 'materia', 'delta', 'gl', 'kalina', 'amarok',\n",
       "       'elefantino', 'i3', 'kappa', 'serie_3', 'serie_1'], dtype=object)"
      ]
     },
     "execution_count": 19,
     "metadata": {},
     "output_type": "execute_result"
    }
   ],
   "source": [
    "df['Model'].unique()"
   ]
  },
  {
   "cell_type": "code",
   "execution_count": 20,
   "metadata": {},
   "outputs": [
    {
     "data": {
      "text/plain": [
       "array(['volkswagen', 'audi', 'jeep', 'skoda', 'bmw', 'peugeot', 'ford',\n",
       "       'mazda', 'nissan', 'renault', 'mercedes_benz', 'opel', 'seat',\n",
       "       'citroen', 'honda', 'fiat', 'mini', 'smart', 'hyundai',\n",
       "       'sonstige_autos', 'alfa_romeo', 'subaru', 'volvo', 'mitsubishi',\n",
       "       'kia', 'suzuki', 'lancia', 'toyota', 'chevrolet', 'dacia',\n",
       "       'daihatsu', 'trabant', 'saab', 'chrysler', 'jaguar', 'daewoo',\n",
       "       'porsche', 'rover', 'land_rover', 'lada'], dtype=object)"
      ]
     },
     "execution_count": 20,
     "metadata": {},
     "output_type": "execute_result"
    }
   ],
   "source": [
    "df['Brand'].unique()"
   ]
  },
  {
   "cell_type": "code",
   "execution_count": 21,
   "metadata": {},
   "outputs": [
    {
     "data": {
      "text/plain": [
       "37319"
      ]
     },
     "execution_count": 21,
     "metadata": {},
     "output_type": "execute_result"
    }
   ],
   "source": [
    "df['VehicleType'].isnull().sum()"
   ]
  },
  {
   "cell_type": "code",
   "execution_count": 22,
   "metadata": {},
   "outputs": [
    {
     "data": {
      "text/plain": [
       "19630"
      ]
     },
     "execution_count": 22,
     "metadata": {},
     "output_type": "execute_result"
    }
   ],
   "source": [
    "df['Model'].isnull().sum()"
   ]
  },
  {
   "cell_type": "code",
   "execution_count": 23,
   "metadata": {},
   "outputs": [
    {
     "data": {
      "text/plain": [
       "0"
      ]
     },
     "execution_count": 23,
     "metadata": {},
     "output_type": "execute_result"
    }
   ],
   "source": [
    "df['Brand'].isnull().sum()"
   ]
  },
  {
   "cell_type": "markdown",
   "metadata": {},
   "source": [
    "В столбце **Brand** пустые значения отсутствуют,  в столбцах **Model** и **VehicleType** содержится 5.5% и 10% пустых строк соответственно. Заполним столбец **VehicleType** на основании столбцов **Brand** и **Model** там где это возможно."
   ]
  },
  {
   "cell_type": "markdown",
   "metadata": {},
   "source": [
    "Создадим сводную модель по всем брендам, моделям и типам кузова."
   ]
  },
  {
   "cell_type": "code",
   "execution_count": 24,
   "metadata": {},
   "outputs": [],
   "source": [
    "df_pivot_vehicletype = pd.pivot_table(df, values='Price', index=['Brand', 'Model'],\n",
    "                    columns=['VehicleType'], aggfunc=['count'], fill_value=0)"
   ]
  },
  {
   "cell_type": "code",
   "execution_count": 25,
   "metadata": {},
   "outputs": [],
   "source": [
    "df_pivot_vehicletype = df_pivot_vehicletype.reset_index()"
   ]
  },
  {
   "cell_type": "code",
   "execution_count": 26,
   "metadata": {},
   "outputs": [],
   "source": [
    "df_pivot_vehicletype.columns = ['Brand', 'Model', 'bus', 'convertible', 'coupe', 'other', 'sedan', 'small', 'suv', 'wagon']"
   ]
  },
  {
   "cell_type": "code",
   "execution_count": 27,
   "metadata": {},
   "outputs": [
    {
     "data": {
      "text/html": [
       "<div>\n",
       "<style scoped>\n",
       "    .dataframe tbody tr th:only-of-type {\n",
       "        vertical-align: middle;\n",
       "    }\n",
       "\n",
       "    .dataframe tbody tr th {\n",
       "        vertical-align: top;\n",
       "    }\n",
       "\n",
       "    .dataframe thead th {\n",
       "        text-align: right;\n",
       "    }\n",
       "</style>\n",
       "<table border=\"1\" class=\"dataframe\">\n",
       "  <thead>\n",
       "    <tr style=\"text-align: right;\">\n",
       "      <th></th>\n",
       "      <th>Brand</th>\n",
       "      <th>Model</th>\n",
       "      <th>bus</th>\n",
       "      <th>convertible</th>\n",
       "      <th>coupe</th>\n",
       "      <th>other</th>\n",
       "      <th>sedan</th>\n",
       "      <th>small</th>\n",
       "      <th>suv</th>\n",
       "      <th>wagon</th>\n",
       "    </tr>\n",
       "  </thead>\n",
       "  <tbody>\n",
       "    <tr>\n",
       "      <th>0</th>\n",
       "      <td>alfa_romeo</td>\n",
       "      <td>145</td>\n",
       "      <td>0</td>\n",
       "      <td>0</td>\n",
       "      <td>2</td>\n",
       "      <td>1</td>\n",
       "      <td>13</td>\n",
       "      <td>19</td>\n",
       "      <td>0</td>\n",
       "      <td>0</td>\n",
       "    </tr>\n",
       "    <tr>\n",
       "      <th>1</th>\n",
       "      <td>alfa_romeo</td>\n",
       "      <td>147</td>\n",
       "      <td>0</td>\n",
       "      <td>0</td>\n",
       "      <td>27</td>\n",
       "      <td>7</td>\n",
       "      <td>358</td>\n",
       "      <td>97</td>\n",
       "      <td>1</td>\n",
       "      <td>2</td>\n",
       "    </tr>\n",
       "    <tr>\n",
       "      <th>2</th>\n",
       "      <td>alfa_romeo</td>\n",
       "      <td>156</td>\n",
       "      <td>0</td>\n",
       "      <td>0</td>\n",
       "      <td>3</td>\n",
       "      <td>1</td>\n",
       "      <td>287</td>\n",
       "      <td>2</td>\n",
       "      <td>0</td>\n",
       "      <td>288</td>\n",
       "    </tr>\n",
       "    <tr>\n",
       "      <th>3</th>\n",
       "      <td>alfa_romeo</td>\n",
       "      <td>159</td>\n",
       "      <td>0</td>\n",
       "      <td>0</td>\n",
       "      <td>0</td>\n",
       "      <td>0</td>\n",
       "      <td>55</td>\n",
       "      <td>0</td>\n",
       "      <td>0</td>\n",
       "      <td>145</td>\n",
       "    </tr>\n",
       "    <tr>\n",
       "      <th>4</th>\n",
       "      <td>alfa_romeo</td>\n",
       "      <td>other</td>\n",
       "      <td>0</td>\n",
       "      <td>1</td>\n",
       "      <td>180</td>\n",
       "      <td>5</td>\n",
       "      <td>190</td>\n",
       "      <td>114</td>\n",
       "      <td>0</td>\n",
       "      <td>6</td>\n",
       "    </tr>\n",
       "    <tr>\n",
       "      <th>...</th>\n",
       "      <td>...</td>\n",
       "      <td>...</td>\n",
       "      <td>...</td>\n",
       "      <td>...</td>\n",
       "      <td>...</td>\n",
       "      <td>...</td>\n",
       "      <td>...</td>\n",
       "      <td>...</td>\n",
       "      <td>...</td>\n",
       "      <td>...</td>\n",
       "    </tr>\n",
       "    <tr>\n",
       "      <th>292</th>\n",
       "      <td>volvo</td>\n",
       "      <td>v40</td>\n",
       "      <td>0</td>\n",
       "      <td>0</td>\n",
       "      <td>0</td>\n",
       "      <td>1</td>\n",
       "      <td>17</td>\n",
       "      <td>0</td>\n",
       "      <td>0</td>\n",
       "      <td>689</td>\n",
       "    </tr>\n",
       "    <tr>\n",
       "      <th>293</th>\n",
       "      <td>volvo</td>\n",
       "      <td>v50</td>\n",
       "      <td>0</td>\n",
       "      <td>0</td>\n",
       "      <td>0</td>\n",
       "      <td>0</td>\n",
       "      <td>1</td>\n",
       "      <td>0</td>\n",
       "      <td>0</td>\n",
       "      <td>243</td>\n",
       "    </tr>\n",
       "    <tr>\n",
       "      <th>294</th>\n",
       "      <td>volvo</td>\n",
       "      <td>v60</td>\n",
       "      <td>0</td>\n",
       "      <td>0</td>\n",
       "      <td>0</td>\n",
       "      <td>0</td>\n",
       "      <td>3</td>\n",
       "      <td>0</td>\n",
       "      <td>0</td>\n",
       "      <td>38</td>\n",
       "    </tr>\n",
       "    <tr>\n",
       "      <th>295</th>\n",
       "      <td>volvo</td>\n",
       "      <td>v70</td>\n",
       "      <td>0</td>\n",
       "      <td>0</td>\n",
       "      <td>1</td>\n",
       "      <td>0</td>\n",
       "      <td>0</td>\n",
       "      <td>0</td>\n",
       "      <td>0</td>\n",
       "      <td>608</td>\n",
       "    </tr>\n",
       "    <tr>\n",
       "      <th>296</th>\n",
       "      <td>volvo</td>\n",
       "      <td>xc_reihe</td>\n",
       "      <td>0</td>\n",
       "      <td>0</td>\n",
       "      <td>0</td>\n",
       "      <td>0</td>\n",
       "      <td>3</td>\n",
       "      <td>0</td>\n",
       "      <td>216</td>\n",
       "      <td>41</td>\n",
       "    </tr>\n",
       "  </tbody>\n",
       "</table>\n",
       "<p>297 rows × 10 columns</p>\n",
       "</div>"
      ],
      "text/plain": [
       "          Brand     Model  bus  convertible  coupe  other  sedan  small  suv  \\\n",
       "0    alfa_romeo       145    0            0      2      1     13     19    0   \n",
       "1    alfa_romeo       147    0            0     27      7    358     97    1   \n",
       "2    alfa_romeo       156    0            0      3      1    287      2    0   \n",
       "3    alfa_romeo       159    0            0      0      0     55      0    0   \n",
       "4    alfa_romeo     other    0            1    180      5    190    114    0   \n",
       "..          ...       ...  ...          ...    ...    ...    ...    ...  ...   \n",
       "292       volvo       v40    0            0      0      1     17      0    0   \n",
       "293       volvo       v50    0            0      0      0      1      0    0   \n",
       "294       volvo       v60    0            0      0      0      3      0    0   \n",
       "295       volvo       v70    0            0      1      0      0      0    0   \n",
       "296       volvo  xc_reihe    0            0      0      0      3      0  216   \n",
       "\n",
       "     wagon  \n",
       "0        0  \n",
       "1        2  \n",
       "2      288  \n",
       "3      145  \n",
       "4        6  \n",
       "..     ...  \n",
       "292    689  \n",
       "293    243  \n",
       "294     38  \n",
       "295    608  \n",
       "296     41  \n",
       "\n",
       "[297 rows x 10 columns]"
      ]
     },
     "execution_count": 27,
     "metadata": {},
     "output_type": "execute_result"
    }
   ],
   "source": [
    "df_pivot_vehicletype"
   ]
  },
  {
   "cell_type": "markdown",
   "metadata": {},
   "source": [
    "Напишем функцию, которая на основании значений в столбцах **Brand** и **Model** будет определять тип кузова из сводной таблицы **df_pivot_vehicletype**"
   ]
  },
  {
   "cell_type": "code",
   "execution_count": 28,
   "metadata": {},
   "outputs": [],
   "source": [
    "def vehicletype(row):\n",
    "    brand = row['Brand']\n",
    "    model = row['Model']\n",
    "    vehicletype = df_pivot_vehicletype.loc[(df_pivot_vehicletype['Brand'] == brand) & (df_pivot_vehicletype['Model'] == model), \n",
    "                      ['bus', 'convertible', 'coupe', 'other', 'sedan', 'small', 'suv', 'wagon']].idxmax(axis=1).values[0]\n",
    "    return vehicletype"
   ]
  },
  {
   "cell_type": "code",
   "execution_count": 29,
   "metadata": {},
   "outputs": [],
   "source": [
    "df.loc[((df['VehicleType'].isnull()) & (df['Model'].notnull())), ['VehicleType']] = df.loc[(df['VehicleType'].isnull()) & (df['Model'].notnull())].apply(vehicletype, axis=1)"
   ]
  },
  {
   "cell_type": "code",
   "execution_count": 30,
   "metadata": {},
   "outputs": [
    {
     "data": {
      "text/plain": [
       "6753"
      ]
     },
     "execution_count": 30,
     "metadata": {},
     "output_type": "execute_result"
    }
   ],
   "source": [
    "df['VehicleType'].isnull().sum()"
   ]
  },
  {
   "cell_type": "markdown",
   "metadata": {},
   "source": [
    "В столбце **VehicleType** 2% пустых записей, восстановить оставшиеся пустые значения нет возможности, поэтому удалим их."
   ]
  },
  {
   "cell_type": "markdown",
   "metadata": {},
   "source": [
    "Теперь количество пустых записей в столбце **Model** больше, чем записей в столбце **VehicleType**. Это означает, что есть записи, для которых заполнены значения **Brand** и **VehicleType**, и не заполнено значение **Model**. Создадим функцию аналогичную функции *vehicletype*, но для определения модели автомобиля."
   ]
  },
  {
   "cell_type": "code",
   "execution_count": 31,
   "metadata": {},
   "outputs": [],
   "source": [
    "def model(row):\n",
    "    brand = row['Brand']\n",
    "    vehicletype = row['VehicleType']\n",
    "    if brand == 'sonstige_autos':\n",
    "        return None\n",
    "    else:\n",
    "        id_max_model = df_pivot_vehicletype.loc[(df_pivot_vehicletype['Brand'] == brand), vehicletype].idxmax()\n",
    "        model = df_pivot_vehicletype.loc[id_max_model,'Model']\n",
    "        return model"
   ]
  },
  {
   "cell_type": "code",
   "execution_count": 32,
   "metadata": {},
   "outputs": [],
   "source": [
    "df.loc[((df['VehicleType'].notnull()) & (df['Model'].isnull())), ['Model']] = df.loc[(df['VehicleType'].notnull()) & (df['Model'].isnull())].apply(model, axis=1)"
   ]
  },
  {
   "cell_type": "code",
   "execution_count": 33,
   "metadata": {},
   "outputs": [
    {
     "data": {
      "text/plain": [
       "9086"
      ]
     },
     "execution_count": 33,
     "metadata": {},
     "output_type": "execute_result"
    }
   ],
   "source": [
    "df['Model'].isnull().sum()"
   ]
  },
  {
   "cell_type": "markdown",
   "metadata": {},
   "source": [
    "После применения функции *model*, записей с пустым значением **Model** осталось около 2,5%. Что все равно не равно кличеству пустых значений в столбце **VehicleType**. Проверим записи, для которых пустое значение столбца **Model** и не пустое значение столбца **VehicleType**."
   ]
  },
  {
   "cell_type": "code",
   "execution_count": 34,
   "metadata": {},
   "outputs": [
    {
     "data": {
      "text/plain": [
       "array(['sonstige_autos'], dtype=object)"
      ]
     },
     "execution_count": 34,
     "metadata": {},
     "output_type": "execute_result"
    }
   ],
   "source": [
    "df.loc[df['Model'].isnull() & df['VehicleType'].notnull(), 'Brand'].unique()"
   ]
  },
  {
   "cell_type": "markdown",
   "metadata": {},
   "source": [
    "Всего таких записей 2333 и все они относятся к бренду *sonstige_autos*, данное название используется для автомобилей, которые не относятся ни к одному из перечисленных в поле **Brand** бренду. Поэтому заполним поле **Model** значеннием sonstige_models."
   ]
  },
  {
   "cell_type": "code",
   "execution_count": 35,
   "metadata": {},
   "outputs": [
    {
     "data": {
      "text/plain": [
       "array([None, nan], dtype=object)"
      ]
     },
     "execution_count": 35,
     "metadata": {},
     "output_type": "execute_result"
    }
   ],
   "source": [
    "df.loc[df['Brand'] == 'sonstige_autos', 'Model'].unique()"
   ]
  },
  {
   "cell_type": "code",
   "execution_count": 36,
   "metadata": {},
   "outputs": [],
   "source": [
    "df.loc[df['Brand'] == 'sonstige_autos', 'Model'] = 'sonstige_models'"
   ]
  },
  {
   "cell_type": "markdown",
   "metadata": {},
   "source": [
    "Проверяем корректность заполнения поля **Model**"
   ]
  },
  {
   "cell_type": "code",
   "execution_count": 37,
   "metadata": {},
   "outputs": [
    {
     "data": {
      "text/html": [
       "<div>\n",
       "<style scoped>\n",
       "    .dataframe tbody tr th:only-of-type {\n",
       "        vertical-align: middle;\n",
       "    }\n",
       "\n",
       "    .dataframe tbody tr th {\n",
       "        vertical-align: top;\n",
       "    }\n",
       "\n",
       "    .dataframe thead th {\n",
       "        text-align: right;\n",
       "    }\n",
       "</style>\n",
       "<table border=\"1\" class=\"dataframe\">\n",
       "  <thead>\n",
       "    <tr style=\"text-align: right;\">\n",
       "      <th></th>\n",
       "      <th>Price</th>\n",
       "      <th>VehicleType</th>\n",
       "      <th>RegistrationYear</th>\n",
       "      <th>Gearbox</th>\n",
       "      <th>Power</th>\n",
       "      <th>Model</th>\n",
       "      <th>Kilometer</th>\n",
       "      <th>FuelType</th>\n",
       "      <th>Brand</th>\n",
       "      <th>NotRepaired</th>\n",
       "    </tr>\n",
       "  </thead>\n",
       "  <tbody>\n",
       "    <tr>\n",
       "      <th>59</th>\n",
       "      <td>1</td>\n",
       "      <td>suv</td>\n",
       "      <td>1994</td>\n",
       "      <td>manual</td>\n",
       "      <td>286</td>\n",
       "      <td>sonstige_models</td>\n",
       "      <td>150000</td>\n",
       "      <td>NaN</td>\n",
       "      <td>sonstige_autos</td>\n",
       "      <td>NaN</td>\n",
       "    </tr>\n",
       "    <tr>\n",
       "      <th>306</th>\n",
       "      <td>200</td>\n",
       "      <td>NaN</td>\n",
       "      <td>2009</td>\n",
       "      <td>NaN</td>\n",
       "      <td>0</td>\n",
       "      <td>sonstige_models</td>\n",
       "      <td>10000</td>\n",
       "      <td>NaN</td>\n",
       "      <td>sonstige_autos</td>\n",
       "      <td>NaN</td>\n",
       "    </tr>\n",
       "    <tr>\n",
       "      <th>431</th>\n",
       "      <td>3950</td>\n",
       "      <td>small</td>\n",
       "      <td>2004</td>\n",
       "      <td>auto</td>\n",
       "      <td>5</td>\n",
       "      <td>sonstige_models</td>\n",
       "      <td>70000</td>\n",
       "      <td>gasoline</td>\n",
       "      <td>sonstige_autos</td>\n",
       "      <td>no</td>\n",
       "    </tr>\n",
       "    <tr>\n",
       "      <th>650</th>\n",
       "      <td>15000</td>\n",
       "      <td>coupe</td>\n",
       "      <td>1971</td>\n",
       "      <td>NaN</td>\n",
       "      <td>0</td>\n",
       "      <td>sonstige_models</td>\n",
       "      <td>5000</td>\n",
       "      <td>NaN</td>\n",
       "      <td>sonstige_autos</td>\n",
       "      <td>no</td>\n",
       "    </tr>\n",
       "    <tr>\n",
       "      <th>661</th>\n",
       "      <td>9900</td>\n",
       "      <td>suv</td>\n",
       "      <td>2000</td>\n",
       "      <td>auto</td>\n",
       "      <td>250</td>\n",
       "      <td>sonstige_models</td>\n",
       "      <td>150000</td>\n",
       "      <td>lpg</td>\n",
       "      <td>sonstige_autos</td>\n",
       "      <td>no</td>\n",
       "    </tr>\n",
       "    <tr>\n",
       "      <th>...</th>\n",
       "      <td>...</td>\n",
       "      <td>...</td>\n",
       "      <td>...</td>\n",
       "      <td>...</td>\n",
       "      <td>...</td>\n",
       "      <td>...</td>\n",
       "      <td>...</td>\n",
       "      <td>...</td>\n",
       "      <td>...</td>\n",
       "      <td>...</td>\n",
       "    </tr>\n",
       "    <tr>\n",
       "      <th>354062</th>\n",
       "      <td>6000</td>\n",
       "      <td>small</td>\n",
       "      <td>2008</td>\n",
       "      <td>manual</td>\n",
       "      <td>155</td>\n",
       "      <td>sonstige_models</td>\n",
       "      <td>150000</td>\n",
       "      <td>petrol</td>\n",
       "      <td>sonstige_autos</td>\n",
       "      <td>no</td>\n",
       "    </tr>\n",
       "    <tr>\n",
       "      <th>354073</th>\n",
       "      <td>1750</td>\n",
       "      <td>NaN</td>\n",
       "      <td>1995</td>\n",
       "      <td>NaN</td>\n",
       "      <td>0</td>\n",
       "      <td>sonstige_models</td>\n",
       "      <td>100000</td>\n",
       "      <td>NaN</td>\n",
       "      <td>sonstige_autos</td>\n",
       "      <td>NaN</td>\n",
       "    </tr>\n",
       "    <tr>\n",
       "      <th>354083</th>\n",
       "      <td>0</td>\n",
       "      <td>NaN</td>\n",
       "      <td>2000</td>\n",
       "      <td>NaN</td>\n",
       "      <td>0</td>\n",
       "      <td>sonstige_models</td>\n",
       "      <td>150000</td>\n",
       "      <td>NaN</td>\n",
       "      <td>sonstige_autos</td>\n",
       "      <td>NaN</td>\n",
       "    </tr>\n",
       "    <tr>\n",
       "      <th>354321</th>\n",
       "      <td>9400</td>\n",
       "      <td>wagon</td>\n",
       "      <td>2007</td>\n",
       "      <td>manual</td>\n",
       "      <td>200</td>\n",
       "      <td>sonstige_models</td>\n",
       "      <td>150000</td>\n",
       "      <td>gasoline</td>\n",
       "      <td>sonstige_autos</td>\n",
       "      <td>yes</td>\n",
       "    </tr>\n",
       "    <tr>\n",
       "      <th>354365</th>\n",
       "      <td>2200</td>\n",
       "      <td>NaN</td>\n",
       "      <td>2005</td>\n",
       "      <td>NaN</td>\n",
       "      <td>0</td>\n",
       "      <td>sonstige_models</td>\n",
       "      <td>20000</td>\n",
       "      <td>NaN</td>\n",
       "      <td>sonstige_autos</td>\n",
       "      <td>NaN</td>\n",
       "    </tr>\n",
       "  </tbody>\n",
       "</table>\n",
       "<p>3338 rows × 10 columns</p>\n",
       "</div>"
      ],
      "text/plain": [
       "        Price VehicleType  RegistrationYear Gearbox  Power            Model  \\\n",
       "59          1         suv              1994  manual    286  sonstige_models   \n",
       "306       200         NaN              2009     NaN      0  sonstige_models   \n",
       "431      3950       small              2004    auto      5  sonstige_models   \n",
       "650     15000       coupe              1971     NaN      0  sonstige_models   \n",
       "661      9900         suv              2000    auto    250  sonstige_models   \n",
       "...       ...         ...               ...     ...    ...              ...   \n",
       "354062   6000       small              2008  manual    155  sonstige_models   \n",
       "354073   1750         NaN              1995     NaN      0  sonstige_models   \n",
       "354083      0         NaN              2000     NaN      0  sonstige_models   \n",
       "354321   9400       wagon              2007  manual    200  sonstige_models   \n",
       "354365   2200         NaN              2005     NaN      0  sonstige_models   \n",
       "\n",
       "        Kilometer  FuelType           Brand NotRepaired  \n",
       "59         150000       NaN  sonstige_autos         NaN  \n",
       "306         10000       NaN  sonstige_autos         NaN  \n",
       "431         70000  gasoline  sonstige_autos          no  \n",
       "650          5000       NaN  sonstige_autos          no  \n",
       "661        150000       lpg  sonstige_autos          no  \n",
       "...           ...       ...             ...         ...  \n",
       "354062     150000    petrol  sonstige_autos          no  \n",
       "354073     100000       NaN  sonstige_autos         NaN  \n",
       "354083     150000       NaN  sonstige_autos         NaN  \n",
       "354321     150000  gasoline  sonstige_autos         yes  \n",
       "354365      20000       NaN  sonstige_autos         NaN  \n",
       "\n",
       "[3338 rows x 10 columns]"
      ]
     },
     "execution_count": 37,
     "metadata": {},
     "output_type": "execute_result"
    }
   ],
   "source": [
    "df.loc[df['Brand'] == 'sonstige_autos']"
   ]
  },
  {
   "cell_type": "code",
   "execution_count": 38,
   "metadata": {},
   "outputs": [
    {
     "data": {
      "text/plain": [
       "5748"
      ]
     },
     "execution_count": 38,
     "metadata": {},
     "output_type": "execute_result"
    }
   ],
   "source": [
    "df['Model'].isnull().sum()"
   ]
  },
  {
   "cell_type": "markdown",
   "metadata": {},
   "source": [
    "Создадим отдельный датасет, в котором удалим строки с null-значениями в столбце **VehicleType**"
   ]
  },
  {
   "cell_type": "code",
   "execution_count": 39,
   "metadata": {},
   "outputs": [],
   "source": [
    "df_autotype_full = df.loc[df['VehicleType'].notnull()]"
   ]
  },
  {
   "cell_type": "code",
   "execution_count": 40,
   "metadata": {},
   "outputs": [],
   "source": [
    "df_autotype_full = df_autotype_full.reset_index()"
   ]
  },
  {
   "cell_type": "code",
   "execution_count": 41,
   "metadata": {},
   "outputs": [],
   "source": [
    "df_autotype_full = df_autotype_full.drop('index', axis=1)"
   ]
  },
  {
   "cell_type": "code",
   "execution_count": 42,
   "metadata": {},
   "outputs": [
    {
     "data": {
      "text/html": [
       "<div>\n",
       "<style scoped>\n",
       "    .dataframe tbody tr th:only-of-type {\n",
       "        vertical-align: middle;\n",
       "    }\n",
       "\n",
       "    .dataframe tbody tr th {\n",
       "        vertical-align: top;\n",
       "    }\n",
       "\n",
       "    .dataframe thead th {\n",
       "        text-align: right;\n",
       "    }\n",
       "</style>\n",
       "<table border=\"1\" class=\"dataframe\">\n",
       "  <thead>\n",
       "    <tr style=\"text-align: right;\">\n",
       "      <th></th>\n",
       "      <th>Price</th>\n",
       "      <th>VehicleType</th>\n",
       "      <th>RegistrationYear</th>\n",
       "      <th>Gearbox</th>\n",
       "      <th>Power</th>\n",
       "      <th>Model</th>\n",
       "      <th>Kilometer</th>\n",
       "      <th>FuelType</th>\n",
       "      <th>Brand</th>\n",
       "      <th>NotRepaired</th>\n",
       "    </tr>\n",
       "  </thead>\n",
       "  <tbody>\n",
       "    <tr>\n",
       "      <th>0</th>\n",
       "      <td>480</td>\n",
       "      <td>sedan</td>\n",
       "      <td>1993</td>\n",
       "      <td>manual</td>\n",
       "      <td>0</td>\n",
       "      <td>golf</td>\n",
       "      <td>150000</td>\n",
       "      <td>petrol</td>\n",
       "      <td>volkswagen</td>\n",
       "      <td>NaN</td>\n",
       "    </tr>\n",
       "    <tr>\n",
       "      <th>1</th>\n",
       "      <td>18300</td>\n",
       "      <td>coupe</td>\n",
       "      <td>2011</td>\n",
       "      <td>manual</td>\n",
       "      <td>190</td>\n",
       "      <td>tt</td>\n",
       "      <td>125000</td>\n",
       "      <td>gasoline</td>\n",
       "      <td>audi</td>\n",
       "      <td>yes</td>\n",
       "    </tr>\n",
       "    <tr>\n",
       "      <th>2</th>\n",
       "      <td>9800</td>\n",
       "      <td>suv</td>\n",
       "      <td>2004</td>\n",
       "      <td>auto</td>\n",
       "      <td>163</td>\n",
       "      <td>grand</td>\n",
       "      <td>125000</td>\n",
       "      <td>gasoline</td>\n",
       "      <td>jeep</td>\n",
       "      <td>NaN</td>\n",
       "    </tr>\n",
       "    <tr>\n",
       "      <th>3</th>\n",
       "      <td>1500</td>\n",
       "      <td>small</td>\n",
       "      <td>2001</td>\n",
       "      <td>manual</td>\n",
       "      <td>75</td>\n",
       "      <td>golf</td>\n",
       "      <td>150000</td>\n",
       "      <td>petrol</td>\n",
       "      <td>volkswagen</td>\n",
       "      <td>no</td>\n",
       "    </tr>\n",
       "    <tr>\n",
       "      <th>4</th>\n",
       "      <td>3600</td>\n",
       "      <td>small</td>\n",
       "      <td>2008</td>\n",
       "      <td>manual</td>\n",
       "      <td>69</td>\n",
       "      <td>fabia</td>\n",
       "      <td>90000</td>\n",
       "      <td>gasoline</td>\n",
       "      <td>skoda</td>\n",
       "      <td>no</td>\n",
       "    </tr>\n",
       "  </tbody>\n",
       "</table>\n",
       "</div>"
      ],
      "text/plain": [
       "   Price VehicleType  RegistrationYear Gearbox  Power  Model  Kilometer  \\\n",
       "0    480       sedan              1993  manual      0   golf     150000   \n",
       "1  18300       coupe              2011  manual    190     tt     125000   \n",
       "2   9800         suv              2004    auto    163  grand     125000   \n",
       "3   1500       small              2001  manual     75   golf     150000   \n",
       "4   3600       small              2008  manual     69  fabia      90000   \n",
       "\n",
       "   FuelType       Brand NotRepaired  \n",
       "0    petrol  volkswagen         NaN  \n",
       "1  gasoline        audi         yes  \n",
       "2  gasoline        jeep         NaN  \n",
       "3    petrol  volkswagen          no  \n",
       "4  gasoline       skoda          no  "
      ]
     },
     "execution_count": 42,
     "metadata": {},
     "output_type": "execute_result"
    }
   ],
   "source": [
    "df_autotype_full.head()"
   ]
  },
  {
   "cell_type": "markdown",
   "metadata": {},
   "source": [
    "В новом датасете в столбцах **VehicleType** и **Model** пустые значения отсутствуют."
   ]
  },
  {
   "cell_type": "markdown",
   "metadata": {},
   "source": [
    "Рассмотрим столбец **NotRepaired**"
   ]
  },
  {
   "cell_type": "code",
   "execution_count": 43,
   "metadata": {},
   "outputs": [
    {
     "data": {
      "text/plain": [
       "66595"
      ]
     },
     "execution_count": 43,
     "metadata": {},
     "output_type": "execute_result"
    }
   ],
   "source": [
    "df_autotype_full['NotRepaired'].isnull().sum()"
   ]
  },
  {
   "cell_type": "markdown",
   "metadata": {},
   "source": [
    "Столбец **NotRepaired** содержит 19% пустых значений. Воспользуемся моделью решающего дерева для прогнозировани значения столбца **NotRepaired**. Предварительно проведем порядковое кодирование для категориальных переменных, для которых отсутствуют пустые значения."
   ]
  },
  {
   "cell_type": "code",
   "execution_count": 44,
   "metadata": {},
   "outputs": [
    {
     "name": "stdout",
     "output_type": "stream",
     "text": [
      "<class 'pandas.core.frame.DataFrame'>\n",
      "RangeIndex: 347445 entries, 0 to 347444\n",
      "Data columns (total 10 columns):\n",
      " #   Column            Non-Null Count   Dtype \n",
      "---  ------            --------------   ----- \n",
      " 0   Price             347445 non-null  int64 \n",
      " 1   VehicleType       347445 non-null  object\n",
      " 2   RegistrationYear  347445 non-null  int64 \n",
      " 3   Gearbox           330695 non-null  object\n",
      " 4   Power             347445 non-null  int64 \n",
      " 5   Model             347445 non-null  object\n",
      " 6   Kilometer         347445 non-null  int64 \n",
      " 7   FuelType          318930 non-null  object\n",
      " 8   Brand             347445 non-null  object\n",
      " 9   NotRepaired       280850 non-null  object\n",
      "dtypes: int64(4), object(6)\n",
      "memory usage: 26.5+ MB\n"
     ]
    }
   ],
   "source": [
    "df_autotype_full.info()"
   ]
  },
  {
   "cell_type": "markdown",
   "metadata": {},
   "source": [
    "Используем прямое кодирование для столбцов **VehicleType**, **Model**, **Brand**"
   ]
  },
  {
   "cell_type": "code",
   "execution_count": 45,
   "metadata": {},
   "outputs": [],
   "source": [
    "encoder = OrdinalEncoder()\n",
    "df_autotype_full_ordinal = pd.DataFrame(encoder.fit_transform(df_autotype_full.loc[:, ['VehicleType', 'Model', 'Brand']]),\n",
    "                            columns=['VehicleType', 'Model', 'Brand'])"
   ]
  },
  {
   "cell_type": "code",
   "execution_count": 46,
   "metadata": {},
   "outputs": [
    {
     "name": "stdout",
     "output_type": "stream",
     "text": [
      "<class 'pandas.core.frame.DataFrame'>\n",
      "RangeIndex: 347445 entries, 0 to 347444\n",
      "Data columns (total 3 columns):\n",
      " #   Column       Non-Null Count   Dtype  \n",
      "---  ------       --------------   -----  \n",
      " 0   VehicleType  347445 non-null  float64\n",
      " 1   Model        347445 non-null  float64\n",
      " 2   Brand        347445 non-null  float64\n",
      "dtypes: float64(3)\n",
      "memory usage: 8.0 MB\n"
     ]
    }
   ],
   "source": [
    "df_autotype_full_ordinal.info()"
   ]
  },
  {
   "cell_type": "markdown",
   "metadata": {},
   "source": [
    "Заменим категории в датафрейме **df_autotype_full** на категории содержащиеся в датафрейме **df_autotype_full_ordinal**"
   ]
  },
  {
   "cell_type": "code",
   "execution_count": 47,
   "metadata": {},
   "outputs": [],
   "source": [
    "df_autotype_full = df_autotype_full.copy()"
   ]
  },
  {
   "cell_type": "code",
   "execution_count": 48,
   "metadata": {},
   "outputs": [],
   "source": [
    "df_autotype_full['VehicleType'] = df_autotype_full_ordinal['VehicleType']"
   ]
  },
  {
   "cell_type": "code",
   "execution_count": 49,
   "metadata": {},
   "outputs": [],
   "source": [
    "df_autotype_full['Model'] = df_autotype_full_ordinal['Model']"
   ]
  },
  {
   "cell_type": "code",
   "execution_count": 50,
   "metadata": {},
   "outputs": [],
   "source": [
    "df_autotype_full['Brand'] = df_autotype_full_ordinal['Brand']"
   ]
  },
  {
   "cell_type": "code",
   "execution_count": 51,
   "metadata": {},
   "outputs": [
    {
     "name": "stdout",
     "output_type": "stream",
     "text": [
      "<class 'pandas.core.frame.DataFrame'>\n",
      "RangeIndex: 347445 entries, 0 to 347444\n",
      "Data columns (total 10 columns):\n",
      " #   Column            Non-Null Count   Dtype  \n",
      "---  ------            --------------   -----  \n",
      " 0   Price             347445 non-null  int64  \n",
      " 1   VehicleType       347445 non-null  float64\n",
      " 2   RegistrationYear  347445 non-null  int64  \n",
      " 3   Gearbox           330695 non-null  object \n",
      " 4   Power             347445 non-null  int64  \n",
      " 5   Model             347445 non-null  float64\n",
      " 6   Kilometer         347445 non-null  int64  \n",
      " 7   FuelType          318930 non-null  object \n",
      " 8   Brand             347445 non-null  float64\n",
      " 9   NotRepaired       280850 non-null  object \n",
      "dtypes: float64(3), int64(4), object(3)\n",
      "memory usage: 26.5+ MB\n"
     ]
    }
   ],
   "source": [
    "df_autotype_full.info()"
   ]
  },
  {
   "cell_type": "markdown",
   "metadata": {},
   "source": [
    "Столбцы содержащие пустые значения закодируем вручную"
   ]
  },
  {
   "cell_type": "code",
   "execution_count": 52,
   "metadata": {},
   "outputs": [
    {
     "data": {
      "text/plain": [
       "array([nan, 'yes', 'no'], dtype=object)"
      ]
     },
     "execution_count": 52,
     "metadata": {},
     "output_type": "execute_result"
    }
   ],
   "source": [
    "df_autotype_full['NotRepaired'].unique()"
   ]
  },
  {
   "cell_type": "code",
   "execution_count": 53,
   "metadata": {},
   "outputs": [],
   "source": [
    "df_autotype_full.loc[df_autotype_full['NotRepaired'] == 'yes', 'NotRepaired'] = 1"
   ]
  },
  {
   "cell_type": "code",
   "execution_count": 54,
   "metadata": {},
   "outputs": [],
   "source": [
    "df_autotype_full.loc[df_autotype_full['NotRepaired'] == 'no', 'NotRepaired'] = 0"
   ]
  },
  {
   "cell_type": "code",
   "execution_count": 55,
   "metadata": {},
   "outputs": [
    {
     "data": {
      "text/plain": [
       "array([nan, 1, 0], dtype=object)"
      ]
     },
     "execution_count": 55,
     "metadata": {},
     "output_type": "execute_result"
    }
   ],
   "source": [
    "df_autotype_full['NotRepaired'].unique()"
   ]
  },
  {
   "cell_type": "code",
   "execution_count": 56,
   "metadata": {},
   "outputs": [
    {
     "data": {
      "text/plain": [
       "manual    265063\n",
       "auto       65632\n",
       "Name: Gearbox, dtype: int64"
      ]
     },
     "execution_count": 56,
     "metadata": {},
     "output_type": "execute_result"
    }
   ],
   "source": [
    "df_autotype_full['Gearbox'].value_counts()"
   ]
  },
  {
   "cell_type": "code",
   "execution_count": 57,
   "metadata": {},
   "outputs": [],
   "source": [
    "df_autotype_full.loc[df_autotype_full['Gearbox'] == 'auto', 'Gearbox'] = 1"
   ]
  },
  {
   "cell_type": "code",
   "execution_count": 58,
   "metadata": {},
   "outputs": [],
   "source": [
    "df_autotype_full.loc[df_autotype_full['Gearbox'] == 'manual', 'Gearbox'] = 0"
   ]
  },
  {
   "cell_type": "code",
   "execution_count": 59,
   "metadata": {},
   "outputs": [
    {
     "data": {
      "text/plain": [
       "0    265063\n",
       "1     65632\n",
       "Name: Gearbox, dtype: int64"
      ]
     },
     "execution_count": 59,
     "metadata": {},
     "output_type": "execute_result"
    }
   ],
   "source": [
    "df_autotype_full['Gearbox'].value_counts()"
   ]
  },
  {
   "cell_type": "code",
   "execution_count": 60,
   "metadata": {},
   "outputs": [
    {
     "data": {
      "text/plain": [
       "petrol      214525\n",
       "gasoline     98080\n",
       "lpg           5262\n",
       "cng            556\n",
       "hybrid         232\n",
       "other          186\n",
       "electric        89\n",
       "Name: FuelType, dtype: int64"
      ]
     },
     "execution_count": 60,
     "metadata": {},
     "output_type": "execute_result"
    }
   ],
   "source": [
    "df_autotype_full['FuelType'].value_counts()"
   ]
  },
  {
   "cell_type": "code",
   "execution_count": 61,
   "metadata": {},
   "outputs": [],
   "source": [
    "df_autotype_full.loc[df_autotype_full['FuelType'] == 'petrol', 'FuelType'] = 1"
   ]
  },
  {
   "cell_type": "code",
   "execution_count": 62,
   "metadata": {},
   "outputs": [],
   "source": [
    "df_autotype_full.loc[df_autotype_full['FuelType'] == 'gasoline', 'FuelType'] = 1"
   ]
  },
  {
   "cell_type": "code",
   "execution_count": 63,
   "metadata": {},
   "outputs": [],
   "source": [
    "df_autotype_full.loc[df_autotype_full['FuelType'] == 'lpg', 'FuelType'] = 2"
   ]
  },
  {
   "cell_type": "code",
   "execution_count": 64,
   "metadata": {},
   "outputs": [],
   "source": [
    "df_autotype_full.loc[df_autotype_full['FuelType'] == 'other', 'FuelType'] = 2"
   ]
  },
  {
   "cell_type": "code",
   "execution_count": 65,
   "metadata": {},
   "outputs": [],
   "source": [
    "df_autotype_full.loc[df_autotype_full['FuelType'] == 'cng', 'FuelType'] = 2"
   ]
  },
  {
   "cell_type": "code",
   "execution_count": 66,
   "metadata": {},
   "outputs": [],
   "source": [
    "df_autotype_full.loc[df_autotype_full['FuelType'] == 'electric', 'FuelType'] = 2"
   ]
  },
  {
   "cell_type": "code",
   "execution_count": 67,
   "metadata": {},
   "outputs": [],
   "source": [
    "df_autotype_full.loc[df_autotype_full['FuelType'] == 'hybrid', 'FuelType'] = 2"
   ]
  },
  {
   "cell_type": "code",
   "execution_count": 68,
   "metadata": {},
   "outputs": [
    {
     "data": {
      "text/plain": [
       "1    312605\n",
       "2      6325\n",
       "Name: FuelType, dtype: int64"
      ]
     },
     "execution_count": 68,
     "metadata": {},
     "output_type": "execute_result"
    }
   ],
   "source": [
    "df_autotype_full['FuelType'].value_counts()"
   ]
  },
  {
   "cell_type": "code",
   "execution_count": 69,
   "metadata": {},
   "outputs": [
    {
     "data": {
      "text/html": [
       "<div>\n",
       "<style scoped>\n",
       "    .dataframe tbody tr th:only-of-type {\n",
       "        vertical-align: middle;\n",
       "    }\n",
       "\n",
       "    .dataframe tbody tr th {\n",
       "        vertical-align: top;\n",
       "    }\n",
       "\n",
       "    .dataframe thead th {\n",
       "        text-align: right;\n",
       "    }\n",
       "</style>\n",
       "<table border=\"1\" class=\"dataframe\">\n",
       "  <thead>\n",
       "    <tr style=\"text-align: right;\">\n",
       "      <th></th>\n",
       "      <th>Price</th>\n",
       "      <th>VehicleType</th>\n",
       "      <th>RegistrationYear</th>\n",
       "      <th>Gearbox</th>\n",
       "      <th>Power</th>\n",
       "      <th>Model</th>\n",
       "      <th>Kilometer</th>\n",
       "      <th>FuelType</th>\n",
       "      <th>Brand</th>\n",
       "      <th>NotRepaired</th>\n",
       "    </tr>\n",
       "  </thead>\n",
       "  <tbody>\n",
       "    <tr>\n",
       "      <th>0</th>\n",
       "      <td>480</td>\n",
       "      <td>4.0</td>\n",
       "      <td>1993</td>\n",
       "      <td>0</td>\n",
       "      <td>0</td>\n",
       "      <td>116.0</td>\n",
       "      <td>150000</td>\n",
       "      <td>1</td>\n",
       "      <td>38.0</td>\n",
       "      <td>NaN</td>\n",
       "    </tr>\n",
       "    <tr>\n",
       "      <th>1</th>\n",
       "      <td>18300</td>\n",
       "      <td>2.0</td>\n",
       "      <td>2011</td>\n",
       "      <td>0</td>\n",
       "      <td>190</td>\n",
       "      <td>226.0</td>\n",
       "      <td>125000</td>\n",
       "      <td>1</td>\n",
       "      <td>1.0</td>\n",
       "      <td>1</td>\n",
       "    </tr>\n",
       "    <tr>\n",
       "      <th>2</th>\n",
       "      <td>9800</td>\n",
       "      <td>6.0</td>\n",
       "      <td>2004</td>\n",
       "      <td>1</td>\n",
       "      <td>163</td>\n",
       "      <td>117.0</td>\n",
       "      <td>125000</td>\n",
       "      <td>1</td>\n",
       "      <td>14.0</td>\n",
       "      <td>NaN</td>\n",
       "    </tr>\n",
       "    <tr>\n",
       "      <th>3</th>\n",
       "      <td>1500</td>\n",
       "      <td>5.0</td>\n",
       "      <td>2001</td>\n",
       "      <td>0</td>\n",
       "      <td>75</td>\n",
       "      <td>116.0</td>\n",
       "      <td>150000</td>\n",
       "      <td>1</td>\n",
       "      <td>38.0</td>\n",
       "      <td>0</td>\n",
       "    </tr>\n",
       "    <tr>\n",
       "      <th>4</th>\n",
       "      <td>3600</td>\n",
       "      <td>5.0</td>\n",
       "      <td>2008</td>\n",
       "      <td>0</td>\n",
       "      <td>69</td>\n",
       "      <td>101.0</td>\n",
       "      <td>90000</td>\n",
       "      <td>1</td>\n",
       "      <td>31.0</td>\n",
       "      <td>0</td>\n",
       "    </tr>\n",
       "  </tbody>\n",
       "</table>\n",
       "</div>"
      ],
      "text/plain": [
       "   Price  VehicleType  RegistrationYear Gearbox  Power  Model  Kilometer  \\\n",
       "0    480          4.0              1993       0      0  116.0     150000   \n",
       "1  18300          2.0              2011       0    190  226.0     125000   \n",
       "2   9800          6.0              2004       1    163  117.0     125000   \n",
       "3   1500          5.0              2001       0     75  116.0     150000   \n",
       "4   3600          5.0              2008       0     69  101.0      90000   \n",
       "\n",
       "  FuelType  Brand NotRepaired  \n",
       "0        1   38.0         NaN  \n",
       "1        1    1.0           1  \n",
       "2        1   14.0         NaN  \n",
       "3        1   38.0           0  \n",
       "4        1   31.0           0  "
      ]
     },
     "execution_count": 69,
     "metadata": {},
     "output_type": "execute_result"
    }
   ],
   "source": [
    "df_autotype_full.head()"
   ]
  },
  {
   "cell_type": "code",
   "execution_count": 70,
   "metadata": {},
   "outputs": [
    {
     "name": "stdout",
     "output_type": "stream",
     "text": [
      "<class 'pandas.core.frame.DataFrame'>\n",
      "RangeIndex: 347445 entries, 0 to 347444\n",
      "Data columns (total 10 columns):\n",
      " #   Column            Non-Null Count   Dtype  \n",
      "---  ------            --------------   -----  \n",
      " 0   Price             347445 non-null  int64  \n",
      " 1   VehicleType       347445 non-null  float64\n",
      " 2   RegistrationYear  347445 non-null  int64  \n",
      " 3   Gearbox           330695 non-null  object \n",
      " 4   Power             347445 non-null  int64  \n",
      " 5   Model             347445 non-null  float64\n",
      " 6   Kilometer         347445 non-null  int64  \n",
      " 7   FuelType          318930 non-null  object \n",
      " 8   Brand             347445 non-null  float64\n",
      " 9   NotRepaired       280850 non-null  object \n",
      "dtypes: float64(3), int64(4), object(3)\n",
      "memory usage: 26.5+ MB\n"
     ]
    }
   ],
   "source": [
    "df_autotype_full.info()"
   ]
  },
  {
   "cell_type": "code",
   "execution_count": 71,
   "metadata": {},
   "outputs": [],
   "source": [
    "target = df_autotype_full.loc[(df_autotype_full['NotRepaired'].notnull() & \n",
    "                               df_autotype_full['Gearbox'].notnull() & \n",
    "                               df_autotype_full['FuelType'].notnull()), 'NotRepaired']\n",
    "target=target.astype('int')\n",
    "features = df_autotype_full.loc[(df_autotype_full['NotRepaired'].notnull() & \n",
    "                                 df_autotype_full['Gearbox'].notnull() & \n",
    "                                 df_autotype_full['FuelType'].notnull())].drop('NotRepaired', axis=1)"
   ]
  },
  {
   "cell_type": "code",
   "execution_count": 72,
   "metadata": {},
   "outputs": [],
   "source": [
    "features_train, features_test, target_train, target_test = train_test_split(\n",
    "    features, target, test_size=0.25, random_state=12345)"
   ]
  },
  {
   "cell_type": "code",
   "execution_count": 73,
   "metadata": {},
   "outputs": [
    {
     "name": "stderr",
     "output_type": "stream",
     "text": [
      "/opt/conda/lib/python3.7/site-packages/ipykernel_launcher.py:6: SettingWithCopyWarning: \n",
      "A value is trying to be set on a copy of a slice from a DataFrame.\n",
      "Try using .loc[row_indexer,col_indexer] = value instead\n",
      "\n",
      "See the caveats in the documentation: https://pandas.pydata.org/pandas-docs/stable/user_guide/indexing.html#returning-a-view-versus-a-copy\n",
      "  \n",
      "/opt/conda/lib/python3.7/site-packages/pandas/core/indexing.py:966: SettingWithCopyWarning: \n",
      "A value is trying to be set on a copy of a slice from a DataFrame.\n",
      "Try using .loc[row_indexer,col_indexer] = value instead\n",
      "\n",
      "See the caveats in the documentation: https://pandas.pydata.org/pandas-docs/stable/user_guide/indexing.html#returning-a-view-versus-a-copy\n",
      "  self.obj[item] = s\n",
      "/opt/conda/lib/python3.7/site-packages/ipykernel_launcher.py:7: SettingWithCopyWarning: \n",
      "A value is trying to be set on a copy of a slice from a DataFrame.\n",
      "Try using .loc[row_indexer,col_indexer] = value instead\n",
      "\n",
      "See the caveats in the documentation: https://pandas.pydata.org/pandas-docs/stable/user_guide/indexing.html#returning-a-view-versus-a-copy\n",
      "  import sys\n",
      "/opt/conda/lib/python3.7/site-packages/pandas/core/indexing.py:966: SettingWithCopyWarning: \n",
      "A value is trying to be set on a copy of a slice from a DataFrame.\n",
      "Try using .loc[row_indexer,col_indexer] = value instead\n",
      "\n",
      "See the caveats in the documentation: https://pandas.pydata.org/pandas-docs/stable/user_guide/indexing.html#returning-a-view-versus-a-copy\n",
      "  self.obj[item] = s\n"
     ]
    }
   ],
   "source": [
    "numeric = ['Price', 'Power']\n",
    "\n",
    "scaler = StandardScaler()\n",
    "\n",
    "scaler.fit(features_train[numeric])\n",
    "features_train[numeric] = scaler.transform(features_train[numeric])\n",
    "features_test[numeric] = scaler.transform(features_test[numeric])"
   ]
  },
  {
   "cell_type": "code",
   "execution_count": 74,
   "metadata": {},
   "outputs": [
    {
     "data": {
      "text/html": [
       "<div>\n",
       "<style scoped>\n",
       "    .dataframe tbody tr th:only-of-type {\n",
       "        vertical-align: middle;\n",
       "    }\n",
       "\n",
       "    .dataframe tbody tr th {\n",
       "        vertical-align: top;\n",
       "    }\n",
       "\n",
       "    .dataframe thead th {\n",
       "        text-align: right;\n",
       "    }\n",
       "</style>\n",
       "<table border=\"1\" class=\"dataframe\">\n",
       "  <thead>\n",
       "    <tr style=\"text-align: right;\">\n",
       "      <th></th>\n",
       "      <th>Price</th>\n",
       "      <th>VehicleType</th>\n",
       "      <th>RegistrationYear</th>\n",
       "      <th>Gearbox</th>\n",
       "      <th>Power</th>\n",
       "      <th>Model</th>\n",
       "      <th>Kilometer</th>\n",
       "      <th>FuelType</th>\n",
       "      <th>Brand</th>\n",
       "    </tr>\n",
       "  </thead>\n",
       "  <tbody>\n",
       "    <tr>\n",
       "      <th>234062</th>\n",
       "      <td>-0.593193</td>\n",
       "      <td>5.0</td>\n",
       "      <td>2005</td>\n",
       "      <td>0</td>\n",
       "      <td>-0.371774</td>\n",
       "      <td>102.0</td>\n",
       "      <td>125000</td>\n",
       "      <td>1</td>\n",
       "      <td>10.0</td>\n",
       "    </tr>\n",
       "    <tr>\n",
       "      <th>42303</th>\n",
       "      <td>-0.720752</td>\n",
       "      <td>7.0</td>\n",
       "      <td>2001</td>\n",
       "      <td>0</td>\n",
       "      <td>-0.019203</td>\n",
       "      <td>3.0</td>\n",
       "      <td>150000</td>\n",
       "      <td>1</td>\n",
       "      <td>0.0</td>\n",
       "    </tr>\n",
       "    <tr>\n",
       "      <th>160098</th>\n",
       "      <td>-0.944194</td>\n",
       "      <td>4.0</td>\n",
       "      <td>1984</td>\n",
       "      <td>0</td>\n",
       "      <td>0.018573</td>\n",
       "      <td>95.0</td>\n",
       "      <td>150000</td>\n",
       "      <td>1</td>\n",
       "      <td>20.0</td>\n",
       "    </tr>\n",
       "    <tr>\n",
       "      <th>13297</th>\n",
       "      <td>-0.178624</td>\n",
       "      <td>1.0</td>\n",
       "      <td>2004</td>\n",
       "      <td>0</td>\n",
       "      <td>0.005981</td>\n",
       "      <td>149.0</td>\n",
       "      <td>150000</td>\n",
       "      <td>1</td>\n",
       "      <td>27.0</td>\n",
       "    </tr>\n",
       "    <tr>\n",
       "      <th>143617</th>\n",
       "      <td>1.649732</td>\n",
       "      <td>2.0</td>\n",
       "      <td>2009</td>\n",
       "      <td>1</td>\n",
       "      <td>0.194858</td>\n",
       "      <td>76.0</td>\n",
       "      <td>125000</td>\n",
       "      <td>1</td>\n",
       "      <td>20.0</td>\n",
       "    </tr>\n",
       "  </tbody>\n",
       "</table>\n",
       "</div>"
      ],
      "text/plain": [
       "           Price  VehicleType  RegistrationYear Gearbox     Power  Model  \\\n",
       "234062 -0.593193          5.0              2005       0 -0.371774  102.0   \n",
       "42303  -0.720752          7.0              2001       0 -0.019203    3.0   \n",
       "160098 -0.944194          4.0              1984       0  0.018573   95.0   \n",
       "13297  -0.178624          1.0              2004       0  0.005981  149.0   \n",
       "143617  1.649732          2.0              2009       1  0.194858   76.0   \n",
       "\n",
       "        Kilometer FuelType  Brand  \n",
       "234062     125000        1   10.0  \n",
       "42303      150000        1    0.0  \n",
       "160098     150000        1   20.0  \n",
       "13297      150000        1   27.0  \n",
       "143617     125000        1   20.0  "
      ]
     },
     "execution_count": 74,
     "metadata": {},
     "output_type": "execute_result"
    }
   ],
   "source": [
    "features_train.head()"
   ]
  },
  {
   "cell_type": "markdown",
   "metadata": {},
   "source": [
    "Обучим модель"
   ]
  },
  {
   "cell_type": "code",
   "execution_count": 75,
   "metadata": {},
   "outputs": [
    {
     "data": {
      "text/plain": [
       "DecisionTreeClassifier(class_weight='balanced', criterion='gini', max_depth=10,\n",
       "                       max_features=None, max_leaf_nodes=None,\n",
       "                       min_impurity_decrease=0.0, min_impurity_split=None,\n",
       "                       min_samples_leaf=2, min_samples_split=2,\n",
       "                       min_weight_fraction_leaf=0.0, presort=False,\n",
       "                       random_state=12345, splitter='best')"
      ]
     },
     "execution_count": 75,
     "metadata": {},
     "output_type": "execute_result"
    }
   ],
   "source": [
    "model = DecisionTreeClassifier(random_state=12345, max_depth=10, min_samples_leaf=2,\n",
    "                               class_weight='balanced')\n",
    "model.fit(features_train, target_train)"
   ]
  },
  {
   "cell_type": "markdown",
   "metadata": {},
   "source": [
    "Протестируем модель и рассчитаем метрику AUC-ROC"
   ]
  },
  {
   "cell_type": "code",
   "execution_count": 76,
   "metadata": {},
   "outputs": [],
   "source": [
    "predicted_test = model.predict(features_test)"
   ]
  },
  {
   "cell_type": "code",
   "execution_count": 77,
   "metadata": {},
   "outputs": [
    {
     "data": {
      "text/plain": [
       "0.8050277897855534"
      ]
     },
     "execution_count": 77,
     "metadata": {},
     "output_type": "execute_result"
    }
   ],
   "source": [
    "probabilities_test = model.predict_proba(features_test)\n",
    "probabilities_one_test = probabilities_test[:, 1]\n",
    "auc_roc = roc_auc_score(target_test, probabilities_one_test)\n",
    "auc_roc"
   ]
  },
  {
   "cell_type": "markdown",
   "metadata": {},
   "source": [
    "Проверим, что модель лучше, чем случайная."
   ]
  },
  {
   "cell_type": "code",
   "execution_count": 78,
   "metadata": {},
   "outputs": [],
   "source": [
    "from sklearn.dummy import DummyClassifier\n",
    "dummy_clf = DummyClassifier(strategy=\"most_frequent\", random_state=12345)\n",
    "dummy_clf.fit(features_test, target_test)\n",
    "probabilities_clf = dummy_clf.predict_proba(features_test)"
   ]
  },
  {
   "cell_type": "code",
   "execution_count": 79,
   "metadata": {},
   "outputs": [
    {
     "data": {
      "text/plain": [
       "0.5"
      ]
     },
     "execution_count": 79,
     "metadata": {},
     "output_type": "execute_result"
    }
   ],
   "source": [
    "probabilities_one_clf = probabilities_clf[:, 1]\n",
    "auc_roc = roc_auc_score(target_test, probabilities_one_clf)\n",
    "auc_roc"
   ]
  },
  {
   "cell_type": "markdown",
   "metadata": {},
   "source": [
    "Метрика AUC-ROC обученной модели лучше, чем случайной, ее можно использовать для заполнения null-значений в столбце **NotRepaired**"
   ]
  },
  {
   "cell_type": "markdown",
   "metadata": {},
   "source": [
    "Заполним пустые значения столбца **NotRepaired**."
   ]
  },
  {
   "cell_type": "code",
   "execution_count": 80,
   "metadata": {},
   "outputs": [],
   "source": [
    "df_autotype_full.loc[(df_autotype_full['NotRepaired'].isnull() & \n",
    "                      df_autotype_full['Gearbox'].notnull() & \n",
    "                      df_autotype_full['FuelType'].notnull()), \n",
    "                     'NotRepaired'] = model.predict(df_autotype_full.loc[(df_autotype_full['NotRepaired'].isnull() & \n",
    "                                                                          df_autotype_full['Gearbox'].notnull() & \n",
    "                                                                          df_autotype_full['FuelType'].notnull()), \n",
    "                                                                         ['Price', 'VehicleType', 'RegistrationYear', 'Gearbox', 'Power', \n",
    "                                                                          'Model', 'Kilometer', 'FuelType', 'Brand']])"
   ]
  },
  {
   "cell_type": "code",
   "execution_count": 81,
   "metadata": {},
   "outputs": [
    {
     "name": "stdout",
     "output_type": "stream",
     "text": [
      "<class 'pandas.core.frame.DataFrame'>\n",
      "RangeIndex: 347445 entries, 0 to 347444\n",
      "Data columns (total 10 columns):\n",
      " #   Column            Non-Null Count   Dtype  \n",
      "---  ------            --------------   -----  \n",
      " 0   Price             347445 non-null  int64  \n",
      " 1   VehicleType       347445 non-null  float64\n",
      " 2   RegistrationYear  347445 non-null  int64  \n",
      " 3   Gearbox           330695 non-null  object \n",
      " 4   Power             347445 non-null  int64  \n",
      " 5   Model             347445 non-null  float64\n",
      " 6   Kilometer         347445 non-null  int64  \n",
      " 7   FuelType          318930 non-null  object \n",
      " 8   Brand             347445 non-null  float64\n",
      " 9   NotRepaired       329102 non-null  object \n",
      "dtypes: float64(3), int64(4), object(3)\n",
      "memory usage: 26.5+ MB\n"
     ]
    }
   ],
   "source": [
    "df_autotype_full.info()"
   ]
  },
  {
   "cell_type": "code",
   "execution_count": 82,
   "metadata": {},
   "outputs": [
    {
     "data": {
      "text/plain": [
       "18343"
      ]
     },
     "execution_count": 82,
     "metadata": {},
     "output_type": "execute_result"
    }
   ],
   "source": [
    "df_autotype_full['NotRepaired'].isnull().sum()"
   ]
  },
  {
   "cell_type": "markdown",
   "metadata": {},
   "source": [
    "В столбце **NotRepaired** осталось 5% пустых записей, удалим их."
   ]
  },
  {
   "cell_type": "code",
   "execution_count": 83,
   "metadata": {},
   "outputs": [],
   "source": [
    "df_autotype_full = df_autotype_full.copy()"
   ]
  },
  {
   "cell_type": "code",
   "execution_count": 84,
   "metadata": {},
   "outputs": [],
   "source": [
    "df_autotype_full = df_autotype_full.loc[df_autotype_full['NotRepaired'].notnull()]\n",
    "df_autotype_full = df_autotype_full.reset_index()\n",
    "df_autotype_full = df_autotype_full.drop('index', axis=1)"
   ]
  },
  {
   "cell_type": "code",
   "execution_count": 85,
   "metadata": {},
   "outputs": [
    {
     "name": "stdout",
     "output_type": "stream",
     "text": [
      "<class 'pandas.core.frame.DataFrame'>\n",
      "RangeIndex: 329102 entries, 0 to 329101\n",
      "Data columns (total 10 columns):\n",
      " #   Column            Non-Null Count   Dtype  \n",
      "---  ------            --------------   -----  \n",
      " 0   Price             329102 non-null  int64  \n",
      " 1   VehicleType       329102 non-null  float64\n",
      " 2   RegistrationYear  329102 non-null  int64  \n",
      " 3   Gearbox           322392 non-null  object \n",
      " 4   Power             329102 non-null  int64  \n",
      " 5   Model             329102 non-null  float64\n",
      " 6   Kilometer         329102 non-null  int64  \n",
      " 7   FuelType          314020 non-null  object \n",
      " 8   Brand             329102 non-null  float64\n",
      " 9   NotRepaired       329102 non-null  object \n",
      "dtypes: float64(3), int64(4), object(3)\n",
      "memory usage: 25.1+ MB\n"
     ]
    }
   ],
   "source": [
    "df_autotype_full.info()"
   ]
  },
  {
   "cell_type": "markdown",
   "metadata": {},
   "source": [
    "Пустые значения остались в столбцах **Gearbox** и **FuelType**, 2% и 5% соответсвенно. Эти данные нет возможности восстановить, поэтому пустые данные в данных столбцах удалим."
   ]
  },
  {
   "cell_type": "code",
   "execution_count": 86,
   "metadata": {},
   "outputs": [],
   "source": [
    "df_full = df_autotype_full.loc[df_autotype_full['Gearbox'].notnull()]\n",
    "df_full = df_full.loc[df_full['FuelType'].notnull()]\n",
    "df_full = df_full.reset_index(drop=True)"
   ]
  },
  {
   "cell_type": "code",
   "execution_count": 87,
   "metadata": {},
   "outputs": [
    {
     "name": "stdout",
     "output_type": "stream",
     "text": [
      "<class 'pandas.core.frame.DataFrame'>\n",
      "RangeIndex: 308652 entries, 0 to 308651\n",
      "Data columns (total 10 columns):\n",
      " #   Column            Non-Null Count   Dtype  \n",
      "---  ------            --------------   -----  \n",
      " 0   Price             308652 non-null  int64  \n",
      " 1   VehicleType       308652 non-null  float64\n",
      " 2   RegistrationYear  308652 non-null  int64  \n",
      " 3   Gearbox           308652 non-null  object \n",
      " 4   Power             308652 non-null  int64  \n",
      " 5   Model             308652 non-null  float64\n",
      " 6   Kilometer         308652 non-null  int64  \n",
      " 7   FuelType          308652 non-null  object \n",
      " 8   Brand             308652 non-null  float64\n",
      " 9   NotRepaired       308652 non-null  object \n",
      "dtypes: float64(3), int64(4), object(3)\n",
      "memory usage: 23.5+ MB\n"
     ]
    }
   ],
   "source": [
    "df_full.info()"
   ]
  },
  {
   "cell_type": "markdown",
   "metadata": {},
   "source": [
    "Заполним нулевые значения в столбцах **Price** и **Power** средними значениями."
   ]
  },
  {
   "cell_type": "code",
   "execution_count": 88,
   "metadata": {},
   "outputs": [],
   "source": [
    "df_full_pivot = pd.pivot_table(df_full, values='Price', index=['Brand', 'Model'], columns='RegistrationYear', \n",
    "               aggfunc=['mean'], fill_value=0)"
   ]
  },
  {
   "cell_type": "code",
   "execution_count": 89,
   "metadata": {},
   "outputs": [],
   "source": [
    "df_full_pivot = df_full_pivot.reset_index()"
   ]
  },
  {
   "cell_type": "code",
   "execution_count": 90,
   "metadata": {},
   "outputs": [],
   "source": [
    "df_full_pivot.columns = ['Brand', 'Model', 1910, 1919, 1923, 1927, 1928, 1929, 1930, 1931, 1932, 1933, 1934,\n",
    "                                  1935, 1936, 1937, 1938, 1940, 1941, 1942, 1943, 1944, 1945, 1946, 1947, 1948, 1950, 1951,\n",
    "                                  1952, 1953, 1954, 1955, 1956, 1957, 1958, 1959, 1960, 1961, 1962, 1963, 1964, 1965, 1966, \n",
    "                                  1967, 1968, 1969, 1970, 1971, 1972, 1973, 1974, 1975, 1976, 1977, 1978, 1979, 1980, 1981, \n",
    "                                  1982, 1983, 1984, 1985, 1986, 1987, 1988, 1989, 1990, 1991, 1992, 1993, 1994, 1995, 1996, \n",
    "                                  1997, 1998, 1999, 2000, 2001, 2002, 2003, 2004, 2005, 2006, 2007, 2008, 2009, 2010, 2011, \n",
    "                                  2012, 2013, 2014, 2015, 2016, 2017, 2018, 2019]"
   ]
  },
  {
   "cell_type": "code",
   "execution_count": 91,
   "metadata": {},
   "outputs": [
    {
     "data": {
      "text/html": [
       "<div>\n",
       "<style scoped>\n",
       "    .dataframe tbody tr th:only-of-type {\n",
       "        vertical-align: middle;\n",
       "    }\n",
       "\n",
       "    .dataframe tbody tr th {\n",
       "        vertical-align: top;\n",
       "    }\n",
       "\n",
       "    .dataframe thead th {\n",
       "        text-align: right;\n",
       "    }\n",
       "</style>\n",
       "<table border=\"1\" class=\"dataframe\">\n",
       "  <thead>\n",
       "    <tr style=\"text-align: right;\">\n",
       "      <th></th>\n",
       "      <th>Brand</th>\n",
       "      <th>Model</th>\n",
       "      <th>1910</th>\n",
       "      <th>1919</th>\n",
       "      <th>1923</th>\n",
       "      <th>1927</th>\n",
       "      <th>1928</th>\n",
       "      <th>1929</th>\n",
       "      <th>1930</th>\n",
       "      <th>1931</th>\n",
       "      <th>...</th>\n",
       "      <th>2010</th>\n",
       "      <th>2011</th>\n",
       "      <th>2012</th>\n",
       "      <th>2013</th>\n",
       "      <th>2014</th>\n",
       "      <th>2015</th>\n",
       "      <th>2016</th>\n",
       "      <th>2017</th>\n",
       "      <th>2018</th>\n",
       "      <th>2019</th>\n",
       "    </tr>\n",
       "  </thead>\n",
       "  <tbody>\n",
       "    <tr>\n",
       "      <th>0</th>\n",
       "      <td>0.0</td>\n",
       "      <td>1.0</td>\n",
       "      <td>0</td>\n",
       "      <td>0</td>\n",
       "      <td>0</td>\n",
       "      <td>0</td>\n",
       "      <td>0</td>\n",
       "      <td>0</td>\n",
       "      <td>0</td>\n",
       "      <td>0</td>\n",
       "      <td>...</td>\n",
       "      <td>0.000000</td>\n",
       "      <td>0.000000</td>\n",
       "      <td>0.0</td>\n",
       "      <td>0.000000</td>\n",
       "      <td>0.0</td>\n",
       "      <td>0.0</td>\n",
       "      <td>125.000000</td>\n",
       "      <td>599.0000</td>\n",
       "      <td>0.000000</td>\n",
       "      <td>0</td>\n",
       "    </tr>\n",
       "    <tr>\n",
       "      <th>1</th>\n",
       "      <td>0.0</td>\n",
       "      <td>2.0</td>\n",
       "      <td>0</td>\n",
       "      <td>0</td>\n",
       "      <td>0</td>\n",
       "      <td>0</td>\n",
       "      <td>0</td>\n",
       "      <td>0</td>\n",
       "      <td>0</td>\n",
       "      <td>0</td>\n",
       "      <td>...</td>\n",
       "      <td>6240.222222</td>\n",
       "      <td>13950.000000</td>\n",
       "      <td>0.0</td>\n",
       "      <td>0.000000</td>\n",
       "      <td>0.0</td>\n",
       "      <td>0.0</td>\n",
       "      <td>1692.947368</td>\n",
       "      <td>1993.6875</td>\n",
       "      <td>2263.166667</td>\n",
       "      <td>0</td>\n",
       "    </tr>\n",
       "    <tr>\n",
       "      <th>2</th>\n",
       "      <td>0.0</td>\n",
       "      <td>3.0</td>\n",
       "      <td>0</td>\n",
       "      <td>0</td>\n",
       "      <td>0</td>\n",
       "      <td>0</td>\n",
       "      <td>0</td>\n",
       "      <td>0</td>\n",
       "      <td>0</td>\n",
       "      <td>0</td>\n",
       "      <td>...</td>\n",
       "      <td>0.000000</td>\n",
       "      <td>0.000000</td>\n",
       "      <td>0.0</td>\n",
       "      <td>0.000000</td>\n",
       "      <td>0.0</td>\n",
       "      <td>4150.0</td>\n",
       "      <td>808.333333</td>\n",
       "      <td>800.0000</td>\n",
       "      <td>1600.000000</td>\n",
       "      <td>1200</td>\n",
       "    </tr>\n",
       "    <tr>\n",
       "      <th>3</th>\n",
       "      <td>0.0</td>\n",
       "      <td>4.0</td>\n",
       "      <td>0</td>\n",
       "      <td>0</td>\n",
       "      <td>0</td>\n",
       "      <td>0</td>\n",
       "      <td>0</td>\n",
       "      <td>0</td>\n",
       "      <td>0</td>\n",
       "      <td>0</td>\n",
       "      <td>...</td>\n",
       "      <td>12040.384615</td>\n",
       "      <td>12096.666667</td>\n",
       "      <td>14999.0</td>\n",
       "      <td>0.000000</td>\n",
       "      <td>0.0</td>\n",
       "      <td>0.0</td>\n",
       "      <td>0.000000</td>\n",
       "      <td>9750.0000</td>\n",
       "      <td>0.000000</td>\n",
       "      <td>0</td>\n",
       "    </tr>\n",
       "    <tr>\n",
       "      <th>4</th>\n",
       "      <td>0.0</td>\n",
       "      <td>166.0</td>\n",
       "      <td>0</td>\n",
       "      <td>0</td>\n",
       "      <td>0</td>\n",
       "      <td>0</td>\n",
       "      <td>0</td>\n",
       "      <td>0</td>\n",
       "      <td>0</td>\n",
       "      <td>0</td>\n",
       "      <td>...</td>\n",
       "      <td>8947.555556</td>\n",
       "      <td>9904.897959</td>\n",
       "      <td>12044.9</td>\n",
       "      <td>15671.428571</td>\n",
       "      <td>15299.9</td>\n",
       "      <td>16333.0</td>\n",
       "      <td>500.000000</td>\n",
       "      <td>13950.0000</td>\n",
       "      <td>0.000000</td>\n",
       "      <td>0</td>\n",
       "    </tr>\n",
       "  </tbody>\n",
       "</table>\n",
       "<p>5 rows × 96 columns</p>\n",
       "</div>"
      ],
      "text/plain": [
       "   Brand  Model  1910  1919  1923  1927  1928  1929  1930  1931  ...  \\\n",
       "0    0.0    1.0     0     0     0     0     0     0     0     0  ...   \n",
       "1    0.0    2.0     0     0     0     0     0     0     0     0  ...   \n",
       "2    0.0    3.0     0     0     0     0     0     0     0     0  ...   \n",
       "3    0.0    4.0     0     0     0     0     0     0     0     0  ...   \n",
       "4    0.0  166.0     0     0     0     0     0     0     0     0  ...   \n",
       "\n",
       "           2010          2011     2012          2013     2014     2015  \\\n",
       "0      0.000000      0.000000      0.0      0.000000      0.0      0.0   \n",
       "1   6240.222222  13950.000000      0.0      0.000000      0.0      0.0   \n",
       "2      0.000000      0.000000      0.0      0.000000      0.0   4150.0   \n",
       "3  12040.384615  12096.666667  14999.0      0.000000      0.0      0.0   \n",
       "4   8947.555556   9904.897959  12044.9  15671.428571  15299.9  16333.0   \n",
       "\n",
       "          2016        2017         2018  2019  \n",
       "0   125.000000    599.0000     0.000000     0  \n",
       "1  1692.947368   1993.6875  2263.166667     0  \n",
       "2   808.333333    800.0000  1600.000000  1200  \n",
       "3     0.000000   9750.0000     0.000000     0  \n",
       "4   500.000000  13950.0000     0.000000     0  \n",
       "\n",
       "[5 rows x 96 columns]"
      ]
     },
     "execution_count": 91,
     "metadata": {},
     "output_type": "execute_result"
    }
   ],
   "source": [
    "df_full_pivot.head()"
   ]
  },
  {
   "cell_type": "code",
   "execution_count": 92,
   "metadata": {},
   "outputs": [],
   "source": [
    "def price(row):\n",
    "    brand = row['Brand']\n",
    "    model = row['Model']\n",
    "    regyear = row['RegistrationYear']\n",
    "    price = df_full_pivot.loc[(df_full_pivot['Brand'] == brand) & \n",
    "                              (df_full_pivot['Model'] == model), regyear].values[0]\n",
    "    return price"
   ]
  },
  {
   "cell_type": "markdown",
   "metadata": {},
   "source": [
    "Заполним значения цены 0 на среднюю стоимость автомобиля в соответствии с брендом, моделью и годом регистрации."
   ]
  },
  {
   "cell_type": "code",
   "execution_count": 93,
   "metadata": {},
   "outputs": [],
   "source": [
    "df_full.loc[df_full['Price'] == 0, 'Price'] = df_full.loc[df_full['Price'] == 0].apply(price, axis=1)"
   ]
  },
  {
   "cell_type": "markdown",
   "metadata": {},
   "source": [
    "Проверим количество строк с параметром **Price** равным 0."
   ]
  },
  {
   "cell_type": "code",
   "execution_count": 94,
   "metadata": {},
   "outputs": [
    {
     "data": {
      "text/plain": [
       "78"
      ]
     },
     "execution_count": 94,
     "metadata": {},
     "output_type": "execute_result"
    }
   ],
   "source": [
    "df_full.loc[df_full['Price'] == 0, 'Price'].count()"
   ]
  },
  {
   "cell_type": "markdown",
   "metadata": {},
   "source": [
    "Осталось 78 строк с ценой равной 0."
   ]
  },
  {
   "cell_type": "markdown",
   "metadata": {},
   "source": [
    "Рассмотрим столбец **Power**"
   ]
  },
  {
   "cell_type": "markdown",
   "metadata": {},
   "source": [
    "Построим распределение и боксплот."
   ]
  },
  {
   "cell_type": "code",
   "execution_count": 95,
   "metadata": {},
   "outputs": [
    {
     "data": {
      "image/png": "[encoded data removed]",
      "text/plain": [
       "<Figure size 1200x480 with 2 Axes>"
      ]
     },
     "metadata": {
      "needs_background": "light"
     },
     "output_type": "display_data"
    }
   ],
   "source": [
    "stat_plot(df_full, 'Power', 10)"
   ]
  },
  {
   "cell_type": "markdown",
   "metadata": {},
   "source": [
    "Столбец **Power** содержит явно некорректные данные количество л.с. = 0 и свыше 500. Рассчитаем количество таких автомобилей."
   ]
  },
  {
   "cell_type": "code",
   "execution_count": 96,
   "metadata": {},
   "outputs": [
    {
     "data": {
      "text/plain": [
       "21720"
      ]
     },
     "execution_count": 96,
     "metadata": {},
     "output_type": "execute_result"
    }
   ],
   "source": [
    "df_full.loc[df_full['Power']==0, 'Power'].count()"
   ]
  },
  {
   "cell_type": "code",
   "execution_count": 97,
   "metadata": {},
   "outputs": [
    {
     "data": {
      "text/plain": [
       "370"
      ]
     },
     "execution_count": 97,
     "metadata": {},
     "output_type": "execute_result"
    }
   ],
   "source": [
    "df_full.loc[df_full['Power']>=500, 'Power'].count()"
   ]
  },
  {
   "cell_type": "markdown",
   "metadata": {},
   "source": [
    "Удалим из датасета данные о автомобилях с л.с. свыше 500, таких записей 370."
   ]
  },
  {
   "cell_type": "code",
   "execution_count": 98,
   "metadata": {},
   "outputs": [],
   "source": [
    "df_full = df_full.loc[df_full['Power']<500].reset_index(drop=True)"
   ]
  },
  {
   "cell_type": "markdown",
   "metadata": {},
   "source": [
    "Для записей с параметром **Power** равным 0 напишем функцию для вычисления среднего значения количества л.с. в зависимости от бренда, модели и года регистрации."
   ]
  },
  {
   "cell_type": "code",
   "execution_count": 99,
   "metadata": {},
   "outputs": [],
   "source": [
    "df_full_power_pivot = pd.pivot_table(df_full, values='Power', index=['Brand', 'Model'], columns='RegistrationYear', \n",
    "               aggfunc=['mean'], fill_value=0)"
   ]
  },
  {
   "cell_type": "code",
   "execution_count": 100,
   "metadata": {},
   "outputs": [],
   "source": [
    "df_full_power_pivot = df_full_power_pivot.reset_index()"
   ]
  },
  {
   "cell_type": "code",
   "execution_count": 101,
   "metadata": {},
   "outputs": [],
   "source": [
    "df_full_power_pivot.columns = ['Brand', 'Model', 1910, 1919, 1923, 1927, 1928, 1929, 1930, 1931, 1932, 1933, 1934,\n",
    "                                  1935, 1936, 1937, 1938, 1940, 1941, 1942, 1943, 1944, 1945, 1946, 1947, 1948, 1950, 1951,\n",
    "                                  1952, 1953, 1954, 1955, 1956, 1957, 1958, 1959, 1960, 1961, 1962, 1963, 1964, 1965, 1966, \n",
    "                                  1967, 1968, 1969, 1970, 1971, 1972, 1973, 1974, 1975, 1976, 1977, 1978, 1979, 1980, 1981, \n",
    "                                  1982, 1983, 1984, 1985, 1986, 1987, 1988, 1989, 1990, 1991, 1992, 1993, 1994, 1995, 1996, \n",
    "                                  1997, 1998, 1999, 2000, 2001, 2002, 2003, 2004, 2005, 2006, 2007, 2008, 2009, 2010, 2011, \n",
    "                                  2012, 2013, 2014, 2015, 2016, 2017, 2018, 2019]"
   ]
  },
  {
   "cell_type": "code",
   "execution_count": 102,
   "metadata": {},
   "outputs": [
    {
     "data": {
      "text/html": [
       "<div>\n",
       "<style scoped>\n",
       "    .dataframe tbody tr th:only-of-type {\n",
       "        vertical-align: middle;\n",
       "    }\n",
       "\n",
       "    .dataframe tbody tr th {\n",
       "        vertical-align: top;\n",
       "    }\n",
       "\n",
       "    .dataframe thead th {\n",
       "        text-align: right;\n",
       "    }\n",
       "</style>\n",
       "<table border=\"1\" class=\"dataframe\">\n",
       "  <thead>\n",
       "    <tr style=\"text-align: right;\">\n",
       "      <th></th>\n",
       "      <th>Brand</th>\n",
       "      <th>Model</th>\n",
       "      <th>1910</th>\n",
       "      <th>1919</th>\n",
       "      <th>1923</th>\n",
       "      <th>1927</th>\n",
       "      <th>1928</th>\n",
       "      <th>1929</th>\n",
       "      <th>1930</th>\n",
       "      <th>1931</th>\n",
       "      <th>...</th>\n",
       "      <th>2010</th>\n",
       "      <th>2011</th>\n",
       "      <th>2012</th>\n",
       "      <th>2013</th>\n",
       "      <th>2014</th>\n",
       "      <th>2015</th>\n",
       "      <th>2016</th>\n",
       "      <th>2017</th>\n",
       "      <th>2018</th>\n",
       "      <th>2019</th>\n",
       "    </tr>\n",
       "  </thead>\n",
       "  <tbody>\n",
       "    <tr>\n",
       "      <th>0</th>\n",
       "      <td>0.0</td>\n",
       "      <td>1.0</td>\n",
       "      <td>0</td>\n",
       "      <td>0</td>\n",
       "      <td>0.0</td>\n",
       "      <td>0</td>\n",
       "      <td>0</td>\n",
       "      <td>0.0</td>\n",
       "      <td>0</td>\n",
       "      <td>0</td>\n",
       "      <td>...</td>\n",
       "      <td>0.000000</td>\n",
       "      <td>0.000000</td>\n",
       "      <td>0.0</td>\n",
       "      <td>0.000000</td>\n",
       "      <td>0.0</td>\n",
       "      <td>0.000000</td>\n",
       "      <td>103.000000</td>\n",
       "      <td>103.0</td>\n",
       "      <td>0.000000</td>\n",
       "      <td>0</td>\n",
       "    </tr>\n",
       "    <tr>\n",
       "      <th>1</th>\n",
       "      <td>0.0</td>\n",
       "      <td>2.0</td>\n",
       "      <td>240</td>\n",
       "      <td>0</td>\n",
       "      <td>0.0</td>\n",
       "      <td>0</td>\n",
       "      <td>0</td>\n",
       "      <td>0.0</td>\n",
       "      <td>0</td>\n",
       "      <td>0</td>\n",
       "      <td>...</td>\n",
       "      <td>93.333333</td>\n",
       "      <td>140.000000</td>\n",
       "      <td>0.0</td>\n",
       "      <td>0.000000</td>\n",
       "      <td>0.0</td>\n",
       "      <td>0.000000</td>\n",
       "      <td>89.842105</td>\n",
       "      <td>97.5</td>\n",
       "      <td>115.333333</td>\n",
       "      <td>0</td>\n",
       "    </tr>\n",
       "    <tr>\n",
       "      <th>2</th>\n",
       "      <td>0.0</td>\n",
       "      <td>3.0</td>\n",
       "      <td>0</td>\n",
       "      <td>0</td>\n",
       "      <td>0.0</td>\n",
       "      <td>0</td>\n",
       "      <td>0</td>\n",
       "      <td>0.0</td>\n",
       "      <td>0</td>\n",
       "      <td>0</td>\n",
       "      <td>...</td>\n",
       "      <td>0.000000</td>\n",
       "      <td>0.000000</td>\n",
       "      <td>0.0</td>\n",
       "      <td>0.000000</td>\n",
       "      <td>0.0</td>\n",
       "      <td>116.000000</td>\n",
       "      <td>115.555556</td>\n",
       "      <td>90.0</td>\n",
       "      <td>0.000000</td>\n",
       "      <td>140</td>\n",
       "    </tr>\n",
       "    <tr>\n",
       "      <th>3</th>\n",
       "      <td>0.0</td>\n",
       "      <td>4.0</td>\n",
       "      <td>0</td>\n",
       "      <td>0</td>\n",
       "      <td>0.0</td>\n",
       "      <td>0</td>\n",
       "      <td>0</td>\n",
       "      <td>0.0</td>\n",
       "      <td>0</td>\n",
       "      <td>0</td>\n",
       "      <td>...</td>\n",
       "      <td>176.923077</td>\n",
       "      <td>163.666667</td>\n",
       "      <td>170.0</td>\n",
       "      <td>0.000000</td>\n",
       "      <td>0.0</td>\n",
       "      <td>0.000000</td>\n",
       "      <td>0.000000</td>\n",
       "      <td>177.5</td>\n",
       "      <td>0.000000</td>\n",
       "      <td>0</td>\n",
       "    </tr>\n",
       "    <tr>\n",
       "      <th>4</th>\n",
       "      <td>0.0</td>\n",
       "      <td>166.0</td>\n",
       "      <td>0</td>\n",
       "      <td>0</td>\n",
       "      <td>0.0</td>\n",
       "      <td>0</td>\n",
       "      <td>0</td>\n",
       "      <td>0.0</td>\n",
       "      <td>0</td>\n",
       "      <td>0</td>\n",
       "      <td>...</td>\n",
       "      <td>119.851852</td>\n",
       "      <td>125.000000</td>\n",
       "      <td>150.5</td>\n",
       "      <td>139.285714</td>\n",
       "      <td>138.7</td>\n",
       "      <td>136.666667</td>\n",
       "      <td>0.000000</td>\n",
       "      <td>117.5</td>\n",
       "      <td>0.000000</td>\n",
       "      <td>0</td>\n",
       "    </tr>\n",
       "  </tbody>\n",
       "</table>\n",
       "<p>5 rows × 96 columns</p>\n",
       "</div>"
      ],
      "text/plain": [
       "   Brand  Model  1910  1919  1923  1927  1928  1929  1930  1931  ...  \\\n",
       "0    0.0    1.0     0     0   0.0     0     0   0.0     0     0  ...   \n",
       "1    0.0    2.0   240     0   0.0     0     0   0.0     0     0  ...   \n",
       "2    0.0    3.0     0     0   0.0     0     0   0.0     0     0  ...   \n",
       "3    0.0    4.0     0     0   0.0     0     0   0.0     0     0  ...   \n",
       "4    0.0  166.0     0     0   0.0     0     0   0.0     0     0  ...   \n",
       "\n",
       "         2010        2011   2012        2013   2014        2015        2016  \\\n",
       "0    0.000000    0.000000    0.0    0.000000    0.0    0.000000  103.000000   \n",
       "1   93.333333  140.000000    0.0    0.000000    0.0    0.000000   89.842105   \n",
       "2    0.000000    0.000000    0.0    0.000000    0.0  116.000000  115.555556   \n",
       "3  176.923077  163.666667  170.0    0.000000    0.0    0.000000    0.000000   \n",
       "4  119.851852  125.000000  150.5  139.285714  138.7  136.666667    0.000000   \n",
       "\n",
       "    2017        2018  2019  \n",
       "0  103.0    0.000000     0  \n",
       "1   97.5  115.333333     0  \n",
       "2   90.0    0.000000   140  \n",
       "3  177.5    0.000000     0  \n",
       "4  117.5    0.000000     0  \n",
       "\n",
       "[5 rows x 96 columns]"
      ]
     },
     "execution_count": 102,
     "metadata": {},
     "output_type": "execute_result"
    }
   ],
   "source": [
    "df_full_power_pivot.head()"
   ]
  },
  {
   "cell_type": "code",
   "execution_count": 103,
   "metadata": {},
   "outputs": [],
   "source": [
    "def power(row):\n",
    "    brand = row['Brand']\n",
    "    model = row['Model']\n",
    "    regyear = row['RegistrationYear']\n",
    "    power = df_full_power_pivot.loc[(df_full_power_pivot['Brand'] == brand) & \n",
    "                                    (df_full_power_pivot['Model'] == model), regyear].values[0]\n",
    "    return power"
   ]
  },
  {
   "cell_type": "code",
   "execution_count": 104,
   "metadata": {},
   "outputs": [],
   "source": [
    "df_full.loc[df_full['Power'] == 0, 'Power'] = df_full.loc[df_full['Power'] == 0].apply(power, axis=1)"
   ]
  },
  {
   "cell_type": "code",
   "execution_count": 105,
   "metadata": {},
   "outputs": [
    {
     "data": {
      "text/plain": [
       "299"
      ]
     },
     "execution_count": 105,
     "metadata": {},
     "output_type": "execute_result"
    }
   ],
   "source": [
    "df_full.loc[df_full['Power']==0, 'Power'].count()"
   ]
  },
  {
   "cell_type": "markdown",
   "metadata": {},
   "source": [
    "Осталось 299 строк с мощьностью равной 0."
   ]
  },
  {
   "cell_type": "code",
   "execution_count": 106,
   "metadata": {},
   "outputs": [
    {
     "name": "stdout",
     "output_type": "stream",
     "text": [
      "<class 'pandas.core.frame.DataFrame'>\n",
      "RangeIndex: 308282 entries, 0 to 308281\n",
      "Data columns (total 10 columns):\n",
      " #   Column            Non-Null Count   Dtype  \n",
      "---  ------            --------------   -----  \n",
      " 0   Price             308282 non-null  float64\n",
      " 1   VehicleType       308282 non-null  float64\n",
      " 2   RegistrationYear  308282 non-null  int64  \n",
      " 3   Gearbox           308282 non-null  object \n",
      " 4   Power             308282 non-null  float64\n",
      " 5   Model             308282 non-null  float64\n",
      " 6   Kilometer         308282 non-null  int64  \n",
      " 7   FuelType          308282 non-null  object \n",
      " 8   Brand             308282 non-null  float64\n",
      " 9   NotRepaired       308282 non-null  object \n",
      "dtypes: float64(5), int64(2), object(3)\n",
      "memory usage: 23.5+ MB\n"
     ]
    }
   ],
   "source": [
    "df_full.info()"
   ]
  },
  {
   "cell_type": "markdown",
   "metadata": {},
   "source": [
    "Для корректной работы моделей, переведем все категориальные признаки в тип int."
   ]
  },
  {
   "cell_type": "code",
   "execution_count": 107,
   "metadata": {},
   "outputs": [],
   "source": [
    "df_full = df_full.astype({'VehicleType': 'int64',\n",
    "                         'Gearbox': 'int64',\n",
    "                         'Model': 'int64',\n",
    "                         'Kilometer': 'int64',\n",
    "                         'FuelType': 'int64',\n",
    "                         'Brand': 'int64',\n",
    "                         'NotRepaired': 'int64'})"
   ]
  },
  {
   "cell_type": "code",
   "execution_count": 108,
   "metadata": {},
   "outputs": [
    {
     "name": "stdout",
     "output_type": "stream",
     "text": [
      "<class 'pandas.core.frame.DataFrame'>\n",
      "RangeIndex: 308282 entries, 0 to 308281\n",
      "Data columns (total 10 columns):\n",
      " #   Column            Non-Null Count   Dtype  \n",
      "---  ------            --------------   -----  \n",
      " 0   Price             308282 non-null  float64\n",
      " 1   VehicleType       308282 non-null  int64  \n",
      " 2   RegistrationYear  308282 non-null  int64  \n",
      " 3   Gearbox           308282 non-null  int64  \n",
      " 4   Power             308282 non-null  float64\n",
      " 5   Model             308282 non-null  int64  \n",
      " 6   Kilometer         308282 non-null  int64  \n",
      " 7   FuelType          308282 non-null  int64  \n",
      " 8   Brand             308282 non-null  int64  \n",
      " 9   NotRepaired       308282 non-null  int64  \n",
      "dtypes: float64(2), int64(8)\n",
      "memory usage: 23.5 MB\n"
     ]
    }
   ],
   "source": [
    "df_full.info()"
   ]
  },
  {
   "cell_type": "markdown",
   "metadata": {},
   "source": [
    "### В ходе подготовки данных были удалены или заполнены null-значения в столбцах VehicleType, Gearbox, Model, FuelType, NotRepaired. В столбцах RegistrationYear, Price, Power были удалены или исправлены некорректные значения. Также были перекодированны категориальные признаки. Масштабирование признаков не требуется, так как в признаках только один количественный параметр Количество л.с. (Power)."
   ]
  },
  {
   "cell_type": "markdown",
   "metadata": {},
   "source": [
    "# 3. Анализ моделей"
   ]
  },
  {
   "cell_type": "markdown",
   "metadata": {},
   "source": [
    "Разобьем датасет на обучающую и тестовую выборки"
   ]
  },
  {
   "cell_type": "code",
   "execution_count": 109,
   "metadata": {},
   "outputs": [],
   "source": [
    "target = df_full['Price']\n",
    "features = df_full.drop(['Price'], axis=1)"
   ]
  },
  {
   "cell_type": "code",
   "execution_count": 110,
   "metadata": {},
   "outputs": [],
   "source": [
    "features_train, features_test, target_train, target_test = train_test_split(features, target, \n",
    "                                                                            test_size=0.25, random_state=12345)"
   ]
  },
  {
   "cell_type": "markdown",
   "metadata": {},
   "source": [
    "### Обучение модели CatBoost"
   ]
  },
  {
   "cell_type": "markdown",
   "metadata": {},
   "source": [
    "Обучаем модель CatBoostRegressor"
   ]
  },
  {
   "cell_type": "code",
   "execution_count": 111,
   "metadata": {},
   "outputs": [],
   "source": [
    "model_cbr = CatBoostRegressor()"
   ]
  },
  {
   "cell_type": "code",
   "execution_count": 112,
   "metadata": {},
   "outputs": [],
   "source": [
    "cat_features = ['VehicleType', 'RegistrationYear', 'Gearbox', 'Model', 'Kilometer', 'FuelType', 'Brand', 'NotRepaired']"
   ]
  },
  {
   "cell_type": "markdown",
   "metadata": {},
   "source": [
    "Задаем сетку гиперпараметров"
   ]
  },
  {
   "cell_type": "code",
   "execution_count": 113,
   "metadata": {},
   "outputs": [
    {
     "name": "stdout",
     "output_type": "stream",
     "text": [
      "0:\tloss: 3455.8359016\tbest: 3455.8359016 (0)\ttotal: 13.8s\tremaining: 18m 25s\n",
      "1:\tloss: 1936.9454408\tbest: 1936.9454408 (1)\ttotal: 24.2s\tremaining: 15m 56s\n",
      "2:\tloss: 1779.2580140\tbest: 1779.2580140 (2)\ttotal: 34.7s\tremaining: 15m 2s\n",
      "3:\tloss: 3457.1798448\tbest: 1779.2580140 (2)\ttotal: 45.4s\tremaining: 14m 33s\n",
      "4:\tloss: 1940.4330318\tbest: 1779.2580140 (2)\ttotal: 55.7s\tremaining: 14m 6s\n",
      "5:\tloss: 1778.6965851\tbest: 1778.6965851 (5)\ttotal: 1m 6s\tremaining: 13m 47s\n",
      "6:\tloss: 3455.2902041\tbest: 1778.6965851 (5)\ttotal: 1m 16s\tremaining: 13m 31s\n",
      "7:\tloss: 1937.8559502\tbest: 1778.6965851 (5)\ttotal: 1m 27s\tremaining: 13m 21s\n",
      "8:\tloss: 1790.7822830\tbest: 1778.6965851 (5)\ttotal: 1m 38s\tremaining: 13m 4s\n",
      "9:\tloss: 2103.2676586\tbest: 1778.6965851 (5)\ttotal: 2m 31s\tremaining: 17m 58s\n",
      "10:\tloss: 1759.3692611\tbest: 1759.3692611 (10)\ttotal: 3m 23s\tremaining: 21m 33s\n",
      "11:\tloss: 1675.0012402\tbest: 1675.0012402 (11)\ttotal: 4m 15s\tremaining: 24m 27s\n",
      "12:\tloss: 2103.8337117\tbest: 1675.0012402 (11)\ttotal: 5m 7s\tremaining: 26m 48s\n",
      "13:\tloss: 1762.7665411\tbest: 1675.0012402 (11)\ttotal: 5m 59s\tremaining: 28m 39s\n",
      "14:\tloss: 1668.4412720\tbest: 1668.4412720 (14)\ttotal: 6m 51s\tremaining: 30m 9s\n",
      "15:\tloss: 2103.5874459\tbest: 1668.4412720 (14)\ttotal: 7m 43s\tremaining: 31m 21s\n",
      "16:\tloss: 1763.7323716\tbest: 1668.4412720 (14)\ttotal: 8m 35s\tremaining: 32m 21s\n",
      "17:\tloss: 1677.1125768\tbest: 1668.4412720 (14)\ttotal: 9m 30s\tremaining: 33m 17s\n",
      "18:\tloss: 1939.9568253\tbest: 1668.4412720 (14)\ttotal: 11m 16s\tremaining: 36m 47s\n",
      "19:\tloss: 1710.5611755\tbest: 1668.4412720 (14)\ttotal: 13m\tremaining: 39m 39s\n",
      "20:\tloss: 1646.6565701\tbest: 1646.6565701 (20)\ttotal: 14m 49s\tremaining: 42m 21s\n",
      "21:\tloss: 1941.9410653\tbest: 1646.6565701 (20)\ttotal: 16m 33s\tremaining: 44m 23s\n",
      "22:\tloss: 1716.6468550\tbest: 1646.6565701 (20)\ttotal: 18m 18s\tremaining: 46m 9s\n",
      "23:\tloss: 1642.1979584\tbest: 1642.1979584 (23)\ttotal: 20m 3s\tremaining: 47m 38s\n",
      "24:\tloss: 1943.4508213\tbest: 1642.1979584 (23)\ttotal: 21m 49s\tremaining: 48m 53s\n",
      "25:\tloss: 1717.9041352\tbest: 1642.1979584 (23)\ttotal: 23m 32s\tremaining: 49m 49s\n",
      "26:\tloss: 1648.8758367\tbest: 1642.1979584 (23)\ttotal: 25m 17s\tremaining: 50m 35s\n",
      "27:\tloss: 3262.1461648\tbest: 1642.1979584 (23)\ttotal: 25m 35s\tremaining: 48m 25s\n",
      "28:\tloss: 1778.0865254\tbest: 1642.1979584 (23)\ttotal: 25m 52s\tremaining: 46m 23s\n",
      "29:\tloss: 1670.3765088\tbest: 1642.1979584 (23)\ttotal: 26m 9s\tremaining: 44m 28s\n",
      "30:\tloss: 3264.4632360\tbest: 1642.1979584 (23)\ttotal: 26m 26s\tremaining: 42m 38s\n",
      "31:\tloss: 1782.6046666\tbest: 1642.1979584 (23)\ttotal: 26m 43s\tremaining: 40m 55s\n",
      "32:\tloss: 1677.4013192\tbest: 1642.1979584 (23)\ttotal: 27m 1s\tremaining: 39m 18s\n",
      "33:\tloss: 3271.1687101\tbest: 1642.1979584 (23)\ttotal: 27m 19s\tremaining: 37m 46s\n",
      "34:\tloss: 1785.6717270\tbest: 1642.1979584 (23)\ttotal: 27m 37s\tremaining: 36m 18s\n",
      "35:\tloss: 1671.4353850\tbest: 1642.1979584 (23)\ttotal: 27m 54s\tremaining: 34m 53s\n",
      "36:\tloss: 1880.9031720\tbest: 1642.1979584 (23)\ttotal: 29m 20s\tremaining: 34m 53s\n",
      "37:\tloss: 1641.5697594\tbest: 1641.5697594 (37)\ttotal: 30m 46s\tremaining: 34m 49s\n",
      "38:\tloss: 1612.0775162\tbest: 1612.0775162 (38)\ttotal: 32m 12s\tremaining: 34m 40s\n",
      "39:\tloss: 1883.6290315\tbest: 1612.0775162 (38)\ttotal: 33m 40s\tremaining: 34m 30s\n",
      "40:\tloss: 1648.3826488\tbest: 1612.0775162 (38)\ttotal: 35m 5s\tremaining: 34m 13s\n",
      "41:\tloss: 1611.0793549\tbest: 1611.0793549 (41)\ttotal: 36m 29s\tremaining: 33m 53s\n",
      "42:\tloss: 1887.2474188\tbest: 1611.0793549 (41)\ttotal: 37m 55s\tremaining: 33m 30s\n",
      "43:\tloss: 1653.9955423\tbest: 1611.0793549 (41)\ttotal: 39m 18s\tremaining: 33m 3s\n",
      "44:\tloss: 1606.8035264\tbest: 1606.8035264 (44)\ttotal: 40m 42s\tremaining: 32m 34s\n",
      "45:\tloss: 1777.7492159\tbest: 1606.8035264 (44)\ttotal: 43m 36s\tremaining: 33m 10s\n",
      "46:\tloss: 1606.8762263\tbest: 1606.8035264 (44)\ttotal: 46m 27s\tremaining: 33m 36s\n",
      "47:\tloss: 1609.3478838\tbest: 1606.8035264 (44)\ttotal: 49m 16s\tremaining: 33m 52s\n",
      "48:\tloss: 1782.4900330\tbest: 1606.8035264 (44)\ttotal: 52m 8s\tremaining: 34m 3s\n",
      "49:\tloss: 1611.7144051\tbest: 1606.8035264 (44)\ttotal: 54m 59s\tremaining: 34m 5s\n",
      "50:\tloss: 1599.9373213\tbest: 1599.9373213 (50)\ttotal: 57m 48s\tremaining: 34m\n",
      "51:\tloss: 1786.0917520\tbest: 1599.9373213 (50)\ttotal: 1h 41s\tremaining: 33m 50s\n",
      "52:\tloss: 1617.6801220\tbest: 1599.9373213 (50)\ttotal: 1h 3m 29s\tremaining: 33m 32s\n",
      "53:\tloss: 1598.8916845\tbest: 1598.8916845 (53)\ttotal: 1h 6m 17s\tremaining: 33m 8s\n",
      "54:\tloss: 3162.6112534\tbest: 1598.8916845 (53)\ttotal: 1h 6m 49s\tremaining: 31m 35s\n",
      "55:\tloss: 1692.2301748\tbest: 1598.8916845 (53)\ttotal: 1h 7m 21s\tremaining: 30m 4s\n",
      "56:\tloss: 1641.4973075\tbest: 1598.8916845 (53)\ttotal: 1h 7m 52s\tremaining: 28m 34s\n",
      "57:\tloss: 3187.1845180\tbest: 1598.8916845 (53)\ttotal: 1h 8m 23s\tremaining: 27m 7s\n",
      "58:\tloss: 1703.4795823\tbest: 1598.8916845 (53)\ttotal: 1h 8m 55s\tremaining: 25m 41s\n",
      "59:\tloss: 1635.1798024\tbest: 1598.8916845 (53)\ttotal: 1h 9m 26s\tremaining: 24m 18s\n",
      "60:\tloss: 3206.7078916\tbest: 1598.8916845 (53)\ttotal: 1h 9m 57s\tremaining: 22m 56s\n",
      "61:\tloss: 1713.6375781\tbest: 1598.8916845 (53)\ttotal: 1h 10m 28s\tremaining: 21m 35s\n",
      "62:\tloss: 1637.0932822\tbest: 1598.8916845 (53)\ttotal: 1h 10m 59s\tremaining: 20m 17s\n",
      "63:\tloss: 1768.8704524\tbest: 1598.8916845 (53)\ttotal: 1h 13m 35s\tremaining: 19m 32s\n",
      "64:\tloss: 1588.1297190\tbest: 1588.1297190 (64)\ttotal: 1h 16m 11s\tremaining: 18m 45s\n",
      "65:\tloss: 1626.5980757\tbest: 1588.1297190 (64)\ttotal: 1h 18m 47s\tremaining: 17m 54s\n",
      "66:\tloss: 1777.4174574\tbest: 1588.1297190 (64)\ttotal: 1h 21m 24s\tremaining: 17m\n",
      "67:\tloss: 1602.3928639\tbest: 1588.1297190 (64)\ttotal: 1h 24m 1s\tremaining: 16m 3s\n",
      "68:\tloss: 1607.6963654\tbest: 1588.1297190 (64)\ttotal: 1h 26m 39s\tremaining: 15m 4s\n",
      "69:\tloss: 1785.9222431\tbest: 1588.1297190 (64)\ttotal: 1h 29m 15s\tremaining: 14m 1s\n",
      "70:\tloss: 1610.6124390\tbest: 1588.1297190 (64)\ttotal: 1h 31m 51s\tremaining: 12m 56s\n",
      "71:\tloss: 1599.6687663\tbest: 1588.1297190 (64)\ttotal: 1h 34m 33s\tremaining: 11m 49s\n",
      "72:\tloss: 1690.5273730\tbest: 1588.1297190 (64)\ttotal: 1h 39m 50s\tremaining: 10m 56s\n",
      "73:\tloss: 1570.6555422\tbest: 1570.6555422 (73)\ttotal: 1h 45m 2s\tremaining: 9m 56s\n",
      "74:\tloss: 1626.5980757\tbest: 1570.6555422 (73)\ttotal: 1h 50m 15s\tremaining: 8m 49s\n",
      "75:\tloss: 1699.9524296\tbest: 1570.6555422 (73)\ttotal: 1h 55m 31s\tremaining: 7m 35s\n",
      "76:\tloss: 1579.0834885\tbest: 1570.6555422 (73)\ttotal: 2h 44s\tremaining: 6m 16s\n",
      "77:\tloss: 1606.7018566\tbest: 1570.6555422 (73)\ttotal: 2h 6m\tremaining: 4m 50s\n",
      "78:\tloss: 1709.4883513\tbest: 1570.6555422 (73)\ttotal: 2h 11m 13s\tremaining: 3m 19s\n",
      "79:\tloss: 1585.0099504\tbest: 1570.6555422 (73)\ttotal: 2h 16m 28s\tremaining: 1m 42s\n",
      "80:\tloss: 1598.0202512\tbest: 1570.6555422 (73)\ttotal: 2h 21m 49s\tremaining: 0us\n",
      "Estimating final quality...\n",
      "CPU times: user 2h 25min 30s, sys: 16min 55s, total: 2h 42min 26s\n",
      "Wall time: 2h 44min 3s\n"
     ]
    }
   ],
   "source": [
    "%%time\n",
    "grid = {'learning_rate': [0.01, 0.1, 0.5],\n",
    "        'depth': [4, 8, 12],\n",
    "        'iterations': [100, 500, 1000],\n",
    "        'l2_leaf_reg': [1, 5, 9]}\n",
    "\n",
    "grid_search_result = model_cbr.grid_search(grid, \n",
    "                                       X=features_train, \n",
    "                                       y=target_train,\n",
    "                                       cv = 3)"
   ]
  },
  {
   "cell_type": "code",
   "execution_count": 114,
   "metadata": {},
   "outputs": [
    {
     "data": {
      "text/plain": [
       "{'learn': {'RMSE': 1259.4288500802706}}"
      ]
     },
     "execution_count": 114,
     "metadata": {},
     "output_type": "execute_result"
    }
   ],
   "source": [
    "model_cbr.get_best_score()"
   ]
  },
  {
   "cell_type": "code",
   "execution_count": 115,
   "metadata": {},
   "outputs": [
    {
     "data": {
      "text/plain": [
       "{'loss_function': 'RMSE',\n",
       " 'depth': 12,\n",
       " 'l2_leaf_reg': 1,\n",
       " 'iterations': 1000,\n",
       " 'learning_rate': 0.1}"
      ]
     },
     "execution_count": 115,
     "metadata": {},
     "output_type": "execute_result"
    }
   ],
   "source": [
    "model_cbr.get_params()"
   ]
  },
  {
   "cell_type": "markdown",
   "metadata": {},
   "source": [
    "Лучшая оценка RMSE для модели CatBoost - 1259.43, лучшие гиперпараметры:\n",
    "* depth: 12\n",
    "* l2_leaf_reg: 1\n",
    "* iterations: 1000\n",
    "* learning_rate: 0.1  \n",
    "\n",
    "Время обучения 2 часа 44 минуты."
   ]
  },
  {
   "cell_type": "markdown",
   "metadata": {},
   "source": [
    "Рассчитаем качество модели на тестовой выборке"
   ]
  },
  {
   "cell_type": "code",
   "execution_count": 116,
   "metadata": {},
   "outputs": [],
   "source": [
    "from sklearn.metrics import mean_squared_error"
   ]
  },
  {
   "cell_type": "code",
   "execution_count": 117,
   "metadata": {},
   "outputs": [],
   "source": [
    "predicted_test_cbr = model_cbr.predict(features_test)"
   ]
  },
  {
   "cell_type": "code",
   "execution_count": 118,
   "metadata": {},
   "outputs": [],
   "source": [
    "mse = mean_squared_error(target_test, predicted_test_cbr)"
   ]
  },
  {
   "cell_type": "code",
   "execution_count": 119,
   "metadata": {
    "scrolled": true
   },
   "outputs": [
    {
     "data": {
      "text/plain": [
       "1571.001442564717"
      ]
     },
     "execution_count": 119,
     "metadata": {},
     "output_type": "execute_result"
    }
   ],
   "source": [
    "RMSE = mse**0.5\n",
    "RMSE"
   ]
  },
  {
   "cell_type": "markdown",
   "metadata": {},
   "source": [
    "RMSE на тестовой выборке получилось 1571.0."
   ]
  },
  {
   "cell_type": "markdown",
   "metadata": {},
   "source": [
    "### Обучение модели LightGBM "
   ]
  },
  {
   "cell_type": "code",
   "execution_count": 120,
   "metadata": {},
   "outputs": [],
   "source": [
    "model_lgbm = lightgbm.LGBMRegressor()"
   ]
  },
  {
   "cell_type": "code",
   "execution_count": 121,
   "metadata": {},
   "outputs": [],
   "source": [
    "cat_features = ['VehicleType', 'RegistrationYear', 'Gearbox', 'Model', 'Kilometer', 'FuelType', 'Brand', 'NotRepaired']"
   ]
  },
  {
   "cell_type": "code",
   "execution_count": 132,
   "metadata": {},
   "outputs": [],
   "source": [
    "param_grid = {'learning_rate': [0.01, 0.1, 0.5],\n",
    "              'max_depth': [4, 8, 12],\n",
    "              'n_estimators': [100, 200 , 300],\n",
    "              'num_leaves': [16, 64, 144]}"
   ]
  },
  {
   "cell_type": "code",
   "execution_count": 133,
   "metadata": {},
   "outputs": [],
   "source": [
    "from sklearn.metrics import make_scorer"
   ]
  },
  {
   "cell_type": "code",
   "execution_count": 134,
   "metadata": {},
   "outputs": [],
   "source": [
    "# Функция расчета RMSE\n",
    "def RMSE(target, predict):\n",
    "    mse = mean_squared_error(target, predict)\n",
    "    RMSE = mse**0.5\n",
    "    return RMSE"
   ]
  },
  {
   "cell_type": "code",
   "execution_count": 135,
   "metadata": {},
   "outputs": [],
   "source": [
    "scorer = make_scorer(score_func = RMSE, greater_is_better = False)"
   ]
  },
  {
   "cell_type": "code",
   "execution_count": 136,
   "metadata": {},
   "outputs": [],
   "source": [
    "grid = GridSearchCV(model_lgbm, param_grid=param_grid, cv=3, scoring=scorer, verbose = 50)"
   ]
  },
  {
   "cell_type": "code",
   "execution_count": 137,
   "metadata": {},
   "outputs": [
    {
     "name": "stdout",
     "output_type": "stream",
     "text": [
      "Fitting 3 folds for each of 81 candidates, totalling 243 fits\n",
      "[Parallel(n_jobs=1)]: Using backend SequentialBackend with 1 concurrent workers.\n",
      "[CV] learning_rate=0.01, max_depth=4, n_estimators=100, num_leaves=16 \n",
      "[CV]  learning_rate=0.01, max_depth=4, n_estimators=100, num_leaves=16, score=-2801.507, total= 3.7min\n",
      "[Parallel(n_jobs=1)]: Done   1 out of   1 | elapsed:  3.7min remaining:    0.0s\n",
      "[CV] learning_rate=0.01, max_depth=4, n_estimators=100, num_leaves=16 \n",
      "[CV]  learning_rate=0.01, max_depth=4, n_estimators=100, num_leaves=16, score=-2798.697, total= 2.3min\n",
      "[Parallel(n_jobs=1)]: Done   2 out of   2 | elapsed:  6.0min remaining:    0.0s\n",
      "[CV] learning_rate=0.01, max_depth=4, n_estimators=100, num_leaves=16 \n",
      "[CV]  learning_rate=0.01, max_depth=4, n_estimators=100, num_leaves=16, score=-2811.469, total=  53.0s\n",
      "[Parallel(n_jobs=1)]: Done   3 out of   3 | elapsed:  6.9min remaining:    0.0s\n",
      "[CV] learning_rate=0.01, max_depth=4, n_estimators=100, num_leaves=64 \n",
      "[CV]  learning_rate=0.01, max_depth=4, n_estimators=100, num_leaves=64, score=-2801.507, total= 2.4min\n",
      "[Parallel(n_jobs=1)]: Done   4 out of   4 | elapsed:  9.3min remaining:    0.0s\n",
      "[CV] learning_rate=0.01, max_depth=4, n_estimators=100, num_leaves=64 \n",
      "[CV]  learning_rate=0.01, max_depth=4, n_estimators=100, num_leaves=64, score=-2798.697, total= 1.1min\n",
      "[Parallel(n_jobs=1)]: Done   5 out of   5 | elapsed: 10.4min remaining:    0.0s\n",
      "[CV] learning_rate=0.01, max_depth=4, n_estimators=100, num_leaves=64 \n",
      "[CV]  learning_rate=0.01, max_depth=4, n_estimators=100, num_leaves=64, score=-2811.469, total= 1.1min\n",
      "[Parallel(n_jobs=1)]: Done   6 out of   6 | elapsed: 11.5min remaining:    0.0s\n",
      "[CV] learning_rate=0.01, max_depth=4, n_estimators=100, num_leaves=144 \n",
      "[CV]  learning_rate=0.01, max_depth=4, n_estimators=100, num_leaves=144, score=-2801.507, total= 1.8min\n",
      "[Parallel(n_jobs=1)]: Done   7 out of   7 | elapsed: 13.3min remaining:    0.0s\n",
      "[CV] learning_rate=0.01, max_depth=4, n_estimators=100, num_leaves=144 \n",
      "[CV]  learning_rate=0.01, max_depth=4, n_estimators=100, num_leaves=144, score=-2798.697, total= 3.9min\n",
      "[Parallel(n_jobs=1)]: Done   8 out of   8 | elapsed: 17.2min remaining:    0.0s\n",
      "[CV] learning_rate=0.01, max_depth=4, n_estimators=100, num_leaves=144 \n",
      "[CV]  learning_rate=0.01, max_depth=4, n_estimators=100, num_leaves=144, score=-2811.469, total= 2.8min\n",
      "[Parallel(n_jobs=1)]: Done   9 out of   9 | elapsed: 20.1min remaining:    0.0s\n",
      "[CV] learning_rate=0.01, max_depth=4, n_estimators=200, num_leaves=16 \n",
      "[CV]  learning_rate=0.01, max_depth=4, n_estimators=200, num_leaves=16, score=-2280.252, total=  14.5s\n",
      "[Parallel(n_jobs=1)]: Done  10 out of  10 | elapsed: 20.3min remaining:    0.0s\n",
      "[CV] learning_rate=0.01, max_depth=4, n_estimators=200, num_leaves=16 \n",
      "[CV]  learning_rate=0.01, max_depth=4, n_estimators=200, num_leaves=16, score=-2286.057, total=  13.2s\n",
      "[Parallel(n_jobs=1)]: Done  11 out of  11 | elapsed: 20.5min remaining:    0.0s\n",
      "[CV] learning_rate=0.01, max_depth=4, n_estimators=200, num_leaves=16 \n",
      "[CV]  learning_rate=0.01, max_depth=4, n_estimators=200, num_leaves=16, score=-2291.489, total= 1.2min\n",
      "[Parallel(n_jobs=1)]: Done  12 out of  12 | elapsed: 21.7min remaining:    0.0s\n",
      "[CV] learning_rate=0.01, max_depth=4, n_estimators=200, num_leaves=64 \n",
      "[CV]  learning_rate=0.01, max_depth=4, n_estimators=200, num_leaves=64, score=-2280.252, total=  21.0s\n",
      "[Parallel(n_jobs=1)]: Done  13 out of  13 | elapsed: 22.1min remaining:    0.0s\n",
      "[CV] learning_rate=0.01, max_depth=4, n_estimators=200, num_leaves=64 \n",
      "[CV]  learning_rate=0.01, max_depth=4, n_estimators=200, num_leaves=64, score=-2286.057, total=  26.6s\n",
      "[Parallel(n_jobs=1)]: Done  14 out of  14 | elapsed: 22.5min remaining:    0.0s\n",
      "[CV] learning_rate=0.01, max_depth=4, n_estimators=200, num_leaves=64 \n",
      "[CV]  learning_rate=0.01, max_depth=4, n_estimators=200, num_leaves=64, score=-2291.489, total=  25.4s\n",
      "[Parallel(n_jobs=1)]: Done  15 out of  15 | elapsed: 23.0min remaining:    0.0s\n",
      "[CV] learning_rate=0.01, max_depth=4, n_estimators=200, num_leaves=144 \n",
      "[CV]  learning_rate=0.01, max_depth=4, n_estimators=200, num_leaves=144, score=-2280.252, total=  24.3s\n",
      "[Parallel(n_jobs=1)]: Done  16 out of  16 | elapsed: 23.4min remaining:    0.0s\n",
      "[CV] learning_rate=0.01, max_depth=4, n_estimators=200, num_leaves=144 \n",
      "[CV]  learning_rate=0.01, max_depth=4, n_estimators=200, num_leaves=144, score=-2286.057, total=  32.0s\n",
      "[Parallel(n_jobs=1)]: Done  17 out of  17 | elapsed: 23.9min remaining:    0.0s\n",
      "[CV] learning_rate=0.01, max_depth=4, n_estimators=200, num_leaves=144 \n",
      "[CV]  learning_rate=0.01, max_depth=4, n_estimators=200, num_leaves=144, score=-2291.489, total=  12.4s\n",
      "[Parallel(n_jobs=1)]: Done  18 out of  18 | elapsed: 24.1min remaining:    0.0s\n",
      "[CV] learning_rate=0.01, max_depth=4, n_estimators=300, num_leaves=16 \n",
      "[CV]  learning_rate=0.01, max_depth=4, n_estimators=300, num_leaves=16, score=-2090.753, total=  17.7s\n",
      "[Parallel(n_jobs=1)]: Done  19 out of  19 | elapsed: 24.4min remaining:    0.0s\n",
      "[CV] learning_rate=0.01, max_depth=4, n_estimators=300, num_leaves=16 \n",
      "[CV]  learning_rate=0.01, max_depth=4, n_estimators=300, num_leaves=16, score=-2102.410, total=  19.1s\n",
      "[Parallel(n_jobs=1)]: Done  20 out of  20 | elapsed: 24.7min remaining:    0.0s\n",
      "[CV] learning_rate=0.01, max_depth=4, n_estimators=300, num_leaves=16 \n",
      "[CV]  learning_rate=0.01, max_depth=4, n_estimators=300, num_leaves=16, score=-2103.488, total=  20.7s\n",
      "[Parallel(n_jobs=1)]: Done  21 out of  21 | elapsed: 25.1min remaining:    0.0s\n",
      "[CV] learning_rate=0.01, max_depth=4, n_estimators=300, num_leaves=64 \n",
      "[CV]  learning_rate=0.01, max_depth=4, n_estimators=300, num_leaves=64, score=-2090.753, total=  17.4s\n",
      "[Parallel(n_jobs=1)]: Done  22 out of  22 | elapsed: 25.4min remaining:    0.0s\n",
      "[CV] learning_rate=0.01, max_depth=4, n_estimators=300, num_leaves=64 \n",
      "[CV]  learning_rate=0.01, max_depth=4, n_estimators=300, num_leaves=64, score=-2102.410, total=  27.8s\n",
      "[Parallel(n_jobs=1)]: Done  23 out of  23 | elapsed: 25.8min remaining:    0.0s\n",
      "[CV] learning_rate=0.01, max_depth=4, n_estimators=300, num_leaves=64 \n",
      "[CV]  learning_rate=0.01, max_depth=4, n_estimators=300, num_leaves=64, score=-2103.488, total=  24.0s\n",
      "[Parallel(n_jobs=1)]: Done  24 out of  24 | elapsed: 26.2min remaining:    0.0s\n",
      "[CV] learning_rate=0.01, max_depth=4, n_estimators=300, num_leaves=144 \n",
      "[CV]  learning_rate=0.01, max_depth=4, n_estimators=300, num_leaves=144, score=-2090.753, total=  18.6s\n",
      "[Parallel(n_jobs=1)]: Done  25 out of  25 | elapsed: 26.5min remaining:    0.0s\n",
      "[CV] learning_rate=0.01, max_depth=4, n_estimators=300, num_leaves=144 \n",
      "[CV]  learning_rate=0.01, max_depth=4, n_estimators=300, num_leaves=144, score=-2102.410, total=  18.4s\n",
      "[Parallel(n_jobs=1)]: Done  26 out of  26 | elapsed: 26.8min remaining:    0.0s\n",
      "[CV] learning_rate=0.01, max_depth=4, n_estimators=300, num_leaves=144 \n",
      "[CV]  learning_rate=0.01, max_depth=4, n_estimators=300, num_leaves=144, score=-2103.488, total= 1.4min\n",
      "[Parallel(n_jobs=1)]: Done  27 out of  27 | elapsed: 28.2min remaining:    0.0s\n",
      "[CV] learning_rate=0.01, max_depth=8, n_estimators=100, num_leaves=16 \n",
      "[CV]  learning_rate=0.01, max_depth=8, n_estimators=100, num_leaves=16, score=-2764.604, total= 1.2min\n",
      "[Parallel(n_jobs=1)]: Done  28 out of  28 | elapsed: 29.4min remaining:    0.0s\n",
      "[CV] learning_rate=0.01, max_depth=8, n_estimators=100, num_leaves=16 \n",
      "[CV]  learning_rate=0.01, max_depth=8, n_estimators=100, num_leaves=16, score=-2766.149, total=  49.8s\n",
      "[Parallel(n_jobs=1)]: Done  29 out of  29 | elapsed: 30.2min remaining:    0.0s\n",
      "[CV] learning_rate=0.01, max_depth=8, n_estimators=100, num_leaves=16 \n",
      "[CV]  learning_rate=0.01, max_depth=8, n_estimators=100, num_leaves=16, score=-2776.767, total=   7.3s\n",
      "[Parallel(n_jobs=1)]: Done  30 out of  30 | elapsed: 30.4min remaining:    0.0s\n",
      "[CV] learning_rate=0.01, max_depth=8, n_estimators=100, num_leaves=64 \n",
      "[CV]  learning_rate=0.01, max_depth=8, n_estimators=100, num_leaves=64, score=-2583.987, total=  12.2s\n",
      "[Parallel(n_jobs=1)]: Done  31 out of  31 | elapsed: 30.6min remaining:    0.0s\n",
      "[CV] learning_rate=0.01, max_depth=8, n_estimators=100, num_leaves=64 \n",
      "[CV]  learning_rate=0.01, max_depth=8, n_estimators=100, num_leaves=64, score=-2589.555, total=  13.5s\n",
      "[Parallel(n_jobs=1)]: Done  32 out of  32 | elapsed: 30.8min remaining:    0.0s\n",
      "[CV] learning_rate=0.01, max_depth=8, n_estimators=100, num_leaves=64 \n",
      "[CV]  learning_rate=0.01, max_depth=8, n_estimators=100, num_leaves=64, score=-2595.032, total=  12.1s\n",
      "[Parallel(n_jobs=1)]: Done  33 out of  33 | elapsed: 31.0min remaining:    0.0s\n",
      "[CV] learning_rate=0.01, max_depth=8, n_estimators=100, num_leaves=144 \n",
      "[CV]  learning_rate=0.01, max_depth=8, n_estimators=100, num_leaves=144, score=-2513.326, total=  38.6s\n",
      "[Parallel(n_jobs=1)]: Done  34 out of  34 | elapsed: 31.6min remaining:    0.0s\n",
      "[CV] learning_rate=0.01, max_depth=8, n_estimators=100, num_leaves=144 \n",
      "[CV]  learning_rate=0.01, max_depth=8, n_estimators=100, num_leaves=144, score=-2523.532, total=  29.8s\n",
      "[Parallel(n_jobs=1)]: Done  35 out of  35 | elapsed: 32.1min remaining:    0.0s\n",
      "[CV] learning_rate=0.01, max_depth=8, n_estimators=100, num_leaves=144 \n",
      "[CV]  learning_rate=0.01, max_depth=8, n_estimators=100, num_leaves=144, score=-2528.630, total=  25.1s\n",
      "[Parallel(n_jobs=1)]: Done  36 out of  36 | elapsed: 32.6min remaining:    0.0s\n",
      "[CV] learning_rate=0.01, max_depth=8, n_estimators=200, num_leaves=16 \n",
      "[CV]  learning_rate=0.01, max_depth=8, n_estimators=200, num_leaves=16, score=-2228.239, total=  15.3s\n",
      "[Parallel(n_jobs=1)]: Done  37 out of  37 | elapsed: 32.8min remaining:    0.0s\n",
      "[CV] learning_rate=0.01, max_depth=8, n_estimators=200, num_leaves=16 \n",
      "[CV]  learning_rate=0.01, max_depth=8, n_estimators=200, num_leaves=16, score=-2240.133, total=  14.5s\n",
      "[Parallel(n_jobs=1)]: Done  38 out of  38 | elapsed: 33.1min remaining:    0.0s\n",
      "[CV] learning_rate=0.01, max_depth=8, n_estimators=200, num_leaves=16 \n",
      "[CV]  learning_rate=0.01, max_depth=8, n_estimators=200, num_leaves=16, score=-2242.049, total= 2.1min\n",
      "[Parallel(n_jobs=1)]: Done  39 out of  39 | elapsed: 35.2min remaining:    0.0s\n",
      "[CV] learning_rate=0.01, max_depth=8, n_estimators=200, num_leaves=64 \n",
      "[CV]  learning_rate=0.01, max_depth=8, n_estimators=200, num_leaves=64, score=-2034.852, total= 3.3min\n",
      "[Parallel(n_jobs=1)]: Done  40 out of  40 | elapsed: 38.5min remaining:    0.0s\n",
      "[CV] learning_rate=0.01, max_depth=8, n_estimators=200, num_leaves=64 \n",
      "[CV]  learning_rate=0.01, max_depth=8, n_estimators=200, num_leaves=64, score=-2051.255, total=  25.6s\n",
      "[Parallel(n_jobs=1)]: Done  41 out of  41 | elapsed: 38.9min remaining:    0.0s\n",
      "[CV] learning_rate=0.01, max_depth=8, n_estimators=200, num_leaves=64 \n",
      "[CV]  learning_rate=0.01, max_depth=8, n_estimators=200, num_leaves=64, score=-2047.892, total=  23.3s\n",
      "[Parallel(n_jobs=1)]: Done  42 out of  42 | elapsed: 39.3min remaining:    0.0s\n",
      "[CV] learning_rate=0.01, max_depth=8, n_estimators=200, num_leaves=144 \n",
      "[CV]  learning_rate=0.01, max_depth=8, n_estimators=200, num_leaves=144, score=-1958.821, total=  31.8s\n",
      "[Parallel(n_jobs=1)]: Done  43 out of  43 | elapsed: 39.8min remaining:    0.0s\n",
      "[CV] learning_rate=0.01, max_depth=8, n_estimators=200, num_leaves=144 \n",
      "[CV]  learning_rate=0.01, max_depth=8, n_estimators=200, num_leaves=144, score=-1981.364, total=  33.4s\n",
      "[Parallel(n_jobs=1)]: Done  44 out of  44 | elapsed: 40.4min remaining:    0.0s\n",
      "[CV] learning_rate=0.01, max_depth=8, n_estimators=200, num_leaves=144 \n",
      "[CV]  learning_rate=0.01, max_depth=8, n_estimators=200, num_leaves=144, score=-1978.891, total=  31.7s\n",
      "[Parallel(n_jobs=1)]: Done  45 out of  45 | elapsed: 40.9min remaining:    0.0s\n",
      "[CV] learning_rate=0.01, max_depth=8, n_estimators=300, num_leaves=16 \n",
      "[CV]  learning_rate=0.01, max_depth=8, n_estimators=300, num_leaves=16, score=-2029.451, total=  20.7s\n",
      "[Parallel(n_jobs=1)]: Done  46 out of  46 | elapsed: 41.3min remaining:    0.0s\n",
      "[CV] learning_rate=0.01, max_depth=8, n_estimators=300, num_leaves=16 \n",
      "[CV]  learning_rate=0.01, max_depth=8, n_estimators=300, num_leaves=16, score=-2048.222, total=  20.6s\n",
      "[Parallel(n_jobs=1)]: Done  47 out of  47 | elapsed: 41.6min remaining:    0.0s\n",
      "[CV] learning_rate=0.01, max_depth=8, n_estimators=300, num_leaves=16 \n",
      "[CV]  learning_rate=0.01, max_depth=8, n_estimators=300, num_leaves=16, score=-2043.673, total=  20.5s\n",
      "[Parallel(n_jobs=1)]: Done  48 out of  48 | elapsed: 42.0min remaining:    0.0s\n",
      "[CV] learning_rate=0.01, max_depth=8, n_estimators=300, num_leaves=64 \n",
      "[CV]  learning_rate=0.01, max_depth=8, n_estimators=300, num_leaves=64, score=-1855.784, total=  35.8s\n",
      "[Parallel(n_jobs=1)]: Done  49 out of  49 | elapsed: 42.5min remaining:    0.0s\n",
      "[CV] learning_rate=0.01, max_depth=8, n_estimators=300, num_leaves=64 \n",
      "[CV]  learning_rate=0.01, max_depth=8, n_estimators=300, num_leaves=64, score=-1878.617, total= 4.5min\n",
      "[CV] learning_rate=0.01, max_depth=8, n_estimators=300, num_leaves=64 \n",
      "[CV]  learning_rate=0.01, max_depth=8, n_estimators=300, num_leaves=64, score=-1871.292, total= 6.6min\n",
      "[CV] learning_rate=0.01, max_depth=8, n_estimators=300, num_leaves=144 \n",
      "[CV]  learning_rate=0.01, max_depth=8, n_estimators=300, num_leaves=144, score=-1797.667, total= 5.0min\n",
      "[CV] learning_rate=0.01, max_depth=8, n_estimators=300, num_leaves=144 \n",
      "[CV]  learning_rate=0.01, max_depth=8, n_estimators=300, num_leaves=144, score=-1825.486, total=  46.9s\n",
      "[CV] learning_rate=0.01, max_depth=8, n_estimators=300, num_leaves=144 \n",
      "[CV]  learning_rate=0.01, max_depth=8, n_estimators=300, num_leaves=144, score=-1817.318, total=  51.9s\n",
      "[CV] learning_rate=0.01, max_depth=12, n_estimators=100, num_leaves=16 \n",
      "[CV]  learning_rate=0.01, max_depth=12, n_estimators=100, num_leaves=16, score=-2764.604, total=   7.2s\n",
      "[CV] learning_rate=0.01, max_depth=12, n_estimators=100, num_leaves=16 \n",
      "[CV]  learning_rate=0.01, max_depth=12, n_estimators=100, num_leaves=16, score=-2766.149, total=   7.9s\n",
      "[CV] learning_rate=0.01, max_depth=12, n_estimators=100, num_leaves=16 \n",
      "[CV]  learning_rate=0.01, max_depth=12, n_estimators=100, num_leaves=16, score=-2776.767, total=   8.7s\n",
      "[CV] learning_rate=0.01, max_depth=12, n_estimators=100, num_leaves=64 \n",
      "[CV]  learning_rate=0.01, max_depth=12, n_estimators=100, num_leaves=64, score=-2583.392, total=  16.5s\n",
      "[CV] learning_rate=0.01, max_depth=12, n_estimators=100, num_leaves=64 \n",
      "[CV]  learning_rate=0.01, max_depth=12, n_estimators=100, num_leaves=64, score=-2588.828, total=  13.8s\n",
      "[CV] learning_rate=0.01, max_depth=12, n_estimators=100, num_leaves=64 \n",
      "[CV]  learning_rate=0.01, max_depth=12, n_estimators=100, num_leaves=64, score=-2593.789, total=  13.3s\n",
      "[CV] learning_rate=0.01, max_depth=12, n_estimators=100, num_leaves=144 \n",
      "[CV]  learning_rate=0.01, max_depth=12, n_estimators=100, num_leaves=144, score=-2501.362, total=  48.4s\n",
      "[CV] learning_rate=0.01, max_depth=12, n_estimators=100, num_leaves=144 \n",
      "[CV]  learning_rate=0.01, max_depth=12, n_estimators=100, num_leaves=144, score=-2509.299, total= 2.3min\n",
      "[CV] learning_rate=0.01, max_depth=12, n_estimators=100, num_leaves=144 \n",
      "[CV]  learning_rate=0.01, max_depth=12, n_estimators=100, num_leaves=144, score=-2515.144, total=12.2min\n",
      "[CV] learning_rate=0.01, max_depth=12, n_estimators=200, num_leaves=16 \n",
      "[CV]  learning_rate=0.01, max_depth=12, n_estimators=200, num_leaves=16, score=-2227.832, total= 3.0min\n",
      "[CV] learning_rate=0.01, max_depth=12, n_estimators=200, num_leaves=16 \n",
      "[CV]  learning_rate=0.01, max_depth=12, n_estimators=200, num_leaves=16, score=-2240.133, total=  15.8s\n",
      "[CV] learning_rate=0.01, max_depth=12, n_estimators=200, num_leaves=16 \n",
      "[CV]  learning_rate=0.01, max_depth=12, n_estimators=200, num_leaves=16, score=-2241.654, total=  51.7s\n",
      "[CV] learning_rate=0.01, max_depth=12, n_estimators=200, num_leaves=64 \n",
      "[CV]  learning_rate=0.01, max_depth=12, n_estimators=200, num_leaves=64, score=-2029.541, total= 4.5min\n",
      "[CV] learning_rate=0.01, max_depth=12, n_estimators=200, num_leaves=64 \n",
      "[CV]  learning_rate=0.01, max_depth=12, n_estimators=200, num_leaves=64, score=-2045.904, total= 4.3min\n",
      "[CV] learning_rate=0.01, max_depth=12, n_estimators=200, num_leaves=64 \n",
      "[CV]  learning_rate=0.01, max_depth=12, n_estimators=200, num_leaves=64, score=-2042.527, total= 3.6min\n",
      "[CV] learning_rate=0.01, max_depth=12, n_estimators=200, num_leaves=144 \n",
      "[CV]  learning_rate=0.01, max_depth=12, n_estimators=200, num_leaves=144, score=-1937.905, total= 1.6min\n",
      "[CV] learning_rate=0.01, max_depth=12, n_estimators=200, num_leaves=144 \n",
      "[CV]  learning_rate=0.01, max_depth=12, n_estimators=200, num_leaves=144, score=-1955.594, total=  37.3s\n",
      "[CV] learning_rate=0.01, max_depth=12, n_estimators=200, num_leaves=144 \n",
      "[CV]  learning_rate=0.01, max_depth=12, n_estimators=200, num_leaves=144, score=-1953.117, total=  36.3s\n",
      "[CV] learning_rate=0.01, max_depth=12, n_estimators=300, num_leaves=16 \n",
      "[CV]  learning_rate=0.01, max_depth=12, n_estimators=300, num_leaves=16, score=-2029.448, total=  21.0s\n",
      "[CV] learning_rate=0.01, max_depth=12, n_estimators=300, num_leaves=16 \n",
      "[CV]  learning_rate=0.01, max_depth=12, n_estimators=300, num_leaves=16, score=-2047.288, total=  20.2s\n",
      "[CV] learning_rate=0.01, max_depth=12, n_estimators=300, num_leaves=16 \n",
      "[CV]  learning_rate=0.01, max_depth=12, n_estimators=300, num_leaves=16, score=-2042.158, total=  21.5s\n",
      "[CV] learning_rate=0.01, max_depth=12, n_estimators=300, num_leaves=64 \n",
      "[CV]  learning_rate=0.01, max_depth=12, n_estimators=300, num_leaves=64, score=-1846.003, total=  35.7s\n",
      "[CV] learning_rate=0.01, max_depth=12, n_estimators=300, num_leaves=64 \n",
      "[CV]  learning_rate=0.01, max_depth=12, n_estimators=300, num_leaves=64, score=-1868.885, total=  41.2s\n",
      "[CV] learning_rate=0.01, max_depth=12, n_estimators=300, num_leaves=64 \n",
      "[CV]  learning_rate=0.01, max_depth=12, n_estimators=300, num_leaves=64, score=-1862.508, total=  36.4s\n",
      "[CV] learning_rate=0.01, max_depth=12, n_estimators=300, num_leaves=144 \n",
      "[CV]  learning_rate=0.01, max_depth=12, n_estimators=300, num_leaves=144, score=-1770.648, total=  57.0s\n",
      "[CV] learning_rate=0.01, max_depth=12, n_estimators=300, num_leaves=144 \n",
      "[CV]  learning_rate=0.01, max_depth=12, n_estimators=300, num_leaves=144, score=-1795.629, total=  56.8s\n",
      "[CV] learning_rate=0.01, max_depth=12, n_estimators=300, num_leaves=144 \n",
      "[CV]  learning_rate=0.01, max_depth=12, n_estimators=300, num_leaves=144, score=-1789.148, total=  59.5s\n",
      "[CV] learning_rate=0.1, max_depth=4, n_estimators=100, num_leaves=16 .\n",
      "[CV]  learning_rate=0.1, max_depth=4, n_estimators=100, num_leaves=16, score=-1821.945, total=   5.3s\n",
      "[CV] learning_rate=0.1, max_depth=4, n_estimators=100, num_leaves=16 .\n",
      "[CV]  learning_rate=0.1, max_depth=4, n_estimators=100, num_leaves=16, score=-1843.908, total=   9.9s\n",
      "[CV] learning_rate=0.1, max_depth=4, n_estimators=100, num_leaves=16 .\n",
      "[CV]  learning_rate=0.1, max_depth=4, n_estimators=100, num_leaves=16, score=-1845.791, total=   5.8s\n",
      "[CV] learning_rate=0.1, max_depth=4, n_estimators=100, num_leaves=64 .\n",
      "[CV]  learning_rate=0.1, max_depth=4, n_estimators=100, num_leaves=64, score=-1821.945, total=   5.5s\n",
      "[CV] learning_rate=0.1, max_depth=4, n_estimators=100, num_leaves=64 .\n",
      "[CV]  learning_rate=0.1, max_depth=4, n_estimators=100, num_leaves=64, score=-1843.908, total=   6.6s\n",
      "[CV] learning_rate=0.1, max_depth=4, n_estimators=100, num_leaves=64 .\n",
      "[CV]  learning_rate=0.1, max_depth=4, n_estimators=100, num_leaves=64, score=-1845.791, total=   6.1s\n",
      "[CV] learning_rate=0.1, max_depth=4, n_estimators=100, num_leaves=144 \n",
      "[CV]  learning_rate=0.1, max_depth=4, n_estimators=100, num_leaves=144, score=-1821.945, total=   6.3s\n",
      "[CV] learning_rate=0.1, max_depth=4, n_estimators=100, num_leaves=144 \n",
      "[CV]  learning_rate=0.1, max_depth=4, n_estimators=100, num_leaves=144, score=-1843.908, total=   5.5s\n",
      "[CV] learning_rate=0.1, max_depth=4, n_estimators=100, num_leaves=144 \n",
      "[CV]  learning_rate=0.1, max_depth=4, n_estimators=100, num_leaves=144, score=-1845.791, total=   5.7s\n",
      "[CV] learning_rate=0.1, max_depth=4, n_estimators=200, num_leaves=16 .\n",
      "[CV]  learning_rate=0.1, max_depth=4, n_estimators=200, num_leaves=16, score=-1748.992, total=  11.4s\n",
      "[CV] learning_rate=0.1, max_depth=4, n_estimators=200, num_leaves=16 .\n",
      "[CV]  learning_rate=0.1, max_depth=4, n_estimators=200, num_leaves=16, score=-1779.635, total=  11.1s\n",
      "[CV] learning_rate=0.1, max_depth=4, n_estimators=200, num_leaves=16 .\n",
      "[CV]  learning_rate=0.1, max_depth=4, n_estimators=200, num_leaves=16, score=-1778.537, total=  11.0s\n",
      "[CV] learning_rate=0.1, max_depth=4, n_estimators=200, num_leaves=64 .\n",
      "[CV]  learning_rate=0.1, max_depth=4, n_estimators=200, num_leaves=64, score=-1748.992, total=  12.4s\n",
      "[CV] learning_rate=0.1, max_depth=4, n_estimators=200, num_leaves=64 .\n",
      "[CV]  learning_rate=0.1, max_depth=4, n_estimators=200, num_leaves=64, score=-1779.635, total=  12.3s\n",
      "[CV] learning_rate=0.1, max_depth=4, n_estimators=200, num_leaves=64 .\n",
      "[CV]  learning_rate=0.1, max_depth=4, n_estimators=200, num_leaves=64, score=-1778.537, total=  11.2s\n",
      "[CV] learning_rate=0.1, max_depth=4, n_estimators=200, num_leaves=144 \n",
      "[CV]  learning_rate=0.1, max_depth=4, n_estimators=200, num_leaves=144, score=-1748.992, total=  11.7s\n",
      "[CV] learning_rate=0.1, max_depth=4, n_estimators=200, num_leaves=144 \n",
      "[CV]  learning_rate=0.1, max_depth=4, n_estimators=200, num_leaves=144, score=-1779.635, total=  10.2s\n",
      "[CV] learning_rate=0.1, max_depth=4, n_estimators=200, num_leaves=144 \n",
      "[CV]  learning_rate=0.1, max_depth=4, n_estimators=200, num_leaves=144, score=-1778.537, total=  11.2s\n",
      "[CV] learning_rate=0.1, max_depth=4, n_estimators=300, num_leaves=16 .\n",
      "[CV]  learning_rate=0.1, max_depth=4, n_estimators=300, num_leaves=16, score=-1717.701, total=  16.3s\n",
      "[CV] learning_rate=0.1, max_depth=4, n_estimators=300, num_leaves=16 .\n",
      "[CV]  learning_rate=0.1, max_depth=4, n_estimators=300, num_leaves=16, score=-1748.642, total=  16.7s\n",
      "[CV] learning_rate=0.1, max_depth=4, n_estimators=300, num_leaves=16 .\n",
      "[CV]  learning_rate=0.1, max_depth=4, n_estimators=300, num_leaves=16, score=-1740.675, total=  16.3s\n",
      "[CV] learning_rate=0.1, max_depth=4, n_estimators=300, num_leaves=64 .\n",
      "[CV]  learning_rate=0.1, max_depth=4, n_estimators=300, num_leaves=64, score=-1717.701, total=  17.3s\n",
      "[CV] learning_rate=0.1, max_depth=4, n_estimators=300, num_leaves=64 .\n",
      "[CV]  learning_rate=0.1, max_depth=4, n_estimators=300, num_leaves=64, score=-1748.642, total=  16.7s\n",
      "[CV] learning_rate=0.1, max_depth=4, n_estimators=300, num_leaves=64 .\n",
      "[CV]  learning_rate=0.1, max_depth=4, n_estimators=300, num_leaves=64, score=-1740.675, total=  15.6s\n",
      "[CV] learning_rate=0.1, max_depth=4, n_estimators=300, num_leaves=144 \n",
      "[CV]  learning_rate=0.1, max_depth=4, n_estimators=300, num_leaves=144, score=-1717.701, total=  16.6s\n",
      "[CV] learning_rate=0.1, max_depth=4, n_estimators=300, num_leaves=144 \n",
      "[CV]  learning_rate=0.1, max_depth=4, n_estimators=300, num_leaves=144, score=-1748.642, total=  15.7s\n",
      "[CV] learning_rate=0.1, max_depth=4, n_estimators=300, num_leaves=144 \n",
      "[CV]  learning_rate=0.1, max_depth=4, n_estimators=300, num_leaves=144, score=-1740.675, total=  18.5s\n",
      "[CV] learning_rate=0.1, max_depth=8, n_estimators=100, num_leaves=16 .\n",
      "[CV]  learning_rate=0.1, max_depth=8, n_estimators=100, num_leaves=16, score=-1779.686, total=  30.3s\n",
      "[CV] learning_rate=0.1, max_depth=8, n_estimators=100, num_leaves=16 .\n",
      "[CV]  learning_rate=0.1, max_depth=8, n_estimators=100, num_leaves=16, score=-1806.822, total=   8.1s\n",
      "[CV] learning_rate=0.1, max_depth=8, n_estimators=100, num_leaves=16 .\n",
      "[CV]  learning_rate=0.1, max_depth=8, n_estimators=100, num_leaves=16, score=-1798.985, total=   6.1s\n",
      "[CV] learning_rate=0.1, max_depth=8, n_estimators=100, num_leaves=64 .\n",
      "[CV]  learning_rate=0.1, max_depth=8, n_estimators=100, num_leaves=64, score=-1673.020, total=   9.9s\n",
      "[CV] learning_rate=0.1, max_depth=8, n_estimators=100, num_leaves=64 .\n",
      "[CV]  learning_rate=0.1, max_depth=8, n_estimators=100, num_leaves=64, score=-1696.195, total=  10.2s\n",
      "[CV] learning_rate=0.1, max_depth=8, n_estimators=100, num_leaves=64 .\n",
      "[CV]  learning_rate=0.1, max_depth=8, n_estimators=100, num_leaves=64, score=-1690.836, total=   9.8s\n",
      "[CV] learning_rate=0.1, max_depth=8, n_estimators=100, num_leaves=144 \n",
      "[CV]  learning_rate=0.1, max_depth=8, n_estimators=100, num_leaves=144, score=-1641.645, total=  13.5s\n",
      "[CV] learning_rate=0.1, max_depth=8, n_estimators=100, num_leaves=144 \n",
      "[CV]  learning_rate=0.1, max_depth=8, n_estimators=100, num_leaves=144, score=-1671.240, total=  13.7s\n",
      "[CV] learning_rate=0.1, max_depth=8, n_estimators=100, num_leaves=144 \n",
      "[CV]  learning_rate=0.1, max_depth=8, n_estimators=100, num_leaves=144, score=-1661.945, total=  12.5s\n",
      "[CV] learning_rate=0.1, max_depth=8, n_estimators=200, num_leaves=16 .\n",
      "[CV]  learning_rate=0.1, max_depth=8, n_estimators=200, num_leaves=16, score=-1716.946, total= 3.5min\n",
      "[CV] learning_rate=0.1, max_depth=8, n_estimators=200, num_leaves=16 .\n",
      "[CV]  learning_rate=0.1, max_depth=8, n_estimators=200, num_leaves=16, score=-1744.644, total= 3.8min\n",
      "[CV] learning_rate=0.1, max_depth=8, n_estimators=200, num_leaves=16 .\n",
      "[CV]  learning_rate=0.1, max_depth=8, n_estimators=200, num_leaves=16, score=-1738.538, total= 3.5min\n",
      "[CV] learning_rate=0.1, max_depth=8, n_estimators=200, num_leaves=64 .\n",
      "[CV]  learning_rate=0.1, max_depth=8, n_estimators=200, num_leaves=64, score=-1637.078, total= 6.9min\n",
      "[CV] learning_rate=0.1, max_depth=8, n_estimators=200, num_leaves=64 .\n",
      "[CV]  learning_rate=0.1, max_depth=8, n_estimators=200, num_leaves=64, score=-1654.604, total= 6.4min\n",
      "[CV] learning_rate=0.1, max_depth=8, n_estimators=200, num_leaves=64 .\n",
      "[CV]  learning_rate=0.1, max_depth=8, n_estimators=200, num_leaves=64, score=-1649.555, total=  17.9s\n",
      "[CV] learning_rate=0.1, max_depth=8, n_estimators=200, num_leaves=144 \n",
      "[CV]  learning_rate=0.1, max_depth=8, n_estimators=200, num_leaves=144, score=-1615.392, total=  21.8s\n",
      "[CV] learning_rate=0.1, max_depth=8, n_estimators=200, num_leaves=144 \n",
      "[CV]  learning_rate=0.1, max_depth=8, n_estimators=200, num_leaves=144, score=-1635.939, total=  23.5s\n",
      "[CV] learning_rate=0.1, max_depth=8, n_estimators=200, num_leaves=144 \n",
      "[CV]  learning_rate=0.1, max_depth=8, n_estimators=200, num_leaves=144, score=-1628.713, total=  21.8s\n",
      "[CV] learning_rate=0.1, max_depth=8, n_estimators=300, num_leaves=16 .\n",
      "[CV]  learning_rate=0.1, max_depth=8, n_estimators=300, num_leaves=16, score=-1687.904, total=  15.6s\n",
      "[CV] learning_rate=0.1, max_depth=8, n_estimators=300, num_leaves=16 .\n",
      "[CV]  learning_rate=0.1, max_depth=8, n_estimators=300, num_leaves=16, score=-1714.146, total=  16.3s\n",
      "[CV] learning_rate=0.1, max_depth=8, n_estimators=300, num_leaves=16 .\n",
      "[CV]  learning_rate=0.1, max_depth=8, n_estimators=300, num_leaves=16, score=-1706.069, total=  15.7s\n",
      "[CV] learning_rate=0.1, max_depth=8, n_estimators=300, num_leaves=64 .\n",
      "[CV]  learning_rate=0.1, max_depth=8, n_estimators=300, num_leaves=64, score=-1621.024, total=  25.7s\n",
      "[CV] learning_rate=0.1, max_depth=8, n_estimators=300, num_leaves=64 .\n",
      "[CV]  learning_rate=0.1, max_depth=8, n_estimators=300, num_leaves=64, score=-1636.303, total=  29.4s\n",
      "[CV] learning_rate=0.1, max_depth=8, n_estimators=300, num_leaves=64 .\n",
      "[CV]  learning_rate=0.1, max_depth=8, n_estimators=300, num_leaves=64, score=-1631.897, total= 5.2min\n",
      "[CV] learning_rate=0.1, max_depth=8, n_estimators=300, num_leaves=144 \n",
      "[CV]  learning_rate=0.1, max_depth=8, n_estimators=300, num_leaves=144, score=-1603.456, total=  31.4s\n",
      "[CV] learning_rate=0.1, max_depth=8, n_estimators=300, num_leaves=144 \n",
      "[CV]  learning_rate=0.1, max_depth=8, n_estimators=300, num_leaves=144, score=-1622.917, total=  31.9s\n",
      "[CV] learning_rate=0.1, max_depth=8, n_estimators=300, num_leaves=144 \n",
      "[CV]  learning_rate=0.1, max_depth=8, n_estimators=300, num_leaves=144, score=-1616.765, total=  33.4s\n",
      "[CV] learning_rate=0.1, max_depth=12, n_estimators=100, num_leaves=16 \n",
      "[CV]  learning_rate=0.1, max_depth=12, n_estimators=100, num_leaves=16, score=-1777.919, total=   6.5s\n",
      "[CV] learning_rate=0.1, max_depth=12, n_estimators=100, num_leaves=16 \n",
      "[CV]  learning_rate=0.1, max_depth=12, n_estimators=100, num_leaves=16, score=-1804.998, total=   6.0s\n",
      "[CV] learning_rate=0.1, max_depth=12, n_estimators=100, num_leaves=16 \n",
      "[CV]  learning_rate=0.1, max_depth=12, n_estimators=100, num_leaves=16, score=-1794.781, total=   6.8s\n",
      "[CV] learning_rate=0.1, max_depth=12, n_estimators=100, num_leaves=64 \n",
      "[CV]  learning_rate=0.1, max_depth=12, n_estimators=100, num_leaves=64, score=-1662.464, total=   9.9s\n",
      "[CV] learning_rate=0.1, max_depth=12, n_estimators=100, num_leaves=64 \n",
      "[CV]  learning_rate=0.1, max_depth=12, n_estimators=100, num_leaves=64, score=-1687.370, total=  12.0s\n",
      "[CV] learning_rate=0.1, max_depth=12, n_estimators=100, num_leaves=64 \n",
      "[CV]  learning_rate=0.1, max_depth=12, n_estimators=100, num_leaves=64, score=-1678.948, total=  10.9s\n",
      "[CV] learning_rate=0.1, max_depth=12, n_estimators=100, num_leaves=144 \n",
      "[CV]  learning_rate=0.1, max_depth=12, n_estimators=100, num_leaves=144, score=-1617.851, total=  15.2s\n",
      "[CV] learning_rate=0.1, max_depth=12, n_estimators=100, num_leaves=144 \n",
      "[CV]  learning_rate=0.1, max_depth=12, n_estimators=100, num_leaves=144, score=-1646.336, total=  14.5s\n",
      "[CV] learning_rate=0.1, max_depth=12, n_estimators=100, num_leaves=144 \n",
      "[CV]  learning_rate=0.1, max_depth=12, n_estimators=100, num_leaves=144, score=-1640.098, total=  14.5s\n",
      "[CV] learning_rate=0.1, max_depth=12, n_estimators=200, num_leaves=16 \n",
      "[CV]  learning_rate=0.1, max_depth=12, n_estimators=200, num_leaves=16, score=-1715.982, total=  10.9s\n",
      "[CV] learning_rate=0.1, max_depth=12, n_estimators=200, num_leaves=16 \n",
      "[CV]  learning_rate=0.1, max_depth=12, n_estimators=200, num_leaves=16, score=-1741.514, total=  11.2s\n",
      "[CV] learning_rate=0.1, max_depth=12, n_estimators=200, num_leaves=16 \n",
      "[CV]  learning_rate=0.1, max_depth=12, n_estimators=200, num_leaves=16, score=-1733.198, total=  11.0s\n",
      "[CV] learning_rate=0.1, max_depth=12, n_estimators=200, num_leaves=64 \n",
      "[CV]  learning_rate=0.1, max_depth=12, n_estimators=200, num_leaves=64, score=-1621.304, total=  20.1s\n",
      "[CV] learning_rate=0.1, max_depth=12, n_estimators=200, num_leaves=64 \n",
      "[CV]  learning_rate=0.1, max_depth=12, n_estimators=200, num_leaves=64, score=-1647.170, total=  18.6s\n",
      "[CV] learning_rate=0.1, max_depth=12, n_estimators=200, num_leaves=64 \n",
      "[CV]  learning_rate=0.1, max_depth=12, n_estimators=200, num_leaves=64, score=-1639.205, total=  23.6s\n",
      "[CV] learning_rate=0.1, max_depth=12, n_estimators=200, num_leaves=144 \n",
      "[CV]  learning_rate=0.1, max_depth=12, n_estimators=200, num_leaves=144, score=-1593.381, total=  30.6s\n",
      "[CV] learning_rate=0.1, max_depth=12, n_estimators=200, num_leaves=144 \n",
      "[CV]  learning_rate=0.1, max_depth=12, n_estimators=200, num_leaves=144, score=-1615.888, total=  25.9s\n",
      "[CV] learning_rate=0.1, max_depth=12, n_estimators=200, num_leaves=144 \n",
      "[CV]  learning_rate=0.1, max_depth=12, n_estimators=200, num_leaves=144, score=-1612.483, total=  29.1s\n",
      "[CV] learning_rate=0.1, max_depth=12, n_estimators=300, num_leaves=16 \n",
      "[CV]  learning_rate=0.1, max_depth=12, n_estimators=300, num_leaves=16, score=-1685.273, total=  15.4s\n",
      "[CV] learning_rate=0.1, max_depth=12, n_estimators=300, num_leaves=16 \n",
      "[CV]  learning_rate=0.1, max_depth=12, n_estimators=300, num_leaves=16, score=-1708.031, total=  15.3s\n",
      "[CV] learning_rate=0.1, max_depth=12, n_estimators=300, num_leaves=16 \n",
      "[CV]  learning_rate=0.1, max_depth=12, n_estimators=300, num_leaves=16, score=-1699.578, total=  15.3s\n",
      "[CV] learning_rate=0.1, max_depth=12, n_estimators=300, num_leaves=64 \n",
      "[CV]  learning_rate=0.1, max_depth=12, n_estimators=300, num_leaves=64, score=-1604.300, total=  27.0s\n",
      "[CV] learning_rate=0.1, max_depth=12, n_estimators=300, num_leaves=64 \n",
      "[CV]  learning_rate=0.1, max_depth=12, n_estimators=300, num_leaves=64, score=-1627.509, total=  23.8s\n",
      "[CV] learning_rate=0.1, max_depth=12, n_estimators=300, num_leaves=64 \n",
      "[CV]  learning_rate=0.1, max_depth=12, n_estimators=300, num_leaves=64, score=-1621.216, total=  25.1s\n",
      "[CV] learning_rate=0.1, max_depth=12, n_estimators=300, num_leaves=144 \n",
      "[CV]  learning_rate=0.1, max_depth=12, n_estimators=300, num_leaves=144, score=-1584.194, total=  39.3s\n",
      "[CV] learning_rate=0.1, max_depth=12, n_estimators=300, num_leaves=144 \n",
      "[CV]  learning_rate=0.1, max_depth=12, n_estimators=300, num_leaves=144, score=-1603.798, total=  41.2s\n",
      "[CV] learning_rate=0.1, max_depth=12, n_estimators=300, num_leaves=144 \n",
      "[CV]  learning_rate=0.1, max_depth=12, n_estimators=300, num_leaves=144, score=-1603.735, total=  40.2s\n",
      "[CV] learning_rate=0.5, max_depth=4, n_estimators=100, num_leaves=16 .\n",
      "[CV]  learning_rate=0.5, max_depth=4, n_estimators=100, num_leaves=16, score=-1717.753, total=   7.9s\n",
      "[CV] learning_rate=0.5, max_depth=4, n_estimators=100, num_leaves=16 .\n",
      "[CV]  learning_rate=0.5, max_depth=4, n_estimators=100, num_leaves=16, score=-1744.277, total=   5.1s\n",
      "[CV] learning_rate=0.5, max_depth=4, n_estimators=100, num_leaves=16 .\n",
      "[CV]  learning_rate=0.5, max_depth=4, n_estimators=100, num_leaves=16, score=-1741.533, total=   4.8s\n",
      "[CV] learning_rate=0.5, max_depth=4, n_estimators=100, num_leaves=64 .\n",
      "[CV]  learning_rate=0.5, max_depth=4, n_estimators=100, num_leaves=64, score=-1717.753, total=   5.4s\n",
      "[CV] learning_rate=0.5, max_depth=4, n_estimators=100, num_leaves=64 .\n",
      "[CV]  learning_rate=0.5, max_depth=4, n_estimators=100, num_leaves=64, score=-1744.277, total=   5.1s\n",
      "[CV] learning_rate=0.5, max_depth=4, n_estimators=100, num_leaves=64 .\n",
      "[CV]  learning_rate=0.5, max_depth=4, n_estimators=100, num_leaves=64, score=-1741.533, total=   4.9s\n",
      "[CV] learning_rate=0.5, max_depth=4, n_estimators=100, num_leaves=144 \n",
      "[CV]  learning_rate=0.5, max_depth=4, n_estimators=100, num_leaves=144, score=-1717.753, total=   5.2s\n",
      "[CV] learning_rate=0.5, max_depth=4, n_estimators=100, num_leaves=144 \n",
      "[CV]  learning_rate=0.5, max_depth=4, n_estimators=100, num_leaves=144, score=-1744.277, total=   5.2s\n",
      "[CV] learning_rate=0.5, max_depth=4, n_estimators=100, num_leaves=144 \n",
      "[CV]  learning_rate=0.5, max_depth=4, n_estimators=100, num_leaves=144, score=-1741.533, total=   4.9s\n",
      "[CV] learning_rate=0.5, max_depth=4, n_estimators=200, num_leaves=16 .\n",
      "[CV]  learning_rate=0.5, max_depth=4, n_estimators=200, num_leaves=16, score=-1685.932, total=   9.6s\n",
      "[CV] learning_rate=0.5, max_depth=4, n_estimators=200, num_leaves=16 .\n",
      "[CV]  learning_rate=0.5, max_depth=4, n_estimators=200, num_leaves=16, score=-1701.605, total=   9.8s\n",
      "[CV] learning_rate=0.5, max_depth=4, n_estimators=200, num_leaves=16 .\n",
      "[CV]  learning_rate=0.5, max_depth=4, n_estimators=200, num_leaves=16, score=-1697.545, total=   9.7s\n",
      "[CV] learning_rate=0.5, max_depth=4, n_estimators=200, num_leaves=64 .\n",
      "[CV]  learning_rate=0.5, max_depth=4, n_estimators=200, num_leaves=64, score=-1685.932, total=  10.6s\n",
      "[CV] learning_rate=0.5, max_depth=4, n_estimators=200, num_leaves=64 .\n",
      "[CV]  learning_rate=0.5, max_depth=4, n_estimators=200, num_leaves=64, score=-1701.605, total=  10.0s\n",
      "[CV] learning_rate=0.5, max_depth=4, n_estimators=200, num_leaves=64 .\n",
      "[CV]  learning_rate=0.5, max_depth=4, n_estimators=200, num_leaves=64, score=-1697.545, total=   9.7s\n",
      "[CV] learning_rate=0.5, max_depth=4, n_estimators=200, num_leaves=144 \n",
      "[CV]  learning_rate=0.5, max_depth=4, n_estimators=200, num_leaves=144, score=-1685.932, total=   9.9s\n",
      "[CV] learning_rate=0.5, max_depth=4, n_estimators=200, num_leaves=144 \n",
      "[CV]  learning_rate=0.5, max_depth=4, n_estimators=200, num_leaves=144, score=-1701.605, total=   9.8s\n",
      "[CV] learning_rate=0.5, max_depth=4, n_estimators=200, num_leaves=144 \n",
      "[CV]  learning_rate=0.5, max_depth=4, n_estimators=200, num_leaves=144, score=-1697.545, total=   9.7s\n",
      "[CV] learning_rate=0.5, max_depth=4, n_estimators=300, num_leaves=16 .\n",
      "[CV]  learning_rate=0.5, max_depth=4, n_estimators=300, num_leaves=16, score=-1665.608, total=  14.0s\n",
      "[CV] learning_rate=0.5, max_depth=4, n_estimators=300, num_leaves=16 .\n",
      "[CV]  learning_rate=0.5, max_depth=4, n_estimators=300, num_leaves=16, score=-1682.668, total=  14.6s\n",
      "[CV] learning_rate=0.5, max_depth=4, n_estimators=300, num_leaves=16 .\n",
      "[CV]  learning_rate=0.5, max_depth=4, n_estimators=300, num_leaves=16, score=-1679.525, total=  17.3s\n",
      "[CV] learning_rate=0.5, max_depth=4, n_estimators=300, num_leaves=64 .\n",
      "[CV]  learning_rate=0.5, max_depth=4, n_estimators=300, num_leaves=64, score=-1665.608, total=  13.8s\n",
      "[CV] learning_rate=0.5, max_depth=4, n_estimators=300, num_leaves=64 .\n",
      "[CV]  learning_rate=0.5, max_depth=4, n_estimators=300, num_leaves=64, score=-1682.668, total=  14.3s\n",
      "[CV] learning_rate=0.5, max_depth=4, n_estimators=300, num_leaves=64 .\n",
      "[CV]  learning_rate=0.5, max_depth=4, n_estimators=300, num_leaves=64, score=-1679.525, total=  14.9s\n",
      "[CV] learning_rate=0.5, max_depth=4, n_estimators=300, num_leaves=144 \n",
      "[CV]  learning_rate=0.5, max_depth=4, n_estimators=300, num_leaves=144, score=-1665.608, total=  14.1s\n",
      "[CV] learning_rate=0.5, max_depth=4, n_estimators=300, num_leaves=144 \n",
      "[CV]  learning_rate=0.5, max_depth=4, n_estimators=300, num_leaves=144, score=-1682.668, total=  17.6s\n",
      "[CV] learning_rate=0.5, max_depth=4, n_estimators=300, num_leaves=144 \n",
      "[CV]  learning_rate=0.5, max_depth=4, n_estimators=300, num_leaves=144, score=-1679.525, total=  15.3s\n",
      "[CV] learning_rate=0.5, max_depth=8, n_estimators=100, num_leaves=16 .\n",
      "[CV]  learning_rate=0.5, max_depth=8, n_estimators=100, num_leaves=16, score=-1695.661, total=   5.5s\n",
      "[CV] learning_rate=0.5, max_depth=8, n_estimators=100, num_leaves=16 .\n",
      "[CV]  learning_rate=0.5, max_depth=8, n_estimators=100, num_leaves=16, score=-1716.440, total=   4.8s\n",
      "[CV] learning_rate=0.5, max_depth=8, n_estimators=100, num_leaves=16 .\n",
      "[CV]  learning_rate=0.5, max_depth=8, n_estimators=100, num_leaves=16, score=-1712.278, total=   5.2s\n",
      "[CV] learning_rate=0.5, max_depth=8, n_estimators=100, num_leaves=64 .\n",
      "[CV]  learning_rate=0.5, max_depth=8, n_estimators=100, num_leaves=64, score=-1638.410, total=   8.5s\n",
      "[CV] learning_rate=0.5, max_depth=8, n_estimators=100, num_leaves=64 .\n",
      "[CV]  learning_rate=0.5, max_depth=8, n_estimators=100, num_leaves=64, score=-1665.544, total=   9.9s\n",
      "[CV] learning_rate=0.5, max_depth=8, n_estimators=100, num_leaves=64 .\n",
      "[CV]  learning_rate=0.5, max_depth=8, n_estimators=100, num_leaves=64, score=-1660.945, total=   7.7s\n",
      "[CV] learning_rate=0.5, max_depth=8, n_estimators=100, num_leaves=144 \n",
      "[CV]  learning_rate=0.5, max_depth=8, n_estimators=100, num_leaves=144, score=-1636.611, total=  10.2s\n",
      "[CV] learning_rate=0.5, max_depth=8, n_estimators=100, num_leaves=144 \n",
      "[CV]  learning_rate=0.5, max_depth=8, n_estimators=100, num_leaves=144, score=-1655.703, total=  13.2s\n",
      "[CV] learning_rate=0.5, max_depth=8, n_estimators=100, num_leaves=144 \n",
      "[CV]  learning_rate=0.5, max_depth=8, n_estimators=100, num_leaves=144, score=-1655.305, total=  10.9s\n",
      "[CV] learning_rate=0.5, max_depth=8, n_estimators=200, num_leaves=16 .\n",
      "[CV]  learning_rate=0.5, max_depth=8, n_estimators=200, num_leaves=16, score=-1659.494, total=  10.9s\n",
      "[CV] learning_rate=0.5, max_depth=8, n_estimators=200, num_leaves=16 .\n",
      "[CV]  learning_rate=0.5, max_depth=8, n_estimators=200, num_leaves=16, score=-1675.015, total= 1.4min\n",
      "[CV] learning_rate=0.5, max_depth=8, n_estimators=200, num_leaves=16 .\n",
      "[CV]  learning_rate=0.5, max_depth=8, n_estimators=200, num_leaves=16, score=-1671.766, total=  21.7s\n",
      "[CV] learning_rate=0.5, max_depth=8, n_estimators=200, num_leaves=64 .\n",
      "[CV]  learning_rate=0.5, max_depth=8, n_estimators=200, num_leaves=64, score=-1629.138, total=  17.3s\n",
      "[CV] learning_rate=0.5, max_depth=8, n_estimators=200, num_leaves=64 .\n",
      "[CV]  learning_rate=0.5, max_depth=8, n_estimators=200, num_leaves=64, score=-1648.601, total=  14.9s\n",
      "[CV] learning_rate=0.5, max_depth=8, n_estimators=200, num_leaves=64 .\n",
      "[CV]  learning_rate=0.5, max_depth=8, n_estimators=200, num_leaves=64, score=-1643.687, total=  15.6s\n",
      "[CV] learning_rate=0.5, max_depth=8, n_estimators=200, num_leaves=144 \n",
      "[CV]  learning_rate=0.5, max_depth=8, n_estimators=200, num_leaves=144, score=-1628.042, total=  19.8s\n",
      "[CV] learning_rate=0.5, max_depth=8, n_estimators=200, num_leaves=144 \n",
      "[CV]  learning_rate=0.5, max_depth=8, n_estimators=200, num_leaves=144, score=-1641.783, total= 1.6min\n",
      "[CV] learning_rate=0.5, max_depth=8, n_estimators=200, num_leaves=144 \n",
      "[CV]  learning_rate=0.5, max_depth=8, n_estimators=200, num_leaves=144, score=-1647.445, total=  18.6s\n",
      "[CV] learning_rate=0.5, max_depth=8, n_estimators=300, num_leaves=16 .\n",
      "[CV]  learning_rate=0.5, max_depth=8, n_estimators=300, num_leaves=16, score=-1640.872, total=  17.7s\n",
      "[CV] learning_rate=0.5, max_depth=8, n_estimators=300, num_leaves=16 .\n",
      "[CV]  learning_rate=0.5, max_depth=8, n_estimators=300, num_leaves=16, score=-1652.488, total=  26.4s\n",
      "[CV] learning_rate=0.5, max_depth=8, n_estimators=300, num_leaves=16 .\n",
      "[CV]  learning_rate=0.5, max_depth=8, n_estimators=300, num_leaves=16, score=-1657.588, total=  53.4s\n",
      "[CV] learning_rate=0.5, max_depth=8, n_estimators=300, num_leaves=64 .\n",
      "[CV]  learning_rate=0.5, max_depth=8, n_estimators=300, num_leaves=64, score=-1627.183, total=  21.5s\n",
      "[CV] learning_rate=0.5, max_depth=8, n_estimators=300, num_leaves=64 .\n",
      "[CV]  learning_rate=0.5, max_depth=8, n_estimators=300, num_leaves=64, score=-1640.496, total=  24.8s\n",
      "[CV] learning_rate=0.5, max_depth=8, n_estimators=300, num_leaves=64 .\n",
      "[CV]  learning_rate=0.5, max_depth=8, n_estimators=300, num_leaves=64, score=-1639.491, total=  27.0s\n",
      "[CV] learning_rate=0.5, max_depth=8, n_estimators=300, num_leaves=144 \n",
      "[CV]  learning_rate=0.5, max_depth=8, n_estimators=300, num_leaves=144, score=-1626.511, total= 1.0min\n",
      "[CV] learning_rate=0.5, max_depth=8, n_estimators=300, num_leaves=144 \n",
      "[CV]  learning_rate=0.5, max_depth=8, n_estimators=300, num_leaves=144, score=-1639.374, total= 7.5min\n",
      "[CV] learning_rate=0.5, max_depth=8, n_estimators=300, num_leaves=144 \n",
      "[CV]  learning_rate=0.5, max_depth=8, n_estimators=300, num_leaves=144, score=-1648.028, total= 2.1min\n",
      "[CV] learning_rate=0.5, max_depth=12, n_estimators=100, num_leaves=16 \n",
      "[CV]  learning_rate=0.5, max_depth=12, n_estimators=100, num_leaves=16, score=-1693.228, total=   5.5s\n",
      "[CV] learning_rate=0.5, max_depth=12, n_estimators=100, num_leaves=16 \n",
      "[CV]  learning_rate=0.5, max_depth=12, n_estimators=100, num_leaves=16, score=-1710.927, total=   5.5s\n",
      "[CV] learning_rate=0.5, max_depth=12, n_estimators=100, num_leaves=16 \n",
      "[CV]  learning_rate=0.5, max_depth=12, n_estimators=100, num_leaves=16, score=-1717.601, total=  30.3s\n",
      "[CV] learning_rate=0.5, max_depth=12, n_estimators=100, num_leaves=64 \n",
      "[CV]  learning_rate=0.5, max_depth=12, n_estimators=100, num_leaves=64, score=-1637.791, total=  23.5s\n",
      "[CV] learning_rate=0.5, max_depth=12, n_estimators=100, num_leaves=64 \n",
      "[CV]  learning_rate=0.5, max_depth=12, n_estimators=100, num_leaves=64, score=-1651.726, total=  45.3s\n",
      "[CV] learning_rate=0.5, max_depth=12, n_estimators=100, num_leaves=64 \n",
      "[CV]  learning_rate=0.5, max_depth=12, n_estimators=100, num_leaves=64, score=-1651.848, total=  27.9s\n",
      "[CV] learning_rate=0.5, max_depth=12, n_estimators=100, num_leaves=144 \n",
      "[CV]  learning_rate=0.5, max_depth=12, n_estimators=100, num_leaves=144, score=-1631.704, total=  34.7s\n",
      "[CV] learning_rate=0.5, max_depth=12, n_estimators=100, num_leaves=144 \n",
      "[CV]  learning_rate=0.5, max_depth=12, n_estimators=100, num_leaves=144, score=-1647.557, total=  12.1s\n",
      "[CV] learning_rate=0.5, max_depth=12, n_estimators=100, num_leaves=144 \n",
      "[CV]  learning_rate=0.5, max_depth=12, n_estimators=100, num_leaves=144, score=-1652.015, total=  57.4s\n",
      "[CV] learning_rate=0.5, max_depth=12, n_estimators=200, num_leaves=16 \n",
      "[CV]  learning_rate=0.5, max_depth=12, n_estimators=200, num_leaves=16, score=-1656.990, total= 1.2min\n",
      "[CV] learning_rate=0.5, max_depth=12, n_estimators=200, num_leaves=16 \n",
      "[CV]  learning_rate=0.5, max_depth=12, n_estimators=200, num_leaves=16, score=-1675.403, total=  51.5s\n",
      "[CV] learning_rate=0.5, max_depth=12, n_estimators=200, num_leaves=16 \n",
      "[CV]  learning_rate=0.5, max_depth=12, n_estimators=200, num_leaves=16, score=-1676.290, total=  59.7s\n",
      "[CV] learning_rate=0.5, max_depth=12, n_estimators=200, num_leaves=64 \n",
      "[CV]  learning_rate=0.5, max_depth=12, n_estimators=200, num_leaves=64, score=-1631.535, total= 1.4min\n",
      "[CV] learning_rate=0.5, max_depth=12, n_estimators=200, num_leaves=64 \n",
      "[CV]  learning_rate=0.5, max_depth=12, n_estimators=200, num_leaves=64, score=-1638.319, total=  14.7s\n",
      "[CV] learning_rate=0.5, max_depth=12, n_estimators=200, num_leaves=64 \n",
      "[CV]  learning_rate=0.5, max_depth=12, n_estimators=200, num_leaves=64, score=-1639.430, total=  14.4s\n",
      "[CV] learning_rate=0.5, max_depth=12, n_estimators=200, num_leaves=144 \n",
      "[CV]  learning_rate=0.5, max_depth=12, n_estimators=200, num_leaves=144, score=-1635.060, total=  23.2s\n",
      "[CV] learning_rate=0.5, max_depth=12, n_estimators=200, num_leaves=144 \n",
      "[CV]  learning_rate=0.5, max_depth=12, n_estimators=200, num_leaves=144, score=-1650.420, total= 1.6min\n",
      "[CV] learning_rate=0.5, max_depth=12, n_estimators=200, num_leaves=144 \n",
      "[CV]  learning_rate=0.5, max_depth=12, n_estimators=200, num_leaves=144, score=-1649.553, total= 3.8min\n",
      "[CV] learning_rate=0.5, max_depth=12, n_estimators=300, num_leaves=16 \n",
      "[CV]  learning_rate=0.5, max_depth=12, n_estimators=300, num_leaves=16, score=-1641.376, total=  54.4s\n",
      "[CV] learning_rate=0.5, max_depth=12, n_estimators=300, num_leaves=16 \n",
      "[CV]  learning_rate=0.5, max_depth=12, n_estimators=300, num_leaves=16, score=-1659.458, total=  55.6s\n",
      "[CV] learning_rate=0.5, max_depth=12, n_estimators=300, num_leaves=16 \n",
      "[CV]  learning_rate=0.5, max_depth=12, n_estimators=300, num_leaves=16, score=-1657.110, total= 3.3min\n",
      "[CV] learning_rate=0.5, max_depth=12, n_estimators=300, num_leaves=64 \n",
      "[CV]  learning_rate=0.5, max_depth=12, n_estimators=300, num_leaves=64, score=-1629.058, total=13.6min\n",
      "[CV] learning_rate=0.5, max_depth=12, n_estimators=300, num_leaves=64 \n",
      "[CV]  learning_rate=0.5, max_depth=12, n_estimators=300, num_leaves=64, score=-1639.338, total= 2.6min\n",
      "[CV] learning_rate=0.5, max_depth=12, n_estimators=300, num_leaves=64 \n",
      "[CV]  learning_rate=0.5, max_depth=12, n_estimators=300, num_leaves=64, score=-1637.268, total=  21.7s\n",
      "[CV] learning_rate=0.5, max_depth=12, n_estimators=300, num_leaves=144 \n",
      "[CV]  learning_rate=0.5, max_depth=12, n_estimators=300, num_leaves=144, score=-1639.380, total=  32.5s\n",
      "[CV] learning_rate=0.5, max_depth=12, n_estimators=300, num_leaves=144 \n",
      "[CV]  learning_rate=0.5, max_depth=12, n_estimators=300, num_leaves=144, score=-1656.986, total=  33.2s\n",
      "[CV] learning_rate=0.5, max_depth=12, n_estimators=300, num_leaves=144 \n",
      "[CV]  learning_rate=0.5, max_depth=12, n_estimators=300, num_leaves=144, score=-1656.553, total=  35.0s\n",
      "[Parallel(n_jobs=1)]: Done 243 out of 243 | elapsed: 214.3min finished\n",
      "CPU times: user 3h 31min 48s, sys: 1min 27s, total: 3h 33min 16s\n",
      "Wall time: 3h 34min 59s\n"
     ]
    },
    {
     "data": {
      "text/plain": [
       "GridSearchCV(cv=3, error_score='raise-deprecating',\n",
       "             estimator=LGBMRegressor(boosting_type='gbdt', class_weight=None,\n",
       "                                     colsample_bytree=1.0,\n",
       "                                     importance_type='split', learning_rate=0.1,\n",
       "                                     max_depth=-1, min_child_samples=20,\n",
       "                                     min_child_weight=0.001, min_split_gain=0.0,\n",
       "                                     n_estimators=100, n_jobs=-1, num_leaves=31,\n",
       "                                     objective=None, random_state=None,\n",
       "                                     reg_alpha=0.0, reg_lambda=0.0, silent=True,\n",
       "                                     subsample=1.0, subsample_for_bin=200000,\n",
       "                                     subsample_freq=0),\n",
       "             iid='warn', n_jobs=None,\n",
       "             param_grid={'learning_rate': [0.01, 0.1, 0.5],\n",
       "                         'max_depth': [4, 8, 12],\n",
       "                         'n_estimators': [100, 200, 300],\n",
       "                         'num_leaves': [16, 64, 144]},\n",
       "             pre_dispatch='2*n_jobs', refit=True, return_train_score=False,\n",
       "             scoring=make_scorer(RMSE, greater_is_better=False), verbose=50)"
      ]
     },
     "execution_count": 137,
     "metadata": {},
     "output_type": "execute_result"
    }
   ],
   "source": [
    "%%time\n",
    "grid.fit(features_train, target_train)"
   ]
  },
  {
   "cell_type": "code",
   "execution_count": 138,
   "metadata": {},
   "outputs": [
    {
     "data": {
      "text/plain": [
       "{'learning_rate': 0.1, 'max_depth': 12, 'n_estimators': 300, 'num_leaves': 144}"
      ]
     },
     "execution_count": 138,
     "metadata": {},
     "output_type": "execute_result"
    }
   ],
   "source": [
    "grid.best_params_"
   ]
  },
  {
   "cell_type": "code",
   "execution_count": 139,
   "metadata": {},
   "outputs": [
    {
     "data": {
      "text/plain": [
       "-1597.2421231617209"
      ]
     },
     "execution_count": 139,
     "metadata": {},
     "output_type": "execute_result"
    }
   ],
   "source": [
    "grid.best_score_"
   ]
  },
  {
   "cell_type": "markdown",
   "metadata": {},
   "source": [
    "Лучшая оценка RMSE для модели LightGBM - 1634.76, лучшие гиперпараметры:\n",
    "* max_depth: 12\n",
    "* num_leaves: 144\n",
    "* n_estimators: 300\n",
    "* learning_rate: 0.1  \n",
    "\n",
    "Время обучения 3 часа 35 минут."
   ]
  },
  {
   "cell_type": "code",
   "execution_count": 140,
   "metadata": {},
   "outputs": [],
   "source": [
    "model_lgbm = lightgbm.LGBMRegressor(learning_rate=0.1, max_depth=12, n_estimators=300, num_leaves=144)"
   ]
  },
  {
   "cell_type": "code",
   "execution_count": 141,
   "metadata": {},
   "outputs": [
    {
     "data": {
      "text/plain": [
       "LGBMRegressor(boosting_type='gbdt', class_weight=None, colsample_bytree=1.0,\n",
       "              importance_type='split', learning_rate=0.1, max_depth=12,\n",
       "              min_child_samples=20, min_child_weight=0.001, min_split_gain=0.0,\n",
       "              n_estimators=300, n_jobs=-1, num_leaves=144, objective=None,\n",
       "              random_state=None, reg_alpha=0.0, reg_lambda=0.0, silent=True,\n",
       "              subsample=1.0, subsample_for_bin=200000, subsample_freq=0)"
      ]
     },
     "execution_count": 141,
     "metadata": {},
     "output_type": "execute_result"
    }
   ],
   "source": [
    "model_lgbm.fit(features_train, target_train)"
   ]
  },
  {
   "cell_type": "code",
   "execution_count": 142,
   "metadata": {},
   "outputs": [],
   "source": [
    "predicted_test_lgbm = model_lgbm.predict(features_test)"
   ]
  },
  {
   "cell_type": "code",
   "execution_count": 143,
   "metadata": {},
   "outputs": [],
   "source": [
    "mse = mean_squared_error(target_test, predicted_test_lgbm)"
   ]
  },
  {
   "cell_type": "code",
   "execution_count": 144,
   "metadata": {
    "scrolled": true
   },
   "outputs": [
    {
     "data": {
      "text/plain": [
       "1591.2985052687084"
      ]
     },
     "execution_count": 144,
     "metadata": {},
     "output_type": "execute_result"
    }
   ],
   "source": [
    "RMSE = mse**0.5\n",
    "RMSE"
   ]
  },
  {
   "cell_type": "markdown",
   "metadata": {},
   "source": [
    "RMSE на тестовой выборке получилось 1591.29."
   ]
  },
  {
   "cell_type": "markdown",
   "metadata": {},
   "source": [
    "#### По скорости обучения, качеству модели на обучающей и тестовой выборке модель CatBoost показала лучший результат, чем модель LightGBM. Проверим полученную модель на адекватность. "
   ]
  },
  {
   "cell_type": "markdown",
   "metadata": {},
   "source": [
    "#### Для проверки моделей на адекватность, создадим предсказания равными среднему значению цены."
   ]
  },
  {
   "cell_type": "code",
   "execution_count": 145,
   "metadata": {},
   "outputs": [],
   "source": [
    "mean_price = pd.Series(target_train.mean(), index=target_test.index)"
   ]
  },
  {
   "cell_type": "code",
   "execution_count": 146,
   "metadata": {},
   "outputs": [],
   "source": [
    "mse = mean_squared_error(target_test, mean_price)"
   ]
  },
  {
   "cell_type": "code",
   "execution_count": 147,
   "metadata": {
    "scrolled": true
   },
   "outputs": [
    {
     "data": {
      "text/plain": [
       "4579.149192961967"
      ]
     },
     "execution_count": 147,
     "metadata": {},
     "output_type": "execute_result"
    }
   ],
   "source": [
    "RMSE = mse**0.5\n",
    "RMSE"
   ]
  },
  {
   "cell_type": "markdown",
   "metadata": {},
   "source": [
    "#### Обученная модель CatBoost показала лучший результат, чем константная модель. Результат модели CatBoost RMSE равный 1571.0, у константной модели RMSE равен 4579.1.\n",
    "\n",
    "### Обученная модель CatBoost может быть использована для определения стоимости автомобиля. Модель CatBoost выигрывает у модели  LightGBM как по качеству и скорости предсказаний, так и по скорости обучения."
   ]
  }
 ],
 "metadata": {
  "kernelspec": {
   "display_name": "Python 3",
   "language": "python",
   "name": "python3"
  },
  "language_info": {
   "codemirror_mode": {
    "name": "ipython",
    "version": 3
   },
   "file_extension": ".py",
   "mimetype": "text/x-python",
   "name": "python",
   "nbconvert_exporter": "python",
   "pygments_lexer": "ipython3",
   "version": "3.7.7"
  }
 },
 "nbformat": 4,
 "nbformat_minor": 2
}
